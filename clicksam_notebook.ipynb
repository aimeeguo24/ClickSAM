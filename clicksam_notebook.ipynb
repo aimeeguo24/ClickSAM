{
 "cells": [
  {
   "attachments": {},
   "cell_type": "markdown",
   "metadata": {},
   "source": [
    "# ClickSAM\n",
   ]
  },
  {
   "cell_type": "code",
   "execution_count": 3,
   "metadata": {},
   "outputs": [
    {
     "name": "stdout",
     "output_type": "stream",
     "text": [
      "Collecting monai\n",
      "  Downloading monai-1.3.0-202310121228-py3-none-any.whl (1.3 MB)\n",
      "\u001b[2K     \u001b[38;2;114;156;31m━━━━━━━━━━━━━━━━━━━━━━━━━━━━━━━━━━━━━━━━\u001b[0m \u001b[32m1.3/1.3 MB\u001b[0m \u001b[31m17.2 MB/s\u001b[0m eta \u001b[36m0:00:00\u001b[0m31m15.3 MB/s\u001b[0m eta \u001b[36m0:00:01\u001b[0m\n",
      "\u001b[?25hRequirement already satisfied: numpy>=1.20 in /home/aimee/miniconda3/envs/clicktrain/lib/python3.10/site-packages (from monai) (1.24.3)\n",
      "Requirement already satisfied: torch>=1.9 in /home/aimee/miniconda3/envs/clicktrain/lib/python3.10/site-packages (from monai) (2.0.1)\n",
      "Requirement already satisfied: filelock in /home/aimee/miniconda3/envs/clicktrain/lib/python3.10/site-packages (from torch>=1.9->monai) (3.9.0)\n",
      "Requirement already satisfied: typing-extensions in /home/aimee/miniconda3/envs/clicktrain/lib/python3.10/site-packages (from torch>=1.9->monai) (4.6.3)\n",
      "Requirement already satisfied: sympy in /home/aimee/miniconda3/envs/clicktrain/lib/python3.10/site-packages (from torch>=1.9->monai) (1.11.1)\n",
      "Requirement already satisfied: networkx in /home/aimee/miniconda3/envs/clicktrain/lib/python3.10/site-packages (from torch>=1.9->monai) (2.8.4)\n",
      "Requirement already satisfied: jinja2 in /home/aimee/miniconda3/envs/clicktrain/lib/python3.10/site-packages (from torch>=1.9->monai) (3.1.2)\n",
      "Requirement already satisfied: MarkupSafe>=2.0 in /home/aimee/miniconda3/envs/clicktrain/lib/python3.10/site-packages (from jinja2->torch>=1.9->monai) (2.1.1)\n",
      "Requirement already satisfied: mpmath>=0.19 in /home/aimee/miniconda3/envs/clicktrain/lib/python3.10/site-packages/mpmath-1.2.1-py3.10.egg (from sympy->torch>=1.9->monai) (1.2.1)\n",
      "Installing collected packages: monai\n",
      "Successfully installed monai-1.3.0\n"
     ]
    }
   ],
   "source": [
    "# !pip install numpy\n",
    "# !pip install matplotlib\n",
    "# !pip install tqdm\n",
    "# !pip install monai\n",
    "# !pip install torchvision\n",
    "# !pip install scipy\n",
    "# !pip install pandas\n",
    "# !pip install scikit-image\n",
    "# !pip install opencv-python\n",
    "# !pip install simanneal\n",
    "# !pip install future\n",
    "# !pip install datasets\n",
    "# !pip install transformers"
   ]
  },
  {
   "cell_type": "code",
   "execution_count": null,
   "metadata": {
    "scrolled": true
   },
   "outputs": [],
   "source": [
    "# !python pre_grey_rgb2D_minorChanges.py -i \"data/BUSI2Dtrain/images\" \\\n",
    "#                             -gt \"data/BUSI2Dtrain/labels\" -o \"data/BUSI2D\" \\\n",
    "#                             --data_name \"busi2d\""
   ]
  },
  {
   "cell_type": "code",
   "execution_count": null,
   "metadata": {},
   "outputs": [],
   "source": [
    "# !python imgtopkl.py"
   ]
  },
  {
   "cell_type": "code",
   "execution_count": null,
   "metadata": {},
   "outputs": [],
   "source": [
    "# !python uniform_clicks_prompt.py"
   ]
  },
  {
   "cell_type": "code",
   "execution_count": 4,
   "metadata": {},
   "outputs": [],
   "source": [
    "import numpy as np\n",
    "import pandas as pd\n",
    "import matplotlib.pyplot as plt\n",
    "import os\n",
    "import json\n",
    "join = os.path.join\n",
    "from tqdm import tqdm\n",
    "import torch\n",
    "from torch.utils.data import Dataset, DataLoader\n",
    "import monai\n",
    "from segment_anything import SamPredictor, sam_model_registry\n",
    "from segment_anything.utils.transforms import ResizeLongestSide\n",
    "from utils.SurfaceDice import compute_dice_coefficient\n",
    "import pickle\n",
    "from numpy import asarray\n",
    "import builtins\n",
    "from PIL import Image, ImageOps, ImageDraw\n",
    "import time\n",
    "import cv2\n",
    "from scipy import ndimage\n",
    "# set seeds\n",
    "torch.manual_seed(2023)\n",
    "np.random.seed(2023)"
   ]
  },
  {
   "cell_type": "code",
   "execution_count": 5,
   "metadata": {},
   "outputs": [],
   "source": [
    "#%% create a dataset class to load npz data and return back image embeddings and ground truth\n",
    "class NpzDataset(Dataset): \n",
    "    def __init__(self, data_root):\n",
    "        self.data_root = data_root\n",
    "        self.npz_files = sorted(os.listdir(self.data_root)) \n",
    "        self.npz_data = [np.load(join(data_root, f)) for f in self.npz_files]\n",
    "        # this implementation is ugly but it works (and is also fast for feeding data to GPU) if your server has enough RAM\n",
    "        # as an alternative, you can also use a list of npy files and load them one by one\n",
    "        self.ori_gts = np.vstack([d['gts'] for d in self.npz_data])\n",
    "        self.img_embeddings = np.vstack([d['img_embeddings'] for d in self.npz_data])\n",
    "        self.ori_imgs=np.vstack([d['imgs'] for d in self.npz_data])\n",
    "\n",
    "        print(f\"{self.img_embeddings.shape=}, {self.ori_gts.shape=}\")\n",
    "    \n",
    "    def __len__(self):\n",
    "        return self.ori_gts.shape[0]\n",
    "\n",
    "    def __getitem__(self, index):\n",
    "        # print(index)\n",
    "        img_embed = self.img_embeddings[index]\n",
    "        gt2D = self.ori_gts[index]\n",
    "        gt2D255=gt2D*255\n",
    "\n",
    "        img2D=self.ori_imgs[index]\n",
    "        # print(gt2D.shape)\n",
    "        # for i in range(0,647):\n",
    "        #     img=Image.fromarray(self.ori_gts[i]*255)\n",
    "        #     img.save('data/BUSIresized/BUSI2Dgts/'+str(i)+\".png\")\n",
    "            # with open(\n",
    "            #     \"baseline/segment_files/\" + str(i) + \"/false_negatives/\" + str(i) + \".pkl\",\n",
    "            #     \"wb\",\n",
    "            # ) as seg_pkl:\n",
    "            #     pickle.dump(self.ori_gts[i], seg_pkl, protocol=5)\n",
    "        # with np.printoptions(threshold=np.inf):\n",
    "        #     print(gt2D)\n",
    "        # img = Image.fromarray(gt2D255)\n",
    "        # img=Image.fromarray(img2D)\n",
    "        # img.save('my.png')\n",
    "        # img.show()\n",
    "        y_indices, x_indices = np.where(gt2D > 0)\n",
    "        x_min, x_max = np.min(x_indices), np.max(x_indices)\n",
    "        y_min, y_max = np.min(y_indices), np.max(y_indices)\n",
    "        # add perturbation to bounding box coordinates\n",
    "        H, W = gt2D.shape\n",
    "        x_min = max(0, x_min - np.random.randint(0, 20))\n",
    "        x_max = min(W, x_max + np.random.randint(0, 20))\n",
    "        y_min = max(0, y_min - np.random.randint(0, 20))\n",
    "        y_max = min(H, y_max + np.random.randint(0, 20))\n",
    "        clickpoint=[]\n",
    "        with open(\n",
    "            \"baseline1/best_points_single_point/\"\n",
    "            + str(index)\n",
    "            + \"/\"\n",
    "            + str(index)\n",
    "            + \".pkl\",\n",
    "            \"rb\",\n",
    "        ) as p_file:\n",
    "            clickpoint += pickle.load(p_file)\n",
    "        # print(clickpoint)\n",
    "        points=np.array(clickpoint)\n",
    "        bboxes = np.array([x_min, y_min, x_max, y_max])\n",
    "        # convert img embedding, mask, bounding box to torch tensor\n",
    "        return torch.tensor(img_embed).float(), torch.tensor(gt2D[None, :,:]).long(), torch.tensor(bboxes).float(), torch.tensor(points).int()"
   ]
  },
  {
   "cell_type": "code",
   "execution_count": 6,
   "metadata": {},
   "outputs": [
    {
     "name": "stdout",
     "output_type": "stream",
     "text": [
      "self.img_embeddings.shape=(647, 256, 64, 64), self.ori_gts.shape=(647, 256, 256)\n",
      "img_embed.shape=torch.Size([8, 256, 64, 64]), gt2D.shape=torch.Size([8, 1, 256, 256]), bboxes.shape=torch.Size([8, 4]), points.shape=torch.Size([8, 1, 2])\n"
     ]
    }
   ],
   "source": [
    "# %% test dataset class and dataloader\n",
    "npz_tr_path = 'data/BUSI2D_vit_b'\n",
    "demo_dataset = NpzDataset(npz_tr_path)\n",
    "demo_dataloader = DataLoader(demo_dataset, batch_size=8, shuffle=True)\n",
    "for img_embed, gt2D, bboxes,points in demo_dataloader:\n",
    "    # img_embed: (B, 256, 64, 64), gt2D: (B, 1, 256, 256), bboxes: (B, 4)\n",
    "    print(f\"{img_embed.shape=}, {gt2D.shape=}, {bboxes.shape=}, {points.shape=}\")\n",
    "    break"
   ]
  },
  {
   "cell_type": "code",
   "execution_count": 7,
   "metadata": {},
   "outputs": [],
   "source": [
    "# %% set up model for fine-tuning \n",
    "# train data path\n",
    "npz_tr_path = 'data/BUSI2D_vit_b'\n",
    "work_dir = './work_dir'\n",
    "task_name = 'BUSItry'\n",
    "# prepare SAM model\n",
    "model_type = 'vit_b'\n",
    "checkpoint = 'work_dir/BUSI2D/sam_model_latest.pth'\n",
    "device = 'cuda:0'\n",
    "model_save_path = join(work_dir, task_name)\n",
    "os.makedirs(model_save_path, exist_ok=True)\n",
    "sam_model = sam_model_registry[model_type](checkpoint=checkpoint).to(device)\n",
    "sam_model.train()\n",
    "# Set up the optimizer, hyperparameter tuning will improve performance here\n",
    "optimizer = torch.optim.Adam(sam_model.mask_decoder.parameters(), lr=1e-5, weight_decay=0)\n",
    "seg_loss = monai.losses.DiceCELoss(sigmoid=True, squared_pred=True, reduction='mean')"
   ]
  },
  {
   "cell_type": "code",
   "execution_count": null,
   "metadata": {},
   "outputs": [],
   "source": [
    "#%% train\n",
    "num_epochs = 100\n",
    "losses = []\n",
    "best_loss = 1e10\n",
    "train_dataset = NpzDataset(npz_tr_path)\n",
    "train_dataloader = DataLoader(train_dataset, batch_size=32, shuffle=True)\n",
    "for epoch in range(num_epochs):\n",
    "    epoch_loss = 0\n",
    "    # train\n",
    "    for step, (image_embedding, gt2D, boxes, points) in enumerate(tqdm(train_dataloader)):\n",
    "        # do not compute gradients for image encoder and prompt encoder\n",
    "        with torch.no_grad():\n",
    "            # convert box to 1024x1024 grid\n",
    "            box_np = boxes.numpy()\n",
    "            sam_trans = ResizeLongestSide(sam_model.image_encoder.img_size)\n",
    "            box = sam_trans.apply_boxes(box_np, (gt2D.shape[-2], gt2D.shape[-1]))\n",
    "            box_torch = torch.as_tensor(box, dtype=torch.float, device=device)\n",
    "            if len(box_torch.shape) == 2:\n",
    "                box_torch = box_torch[:, None, :] # (B, 1, 4)\\\n",
    "            # print(box_torch)\n",
    "            point_np = points.numpy()\n",
    "            # point = sam_trans.apply_coords(point_np, (gt2D.shape[-2], gt2D.shape[-1]))\n",
    "            point_torch = torch.as_tensor(point_np, dtype=torch.int, device=device)\n",
    "            point_labels = torch.ones((point_torch.shape[0],point_torch.shape[1]), dtype=torch.int)\n",
    "            # print(point_labels)\n",
    "            point_labels = point_labels.to(device=device)\n",
    "            # print(point_torch.shape)\n",
    "            # print(point_labels.shape)\n",
    "            # print(box_torch)\n",
    "            # print(len(point_np),point_np)\n",
    "            # print(len(point),point)\n",
    "            # print(len(point_torch),point_torch)\n",
    "            # print(point_labels)\n",
    "            \n",
    "            # get prompt embeddings \n",
    "            sparse_embeddings, dense_embeddings = sam_model.prompt_encoder(\n",
    "                points=(point_torch,point_labels),\n",
    "                boxes=None,#box_torch,\n",
    "                masks=None,\n",
    "            )\n",
    "        mask_predictions, _ = sam_model.mask_decoder(\n",
    "            image_embeddings=image_embedding.to(device), # (B, 256, 64, 64)\n",
    "            image_pe=sam_model.prompt_encoder.get_dense_pe(), # (1, 256, 64, 64)\n",
    "            sparse_prompt_embeddings=sparse_embeddings, # (B, 2, 256)\n",
    "            dense_prompt_embeddings=dense_embeddings, # (B, 256, 64, 64)\n",
    "            multimask_output=False,\n",
    "        )\n",
    "\n",
    "        loss = seg_loss(mask_predictions, gt2D.to(device))\n",
    "        optimizer.zero_grad()\n",
    "        loss.backward()\n",
    "        optimizer.step()\n",
    "        epoch_loss += loss.item()\n",
    "    \n",
    "    epoch_loss /= step\n",
    "    losses.append(epoch_loss)\n",
    "    print(f'EPOCH: {epoch}, Loss: {epoch_loss}')\n",
    "    # save the latest model checkpoint\n",
    "    torch.save(sam_model.state_dict(), join(model_save_path, 'sam_model_latest.pth'))\n",
    "    # save the best model\n",
    "    if epoch_loss < best_loss:\n",
    "        best_loss = epoch_loss\n",
    "        torch.save(sam_model.state_dict(), join(model_save_path, 'sam_model_best.pth'))"
   ]
  },
  {
   "cell_type": "code",
   "execution_count": 9,
   "metadata": {},
   "outputs": [
    {
     "name": "stdout",
     "output_type": "stream",
     "text": [
      "self.img_embeddings.shape=(647, 256, 64, 64), self.ori_gts.shape=(647, 256, 256)\n"
     ]
    }
   ],
   "source": [
    "train_dataset = NpzDataset(npz_tr_path)\n",
    "train_dataloader = DataLoader(train_dataset, batch_size=1, shuffle=False)"
   ]
  },
  {
   "cell_type": "code",
   "execution_count": null,
   "metadata": {},
   "outputs": [],
   "source": [
    "for step, (image_embedding, gt2D, boxes, points) in enumerate(tqdm(train_dataloader)):\n",
    "        # do not compute gradients for image encoder and prompt encoder\n",
    "        with torch.no_grad():\n",
    "            # convert box to 1024x1024 grid\n",
    "            box_np = boxes.numpy()\n",
    "            sam_trans = ResizeLongestSide(sam_model.image_encoder.img_size)\n",
    "            box = sam_trans.apply_boxes(box_np, (gt2D.shape[-2], gt2D.shape[-1]))\n",
    "            box_torch = torch.as_tensor(box, dtype=torch.float, device=device)\n",
    "            if len(box_torch.shape) == 2:\n",
    "                box_torch = box_torch[:, None, :] # (B, 1, 4)\\\n",
    "            # print(box_torch)\n",
    "            point_np = points.numpy()\n",
    "            # point = sam_trans.apply_coords(point_np, (gt2D.shape[-2], gt2D.shape[-1]))\n",
    "            point_torch = torch.as_tensor(point_np, dtype=torch.int, device=device)\n",
    "            point_labels = torch.ones((point_torch.shape[0],point_torch.shape[1]), dtype=torch.int)\n",
    "            # print(point_labels)\n",
    "            point_labels = point_labels.to(device=device)\n",
    "            # print(point_torch.shape)\n",
    "            # print(point_labels.shape)\n",
    "            # print(box_torch)\n",
    "            # print(len(point_np),point_np)\n",
    "            # print(len(point),point)\n",
    "            # print(len(point_torch),point_torch)\n",
    "            # print(point_labels)\n",
    "            \n",
    "            # get prompt embeddings \n",
    "            sparse_embeddings, dense_embeddings = sam_model.prompt_encoder(\n",
    "                points=(point_torch,point_labels),\n",
    "                boxes=None,#box_torch,\n",
    "                masks=None,\n",
    "            )\n",
    "            mask_predictions, _ = sam_model.mask_decoder(\n",
    "                image_embeddings=image_embedding.to(device), # (B, 256, 64, 64)\n",
    "                image_pe=sam_model.prompt_encoder.get_dense_pe(), # (1, 256, 64, 64)\n",
    "                sparse_prompt_embeddings=sparse_embeddings, # (B, 2, 256)\n",
    "                dense_prompt_embeddings=dense_embeddings, # (B, 256, 64, 64)\n",
    "                multimask_output=False,\n",
    "            )\n",
    "            mask_predictions=torch.sigmoid(mask_predictions)\n",
    "            mask_predictions = mask_predictions.cpu().numpy().squeeze()\n",
    "            click_sam_seg = (mask_predictions > 0.5).astype(np.uint8)\n",
    "            print(click_sam_seg.shape)\n",
    "            cv2.imwrite(f\"predictions/{step}.png\",click_sam_seg)\n",
    "            "
   ]
  },
  {
   "cell_type": "code",
   "execution_count": 11,
   "metadata": {},
   "outputs": [],
   "source": [
    "def gen_seg_df(s_type, segments, iou, i, segment_files):\n",
    "    seg_dict = {\n",
    "        \"image_index\": [],\n",
    "        \"iou\": [],\n",
    "        \"segment_index\": [],\n",
    "        \"segment_type\": [],\n",
    "        \"segment_size\": [],\n",
    "    }\n",
    "    seg_arr, seg_count = segments[0].reshape((256, 256, 1)), segments[1]\n",
    "    if seg_count > 1:\n",
    "        # generate multiple identical slices, as many as there are segments\n",
    "        seg_arr = np.broadcast_to(seg_arr, (256, 256, seg_count)).copy()\n",
    "    # this seg_index has a minimum of 1\n",
    "    for seg_index in range(1, seg_count + 1):\n",
    "        seg_slice = seg_arr[:, :, seg_index - 1]\n",
    "        # zero out all values that do not correspond to this segment\n",
    "        seg_slice[seg_slice != seg_index] = 0\n",
    "        # change all non-zero values to 1\n",
    "        seg_slice = seg_slice // seg_index\n",
    "        seg_size = seg_slice.sum()\n",
    "\n",
    "        seg_dict[\"image_index\"].append(i)\n",
    "        seg_dict[\"iou\"].append(iou)\n",
    "        seg_dict[\"segment_index\"].append(seg_index)\n",
    "        seg_dict[\"segment_type\"].append(s_type)\n",
    "        seg_dict[\"segment_size\"].append(seg_size)\n",
    "\n",
    "        with open(\n",
    "            segment_files + \"/\" + str(i) + \"/\" + s_type + \"/\" + str(seg_index) + \".pkl\",\n",
    "            \"wb\",\n",
    "        ) as seg_pkl:\n",
    "            pickle.dump(seg_slice, seg_pkl, protocol=5)\n",
    "\n",
    "    return seg_dict"
   ]
  },
  {
   "cell_type": "code",
   "execution_count": 12,
   "metadata": {},
   "outputs": [],
   "source": [
    "def calculateIoU(gtMask, predMask):\n",
    "    # Calculate the true positives,\n",
    "    # false positives, and false negatives\n",
    "    tp = 0\n",
    "    fp = 0\n",
    "    fn = 0\n",
    "\n",
    "    for i in range(len(gtMask)):\n",
    "        for j in range(len(gtMask[0])):\n",
    "            if gtMask[i][j] == 1 and predMask[i][j] == 1:\n",
    "                tp += 1\n",
    "            elif gtMask[i][j] == 0 and predMask[i][j] == 1:\n",
    "                fp += 1\n",
    "            elif gtMask[i][j] == 1 and predMask[i][j] == 0:\n",
    "                fn += 1\n",
    " \n",
    "        # Calculate IoU\n",
    "    iou = tp / (tp + fp + fn)\n",
    " \n",
    "    return iou"
   ]
  },
  {
   "cell_type": "code",
   "execution_count": 13,
   "metadata": {},
   "outputs": [
    {
     "name": "stderr",
     "output_type": "stream",
     "text": [
      "  0%|▎                                                                                                                                                                                                                            | 1/647 [00:00<01:10,  9.21it/s]"
     ]
    },
    {
     "name": "stdout",
     "output_type": "stream",
     "text": [
      "0.8778625954198473\n"
     ]
    },
    {
     "name": "stderr",
     "output_type": "stream",
     "text": [
      "\r\n",
      "  0%|▋                                                                                                                                                                                                                            | 2/647 [00:00<01:09,  9.25it/s]"
     ]
    },
    {
     "name": "stdout",
     "output_type": "stream",
     "text": [
      "0.9541267834567455\n"
     ]
    },
    {
     "name": "stderr",
     "output_type": "stream",
     "text": [
      "\r\n",
      "  0%|█                                                                                                                                                                                                                            | 3/647 [00:00<01:08,  9.34it/s]"
     ]
    },
    {
     "name": "stdout",
     "output_type": "stream",
     "text": [
      "0.7464285714285714\n"
     ]
    },
    {
     "name": "stderr",
     "output_type": "stream",
     "text": [
      "\r\n",
      "  1%|█▎                                                                                                                                                                                                                           | 4/647 [00:00<01:08,  9.41it/s]"
     ]
    },
    {
     "name": "stdout",
     "output_type": "stream",
     "text": [
      "0.90625\n"
     ]
    },
    {
     "name": "stderr",
     "output_type": "stream",
     "text": [
      "\r\n",
      "  1%|█▋                                                                                                                                                                                                                           | 5/647 [00:00<01:08,  9.33it/s]"
     ]
    },
    {
     "name": "stdout",
     "output_type": "stream",
     "text": [
      "0.9375571123971976\n"
     ]
    },
    {
     "name": "stderr",
     "output_type": "stream",
     "text": [
      "\r\n",
      "  1%|██                                                                                                                                                                                                                           | 6/647 [00:00<01:09,  9.22it/s]"
     ]
    },
    {
     "name": "stdout",
     "output_type": "stream",
     "text": [
      "0.9582429501084598\n"
     ]
    },
    {
     "name": "stderr",
     "output_type": "stream",
     "text": [
      "\r\n",
      "  1%|██▍                                                                                                                                                                                                                          | 7/647 [00:00<01:07,  9.42it/s]"
     ]
    },
    {
     "name": "stdout",
     "output_type": "stream",
     "text": [
      "0.8933333333333333\n"
     ]
    },
    {
     "name": "stderr",
     "output_type": "stream",
     "text": [
      "\r\n",
      "  1%|██▋                                                                                                                                                                                                                          | 8/647 [00:00<01:07,  9.46it/s]"
     ]
    },
    {
     "name": "stdout",
     "output_type": "stream",
     "text": [
      "0.9090909090909091\n",
      "0.9060693641618497\n"
     ]
    },
    {
     "name": "stderr",
     "output_type": "stream",
     "text": [
      "  2%|███▋                                                                                                                                                                                                                        | 11/647 [00:01<01:09,  9.13it/s]"
     ]
    },
    {
     "name": "stdout",
     "output_type": "stream",
     "text": [
      "0.9013296011196641\n",
      "0.7968892955169259\n"
     ]
    },
    {
     "name": "stderr",
     "output_type": "stream",
     "text": [
      "  2%|████▍                                                                                                                                                                                                                       | 13/647 [00:01<01:08,  9.26it/s]"
     ]
    },
    {
     "name": "stdout",
     "output_type": "stream",
     "text": [
      "0.9036144578313253\n",
      "0.8970588235294118\n"
     ]
    },
    {
     "name": "stderr",
     "output_type": "stream",
     "text": [
      "  2%|█████                                                                                                                                                                                                                       | 15/647 [00:01<01:07,  9.40it/s]"
     ]
    },
    {
     "name": "stdout",
     "output_type": "stream",
     "text": [
      "0.9030016116035455\n",
      "0.8926605504587156\n"
     ]
    },
    {
     "name": "stderr",
     "output_type": "stream",
     "text": [
      "  3%|█████▊                                                                                                                                                                                                                      | 17/647 [00:01<01:06,  9.41it/s]"
     ]
    },
    {
     "name": "stdout",
     "output_type": "stream",
     "text": [
      "0.8926886792452831\n",
      "0.9371141975308642\n"
     ]
    },
    {
     "name": "stderr",
     "output_type": "stream",
     "text": [
      "  3%|██████▍                                                                                                                                                                                                                     | 19/647 [00:02<01:07,  9.37it/s]"
     ]
    },
    {
     "name": "stdout",
     "output_type": "stream",
     "text": [
      "0.7230646448523543\n",
      "0.8708551483420593\n"
     ]
    },
    {
     "name": "stderr",
     "output_type": "stream",
     "text": [
      "  3%|███████▏                                                                                                                                                                                                                    | 21/647 [00:02<01:06,  9.46it/s]"
     ]
    },
    {
     "name": "stdout",
     "output_type": "stream",
     "text": [
      "0.7406962785114045\n",
      "0.9001189060642093\n"
     ]
    },
    {
     "name": "stderr",
     "output_type": "stream",
     "text": [
      "  4%|███████▊                                                                                                                                                                                                                    | 23/647 [00:02<01:05,  9.57it/s]"
     ]
    },
    {
     "name": "stdout",
     "output_type": "stream",
     "text": [
      "0.8547008547008547\n",
      "0.8284625158831004\n"
     ]
    },
    {
     "name": "stderr",
     "output_type": "stream",
     "text": [
      "  4%|████████▌                                                                                                                                                                                                                   | 25/647 [00:02<01:03,  9.73it/s]"
     ]
    },
    {
     "name": "stdout",
     "output_type": "stream",
     "text": [
      "0.8745247148288974\n",
      "0.8468085106382979\n",
      "0.9221614667095529\n"
     ]
    },
    {
     "name": "stderr",
     "output_type": "stream",
     "text": [
      "  4%|█████████▌                                                                                                                                                                                                                  | 28/647 [00:02<01:05,  9.50it/s]"
     ]
    },
    {
     "name": "stdout",
     "output_type": "stream",
     "text": [
      "0.8300308234258036\n",
      "0.9097686375321337\n"
     ]
    },
    {
     "name": "stderr",
     "output_type": "stream",
     "text": [
      "  5%|██████████▏                                                                                                                                                                                                                 | 30/647 [00:03<01:04,  9.61it/s]"
     ]
    },
    {
     "name": "stdout",
     "output_type": "stream",
     "text": [
      "0.8247191011235955\n",
      "0.8914728682170543\n",
      "0.8709327548806941\n"
     ]
    },
    {
     "name": "stderr",
     "output_type": "stream",
     "text": [
      "  5%|███████████▏                                                                                                                                                                                                                | 33/647 [00:03<01:03,  9.66it/s]"
     ]
    },
    {
     "name": "stdout",
     "output_type": "stream",
     "text": [
      "0.9263351749539595\n",
      "0.798311444652908\n",
      "0.9299163179916318\n"
     ]
    },
    {
     "name": "stderr",
     "output_type": "stream",
     "text": [
      "  6%|████████████▏                                                                                                                                                                                                               | 36/647 [00:03<01:04,  9.43it/s]"
     ]
    },
    {
     "name": "stdout",
     "output_type": "stream",
     "text": [
      "0.9458264234383638\n",
      "0.9558939354161197\n"
     ]
    },
    {
     "name": "stderr",
     "output_type": "stream",
     "text": [
      "  6%|████████████▉                                                                                                                                                                                                               | 38/647 [00:04<01:07,  9.05it/s]"
     ]
    },
    {
     "name": "stdout",
     "output_type": "stream",
     "text": [
      "0.8565678542289911\n",
      "0.8810939357907254\n"
     ]
    },
    {
     "name": "stderr",
     "output_type": "stream",
     "text": [
      "  6%|█████████████▌                                                                                                                                                                                                              | 40/647 [00:04<01:04,  9.35it/s]"
     ]
    },
    {
     "name": "stdout",
     "output_type": "stream",
     "text": [
      "0.8932496075353218\n",
      "0.8734939759036144\n"
     ]
    },
    {
     "name": "stderr",
     "output_type": "stream",
     "text": [
      "  6%|██████████████▎                                                                                                                                                                                                             | 42/647 [00:04<01:04,  9.44it/s]"
     ]
    },
    {
     "name": "stdout",
     "output_type": "stream",
     "text": [
      "0.8205128205128205\n",
      "0.9044083526682135\n"
     ]
    },
    {
     "name": "stderr",
     "output_type": "stream",
     "text": [
      "  7%|██████████████▉                                                                                                                                                                                                             | 44/647 [00:04<01:03,  9.47it/s]"
     ]
    },
    {
     "name": "stdout",
     "output_type": "stream",
     "text": [
      "0.860919540229885\n",
      "0.8888888888888888\n"
     ]
    },
    {
     "name": "stderr",
     "output_type": "stream",
     "text": [
      "  7%|███████████████▋                                                                                                                                                                                                            | 46/647 [00:04<01:06,  9.01it/s]"
     ]
    },
    {
     "name": "stdout",
     "output_type": "stream",
     "text": [
      "0.9161172161172161\n",
      "0.8683274021352313\n"
     ]
    },
    {
     "name": "stderr",
     "output_type": "stream",
     "text": [
      "  7%|████████████████▎                                                                                                                                                                                                           | 48/647 [00:05<01:11,  8.40it/s]"
     ]
    },
    {
     "name": "stdout",
     "output_type": "stream",
     "text": [
      "0.9547091731167139\n",
      "0.8863629840121703\n"
     ]
    },
    {
     "name": "stderr",
     "output_type": "stream",
     "text": [
      "  8%|█████████████████                                                                                                                                                                                                           | 50/647 [00:05<01:06,  8.98it/s]"
     ]
    },
    {
     "name": "stdout",
     "output_type": "stream",
     "text": [
      "0.8818316100443131\n",
      "0.936986301369863\n",
      "0.9086021505376344\n"
     ]
    },
    {
     "name": "stderr",
     "output_type": "stream",
     "text": [
      "  8%|██████████████████                                                                                                                                                                                                          | 53/647 [00:05<01:03,  9.38it/s]"
     ]
    },
    {
     "name": "stdout",
     "output_type": "stream",
     "text": [
      "0.8842105263157894\n",
      "0.8608247422680413\n"
     ]
    },
    {
     "name": "stderr",
     "output_type": "stream",
     "text": [
      "  9%|██████████████████▋                                                                                                                                                                                                         | 55/647 [00:05<01:02,  9.42it/s]"
     ]
    },
    {
     "name": "stdout",
     "output_type": "stream",
     "text": [
      "0.8103277060575969\n",
      "0.9291553133514986\n"
     ]
    },
    {
     "name": "stderr",
     "output_type": "stream",
     "text": [
      "  9%|███████████████████▍                                                                                                                                                                                                        | 57/647 [00:06<01:02,  9.51it/s]"
     ]
    },
    {
     "name": "stdout",
     "output_type": "stream",
     "text": [
      "0.9338487972508591\n",
      "0.891566265060241\n"
     ]
    },
    {
     "name": "stderr",
     "output_type": "stream",
     "text": [
      "  9%|████████████████████                                                                                                                                                                                                        | 59/647 [00:06<01:03,  9.29it/s]"
     ]
    },
    {
     "name": "stdout",
     "output_type": "stream",
     "text": [
      "0.9221183800623053\n",
      "0.9277310924369748\n"
     ]
    },
    {
     "name": "stderr",
     "output_type": "stream",
     "text": [
      "  9%|████████████████████▋                                                                                                                                                                                                       | 61/647 [00:06<01:03,  9.23it/s]"
     ]
    },
    {
     "name": "stdout",
     "output_type": "stream",
     "text": [
      "0.9001983238436441\n",
      "0.9069767441860465\n"
     ]
    },
    {
     "name": "stderr",
     "output_type": "stream",
     "text": [
      " 10%|█████████████████████▍                                                                                                                                                                                                      | 63/647 [00:06<01:02,  9.35it/s]"
     ]
    },
    {
     "name": "stdout",
     "output_type": "stream",
     "text": [
      "0.8654205607476636\n",
      "0.9138407157848227\n"
     ]
    },
    {
     "name": "stderr",
     "output_type": "stream",
     "text": [
      " 10%|██████████████████████                                                                                                                                                                                                      | 65/647 [00:06<01:01,  9.41it/s]"
     ]
    },
    {
     "name": "stdout",
     "output_type": "stream",
     "text": [
      "0.8847058823529412\n",
      "0.8818843089712505\n"
     ]
    },
    {
     "name": "stderr",
     "output_type": "stream",
     "text": [
      " 10%|██████████████████████▊                                                                                                                                                                                                     | 67/647 [00:07<01:01,  9.42it/s]"
     ]
    },
    {
     "name": "stdout",
     "output_type": "stream",
     "text": [
      "0.9161438728565454\n",
      "0.8715753424657534\n"
     ]
    },
    {
     "name": "stderr",
     "output_type": "stream",
     "text": [
      " 11%|███████████████████████▍                                                                                                                                                                                                    | 69/647 [00:07<01:02,  9.27it/s]"
     ]
    },
    {
     "name": "stdout",
     "output_type": "stream",
     "text": [
      "0.889751552795031\n",
      "0.886094674556213\n",
      "0.875609756097561\n"
     ]
    },
    {
     "name": "stderr",
     "output_type": "stream",
     "text": [
      " 11%|████████████████████████▍                                                                                                                                                                                                   | 72/647 [00:07<01:03,  9.08it/s]"
     ]
    },
    {
     "name": "stdout",
     "output_type": "stream",
     "text": [
      "0.8978978978978979\n",
      "0.4582210242587601\n",
      "0.8649182683671637\n"
     ]
    },
    {
     "name": "stderr",
     "output_type": "stream",
     "text": [
      " 12%|█████████████████████████▌                                                                                                                                                                                                  | 75/647 [00:08<01:01,  9.37it/s]"
     ]
    },
    {
     "name": "stdout",
     "output_type": "stream",
     "text": [
      "0.8322147651006712\n",
      "0.8379746835443038\n"
     ]
    },
    {
     "name": "stderr",
     "output_type": "stream",
     "text": [
      " 12%|██████████████████████████▏                                                                                                                                                                                                 | 77/647 [00:08<01:01,  9.34it/s]"
     ]
    },
    {
     "name": "stdout",
     "output_type": "stream",
     "text": [
      "0.8777614138438881\n",
      "0.9358893777498428\n"
     ]
    },
    {
     "name": "stderr",
     "output_type": "stream",
     "text": [
      " 12%|██████████████████████████▊                                                                                                                                                                                                 | 79/647 [00:08<01:00,  9.45it/s]"
     ]
    },
    {
     "name": "stdout",
     "output_type": "stream",
     "text": [
      "0.8359788359788359\n",
      "0.8663294797687862\n"
     ]
    },
    {
     "name": "stderr",
     "output_type": "stream",
     "text": [
      " 13%|███████████████████████████▌                                                                                                                                                                                                | 81/647 [00:08<01:03,  8.86it/s]"
     ]
    },
    {
     "name": "stdout",
     "output_type": "stream",
     "text": [
      "0.9266999376169682\n",
      "0.8026315789473685\n"
     ]
    },
    {
     "name": "stderr",
     "output_type": "stream",
     "text": [
      " 13%|████████████████████████████▏                                                                                                                                                                                               | 83/647 [00:08<01:04,  8.77it/s]"
     ]
    },
    {
     "name": "stdout",
     "output_type": "stream",
     "text": [
      "0.7915915915915915\n",
      "0.9112623045744065\n"
     ]
    },
    {
     "name": "stderr",
     "output_type": "stream",
     "text": [
      " 13%|████████████████████████████▉                                                                                                                                                                                               | 85/647 [00:09<01:02,  9.06it/s]"
     ]
    },
    {
     "name": "stdout",
     "output_type": "stream",
     "text": [
      "0.9396551724137931\n",
      "0.903523974581167\n"
     ]
    },
    {
     "name": "stderr",
     "output_type": "stream",
     "text": [
      " 13%|█████████████████████████████▌                                                                                                                                                                                              | 87/647 [00:09<01:02,  8.94it/s]"
     ]
    },
    {
     "name": "stdout",
     "output_type": "stream",
     "text": [
      "0.8182720953326713\n",
      "0.9043824701195219\n"
     ]
    },
    {
     "name": "stderr",
     "output_type": "stream",
     "text": [
      " 14%|██████████████████████████████▎                                                                                                                                                                                             | 89/647 [00:09<01:01,  9.11it/s]"
     ]
    },
    {
     "name": "stdout",
     "output_type": "stream",
     "text": [
      "0.9397911120212984\n",
      "0.8746177370030581\n"
     ]
    },
    {
     "name": "stderr",
     "output_type": "stream",
     "text": [
      " 14%|██████████████████████████████▉                                                                                                                                                                                             | 91/647 [00:09<01:00,  9.16it/s]"
     ]
    },
    {
     "name": "stdout",
     "output_type": "stream",
     "text": [
      "0.8978561498500036\n",
      "0.8974358974358975\n"
     ]
    },
    {
     "name": "stderr",
     "output_type": "stream",
     "text": [
      " 14%|███████████████████████████████▌                                                                                                                                                                                            | 93/647 [00:10<01:00,  9.18it/s]"
     ]
    },
    {
     "name": "stdout",
     "output_type": "stream",
     "text": [
      "0.9110512129380054\n",
      "0.8267898383371824\n"
     ]
    },
    {
     "name": "stderr",
     "output_type": "stream",
     "text": [
      " 15%|████████████████████████████████▎                                                                                                                                                                                           | 95/647 [00:10<01:01,  8.92it/s]"
     ]
    },
    {
     "name": "stdout",
     "output_type": "stream",
     "text": [
      "0.9274509803921569\n",
      "0.9266281945589447\n"
     ]
    },
    {
     "name": "stderr",
     "output_type": "stream",
     "text": [
      " 15%|████████████████████████████████▉                                                                                                                                                                                           | 97/647 [00:10<01:01,  8.95it/s]"
     ]
    },
    {
     "name": "stdout",
     "output_type": "stream",
     "text": [
      "0.849802371541502\n",
      "0.9094997189432266\n"
     ]
    },
    {
     "name": "stderr",
     "output_type": "stream",
     "text": [
      " 15%|█████████████████████████████████▋                                                                                                                                                                                          | 99/647 [00:10<01:03,  8.58it/s]"
     ]
    },
    {
     "name": "stdout",
     "output_type": "stream",
     "text": [
      "0.844061650045331\n",
      "0.9171240395170143\n"
     ]
    },
    {
     "name": "stderr",
     "output_type": "stream",
     "text": [
      " 16%|██████████████████████████████████▏                                                                                                                                                                                        | 101/647 [00:10<01:00,  9.07it/s]"
     ]
    },
    {
     "name": "stdout",
     "output_type": "stream",
     "text": [
      "0.8956661316211878\n",
      "0.8786127167630058\n",
      "0.9277996070726916\n"
     ]
    },
    {
     "name": "stderr",
     "output_type": "stream",
     "text": [
      " 16%|███████████████████████████████████▏                                                                                                                                                                                       | 104/647 [00:11<00:58,  9.31it/s]"
     ]
    },
    {
     "name": "stdout",
     "output_type": "stream",
     "text": [
      "0.899365367180417\n",
      "0.9057765151515151\n"
     ]
    },
    {
     "name": "stderr",
     "output_type": "stream",
     "text": [
      " 16%|███████████████████████████████████▉                                                                                                                                                                                       | 106/647 [00:11<00:58,  9.21it/s]"
     ]
    },
    {
     "name": "stdout",
     "output_type": "stream",
     "text": [
      "0.8797202797202798\n",
      "0.8727106227106227\n"
     ]
    },
    {
     "name": "stderr",
     "output_type": "stream",
     "text": [
      " 17%|████████████████████████████████████▌                                                                                                                                                                                      | 108/647 [00:11<01:01,  8.75it/s]"
     ]
    },
    {
     "name": "stdout",
     "output_type": "stream",
     "text": [
      "0.8511258069595339\n",
      "0.860648918469218\n"
     ]
    },
    {
     "name": "stderr",
     "output_type": "stream",
     "text": [
      " 17%|█████████████████████████████████████▏                                                                                                                                                                                     | 110/647 [00:11<00:59,  9.03it/s]"
     ]
    },
    {
     "name": "stdout",
     "output_type": "stream",
     "text": [
      "0.8847352024922118\n",
      "0.924914142990946\n"
     ]
    },
    {
     "name": "stderr",
     "output_type": "stream",
     "text": [
      " 17%|█████████████████████████████████████▉                                                                                                                                                                                     | 112/647 [00:12<01:02,  8.60it/s]"
     ]
    },
    {
     "name": "stdout",
     "output_type": "stream",
     "text": [
      "0.8546131630946953\n",
      "0.9018329938900204\n"
     ]
    },
    {
     "name": "stderr",
     "output_type": "stream",
     "text": [
      " 18%|██████████████████████████████████████▌                                                                                                                                                                                    | 114/647 [00:12<01:00,  8.82it/s]"
     ]
    },
    {
     "name": "stdout",
     "output_type": "stream",
     "text": [
      "0.9120323559150657\n",
      "0.9164128595600677\n"
     ]
    },
    {
     "name": "stderr",
     "output_type": "stream",
     "text": [
      " 18%|███████████████████████████████████████▎                                                                                                                                                                                   | 116/647 [00:12<00:59,  8.90it/s]"
     ]
    },
    {
     "name": "stdout",
     "output_type": "stream",
     "text": [
      "0.859139183901621\n",
      "0.8790931989924433\n"
     ]
    },
    {
     "name": "stderr",
     "output_type": "stream",
     "text": [
      " 18%|███████████████████████████████████████▉                                                                                                                                                                                   | 118/647 [00:12<00:58,  9.03it/s]"
     ]
    },
    {
     "name": "stdout",
     "output_type": "stream",
     "text": [
      "0.9207325797682072\n",
      "0.871893981225842\n"
     ]
    },
    {
     "name": "stderr",
     "output_type": "stream",
     "text": [
      " 19%|████████████████████████████████████████▌                                                                                                                                                                                  | 120/647 [00:13<01:01,  8.57it/s]"
     ]
    },
    {
     "name": "stdout",
     "output_type": "stream",
     "text": [
      "0.9021725157475254\n",
      "0.8756476683937824\n"
     ]
    },
    {
     "name": "stderr",
     "output_type": "stream",
     "text": [
      " 19%|█████████████████████████████████████████▎                                                                                                                                                                                 | 122/647 [00:13<01:00,  8.68it/s]"
     ]
    },
    {
     "name": "stdout",
     "output_type": "stream",
     "text": [
      "0.7978624535315985\n",
      "0.9445812807881774\n"
     ]
    },
    {
     "name": "stderr",
     "output_type": "stream",
     "text": [
      " 19%|█████████████████████████████████████████▉                                                                                                                                                                                 | 124/647 [00:13<00:58,  9.02it/s]"
     ]
    },
    {
     "name": "stdout",
     "output_type": "stream",
     "text": [
      "0.9155145929339478\n",
      "0.9107142857142857\n"
     ]
    },
    {
     "name": "stderr",
     "output_type": "stream",
     "text": [
      " 19%|██████████████████████████████████████████▋                                                                                                                                                                                | 126/647 [00:13<00:57,  9.12it/s]"
     ]
    },
    {
     "name": "stdout",
     "output_type": "stream",
     "text": [
      "0.8715271633339232\n",
      "0.7025316455696202\n"
     ]
    },
    {
     "name": "stderr",
     "output_type": "stream",
     "text": [
      " 20%|███████████████████████████████████████████▎                                                                                                                                                                               | 128/647 [00:13<00:59,  8.77it/s]"
     ]
    },
    {
     "name": "stdout",
     "output_type": "stream",
     "text": [
      "0.7911555842479019\n",
      "0.7868038311457963\n"
     ]
    },
    {
     "name": "stderr",
     "output_type": "stream",
     "text": [
      " 20%|████████████████████████████████████████████                                                                                                                                                                               | 130/647 [00:14<00:57,  9.02it/s]"
     ]
    },
    {
     "name": "stdout",
     "output_type": "stream",
     "text": [
      "0.894669070306464\n",
      "0.8267386091127098\n"
     ]
    },
    {
     "name": "stderr",
     "output_type": "stream",
     "text": [
      " 20%|████████████████████████████████████████████▋                                                                                                                                                                              | 132/647 [00:14<00:59,  8.71it/s]"
     ]
    },
    {
     "name": "stdout",
     "output_type": "stream",
     "text": [
      "0.8858942065491184\n",
      "0.9084099421178072\n"
     ]
    },
    {
     "name": "stderr",
     "output_type": "stream",
     "text": [
      " 21%|█████████████████████████████████████████████▎                                                                                                                                                                             | 134/647 [00:14<00:59,  8.64it/s]"
     ]
    },
    {
     "name": "stdout",
     "output_type": "stream",
     "text": [
      "0.9202777112760354\n",
      "0.7643821910955477\n"
     ]
    },
    {
     "name": "stderr",
     "output_type": "stream",
     "text": [
      " 21%|██████████████████████████████████████████████                                                                                                                                                                             | 136/647 [00:14<00:58,  8.78it/s]"
     ]
    },
    {
     "name": "stdout",
     "output_type": "stream",
     "text": [
      "0.8893088552915767\n",
      "0.8016877637130801\n"
     ]
    },
    {
     "name": "stderr",
     "output_type": "stream",
     "text": [
      " 21%|██████████████████████████████████████████████▋                                                                                                                                                                            | 138/647 [00:15<00:58,  8.73it/s]"
     ]
    },
    {
     "name": "stdout",
     "output_type": "stream",
     "text": [
      "0.7591776798825257\n",
      "0.8667749796913079\n"
     ]
    },
    {
     "name": "stderr",
     "output_type": "stream",
     "text": [
      " 22%|███████████████████████████████████████████████▍                                                                                                                                                                           | 140/647 [00:15<00:59,  8.50it/s]"
     ]
    },
    {
     "name": "stdout",
     "output_type": "stream",
     "text": [
      "0.8046795523906409\n",
      "0.8779810141236397\n"
     ]
    },
    {
     "name": "stderr",
     "output_type": "stream",
     "text": [
      " 22%|████████████████████████████████████████████████                                                                                                                                                                           | 142/647 [00:15<00:57,  8.75it/s]"
     ]
    },
    {
     "name": "stdout",
     "output_type": "stream",
     "text": [
      "0.8938906752411575\n",
      "0.8215940685820204\n"
     ]
    },
    {
     "name": "stderr",
     "output_type": "stream",
     "text": [
      " 22%|████████████████████████████████████████████████▋                                                                                                                                                                          | 144/647 [00:15<00:57,  8.69it/s]"
     ]
    },
    {
     "name": "stdout",
     "output_type": "stream",
     "text": [
      "0.8117583603020496\n",
      "0.8907103825136612\n"
     ]
    },
    {
     "name": "stderr",
     "output_type": "stream",
     "text": [
      " 23%|█████████████████████████████████████████████████▍                                                                                                                                                                         | 146/647 [00:16<00:55,  9.05it/s]"
     ]
    },
    {
     "name": "stdout",
     "output_type": "stream",
     "text": [
      "0.8882035466461063\n",
      "0.9041095890410958\n"
     ]
    },
    {
     "name": "stderr",
     "output_type": "stream",
     "text": [
      " 23%|██████████████████████████████████████████████████                                                                                                                                                                         | 148/647 [00:16<00:54,  9.16it/s]"
     ]
    },
    {
     "name": "stdout",
     "output_type": "stream",
     "text": [
      "0.8947368421052632\n",
      "0.876931273308471\n"
     ]
    },
    {
     "name": "stderr",
     "output_type": "stream",
     "text": [
      " 23%|██████████████████████████████████████████████████▊                                                                                                                                                                        | 150/647 [00:16<00:58,  8.51it/s]"
     ]
    },
    {
     "name": "stdout",
     "output_type": "stream",
     "text": [
      "0.9031473899692938\n",
      "0.7783952496954933\n"
     ]
    },
    {
     "name": "stderr",
     "output_type": "stream",
     "text": [
      " 23%|███████████████████████████████████████████████████▍                                                                                                                                                                       | 152/647 [00:16<00:57,  8.67it/s]"
     ]
    },
    {
     "name": "stdout",
     "output_type": "stream",
     "text": [
      "0.9109683340982102\n",
      "0.8306982872200264\n"
     ]
    },
    {
     "name": "stderr",
     "output_type": "stream",
     "text": [
      " 24%|████████████████████████████████████████████████████▏                                                                                                                                                                      | 154/647 [00:17<01:01,  8.06it/s]"
     ]
    },
    {
     "name": "stdout",
     "output_type": "stream",
     "text": [
      "0.9026857004597145\n",
      "0.8876146788990825\n"
     ]
    },
    {
     "name": "stderr",
     "output_type": "stream",
     "text": [
      " 24%|████████████████████████████████████████████████████▊                                                                                                                                                                      | 156/647 [00:17<00:56,  8.68it/s]"
     ]
    },
    {
     "name": "stdout",
     "output_type": "stream",
     "text": [
      "0.9217904574520414\n",
      "0.833130328867235\n"
     ]
    },
    {
     "name": "stderr",
     "output_type": "stream",
     "text": [
      " 24%|█████████████████████████████████████████████████████▍                                                                                                                                                                     | 158/647 [00:17<00:55,  8.83it/s]"
     ]
    },
    {
     "name": "stdout",
     "output_type": "stream",
     "text": [
      "0.8995148995148995\n",
      "0.8879501385041552\n"
     ]
    },
    {
     "name": "stderr",
     "output_type": "stream",
     "text": [
      " 25%|██████████████████████████████████████████████████████▏                                                                                                                                                                    | 160/647 [00:17<00:55,  8.80it/s]"
     ]
    },
    {
     "name": "stdout",
     "output_type": "stream",
     "text": [
      "0.8674314850223072\n",
      "0.8661493695441319\n"
     ]
    },
    {
     "name": "stderr",
     "output_type": "stream",
     "text": [
      " 25%|██████████████████████████████████████████████████████▊                                                                                                                                                                    | 162/647 [00:17<00:56,  8.54it/s]"
     ]
    },
    {
     "name": "stdout",
     "output_type": "stream",
     "text": [
      "0.7696927374301676\n",
      "0.8976545842217484\n"
     ]
    },
    {
     "name": "stderr",
     "output_type": "stream",
     "text": [
      " 25%|███████████████████████████████████████████████████████▌                                                                                                                                                                   | 164/647 [00:18<00:53,  9.03it/s]"
     ]
    },
    {
     "name": "stdout",
     "output_type": "stream",
     "text": [
      "0.86578073089701\n",
      "0.8155172413793104\n"
     ]
    },
    {
     "name": "stderr",
     "output_type": "stream",
     "text": [
      " 26%|████████████████████████████████████████████████████████▏                                                                                                                                                                  | 166/647 [00:18<00:53,  9.05it/s]"
     ]
    },
    {
     "name": "stdout",
     "output_type": "stream",
     "text": [
      "0.8836772983114447\n",
      "0.755771567436209\n"
     ]
    },
    {
     "name": "stderr",
     "output_type": "stream",
     "text": [
      " 26%|████████████████████████████████████████████████████████▊                                                                                                                                                                  | 168/647 [00:18<00:52,  9.08it/s]"
     ]
    },
    {
     "name": "stdout",
     "output_type": "stream",
     "text": [
      "0.8912146226415094\n",
      "0.8962472406181016\n"
     ]
    },
    {
     "name": "stderr",
     "output_type": "stream",
     "text": [
      " 26%|█████████████████████████████████████████████████████████▌                                                                                                                                                                 | 170/647 [00:18<00:56,  8.43it/s]"
     ]
    },
    {
     "name": "stdout",
     "output_type": "stream",
     "text": [
      "0.8601964182553438\n",
      "0.8788927335640139\n"
     ]
    },
    {
     "name": "stderr",
     "output_type": "stream",
     "text": [
      " 27%|██████████████████████████████████████████████████████████▏                                                                                                                                                                | 172/647 [00:19<00:53,  8.85it/s]"
     ]
    },
    {
     "name": "stdout",
     "output_type": "stream",
     "text": [
      "0.8935128518971848\n",
      "0.8567619047619047\n"
     ]
    },
    {
     "name": "stderr",
     "output_type": "stream",
     "text": [
      " 27%|██████████████████████████████████████████████████████████▉                                                                                                                                                                | 174/647 [00:19<00:51,  9.14it/s]"
     ]
    },
    {
     "name": "stdout",
     "output_type": "stream",
     "text": [
      "0.8643617021276596\n",
      "0.917360285374554\n"
     ]
    },
    {
     "name": "stderr",
     "output_type": "stream",
     "text": [
      " 27%|███████████████████████████████████████████████████████████▌                                                                                                                                                               | 176/647 [00:19<00:52,  8.98it/s]"
     ]
    },
    {
     "name": "stdout",
     "output_type": "stream",
     "text": [
      "0.8609183522811162\n",
      "0.7961672473867596\n"
     ]
    },
    {
     "name": "stderr",
     "output_type": "stream",
     "text": [
      " 28%|████████████████████████████████████████████████████████████▎                                                                                                                                                              | 178/647 [00:19<00:51,  9.10it/s]"
     ]
    },
    {
     "name": "stdout",
     "output_type": "stream",
     "text": [
      "0.8685612788632326\n",
      "0.9087828297091217\n"
     ]
    },
    {
     "name": "stderr",
     "output_type": "stream",
     "text": [
      " 28%|████████████████████████████████████████████████████████████▉                                                                                                                                                              | 180/647 [00:19<00:52,  8.98it/s]"
     ]
    },
    {
     "name": "stdout",
     "output_type": "stream",
     "text": [
      "0.9387399930386355\n",
      "0.9188191881918819\n"
     ]
    },
    {
     "name": "stderr",
     "output_type": "stream",
     "text": [
      " 28%|█████████████████████████████████████████████████████████████▌                                                                                                                                                             | 182/647 [00:20<00:57,  8.06it/s]"
     ]
    },
    {
     "name": "stdout",
     "output_type": "stream",
     "text": [
      "0.9325637910085055\n",
      "0.8708247687564235\n"
     ]
    },
    {
     "name": "stderr",
     "output_type": "stream",
     "text": [
      " 28%|██████████████████████████████████████████████████████████████▎                                                                                                                                                            | 184/647 [00:20<00:54,  8.43it/s]"
     ]
    },
    {
     "name": "stdout",
     "output_type": "stream",
     "text": [
      "0.8707916287534122\n",
      "0.928313054916146\n"
     ]
    },
    {
     "name": "stderr",
     "output_type": "stream",
     "text": [
      " 29%|██████████████████████████████████████████████████████████████▉                                                                                                                                                            | 186/647 [00:20<00:53,  8.61it/s]"
     ]
    },
    {
     "name": "stdout",
     "output_type": "stream",
     "text": [
      "0.8628081457663451\n",
      "0.9210526315789473\n"
     ]
    },
    {
     "name": "stderr",
     "output_type": "stream",
     "text": [
      " 29%|███████████████████████████████████████████████████████████████▋                                                                                                                                                           | 188/647 [00:20<00:53,  8.53it/s]"
     ]
    },
    {
     "name": "stdout",
     "output_type": "stream",
     "text": [
      "0.8634039444850256\n",
      "0.9050306352789422\n"
     ]
    },
    {
     "name": "stderr",
     "output_type": "stream",
     "text": [
      " 29%|████████████████████████████████████████████████████████████████▎                                                                                                                                                          | 190/647 [00:21<00:52,  8.71it/s]"
     ]
    },
    {
     "name": "stdout",
     "output_type": "stream",
     "text": [
      "0.8399136335595312\n",
      "0.9111328125\n"
     ]
    },
    {
     "name": "stderr",
     "output_type": "stream",
     "text": [
      " 30%|████████████████████████████████████████████████████████████████▉                                                                                                                                                          | 192/647 [00:21<00:50,  8.95it/s]"
     ]
    },
    {
     "name": "stdout",
     "output_type": "stream",
     "text": [
      "0.8753973299427845\n",
      "0.8192821368948247\n"
     ]
    },
    {
     "name": "stderr",
     "output_type": "stream",
     "text": [
      " 30%|█████████████████████████████████████████████████████████████████▋                                                                                                                                                         | 194/647 [00:21<00:50,  8.93it/s]"
     ]
    },
    {
     "name": "stdout",
     "output_type": "stream",
     "text": [
      "0.7945843029405543\n",
      "0.8911206538301704\n"
     ]
    },
    {
     "name": "stderr",
     "output_type": "stream",
     "text": [
      " 30%|██████████████████████████████████████████████████████████████████▎                                                                                                                                                        | 196/647 [00:21<00:49,  9.02it/s]"
     ]
    },
    {
     "name": "stdout",
     "output_type": "stream",
     "text": [
      "0.8961838325810423\n",
      "0.9136585365853659\n"
     ]
    },
    {
     "name": "stderr",
     "output_type": "stream",
     "text": [
      " 31%|███████████████████████████████████████████████████████████████████                                                                                                                                                        | 198/647 [00:21<00:49,  9.12it/s]"
     ]
    },
    {
     "name": "stdout",
     "output_type": "stream",
     "text": [
      "0.8899291497975709\n",
      "0.9122773415054587\n"
     ]
    },
    {
     "name": "stderr",
     "output_type": "stream",
     "text": [
      " 31%|███████████████████████████████████████████████████████████████████▋                                                                                                                                                       | 200/647 [00:22<00:49,  9.08it/s]"
     ]
    },
    {
     "name": "stdout",
     "output_type": "stream",
     "text": [
      "0.8741965105601469\n",
      "0.8988946684005201\n"
     ]
    },
    {
     "name": "stderr",
     "output_type": "stream",
     "text": [
      " 31%|████████████████████████████████████████████████████████████████████▎                                                                                                                                                      | 202/647 [00:22<00:48,  9.21it/s]"
     ]
    },
    {
     "name": "stdout",
     "output_type": "stream",
     "text": [
      "0.921003717472119\n",
      "0.8791910590739755\n"
     ]
    },
    {
     "name": "stderr",
     "output_type": "stream",
     "text": [
      " 32%|█████████████████████████████████████████████████████████████████████                                                                                                                                                      | 204/647 [00:22<00:48,  9.12it/s]"
     ]
    },
    {
     "name": "stdout",
     "output_type": "stream",
     "text": [
      "0.9212875304300785\n",
      "0.8627565982404692\n"
     ]
    },
    {
     "name": "stderr",
     "output_type": "stream",
     "text": [
      " 32%|█████████████████████████████████████████████████████████████████████▋                                                                                                                                                     | 206/647 [00:22<00:48,  9.12it/s]"
     ]
    },
    {
     "name": "stdout",
     "output_type": "stream",
     "text": [
      "0.8884848484848484\n",
      "0.9064782096584216\n"
     ]
    },
    {
     "name": "stderr",
     "output_type": "stream",
     "text": [
      " 32%|██████████████████████████████████████████████████████████████████████▍                                                                                                                                                    | 208/647 [00:23<00:47,  9.17it/s]"
     ]
    },
    {
     "name": "stdout",
     "output_type": "stream",
     "text": [
      "0.8960493827160494\n",
      "0.9148538011695907\n"
     ]
    },
    {
     "name": "stderr",
     "output_type": "stream",
     "text": [
      " 32%|███████████████████████████████████████████████████████████████████████                                                                                                                                                    | 210/647 [00:23<00:47,  9.11it/s]"
     ]
    },
    {
     "name": "stdout",
     "output_type": "stream",
     "text": [
      "0.8787728847105394\n",
      "0.8467868338557993\n"
     ]
    },
    {
     "name": "stderr",
     "output_type": "stream",
     "text": [
      " 33%|███████████████████████████████████████████████████████████████████████▊                                                                                                                                                   | 212/647 [00:23<00:47,  9.23it/s]"
     ]
    },
    {
     "name": "stdout",
     "output_type": "stream",
     "text": [
      "0.9270312723118663\n",
      "0.884514435695538\n"
     ]
    },
    {
     "name": "stderr",
     "output_type": "stream",
     "text": [
      " 33%|████████████████████████████████████████████████████████████████████████▍                                                                                                                                                  | 214/647 [00:23<00:46,  9.28it/s]"
     ]
    },
    {
     "name": "stdout",
     "output_type": "stream",
     "text": [
      "0.8962058438726559\n",
      "0.9177718832891246\n"
     ]
    },
    {
     "name": "stderr",
     "output_type": "stream",
     "text": [
      " 33%|█████████████████████████████████████████████████████████████████████████                                                                                                                                                  | 216/647 [00:23<00:46,  9.27it/s]"
     ]
    },
    {
     "name": "stdout",
     "output_type": "stream",
     "text": [
      "0.8737495688168334\n",
      "0.8916133617626155\n"
     ]
    },
    {
     "name": "stderr",
     "output_type": "stream",
     "text": [
      " 34%|█████████████████████████████████████████████████████████████████████████▊                                                                                                                                                 | 218/647 [00:24<00:46,  9.25it/s]"
     ]
    },
    {
     "name": "stdout",
     "output_type": "stream",
     "text": [
      "0.8263138948884089\n",
      "0.8776806989674345\n"
     ]
    },
    {
     "name": "stderr",
     "output_type": "stream",
     "text": [
      " 34%|██████████████████████████████████████████████████████████████████████████▍                                                                                                                                                | 220/647 [00:24<00:46,  9.21it/s]"
     ]
    },
    {
     "name": "stdout",
     "output_type": "stream",
     "text": [
      "0.8940117764692812\n",
      "0.9032416502946955\n"
     ]
    },
    {
     "name": "stderr",
     "output_type": "stream",
     "text": [
      " 34%|███████████████████████████████████████████████████████████████████████████▏                                                                                                                                               | 222/647 [00:24<00:48,  8.82it/s]"
     ]
    },
    {
     "name": "stdout",
     "output_type": "stream",
     "text": [
      "0.8723872387238724\n",
      "0.803875236294896\n"
     ]
    },
    {
     "name": "stderr",
     "output_type": "stream",
     "text": [
      " 35%|███████████████████████████████████████████████████████████████████████████▊                                                                                                                                               | 224/647 [00:24<00:46,  9.09it/s]"
     ]
    },
    {
     "name": "stdout",
     "output_type": "stream",
     "text": [
      "0.9520089285714286\n",
      "0.8472361809045226\n"
     ]
    },
    {
     "name": "stderr",
     "output_type": "stream",
     "text": [
      " 35%|████████████████████████████████████████████████████████████████████████████▍                                                                                                                                              | 226/647 [00:25<00:46,  9.13it/s]"
     ]
    },
    {
     "name": "stdout",
     "output_type": "stream",
     "text": [
      "0.8884859474161378\n",
      "0.8801169590643275\n"
     ]
    },
    {
     "name": "stderr",
     "output_type": "stream",
     "text": [
      " 35%|█████████████████████████████████████████████████████████████████████████████▏                                                                                                                                             | 228/647 [00:25<00:45,  9.15it/s]"
     ]
    },
    {
     "name": "stdout",
     "output_type": "stream",
     "text": [
      "0.7831632653061225\n",
      "0.8700227531285551\n"
     ]
    },
    {
     "name": "stderr",
     "output_type": "stream",
     "text": [
      " 36%|█████████████████████████████████████████████████████████████████████████████▊                                                                                                                                             | 230/647 [00:25<00:46,  9.04it/s]"
     ]
    },
    {
     "name": "stdout",
     "output_type": "stream",
     "text": [
      "0.8506510762689343\n",
      "0.8557151780137414\n"
     ]
    },
    {
     "name": "stderr",
     "output_type": "stream",
     "text": [
      " 36%|██████████████████████████████████████████████████████████████████████████████▌                                                                                                                                            | 232/647 [00:25<00:48,  8.57it/s]"
     ]
    },
    {
     "name": "stdout",
     "output_type": "stream",
     "text": [
      "0.8145743145743146\n",
      "0.909542195256481\n"
     ]
    },
    {
     "name": "stderr",
     "output_type": "stream",
     "text": [
      " 36%|███████████████████████████████████████████████████████████████████████████████▏                                                                                                                                           | 234/647 [00:25<00:49,  8.31it/s]"
     ]
    },
    {
     "name": "stdout",
     "output_type": "stream",
     "text": [
      "0.7786596119929453\n",
      "0.8802810938955211\n"
     ]
    },
    {
     "name": "stderr",
     "output_type": "stream",
     "text": [
      " 36%|███████████████████████████████████████████████████████████████████████████████▉                                                                                                                                           | 236/647 [00:26<00:47,  8.63it/s]"
     ]
    },
    {
     "name": "stdout",
     "output_type": "stream",
     "text": [
      "0.9019138755980861\n",
      "0.8801652892561983\n"
     ]
    },
    {
     "name": "stderr",
     "output_type": "stream",
     "text": [
      " 37%|████████████████████████████████████████████████████████████████████████████████▌                                                                                                                                          | 238/647 [00:26<00:48,  8.36it/s]"
     ]
    },
    {
     "name": "stdout",
     "output_type": "stream",
     "text": [
      "0.8665046085283096\n",
      "0.9216478190630049\n"
     ]
    },
    {
     "name": "stderr",
     "output_type": "stream",
     "text": [
      " 37%|█████████████████████████████████████████████████████████████████████████████████▏                                                                                                                                         | 240/647 [00:26<00:47,  8.50it/s]"
     ]
    },
    {
     "name": "stdout",
     "output_type": "stream",
     "text": [
      "0.8195841716968477\n",
      "0.8606845107503291\n"
     ]
    },
    {
     "name": "stderr",
     "output_type": "stream",
     "text": [
      " 37%|█████████████████████████████████████████████████████████████████████████████████▉                                                                                                                                         | 242/647 [00:26<00:52,  7.69it/s]"
     ]
    },
    {
     "name": "stdout",
     "output_type": "stream",
     "text": [
      "0.5150442477876106\n",
      "0.8911277084701248\n"
     ]
    },
    {
     "name": "stderr",
     "output_type": "stream",
     "text": [
      " 38%|██████████████████████████████████████████████████████████████████████████████████▌                                                                                                                                        | 244/647 [00:27<00:48,  8.27it/s]"
     ]
    },
    {
     "name": "stdout",
     "output_type": "stream",
     "text": [
      "0.8597869739828881\n",
      "0.8781362007168458\n"
     ]
    },
    {
     "name": "stderr",
     "output_type": "stream",
     "text": [
      " 38%|███████████████████████████████████████████████████████████████████████████████████▎                                                                                                                                       | 246/647 [00:27<00:46,  8.71it/s]"
     ]
    },
    {
     "name": "stdout",
     "output_type": "stream",
     "text": [
      "0.90633608815427\n",
      "0.8658273381294964\n"
     ]
    },
    {
     "name": "stderr",
     "output_type": "stream",
     "text": [
      " 38%|███████████████████████████████████████████████████████████████████████████████████▉                                                                                                                                       | 248/647 [00:27<00:43,  9.17it/s]"
     ]
    },
    {
     "name": "stdout",
     "output_type": "stream",
     "text": [
      "0.9378238341968912\n",
      "0.9436619718309859\n"
     ]
    },
    {
     "name": "stderr",
     "output_type": "stream",
     "text": [
      " 39%|████████████████████████████████████████████████████████████████████████████████████▌                                                                                                                                      | 250/647 [00:27<00:42,  9.26it/s]"
     ]
    },
    {
     "name": "stdout",
     "output_type": "stream",
     "text": [
      "0.86\n",
      "0.86848760748609\n"
     ]
    },
    {
     "name": "stderr",
     "output_type": "stream",
     "text": [
      " 39%|█████████████████████████████████████████████████████████████████████████████████████▎                                                                                                                                     | 252/647 [00:28<00:41,  9.51it/s]"
     ]
    },
    {
     "name": "stdout",
     "output_type": "stream",
     "text": [
      "0.844106463878327\n",
      "0.8727015558698727\n",
      "0.9246165084002922\n"
     ]
    },
    {
     "name": "stderr",
     "output_type": "stream",
     "text": [
      " 39%|██████████████████████████████████████████████████████████████████████████████████████▎                                                                                                                                    | 255/647 [00:28<00:41,  9.37it/s]"
     ]
    },
    {
     "name": "stdout",
     "output_type": "stream",
     "text": [
      "0.9477045219192268\n",
      "0.863961813842482\n"
     ]
    },
    {
     "name": "stderr",
     "output_type": "stream",
     "text": [
      " 40%|██████████████████████████████████████████████████████████████████████████████████████▉                                                                                                                                    | 257/647 [00:28<00:41,  9.32it/s]"
     ]
    },
    {
     "name": "stdout",
     "output_type": "stream",
     "text": [
      "0.895397489539749\n",
      "0.946312092323131\n"
     ]
    },
    {
     "name": "stderr",
     "output_type": "stream",
     "text": [
      " 40%|███████████████████████████████████████████████████████████████████████████████████████▋                                                                                                                                   | 259/647 [00:28<00:41,  9.34it/s]"
     ]
    },
    {
     "name": "stdout",
     "output_type": "stream",
     "text": [
      "0.9483079618880736\n",
      "0.8428792569659442\n"
     ]
    },
    {
     "name": "stderr",
     "output_type": "stream",
     "text": [
      " 40%|████████████████████████████████████████████████████████████████████████████████████████▎                                                                                                                                  | 261/647 [00:29<00:41,  9.39it/s]"
     ]
    },
    {
     "name": "stdout",
     "output_type": "stream",
     "text": [
      "0.8323863636363636\n",
      "0.9067144373673036\n"
     ]
    },
    {
     "name": "stderr",
     "output_type": "stream",
     "text": [
      " 41%|█████████████████████████████████████████████████████████████████████████████████████████                                                                                                                                  | 263/647 [00:29<00:41,  9.30it/s]"
     ]
    },
    {
     "name": "stdout",
     "output_type": "stream",
     "text": [
      "0.8830519074421513\n",
      "0.8427184466019417\n"
     ]
    },
    {
     "name": "stderr",
     "output_type": "stream",
     "text": [
      " 41%|█████████████████████████████████████████████████████████████████████████████████████████▋                                                                                                                                 | 265/647 [00:29<00:40,  9.33it/s]"
     ]
    },
    {
     "name": "stdout",
     "output_type": "stream",
     "text": [
      "0.8672694394213382\n",
      "0.8387270765911543\n"
     ]
    },
    {
     "name": "stderr",
     "output_type": "stream",
     "text": [
      " 41%|██████████████████████████████████████████████████████████████████████████████████████████▍                                                                                                                                | 267/647 [00:29<00:40,  9.45it/s]"
     ]
    },
    {
     "name": "stdout",
     "output_type": "stream",
     "text": [
      "0.8622100954979536\n",
      "0.9549872887692538\n"
     ]
    },
    {
     "name": "stderr",
     "output_type": "stream",
     "text": [
      " 42%|███████████████████████████████████████████████████████████████████████████████████████████                                                                                                                                | 269/647 [00:29<00:42,  8.89it/s]"
     ]
    },
    {
     "name": "stdout",
     "output_type": "stream",
     "text": [
      "0.9472477064220184\n",
      "0.9465450557062864\n"
     ]
    },
    {
     "name": "stderr",
     "output_type": "stream",
     "text": [
      " 42%|███████████████████████████████████████████████████████████████████████████████████████████▋                                                                                                                               | 271/647 [00:30<00:42,  8.93it/s]"
     ]
    },
    {
     "name": "stdout",
     "output_type": "stream",
     "text": [
      "0.9369387755102041\n",
      "0.9169857186265573\n"
     ]
    },
    {
     "name": "stderr",
     "output_type": "stream",
     "text": [
      " 42%|████████████████████████████████████████████████████████████████████████████████████████████▍                                                                                                                              | 273/647 [00:30<00:41,  9.05it/s]"
     ]
    },
    {
     "name": "stdout",
     "output_type": "stream",
     "text": [
      "0.9273106851394951\n",
      "0.9066869300911854\n"
     ]
    },
    {
     "name": "stderr",
     "output_type": "stream",
     "text": [
      " 43%|█████████████████████████████████████████████████████████████████████████████████████████████                                                                                                                              | 275/647 [00:30<00:40,  9.24it/s]"
     ]
    },
    {
     "name": "stdout",
     "output_type": "stream",
     "text": [
      "0.843426883308715\n",
      "0.826757846747326\n"
     ]
    },
    {
     "name": "stderr",
     "output_type": "stream",
     "text": [
      " 43%|█████████████████████████████████████████████████████████████████████████████████████████████▊                                                                                                                             | 277/647 [00:30<00:38,  9.49it/s]"
     ]
    },
    {
     "name": "stdout",
     "output_type": "stream",
     "text": [
      "0.8541871921182266\n",
      "0.9026737967914439\n",
      "0.9029605263157895\n"
     ]
    },
    {
     "name": "stderr",
     "output_type": "stream",
     "text": [
      " 43%|██████████████████████████████████████████████████████████████████████████████████████████████▊                                                                                                                            | 280/647 [00:31<00:38,  9.52it/s]"
     ]
    },
    {
     "name": "stdout",
     "output_type": "stream",
     "text": [
      "0.8938826466916354\n",
      "0.927180728192718\n"
     ]
    },
    {
     "name": "stderr",
     "output_type": "stream",
     "text": [
      " 44%|███████████████████████████████████████████████████████████████████████████████████████████████▍                                                                                                                           | 282/647 [00:31<00:38,  9.51it/s]"
     ]
    },
    {
     "name": "stdout",
     "output_type": "stream",
     "text": [
      "0.8633641807294502\n",
      "0.9548022598870056\n"
     ]
    },
    {
     "name": "stderr",
     "output_type": "stream",
     "text": [
      " 44%|████████████████████████████████████████████████████████████████████████████████████████████████▏                                                                                                                          | 284/647 [00:31<00:38,  9.53it/s]"
     ]
    },
    {
     "name": "stdout",
     "output_type": "stream",
     "text": [
      "0.8790931989924433\n",
      "0.9234963648380701\n"
     ]
    },
    {
     "name": "stderr",
     "output_type": "stream",
     "text": [
      " 44%|████████████████████████████████████████████████████████████████████████████████████████████████▊                                                                                                                          | 286/647 [00:31<00:38,  9.49it/s]"
     ]
    },
    {
     "name": "stdout",
     "output_type": "stream",
     "text": [
      "0.9528321751947778\n",
      "0.9144448865897334\n"
     ]
    },
    {
     "name": "stderr",
     "output_type": "stream",
     "text": [
      " 45%|█████████████████████████████████████████████████████████████████████████████████████████████████▍                                                                                                                         | 288/647 [00:31<00:38,  9.45it/s]"
     ]
    },
    {
     "name": "stdout",
     "output_type": "stream",
     "text": [
      "0.863914373088685\n",
      "0.8863636363636364\n"
     ]
    },
    {
     "name": "stderr",
     "output_type": "stream",
     "text": [
      " 45%|██████████████████████████████████████████████████████████████████████████████████████████████████▏                                                                                                                        | 290/647 [00:32<00:37,  9.44it/s]"
     ]
    },
    {
     "name": "stdout",
     "output_type": "stream",
     "text": [
      "0.8616404308202155\n",
      "0.9407429245283019\n"
     ]
    },
    {
     "name": "stderr",
     "output_type": "stream",
     "text": [
      " 45%|██████████████████████████████████████████████████████████████████████████████████████████████████▊                                                                                                                        | 292/647 [00:32<00:37,  9.45it/s]"
     ]
    },
    {
     "name": "stdout",
     "output_type": "stream",
     "text": [
      "0.8883211678832117\n",
      "0.8942984079970381\n"
     ]
    },
    {
     "name": "stderr",
     "output_type": "stream",
     "text": [
      " 45%|███████████████████████████████████████████████████████████████████████████████████████████████████▌                                                                                                                       | 294/647 [00:32<00:36,  9.55it/s]"
     ]
    },
    {
     "name": "stdout",
     "output_type": "stream",
     "text": [
      "0.8639534883720931\n",
      "0.8917418459403192\n",
      "0.8773141751865157\n"
     ]
    },
    {
     "name": "stderr",
     "output_type": "stream",
     "text": [
      " 46%|████████████████████████████████████████████████████████████████████████████████████████████████████▌                                                                                                                      | 297/647 [00:32<00:36,  9.50it/s]"
     ]
    },
    {
     "name": "stdout",
     "output_type": "stream",
     "text": [
      "0.888283378746594\n",
      "0.9075061525840853\n"
     ]
    },
    {
     "name": "stderr",
     "output_type": "stream",
     "text": [
      " 46%|█████████████████████████████████████████████████████████████████████████████████████████████████████▏                                                                                                                     | 299/647 [00:33<00:37,  9.33it/s]"
     ]
    },
    {
     "name": "stdout",
     "output_type": "stream",
     "text": [
      "0.8938243626062323\n",
      "0.9039759939984996\n"
     ]
    },
    {
     "name": "stderr",
     "output_type": "stream",
     "text": [
      " 47%|█████████████████████████████████████████████████████████████████████████████████████████████████████▉                                                                                                                     | 301/647 [00:33<00:36,  9.46it/s]"
     ]
    },
    {
     "name": "stdout",
     "output_type": "stream",
     "text": [
      "0.9161603888213852\n",
      "0.8917748917748918\n"
     ]
    },
    {
     "name": "stderr",
     "output_type": "stream",
     "text": [
      " 47%|██████████████████████████████████████████████████████████████████████████████████████████████████████▌                                                                                                                    | 303/647 [00:33<00:38,  8.87it/s]"
     ]
    },
    {
     "name": "stdout",
     "output_type": "stream",
     "text": [
      "0.9227337446606549\n",
      "0.8783859818342576\n"
     ]
    },
    {
     "name": "stderr",
     "output_type": "stream",
     "text": [
      " 47%|███████████████████████████████████████████████████████████████████████████████████████████████████████▏                                                                                                                   | 305/647 [00:33<00:38,  8.96it/s]"
     ]
    },
    {
     "name": "stdout",
     "output_type": "stream",
     "text": [
      "0.909618734275208\n",
      "0.8687701685191825\n"
     ]
    },
    {
     "name": "stderr",
     "output_type": "stream",
     "text": [
      " 47%|███████████████████████████████████████████████████████████████████████████████████████████████████████▉                                                                                                                   | 307/647 [00:33<00:37,  9.13it/s]"
     ]
    },
    {
     "name": "stdout",
     "output_type": "stream",
     "text": [
      "0.8564102564102564\n",
      "0.9182751540041068\n"
     ]
    },
    {
     "name": "stderr",
     "output_type": "stream",
     "text": [
      " 48%|████████████████████████████████████████████████████████████████████████████████████████████████████████▌                                                                                                                  | 309/647 [00:34<00:36,  9.14it/s]"
     ]
    },
    {
     "name": "stdout",
     "output_type": "stream",
     "text": [
      "0.9176305195220141\n",
      "0.946793997271487\n"
     ]
    },
    {
     "name": "stderr",
     "output_type": "stream",
     "text": [
      " 48%|█████████████████████████████████████████████████████████████████████████████████████████████████████████▎                                                                                                                 | 311/647 [00:34<00:41,  8.06it/s]"
     ]
    },
    {
     "name": "stdout",
     "output_type": "stream",
     "text": [
      "0.9039735099337748\n",
      "0.8257009345794393\n"
     ]
    },
    {
     "name": "stderr",
     "output_type": "stream",
     "text": [
      " 48%|█████████████████████████████████████████████████████████████████████████████████████████████████████████▉                                                                                                                 | 313/647 [00:34<00:38,  8.61it/s]"
     ]
    },
    {
     "name": "stdout",
     "output_type": "stream",
     "text": [
      "0.9020618556701031\n",
      "0.8640275387263339\n"
     ]
    },
    {
     "name": "stderr",
     "output_type": "stream",
     "text": [
      " 49%|██████████████████████████████████████████████████████████████████████████████████████████████████████████▌                                                                                                                | 315/647 [00:34<00:37,  8.83it/s]"
     ]
    },
    {
     "name": "stdout",
     "output_type": "stream",
     "text": [
      "0.9360767079504595\n",
      "0.8996626401131788\n"
     ]
    },
    {
     "name": "stderr",
     "output_type": "stream",
     "text": [
      " 49%|███████████████████████████████████████████████████████████████████████████████████████████████████████████▎                                                                                                               | 317/647 [00:35<00:37,  8.76it/s]"
     ]
    },
    {
     "name": "stdout",
     "output_type": "stream",
     "text": [
      "0.8597695513606276\n",
      "0.8391167192429022\n"
     ]
    },
    {
     "name": "stderr",
     "output_type": "stream",
     "text": [
      " 49%|███████████████████████████████████████████████████████████████████████████████████████████████████████████▉                                                                                                               | 319/647 [00:35<00:36,  8.96it/s]"
     ]
    },
    {
     "name": "stdout",
     "output_type": "stream",
     "text": [
      "0.9201696876205168\n",
      "0.9000256344527044\n"
     ]
    },
    {
     "name": "stderr",
     "output_type": "stream",
     "text": [
      " 50%|████████████████████████████████████████████████████████████████████████████████████████████████████████████▋                                                                                                              | 321/647 [00:35<00:35,  9.13it/s]"
     ]
    },
    {
     "name": "stdout",
     "output_type": "stream",
     "text": [
      "0.9359534206695779\n",
      "0.9042721518987342\n"
     ]
    },
    {
     "name": "stderr",
     "output_type": "stream",
     "text": [
      " 50%|█████████████████████████████████████████████████████████████████████████████████████████████████████████████▎                                                                                                             | 323/647 [00:35<00:35,  9.23it/s]"
     ]
    },
    {
     "name": "stdout",
     "output_type": "stream",
     "text": [
      "0.8966613672496025\n",
      "0.917639429312581\n"
     ]
    },
    {
     "name": "stderr",
     "output_type": "stream",
     "text": [
      " 50%|██████████████████████████████████████████████████████████████████████████████████████████████████████████████                                                                                                             | 325/647 [00:35<00:37,  8.58it/s]"
     ]
    },
    {
     "name": "stdout",
     "output_type": "stream",
     "text": [
      "0.9642324888226528\n",
      "0.7336547152756855\n"
     ]
    },
    {
     "name": "stderr",
     "output_type": "stream",
     "text": [
      " 51%|██████████████████████████████████████████████████████████████████████████████████████████████████████████████▋                                                                                                            | 327/647 [00:36<00:40,  7.97it/s]"
     ]
    },
    {
     "name": "stdout",
     "output_type": "stream",
     "text": [
      "0.9124778237729154\n",
      "0.8704233409610984\n"
     ]
    },
    {
     "name": "stderr",
     "output_type": "stream",
     "text": [
      " 51%|███████████████████████████████████████████████████████████████████████████████████████████████████████████████▎                                                                                                           | 329/647 [00:36<00:37,  8.37it/s]"
     ]
    },
    {
     "name": "stdout",
     "output_type": "stream",
     "text": [
      "0.8391356542617047\n",
      "0.9474420972257572\n"
     ]
    },
    {
     "name": "stderr",
     "output_type": "stream",
     "text": [
      " 51%|████████████████████████████████████████████████████████████████████████████████████████████████████████████████                                                                                                           | 331/647 [00:36<00:36,  8.63it/s]"
     ]
    },
    {
     "name": "stdout",
     "output_type": "stream",
     "text": [
      "0.7995712754555199\n",
      "0.8969251836175774\n"
     ]
    },
    {
     "name": "stderr",
     "output_type": "stream",
     "text": [
      " 51%|████████████████████████████████████████████████████████████████████████████████████████████████████████████████▋                                                                                                          | 333/647 [00:36<00:36,  8.55it/s]"
     ]
    },
    {
     "name": "stdout",
     "output_type": "stream",
     "text": [
      "0.86495703178284\n",
      "0.9016068447412354\n"
     ]
    },
    {
     "name": "stderr",
     "output_type": "stream",
     "text": [
      " 52%|█████████████████████████████████████████████████████████████████████████████████████████████████████████████████▍                                                                                                         | 335/647 [00:37<00:35,  8.73it/s]"
     ]
    },
    {
     "name": "stdout",
     "output_type": "stream",
     "text": [
      "0.6801152737752162\n",
      "0.9361022364217252\n",
      "0.9041707847400672\n"
     ]
    },
    {
     "name": "stderr",
     "output_type": "stream",
     "text": [
      " 52%|██████████████████████████████████████████████████████████████████████████████████████████████████████████████████▍                                                                                                        | 338/647 [00:37<00:37,  8.29it/s]"
     ]
    },
    {
     "name": "stdout",
     "output_type": "stream",
     "text": [
      "0.8697650663942799\n",
      "0.7954614220877458\n"
     ]
    },
    {
     "name": "stderr",
     "output_type": "stream",
     "text": [
      " 53%|███████████████████████████████████████████████████████████████████████████████████████████████████████████████████                                                                                                        | 340/647 [00:37<00:36,  8.32it/s]"
     ]
    },
    {
     "name": "stdout",
     "output_type": "stream",
     "text": [
      "0.9220904135941007\n",
      "0.9271221815444624\n"
     ]
    },
    {
     "name": "stderr",
     "output_type": "stream",
     "text": [
      " 53%|███████████████████████████████████████████████████████████████████████████████████████████████████████████████████▊                                                                                                       | 342/647 [00:38<00:36,  8.26it/s]"
     ]
    },
    {
     "name": "stdout",
     "output_type": "stream",
     "text": [
      "0.8697245087310272\n",
      "0.899570729759409\n"
     ]
    },
    {
     "name": "stderr",
     "output_type": "stream",
     "text": [
      " 53%|████████████████████████████████████████████████████████████████████████████████████████████████████████████████████▍                                                                                                      | 344/647 [00:38<00:35,  8.45it/s]"
     ]
    },
    {
     "name": "stdout",
     "output_type": "stream",
     "text": [
      "0.8741185053092324\n",
      "0.8440984236831988\n"
     ]
    },
    {
     "name": "stderr",
     "output_type": "stream",
     "text": [
      " 53%|█████████████████████████████████████████████████████████████████████████████████████████████████████████████████████                                                                                                      | 346/647 [00:38<00:35,  8.36it/s]"
     ]
    },
    {
     "name": "stdout",
     "output_type": "stream",
     "text": [
      "0.8957724219676018\n",
      "0.836770304568528\n"
     ]
    },
    {
     "name": "stderr",
     "output_type": "stream",
     "text": [
      " 54%|█████████████████████████████████████████████████████████████████████████████████████████████████████████████████████▊                                                                                                     | 348/647 [00:38<00:34,  8.70it/s]"
     ]
    },
    {
     "name": "stdout",
     "output_type": "stream",
     "text": [
      "0.8603345420517019\n",
      "0.9485488126649076\n"
     ]
    },
    {
     "name": "stderr",
     "output_type": "stream",
     "text": [
      " 54%|██████████████████████████████████████████████████████████████████████████████████████████████████████████████████████▍                                                                                                    | 350/647 [00:39<00:36,  8.16it/s]"
     ]
    },
    {
     "name": "stdout",
     "output_type": "stream",
     "text": [
      "0.9102445862692293\n",
      "0.805699481865285\n"
     ]
    },
    {
     "name": "stderr",
     "output_type": "stream",
     "text": [
      " 54%|███████████████████████████████████████████████████████████████████████████████████████████████████████████████████████▏                                                                                                   | 352/647 [00:39<00:38,  7.69it/s]"
     ]
    },
    {
     "name": "stdout",
     "output_type": "stream",
     "text": [
      "0.8991788104618598\n",
      "0.9249264449998418\n"
     ]
    },
    {
     "name": "stderr",
     "output_type": "stream",
     "text": [
      " 55%|███████████████████████████████████████████████████████████████████████████████████████████████████████████████████████▊                                                                                                   | 354/647 [00:39<00:35,  8.31it/s]"
     ]
    },
    {
     "name": "stdout",
     "output_type": "stream",
     "text": [
      "0.8053539019963702\n",
      "0.9135357694287185\n"
     ]
    },
    {
     "name": "stderr",
     "output_type": "stream",
     "text": [
      " 55%|████████████████████████████████████████████████████████████████████████████████████████████████████████████████████████▌                                                                                                  | 356/647 [00:39<00:32,  8.89it/s]"
     ]
    },
    {
     "name": "stdout",
     "output_type": "stream",
     "text": [
      "0.879044300647088\n",
      "0.8829724985371562\n"
     ]
    },
    {
     "name": "stderr",
     "output_type": "stream",
     "text": [
      " 55%|█████████████████████████████████████████████████████████████████████████████████████████████████████████████████████████▏                                                                                                 | 358/647 [00:39<00:32,  8.81it/s]"
     ]
    },
    {
     "name": "stdout",
     "output_type": "stream",
     "text": [
      "0.8830448291167332\n",
      "0.8212185107091333\n"
     ]
    },
    {
     "name": "stderr",
     "output_type": "stream",
     "text": [
      " 56%|█████████████████████████████████████████████████████████████████████████████████████████████████████████████████████████▊                                                                                                 | 360/647 [00:40<00:32,  8.80it/s]"
     ]
    },
    {
     "name": "stdout",
     "output_type": "stream",
     "text": [
      "0.8643119088978961\n",
      "0.9094728497820056\n"
     ]
    },
    {
     "name": "stderr",
     "output_type": "stream",
     "text": [
      " 56%|██████████████████████████████████████████████████████████████████████████████████████████████████████████████████████████▌                                                                                                | 362/647 [00:40<00:31,  8.93it/s]"
     ]
    },
    {
     "name": "stdout",
     "output_type": "stream",
     "text": [
      "0.8845301418439716\n",
      "0.7829131652661064\n"
     ]
    },
    {
     "name": "stderr",
     "output_type": "stream",
     "text": [
      " 56%|███████████████████████████████████████████████████████████████████████████████████████████████████████████████████████████▏                                                                                               | 364/647 [00:40<00:34,  8.32it/s]"
     ]
    },
    {
     "name": "stdout",
     "output_type": "stream",
     "text": [
      "0.8829160530191458\n",
      "0.8800372699743769\n"
     ]
    },
    {
     "name": "stderr",
     "output_type": "stream",
     "text": [
      " 57%|███████████████████████████████████████████████████████████████████████████████████████████████████████████████████████████▉                                                                                               | 366/647 [00:40<00:32,  8.52it/s]"
     ]
    },
    {
     "name": "stdout",
     "output_type": "stream",
     "text": [
      "0.8119824646858256\n",
      "0.8978172223554809\n"
     ]
    },
    {
     "name": "stderr",
     "output_type": "stream",
     "text": [
      " 57%|████████████████████████████████████████████████████████████████████████████████████████████████████████████████████████████▌                                                                                              | 368/647 [00:41<00:30,  9.10it/s]"
     ]
    },
    {
     "name": "stdout",
     "output_type": "stream",
     "text": [
      "0.8569807037457434\n",
      "0.8954703832752613\n"
     ]
    },
    {
     "name": "stderr",
     "output_type": "stream",
     "text": [
      " 57%|█████████████████████████████████████████████████████████████████████████████████████████████████████████████████████████████▏                                                                                             | 370/647 [00:41<00:30,  8.94it/s]"
     ]
    },
    {
     "name": "stdout",
     "output_type": "stream",
     "text": [
      "0.8941779567923838\n",
      "0.8568856885688569\n"
     ]
    },
    {
     "name": "stderr",
     "output_type": "stream",
     "text": [
      " 57%|█████████████████████████████████████████████████████████████████████████████████████████████████████████████████████████████▉                                                                                             | 372/647 [00:41<00:29,  9.17it/s]"
     ]
    },
    {
     "name": "stdout",
     "output_type": "stream",
     "text": [
      "0.9253561253561253\n",
      "0.8930957683741648\n"
     ]
    },
    {
     "name": "stderr",
     "output_type": "stream",
     "text": [
      " 58%|██████████████████████████████████████████████████████████████████████████████████████████████████████████████████████████████▌                                                                                            | 374/647 [00:41<00:29,  9.21it/s]"
     ]
    },
    {
     "name": "stdout",
     "output_type": "stream",
     "text": [
      "0.9444646427922196\n",
      "0.8630831643002028\n"
     ]
    },
    {
     "name": "stderr",
     "output_type": "stream",
     "text": [
      " 58%|███████████████████████████████████████████████████████████████████████████████████████████████████████████████████████████████▎                                                                                           | 376/647 [00:41<00:29,  9.29it/s]"
     ]
    },
    {
     "name": "stdout",
     "output_type": "stream",
     "text": [
      "0.9287930499534595\n",
      "0.8644688644688645\n"
     ]
    },
    {
     "name": "stderr",
     "output_type": "stream",
     "text": [
      " 58%|███████████████████████████████████████████████████████████████████████████████████████████████████████████████████████████████▉                                                                                           | 378/647 [00:42<00:28,  9.31it/s]"
     ]
    },
    {
     "name": "stdout",
     "output_type": "stream",
     "text": [
      "0.9239956568946797\n",
      "0.9453397212543554\n"
     ]
    },
    {
     "name": "stderr",
     "output_type": "stream",
     "text": [
      " 59%|████████████████████████████████████████████████████████████████████████████████████████████████████████████████████████████████▌                                                                                          | 380/647 [00:42<00:28,  9.42it/s]"
     ]
    },
    {
     "name": "stdout",
     "output_type": "stream",
     "text": [
      "0.9024390243902439\n",
      "0.8683473389355743\n"
     ]
    },
    {
     "name": "stderr",
     "output_type": "stream",
     "text": [
      " 59%|█████████████████████████████████████████████████████████████████████████████████████████████████████████████████████████████████▎                                                                                         | 382/647 [00:42<00:28,  9.45it/s]"
     ]
    },
    {
     "name": "stdout",
     "output_type": "stream",
     "text": [
      "0.9504990833163577\n",
      "0.9465510004197566\n"
     ]
    },
    {
     "name": "stderr",
     "output_type": "stream",
     "text": [
      " 59%|█████████████████████████████████████████████████████████████████████████████████████████████████████████████████████████████████▉                                                                                         | 384/647 [00:42<00:27,  9.48it/s]"
     ]
    },
    {
     "name": "stdout",
     "output_type": "stream",
     "text": [
      "0.8634259259259259\n",
      "0.859304084720121\n"
     ]
    },
    {
     "name": "stderr",
     "output_type": "stream",
     "text": [
      " 60%|██████████████████████████████████████████████████████████████████████████████████████████████████████████████████████████████████▋                                                                                        | 386/647 [00:43<00:27,  9.55it/s]"
     ]
    },
    {
     "name": "stdout",
     "output_type": "stream",
     "text": [
      "0.8758278145695364\n",
      "0.9217391304347826\n"
     ]
    },
    {
     "name": "stderr",
     "output_type": "stream",
     "text": [
      " 60%|███████████████████████████████████████████████████████████████████████████████████████████████████████████████████████████████████▎                                                                                       | 388/647 [00:43<00:27,  9.58it/s]"
     ]
    },
    {
     "name": "stdout",
     "output_type": "stream",
     "text": [
      "0.9000805801772764\n",
      "0.8325683496308122\n"
     ]
    },
    {
     "name": "stderr",
     "output_type": "stream",
     "text": [
      " 60%|████████████████████████████████████████████████████████████████████████████████████████████████████████████████████████████████████                                                                                       | 390/647 [00:43<00:27,  9.51it/s]"
     ]
    },
    {
     "name": "stdout",
     "output_type": "stream",
     "text": [
      "0.9261849261849262\n",
      "0.88134765625\n"
     ]
    },
    {
     "name": "stderr",
     "output_type": "stream",
     "text": [
      " 61%|████████████████████████████████████████████████████████████████████████████████████████████████████████████████████████████████████▋                                                                                      | 392/647 [00:43<00:27,  9.39it/s]"
     ]
    },
    {
     "name": "stdout",
     "output_type": "stream",
     "text": [
      "0.8688524590163934\n",
      "0.768141592920354\n"
     ]
    },
    {
     "name": "stderr",
     "output_type": "stream",
     "text": [
      " 61%|█████████████████████████████████████████████████████████████████████████████████████████████████████████████████████████████████████▎                                                                                     | 394/647 [00:43<00:26,  9.42it/s]"
     ]
    },
    {
     "name": "stdout",
     "output_type": "stream",
     "text": [
      "0.8820741566768887\n",
      "0.8638663967611336\n"
     ]
    },
    {
     "name": "stderr",
     "output_type": "stream",
     "text": [
      " 61%|██████████████████████████████████████████████████████████████████████████████████████████████████████████████████████████████████████                                                                                     | 396/647 [00:44<00:26,  9.44it/s]"
     ]
    },
    {
     "name": "stdout",
     "output_type": "stream",
     "text": [
      "0.8825136612021858\n",
      "0.8157894736842105\n"
     ]
    },
    {
     "name": "stderr",
     "output_type": "stream",
     "text": [
      " 62%|██████████████████████████████████████████████████████████████████████████████████████████████████████████████████████████████████████▋                                                                                    | 398/647 [00:44<00:26,  9.31it/s]"
     ]
    },
    {
     "name": "stdout",
     "output_type": "stream",
     "text": [
      "0.9538440150145975\n",
      "0.8905775075987842\n"
     ]
    },
    {
     "name": "stderr",
     "output_type": "stream",
     "text": [
      " 62%|███████████████████████████████████████████████████████████████████████████████████████████████████████████████████████████████████████▍                                                                                   | 400/647 [00:44<00:28,  8.82it/s]"
     ]
    },
    {
     "name": "stdout",
     "output_type": "stream",
     "text": [
      "0.9054989015312982\n",
      "0.8939184519695923\n"
     ]
    },
    {
     "name": "stderr",
     "output_type": "stream",
     "text": [
      " 62%|████████████████████████████████████████████████████████████████████████████████████████████████████████████████████████████████████████                                                                                   | 402/647 [00:44<00:27,  9.02it/s]"
     ]
    },
    {
     "name": "stdout",
     "output_type": "stream",
     "text": [
      "0.910482374768089\n",
      "0.8480934333668497\n"
     ]
    },
    {
     "name": "stderr",
     "output_type": "stream",
     "text": [
      " 62%|████████████████████████████████████████████████████████████████████████████████████████████████████████████████████████████████████████▋                                                                                  | 404/647 [00:44<00:26,  9.27it/s]"
     ]
    },
    {
     "name": "stdout",
     "output_type": "stream",
     "text": [
      "0.9490196078431372\n",
      "0.9319727891156463\n"
     ]
    },
    {
     "name": "stderr",
     "output_type": "stream",
     "text": [
      " 63%|█████████████████████████████████████████████████████████████████████████████████████████████████████████████████████████████████████████▍                                                                                 | 406/647 [00:45<00:25,  9.45it/s]"
     ]
    },
    {
     "name": "stdout",
     "output_type": "stream",
     "text": [
      "0.8820754716981132\n",
      "0.8524590163934426\n"
     ]
    },
    {
     "name": "stderr",
     "output_type": "stream",
     "text": [
      " 63%|██████████████████████████████████████████████████████████████████████████████████████████████████████████████████████████████████████████                                                                                 | 408/647 [00:45<00:25,  9.55it/s]"
     ]
    },
    {
     "name": "stdout",
     "output_type": "stream",
     "text": [
      "0.7768860353130016\n",
      "0.8861615083600143\n",
      "0.9263118252573437\n"
     ]
    },
    {
     "name": "stderr",
     "output_type": "stream",
     "text": [
      " 64%|███████████████████████████████████████████████████████████████████████████████████████████████████████████████████████████████████████████                                                                                | 411/647 [00:45<00:24,  9.50it/s]"
     ]
    },
    {
     "name": "stdout",
     "output_type": "stream",
     "text": [
      "0.8884826325411335\n",
      "0.9207119741100324\n"
     ]
    },
    {
     "name": "stderr",
     "output_type": "stream",
     "text": [
      " 64%|███████████████████████████████████████████████████████████████████████████████████████████████████████████████████████████████████████████▊                                                                               | 413/647 [00:45<00:24,  9.41it/s]"
     ]
    },
    {
     "name": "stdout",
     "output_type": "stream",
     "text": [
      "0.9200988467874794\n",
      "0.9136408243375859\n"
     ]
    },
    {
     "name": "stderr",
     "output_type": "stream",
     "text": [
      " 64%|████████████████████████████████████████████████████████████████████████████████████████████████████████████████████████████████████████████▍                                                                              | 415/647 [00:46<00:24,  9.43it/s]"
     ]
    },
    {
     "name": "stdout",
     "output_type": "stream",
     "text": [
      "0.8777777777777778\n",
      "0.9093970003060912\n"
     ]
    },
    {
     "name": "stderr",
     "output_type": "stream",
     "text": [
      " 64%|█████████████████████████████████████████████████████████████████████████████████████████████████████████████████████████████████████████████▏                                                                             | 417/647 [00:46<00:24,  9.23it/s]"
     ]
    },
    {
     "name": "stdout",
     "output_type": "stream",
     "text": [
      "0.8945260347129506\n",
      "0.9524835193525227\n"
     ]
    },
    {
     "name": "stderr",
     "output_type": "stream",
     "text": [
      " 65%|█████████████████████████████████████████████████████████████████████████████████████████████████████████████████████████████████████████████▊                                                                             | 419/647 [00:46<00:24,  9.44it/s]"
     ]
    },
    {
     "name": "stdout",
     "output_type": "stream",
     "text": [
      "0.8987217305801377\n",
      "0.8912259615384616\n"
     ]
    },
    {
     "name": "stderr",
     "output_type": "stream",
     "text": [
      " 65%|██████████████████████████████████████████████████████████████████████████████████████████████████████████████████████████████████████████████▌                                                                            | 421/647 [00:46<00:24,  9.31it/s]"
     ]
    },
    {
     "name": "stdout",
     "output_type": "stream",
     "text": [
      "0.4308300395256917\n",
      "0.9286425017768302\n"
     ]
    },
    {
     "name": "stderr",
     "output_type": "stream",
     "text": [
      " 65%|███████████████████████████████████████████████████████████████████████████████████████████████████████████████████████████████████████████████▏                                                                           | 423/647 [00:46<00:23,  9.36it/s]"
     ]
    },
    {
     "name": "stdout",
     "output_type": "stream",
     "text": [
      "0.8528694312491976\n",
      "0.8386411889596603\n"
     ]
    },
    {
     "name": "stderr",
     "output_type": "stream",
     "text": [
      " 66%|███████████████████████████████████████████████████████████████████████████████████████████████████████████████████████████████████████████████▊                                                                           | 425/647 [00:47<00:24,  9.15it/s]"
     ]
    },
    {
     "name": "stdout",
     "output_type": "stream",
     "text": [
      "0.9270907791279486\n",
      "0.9008636875704094\n"
     ]
    },
    {
     "name": "stderr",
     "output_type": "stream",
     "text": [
      " 66%|████████████████████████████████████████████████████████████████████████████████████████████████████████████████████████████████████████████████▌                                                                          | 427/647 [00:47<00:24,  9.13it/s]"
     ]
    },
    {
     "name": "stdout",
     "output_type": "stream",
     "text": [
      "0.9393939393939394\n",
      "0.9581967213114754\n"
     ]
    },
    {
     "name": "stderr",
     "output_type": "stream",
     "text": [
      " 66%|█████████████████████████████████████████████████████████████████████████████████████████████████████████████████████████████████████████████████▏                                                                         | 429/647 [00:47<00:23,  9.37it/s]"
     ]
    },
    {
     "name": "stdout",
     "output_type": "stream",
     "text": [
      "0.9181636726546906\n",
      "0.8677494199535963\n"
     ]
    },
    {
     "name": "stderr",
     "output_type": "stream",
     "text": [
      " 67%|█████████████████████████████████████████████████████████████████████████████████████████████████████████████████████████████████████████████████▉                                                                         | 431/647 [00:47<00:23,  9.28it/s]"
     ]
    },
    {
     "name": "stdout",
     "output_type": "stream",
     "text": [
      "0.8968559149513685\n",
      "0.5864825581395349\n"
     ]
    },
    {
     "name": "stderr",
     "output_type": "stream",
     "text": [
      " 67%|██████████████████████████████████████████████████████████████████████████████████████████████████████████████████████████████████████████████████▌                                                                        | 433/647 [00:48<00:22,  9.39it/s]"
     ]
    },
    {
     "name": "stdout",
     "output_type": "stream",
     "text": [
      "0.8299492385786802\n",
      "0.903470715835141\n"
     ]
    },
    {
     "name": "stderr",
     "output_type": "stream",
     "text": [
      " 67%|███████████████████████████████████████████████████████████████████████████████████████████████████████████████████████████████████████████████████▏                                                                       | 435/647 [00:48<00:23,  9.07it/s]"
     ]
    },
    {
     "name": "stdout",
     "output_type": "stream",
     "text": [
      "0.9378366731307908\n",
      "0.9071116341627438\n"
     ]
    },
    {
     "name": "stderr",
     "output_type": "stream",
     "text": [
      " 68%|███████████████████████████████████████████████████████████████████████████████████████████████████████████████████████████████████████████████████▉                                                                       | 437/647 [00:48<00:24,  8.60it/s]"
     ]
    },
    {
     "name": "stdout",
     "output_type": "stream",
     "text": [
      "0.8595021989332834\n",
      "0.9009497964721845\n"
     ]
    },
    {
     "name": "stderr",
     "output_type": "stream",
     "text": [
      " 68%|████████████████████████████████████████████████████████████████████████████████████████████████████████████████████████████████████████████████████▌                                                                      | 439/647 [00:48<00:24,  8.47it/s]"
     ]
    },
    {
     "name": "stdout",
     "output_type": "stream",
     "text": [
      "0.8937130339539978\n",
      "0.7874709976798144\n"
     ]
    },
    {
     "name": "stderr",
     "output_type": "stream",
     "text": [
      " 68%|█████████████████████████████████████████████████████████████████████████████████████████████████████████████████████████████████████████████████████▎                                                                     | 441/647 [00:49<00:24,  8.53it/s]"
     ]
    },
    {
     "name": "stdout",
     "output_type": "stream",
     "text": [
      "0.8306582926261922\n",
      "0.7752039480310202\n"
     ]
    },
    {
     "name": "stderr",
     "output_type": "stream",
     "text": [
      " 68%|█████████████████████████████████████████████████████████████████████████████████████████████████████████████████████████████████████████████████████▉                                                                     | 443/647 [00:49<00:24,  8.48it/s]"
     ]
    },
    {
     "name": "stdout",
     "output_type": "stream",
     "text": [
      "0.8276260990282277\n",
      "0.8277385788610933\n"
     ]
    },
    {
     "name": "stderr",
     "output_type": "stream",
     "text": [
      " 69%|██████████████████████████████████████████████████████████████████████████████████████████████████████████████████████████████████████████████████████▋                                                                    | 445/647 [00:49<00:23,  8.72it/s]"
     ]
    },
    {
     "name": "stdout",
     "output_type": "stream",
     "text": [
      "0.7710936893580688\n",
      "0.7082767978290366\n"
     ]
    },
    {
     "name": "stderr",
     "output_type": "stream",
     "text": [
      " 69%|███████████████████████████████████████████████████████████████████████████████████████████████████████████████████████████████████████████████████████▎                                                                   | 447/647 [00:49<00:24,  8.32it/s]"
     ]
    },
    {
     "name": "stdout",
     "output_type": "stream",
     "text": [
      "0.7523294819232202\n",
      "0.8521997621878716\n"
     ]
    },
    {
     "name": "stderr",
     "output_type": "stream",
     "text": [
      " 69%|███████████████████████████████████████████████████████████████████████████████████████████████████████████████████████████████████████████████████████▉                                                                   | 449/647 [00:49<00:23,  8.44it/s]"
     ]
    },
    {
     "name": "stdout",
     "output_type": "stream",
     "text": [
      "0.8199558498896248\n",
      "0.8728484175458079\n"
     ]
    },
    {
     "name": "stderr",
     "output_type": "stream",
     "text": [
      " 70%|████████████████████████████████████████████████████████████████████████████████████████████████████████████████████████████████████████████████████████▋                                                                  | 451/647 [00:50<00:22,  8.75it/s]"
     ]
    },
    {
     "name": "stdout",
     "output_type": "stream",
     "text": [
      "0.7543704359371542\n",
      "0.8646711635750421\n"
     ]
    },
    {
     "name": "stderr",
     "output_type": "stream",
     "text": [
      " 70%|█████████████████████████████████████████████████████████████████████████████████████████████████████████████████████████████████████████████████████████▎                                                                 | 453/647 [00:50<00:22,  8.79it/s]"
     ]
    },
    {
     "name": "stdout",
     "output_type": "stream",
     "text": [
      "0.8871949135161004\n",
      "0.8236574746008708\n"
     ]
    },
    {
     "name": "stderr",
     "output_type": "stream",
     "text": [
      " 70%|██████████████████████████████████████████████████████████████████████████████████████████████████████████████████████████████████████████████████████████                                                                 | 455/647 [00:50<00:23,  8.22it/s]"
     ]
    },
    {
     "name": "stdout",
     "output_type": "stream",
     "text": [
      "0.7254746835443038\n",
      "0.8903240958196337\n"
     ]
    },
    {
     "name": "stderr",
     "output_type": "stream",
     "text": [
      " 71%|██████████████████████████████████████████████████████████████████████████████████████████████████████████████████████████████████████████████████████████▋                                                                | 457/647 [00:50<00:22,  8.47it/s]"
     ]
    },
    {
     "name": "stdout",
     "output_type": "stream",
     "text": [
      "0.8165893869139619\n",
      "0.8072753553360636\n"
     ]
    },
    {
     "name": "stderr",
     "output_type": "stream",
     "text": [
      " 71%|███████████████████████████████████████████████████████████████████████████████████████████████████████████████████████████████████████████████████████████▎                                                               | 459/647 [00:51<00:21,  8.81it/s]"
     ]
    },
    {
     "name": "stdout",
     "output_type": "stream",
     "text": [
      "0.7702354079329249\n",
      "0.8930896344516775\n"
     ]
    },
    {
     "name": "stderr",
     "output_type": "stream",
     "text": [
      " 71%|████████████████████████████████████████████████████████████████████████████████████████████████████████████████████████████████████████████████████████████                                                               | 461/647 [00:51<00:20,  8.91it/s]"
     ]
    },
    {
     "name": "stdout",
     "output_type": "stream",
     "text": [
      "0.8925855513307985\n",
      "0.8122866894197952\n"
     ]
    },
    {
     "name": "stderr",
     "output_type": "stream",
     "text": [
      " 72%|████████████████████████████████████████████████████████████████████████████████████████████████████████████████████████████████████████████████████████████▋                                                              | 463/647 [00:51<00:20,  9.20it/s]"
     ]
    },
    {
     "name": "stdout",
     "output_type": "stream",
     "text": [
      "0.9257447366122128\n",
      "0.6627218934911243\n"
     ]
    },
    {
     "name": "stderr",
     "output_type": "stream",
     "text": [
      " 72%|█████████████████████████████████████████████████████████████████████████████████████████████████████████████████████████████████████████████████████████████▍                                                             | 465/647 [00:51<00:20,  8.72it/s]"
     ]
    },
    {
     "name": "stdout",
     "output_type": "stream",
     "text": [
      "0.9189640768588136\n",
      "0.8213887857408095\n"
     ]
    },
    {
     "name": "stderr",
     "output_type": "stream",
     "text": [
      " 72%|██████████████████████████████████████████████████████████████████████████████████████████████████████████████████████████████████████████████████████████████                                                             | 467/647 [00:52<00:20,  8.93it/s]"
     ]
    },
    {
     "name": "stdout",
     "output_type": "stream",
     "text": [
      "0.9084757525808971\n",
      "0.7885391444713479\n"
     ]
    },
    {
     "name": "stderr",
     "output_type": "stream",
     "text": [
      " 72%|██████████████████████████████████████████████████████████████████████████████████████████████████████████████████████████████████████████████████████████████▋                                                            | 469/647 [00:52<00:20,  8.63it/s]"
     ]
    },
    {
     "name": "stdout",
     "output_type": "stream",
     "text": [
      "0.801729106628242\n",
      "0.8980647728968708\n"
     ]
    },
    {
     "name": "stderr",
     "output_type": "stream",
     "text": [
      " 73%|███████████████████████████████████████████████████████████████████████████████████████████████████████████████████████████████████████████████████████████████▍                                                           | 471/647 [00:52<00:22,  7.78it/s]"
     ]
    },
    {
     "name": "stdout",
     "output_type": "stream",
     "text": [
      "0.8966180018811598\n",
      "0.8848140303942332\n"
     ]
    },
    {
     "name": "stderr",
     "output_type": "stream",
     "text": [
      " 73%|████████████████████████████████████████████████████████████████████████████████████████████████████████████████████████████████████████████████████████████████                                                           | 473/647 [00:52<00:21,  8.28it/s]"
     ]
    },
    {
     "name": "stdout",
     "output_type": "stream",
     "text": [
      "0.8062981794325078\n",
      "0.8904410066959132\n"
     ]
    },
    {
     "name": "stderr",
     "output_type": "stream",
     "text": [
      " 73%|████████████████████████████████████████████████████████████████████████████████████████████████████████████████████████████████████████████████████████████████▊                                                          | 475/647 [00:53<00:21,  8.08it/s]"
     ]
    },
    {
     "name": "stdout",
     "output_type": "stream",
     "text": [
      "0.8614564831261101\n",
      "0.9137478303440295\n"
     ]
    },
    {
     "name": "stderr",
     "output_type": "stream",
     "text": [
      " 74%|█████████████████████████████████████████████████████████████████████████████████████████████████████████████████████████████████████████████████████████████████▍                                                         | 477/647 [00:53<00:21,  8.04it/s]"
     ]
    },
    {
     "name": "stdout",
     "output_type": "stream",
     "text": [
      "0.9016959557977131\n",
      "0.8370303304662743\n"
     ]
    },
    {
     "name": "stderr",
     "output_type": "stream",
     "text": [
      " 74%|██████████████████████████████████████████████████████████████████████████████████████████████████████████████████████████████████████████████████████████████████▏                                                        | 479/647 [00:53<00:19,  8.40it/s]"
     ]
    },
    {
     "name": "stdout",
     "output_type": "stream",
     "text": [
      "0.9082357859531772\n",
      "0.7857647474390674\n"
     ]
    },
    {
     "name": "stderr",
     "output_type": "stream",
     "text": [
      " 74%|██████████████████████████████████████████████████████████████████████████████████████████████████████████████████████████████████████████████████████████████████▊                                                        | 481/647 [00:53<00:20,  8.16it/s]"
     ]
    },
    {
     "name": "stdout",
     "output_type": "stream",
     "text": [
      "0.797079685602914\n",
      "0.8827091830428871\n"
     ]
    },
    {
     "name": "stderr",
     "output_type": "stream",
     "text": [
      " 75%|███████████████████████████████████████████████████████████████████████████████████████████████████████████████████████████████████████████████████████████████████▍                                                       | 483/647 [00:53<00:19,  8.31it/s]"
     ]
    },
    {
     "name": "stdout",
     "output_type": "stream",
     "text": [
      "0.8753202391118702\n",
      "0.8778351869690866\n"
     ]
    },
    {
     "name": "stderr",
     "output_type": "stream",
     "text": [
      " 75%|████████████████████████████████████████████████████████████████████████████████████████████████████████████████████████████████████████████████████████████████████▏                                                      | 485/647 [00:54<00:18,  8.74it/s]"
     ]
    },
    {
     "name": "stdout",
     "output_type": "stream",
     "text": [
      "0.8456936308114171\n",
      "0.8075412411626081\n"
     ]
    },
    {
     "name": "stderr",
     "output_type": "stream",
     "text": [
      " 75%|████████████████████████████████████████████████████████████████████████████████████████████████████████████████████████████████████████████████████████████████████▊                                                      | 487/647 [00:54<00:18,  8.80it/s]"
     ]
    },
    {
     "name": "stdout",
     "output_type": "stream",
     "text": [
      "0.8536829558998809\n",
      "0.8008877615726062\n"
     ]
    },
    {
     "name": "stderr",
     "output_type": "stream",
     "text": [
      " 76%|█████████████████████████████████████████████████████████████████████████████████████████████████████████████████████████████████████████████████████████████████████▌                                                     | 489/647 [00:54<00:17,  9.21it/s]"
     ]
    },
    {
     "name": "stdout",
     "output_type": "stream",
     "text": [
      "0.8719118628978411\n",
      "0.8191190253045924\n"
     ]
    },
    {
     "name": "stderr",
     "output_type": "stream",
     "text": [
      " 76%|██████████████████████████████████████████████████████████████████████████████████████████████████████████████████████████████████████████████████████████████████████▏                                                    | 491/647 [00:54<00:17,  9.10it/s]"
     ]
    },
    {
     "name": "stdout",
     "output_type": "stream",
     "text": [
      "0.908066383635662\n",
      "0.7727989902177343\n"
     ]
    },
    {
     "name": "stderr",
     "output_type": "stream",
     "text": [
      " 76%|██████████████████████████████████████████████████████████████████████████████████████████████████████████████████████████████████████████████████████████████████████▊                                                    | 493/647 [00:55<00:16,  9.27it/s]"
     ]
    },
    {
     "name": "stdout",
     "output_type": "stream",
     "text": [
      "0.8139240506329114\n",
      "0.8583317921213242\n"
     ]
    },
    {
     "name": "stderr",
     "output_type": "stream",
     "text": [
      " 77%|███████████████████████████████████████████████████████████████████████████████████████████████████████████████████████████████████████████████████████████████████████▌                                                   | 495/647 [00:55<00:17,  8.57it/s]"
     ]
    },
    {
     "name": "stdout",
     "output_type": "stream",
     "text": [
      "0.8734218724381047\n",
      "0.90640522875817\n"
     ]
    },
    {
     "name": "stderr",
     "output_type": "stream",
     "text": [
      " 77%|████████████████████████████████████████████████████████████████████████████████████████████████████████████████████████████████████████████████████████████████████████▏                                                  | 497/647 [00:55<00:17,  8.56it/s]"
     ]
    },
    {
     "name": "stdout",
     "output_type": "stream",
     "text": [
      "0.7507739938080495\n",
      "0.7326476565868079\n"
     ]
    },
    {
     "name": "stderr",
     "output_type": "stream",
     "text": [
      " 77%|████████████████████████████████████████████████████████████████████████████████████████████████████████████████████████████████████████████████████████████████████████▉                                                  | 499/647 [00:55<00:17,  8.26it/s]"
     ]
    },
    {
     "name": "stdout",
     "output_type": "stream",
     "text": [
      "0.8558035714285714\n",
      "0.8834270592127026\n"
     ]
    },
    {
     "name": "stderr",
     "output_type": "stream",
     "text": [
      " 77%|█████████████████████████████████████████████████████████████████████████████████████████████████████████████████████████████████████████████████████████████████████████▌                                                 | 501/647 [00:56<00:17,  8.24it/s]"
     ]
    },
    {
     "name": "stdout",
     "output_type": "stream",
     "text": [
      "0.8243416510503995\n",
      "0.8780305348702778\n"
     ]
    },
    {
     "name": "stderr",
     "output_type": "stream",
     "text": [
      " 78%|██████████████████████████████████████████████████████████████████████████████████████████████████████████████████████████████████████████████████████████████████████████▎                                                | 503/647 [00:56<00:18,  7.71it/s]"
     ]
    },
    {
     "name": "stdout",
     "output_type": "stream",
     "text": [
      "0.8211781206171108\n",
      "0.7859956236323851\n"
     ]
    },
    {
     "name": "stderr",
     "output_type": "stream",
     "text": [
      " 78%|██████████████████████████████████████████████████████████████████████████████████████████████████████████████████████████████████████████████████████████████████████████▉                                                | 505/647 [00:56<00:18,  7.77it/s]"
     ]
    },
    {
     "name": "stdout",
     "output_type": "stream",
     "text": [
      "0.8787453183520599\n",
      "0.7103911747923667\n"
     ]
    },
    {
     "name": "stderr",
     "output_type": "stream",
     "text": [
      " 78%|███████████████████████████████████████████████████████████████████████████████████████████████████████████████████████████████████████████████████████████████████████████▌                                               | 507/647 [00:56<00:18,  7.43it/s]"
     ]
    },
    {
     "name": "stdout",
     "output_type": "stream",
     "text": [
      "0.8148856264936839\n",
      "0.8546952025970903\n"
     ]
    },
    {
     "name": "stderr",
     "output_type": "stream",
     "text": [
      " 79%|████████████████████████████████████████████████████████████████████████████████████████████████████████████████████████████████████████████████████████████████████████████▎                                              | 509/647 [00:57<00:17,  7.76it/s]"
     ]
    },
    {
     "name": "stdout",
     "output_type": "stream",
     "text": [
      "0.930238902529327\n",
      "0.9327534726729846\n"
     ]
    },
    {
     "name": "stderr",
     "output_type": "stream",
     "text": [
      "\r\n",
      " 79%|████████████████████████████████████████████████████████████████████████████████████████████████████████████████████████████████████████████████████████████████████████████▋                                              | 510/647 [00:57<00:19,  6.88it/s]"
     ]
    },
    {
     "name": "stdout",
     "output_type": "stream",
     "text": [
      "0.9066600188936706\n",
      "0.8518274955004845\n"
     ]
    },
    {
     "name": "stderr",
     "output_type": "stream",
     "text": [
      " 79%|█████████████████████████████████████████████████████████████████████████████████████████████████████████████████████████████████████████████████████████████████████████████▋                                             | 513/647 [00:57<00:17,  7.83it/s]"
     ]
    },
    {
     "name": "stdout",
     "output_type": "stream",
     "text": [
      "0.8865511551155115\n",
      "0.9235533062529133\n"
     ]
    },
    {
     "name": "stderr",
     "output_type": "stream",
     "text": [
      " 80%|██████████████████████████████████████████████████████████████████████████████████████████████████████████████████████████████████████████████████████████████████████████████▎                                            | 515/647 [00:57<00:15,  8.58it/s]"
     ]
    },
    {
     "name": "stdout",
     "output_type": "stream",
     "text": [
      "0.8393911858246251\n",
      "0.8333333333333334\n"
     ]
    },
    {
     "name": "stderr",
     "output_type": "stream",
     "text": [
      " 80%|██████████████████████████████████████████████████████████████████████████████████████████████████████████████████████████████████████████████████████████████████████████████▉                                            | 517/647 [00:58<00:14,  8.72it/s]"
     ]
    },
    {
     "name": "stdout",
     "output_type": "stream",
     "text": [
      "0.9243050338091661\n",
      "0.8686827775527654\n"
     ]
    },
    {
     "name": "stderr",
     "output_type": "stream",
     "text": [
      " 80%|███████████████████████████████████████████████████████████████████████████████████████████████████████████████████████████████████████████████████████████████████████████████▋                                           | 519/647 [00:58<00:14,  8.97it/s]"
     ]
    },
    {
     "name": "stdout",
     "output_type": "stream",
     "text": [
      "0.8455847631040453\n",
      "0.869737712144589\n"
     ]
    },
    {
     "name": "stderr",
     "output_type": "stream",
     "text": [
      " 81%|████████████████████████████████████████████████████████████████████████████████████████████████████████████████████████████████████████████████████████████████████████████████▎                                          | 521/647 [00:58<00:14,  8.89it/s]"
     ]
    },
    {
     "name": "stdout",
     "output_type": "stream",
     "text": [
      "0.8237436270939549\n",
      "0.8029171113482746\n"
     ]
    },
    {
     "name": "stderr",
     "output_type": "stream",
     "text": [
      " 81%|█████████████████████████████████████████████████████████████████████████████████████████████████████████████████████████████████████████████████████████████████████████████████                                          | 523/647 [00:58<00:13,  8.94it/s]"
     ]
    },
    {
     "name": "stdout",
     "output_type": "stream",
     "text": [
      "0.8900310451879958\n",
      "0.8401959486296836\n"
     ]
    },
    {
     "name": "stderr",
     "output_type": "stream",
     "text": [
      " 81%|█████████████████████████████████████████████████████████████████████████████████████████████████████████████████████████████████████████████████████████████████████████████████▋                                         | 525/647 [00:58<00:13,  8.79it/s]"
     ]
    },
    {
     "name": "stdout",
     "output_type": "stream",
     "text": [
      "0.7800818553888131\n",
      "0.7863924050632911\n"
     ]
    },
    {
     "name": "stderr",
     "output_type": "stream",
     "text": [
      " 81%|██████████████████████████████████████████████████████████████████████████████████████████████████████████████████████████████████████████████████████████████████████████████████▍                                        | 527/647 [00:59<00:13,  8.79it/s]"
     ]
    },
    {
     "name": "stdout",
     "output_type": "stream",
     "text": [
      "0.7937047598157491\n",
      "0.8179816513761468\n"
     ]
    },
    {
     "name": "stderr",
     "output_type": "stream",
     "text": [
      " 82%|███████████████████████████████████████████████████████████████████████████████████████████████████████████████████████████████████████████████████████████████████████████████████                                        | 529/647 [00:59<00:13,  8.94it/s]"
     ]
    },
    {
     "name": "stdout",
     "output_type": "stream",
     "text": [
      "0.9263984298331698\n",
      "0.8615481434864695\n"
     ]
    },
    {
     "name": "stderr",
     "output_type": "stream",
     "text": [
      " 82%|███████████████████████████████████████████████████████████████████████████████████████████████████████████████████████████████████████████████████████████████████████████████████▋                                       | 531/647 [00:59<00:13,  8.67it/s]"
     ]
    },
    {
     "name": "stdout",
     "output_type": "stream",
     "text": [
      "0.8671462829736211\n",
      "0.8994533250294098\n"
     ]
    },
    {
     "name": "stderr",
     "output_type": "stream",
     "text": [
      " 82%|████████████████████████████████████████████████████████████████████████████████████████████████████████████████████████████████████████████████████████████████████████████████████▍                                      | 533/647 [00:59<00:12,  8.91it/s]"
     ]
    },
    {
     "name": "stdout",
     "output_type": "stream",
     "text": [
      "0.7952371462734157\n",
      "0.9215982913589036\n"
     ]
    },
    {
     "name": "stderr",
     "output_type": "stream",
     "text": [
      " 83%|█████████████████████████████████████████████████████████████████████████████████████████████████████████████████████████████████████████████████████████████████████████████████████                                      | 535/647 [01:00<00:12,  8.64it/s]"
     ]
    },
    {
     "name": "stdout",
     "output_type": "stream",
     "text": [
      "0.8616611661166117\n",
      "0.8808345120226309\n"
     ]
    },
    {
     "name": "stderr",
     "output_type": "stream",
     "text": [
      " 83%|█████████████████████████████████████████████████████████████████████████████████████████████████████████████████████████████████████████████████████████████████████████████████████▊                                     | 537/647 [01:00<00:12,  8.79it/s]"
     ]
    },
    {
     "name": "stdout",
     "output_type": "stream",
     "text": [
      "0.8264426265752819\n",
      "0.7765217391304348\n"
     ]
    },
    {
     "name": "stderr",
     "output_type": "stream",
     "text": [
      " 83%|██████████████████████████████████████████████████████████████████████████████████████████████████████████████████████████████████████████████████████████████████████████████████████▍                                    | 539/647 [01:00<00:11,  9.07it/s]"
     ]
    },
    {
     "name": "stdout",
     "output_type": "stream",
     "text": [
      "0.8360952094004218\n",
      "0.871106166560712\n"
     ]
    },
    {
     "name": "stderr",
     "output_type": "stream",
     "text": [
      " 84%|███████████████████████████████████████████████████████████████████████████████████████████████████████████████████████████████████████████████████████████████████████████████████████                                    | 541/647 [01:00<00:11,  9.19it/s]"
     ]
    },
    {
     "name": "stdout",
     "output_type": "stream",
     "text": [
      "0.7998583067658519\n",
      "0.7922419460881\n"
     ]
    },
    {
     "name": "stderr",
     "output_type": "stream",
     "text": [
      " 84%|███████████████████████████████████████████████████████████████████████████████████████████████████████████████████████████████████████████████████████████████████████████████████████▊                                   | 543/647 [01:00<00:11,  9.20it/s]"
     ]
    },
    {
     "name": "stdout",
     "output_type": "stream",
     "text": [
      "0.8291417165668663\n",
      "0.8584041857423153\n"
     ]
    },
    {
     "name": "stderr",
     "output_type": "stream",
     "text": [
      " 84%|████████████████████████████████████████████████████████████████████████████████████████████████████████████████████████████████████████████████████████████████████████████████████████▍                                  | 545/647 [01:01<00:11,  9.02it/s]"
     ]
    },
    {
     "name": "stdout",
     "output_type": "stream",
     "text": [
      "0.8470271153217903\n",
      "0.8763240767248783\n"
     ]
    },
    {
     "name": "stderr",
     "output_type": "stream",
     "text": [
      " 85%|█████████████████████████████████████████████████████████████████████████████████████████████████████████████████████████████████████████████████████████████████████████████████████████▏                                 | 547/647 [01:01<00:11,  8.72it/s]"
     ]
    },
    {
     "name": "stdout",
     "output_type": "stream",
     "text": [
      "0.7717045887886107\n",
      "0.8260038240917782\n"
     ]
    },
    {
     "name": "stderr",
     "output_type": "stream",
     "text": [
      " 85%|█████████████████████████████████████████████████████████████████████████████████████████████████████████████████████████████████████████████████████████████████████████████████████████▊                                 | 549/647 [01:01<00:11,  8.17it/s]"
     ]
    },
    {
     "name": "stdout",
     "output_type": "stream",
     "text": [
      "0.827280587980977\n",
      "0.8859249620472782\n"
     ]
    },
    {
     "name": "stderr",
     "output_type": "stream",
     "text": [
      " 85%|██████████████████████████████████████████████████████████████████████████████████████████████████████████████████████████████████████████████████████████████████████████████████████████▌                                | 551/647 [01:01<00:11,  8.58it/s]"
     ]
    },
    {
     "name": "stdout",
     "output_type": "stream",
     "text": [
      "0.8640870079905297\n",
      "0.6015349512549264\n"
     ]
    },
    {
     "name": "stderr",
     "output_type": "stream",
     "text": [
      " 85%|███████████████████████████████████████████████████████████████████████████████████████████████████████████████████████████████████████████████████████████████████████████████████████████▏                               | 553/647 [01:02<00:10,  8.69it/s]"
     ]
    },
    {
     "name": "stdout",
     "output_type": "stream",
     "text": [
      "0.8283776377089613\n",
      "0.8183952633728052\n"
     ]
    },
    {
     "name": "stderr",
     "output_type": "stream",
     "text": [
      " 86%|███████████████████████████████████████████████████████████████████████████████████████████████████████████████████████████████████████████████████████████████████████████████████████████▊                               | 555/647 [01:02<00:11,  8.29it/s]"
     ]
    },
    {
     "name": "stdout",
     "output_type": "stream",
     "text": [
      "0.7643671042853604\n",
      "0.6872841915628284\n"
     ]
    },
    {
     "name": "stderr",
     "output_type": "stream",
     "text": [
      " 86%|████████████████████████████████████████████████████████████████████████████████████████████████████████████████████████████████████████████████████████████████████████████████████████████▌                              | 557/647 [01:02<00:10,  8.26it/s]"
     ]
    },
    {
     "name": "stdout",
     "output_type": "stream",
     "text": [
      "0.909985144738427\n",
      "0.9011529872852391\n"
     ]
    },
    {
     "name": "stderr",
     "output_type": "stream",
     "text": [
      " 86%|█████████████████████████████████████████████████████████████████████████████████████████████████████████████████████████████████████████████████████████████████████████████████████████████▏                             | 559/647 [01:02<00:10,  8.38it/s]"
     ]
    },
    {
     "name": "stdout",
     "output_type": "stream",
     "text": [
      "0.8851058235835415\n",
      "0.8899716294560257\n"
     ]
    },
    {
     "name": "stderr",
     "output_type": "stream",
     "text": [
      " 87%|█████████████████████████████████████████████████████████████████████████████████████████████████████████████████████████████████████████████████████████████████████████████████████████████▉                             | 561/647 [01:03<00:09,  8.60it/s]"
     ]
    },
    {
     "name": "stdout",
     "output_type": "stream",
     "text": [
      "0.7911140583554377\n",
      "0.8398998927422238\n"
     ]
    },
    {
     "name": "stderr",
     "output_type": "stream",
     "text": [
      " 87%|██████████████████████████████████████████████████████████████████████████████████████████████████████████████████████████████████████████████████████████████████████████████████████████████▌                            | 563/647 [01:03<00:09,  8.65it/s]"
     ]
    },
    {
     "name": "stdout",
     "output_type": "stream",
     "text": [
      "0.8961508145034156\n",
      "0.7875294971864222\n"
     ]
    },
    {
     "name": "stderr",
     "output_type": "stream",
     "text": [
      " 87%|███████████████████████████████████████████████████████████████████████████████████████████████████████████████████████████████████████████████████████████████████████████████████████████████▏                           | 565/647 [01:03<00:09,  8.76it/s]"
     ]
    },
    {
     "name": "stdout",
     "output_type": "stream",
     "text": [
      "0.8439155736992965\n",
      "0.8441779699888605\n"
     ]
    },
    {
     "name": "stderr",
     "output_type": "stream",
     "text": [
      " 88%|███████████████████████████████████████████████████████████████████████████████████████████████████████████████████████████████████████████████████████████████████████████████████████████████▉                           | 567/647 [01:03<00:09,  8.41it/s]"
     ]
    },
    {
     "name": "stdout",
     "output_type": "stream",
     "text": [
      "0.8207162180751066\n",
      "0.8829944002357796\n"
     ]
    },
    {
     "name": "stderr",
     "output_type": "stream",
     "text": [
      " 88%|████████████████████████████████████████████████████████████████████████████████████████████████████████████████████████████████████████████████████████████████████████████████████████████████▌                          | 569/647 [01:04<00:08,  8.80it/s]"
     ]
    },
    {
     "name": "stdout",
     "output_type": "stream",
     "text": [
      "0.8667672197083962\n",
      "0.9060631938514091\n"
     ]
    },
    {
     "name": "stderr",
     "output_type": "stream",
     "text": [
      " 88%|█████████████████████████████████████████████████████████████████████████████████████████████████████████████████████████████████████████████████████████████████████████████████████████████████▎                         | 571/647 [01:04<00:08,  8.83it/s]"
     ]
    },
    {
     "name": "stdout",
     "output_type": "stream",
     "text": [
      "0.8268818058977824\n",
      "0.8304490177736202\n"
     ]
    },
    {
     "name": "stderr",
     "output_type": "stream",
     "text": [
      " 89%|█████████████████████████████████████████████████████████████████████████████████████████████████████████████████████████████████████████████████████████████████████████████████████████████████▉                         | 573/647 [01:04<00:09,  7.94it/s]"
     ]
    },
    {
     "name": "stdout",
     "output_type": "stream",
     "text": [
      "0.8401695813460519\n",
      "0.789945316634327\n"
     ]
    },
    {
     "name": "stderr",
     "output_type": "stream",
     "text": [
      " 89%|██████████████████████████████████████████████████████████████████████████████████████████████████████████████████████████████████████████████████████████████████████████████████████████████████▋                        | 575/647 [01:04<00:09,  7.87it/s]"
     ]
    },
    {
     "name": "stdout",
     "output_type": "stream",
     "text": [
      "0.8261368653421634\n",
      "0.7288820826952527\n"
     ]
    },
    {
     "name": "stderr",
     "output_type": "stream",
     "text": [
      " 89%|███████████████████████████████████████████████████████████████████████████████████████████████████████████████████████████████████████████████████████████████████████████████████████████████████▎                       | 577/647 [01:05<00:08,  8.46it/s]"
     ]
    },
    {
     "name": "stdout",
     "output_type": "stream",
     "text": [
      "0.7744386873920552\n",
      "0.9019261502228951\n"
     ]
    },
    {
     "name": "stderr",
     "output_type": "stream",
     "text": [
      " 89%|███████████████████████████████████████████████████████████████████████████████████████████████████████████████████████████████████████████████████████████████████████████████████████████████████▉                       | 579/647 [01:05<00:07,  8.67it/s]"
     ]
    },
    {
     "name": "stdout",
     "output_type": "stream",
     "text": [
      "0.8663316582914573\n",
      "0.8767141795581976\n"
     ]
    },
    {
     "name": "stderr",
     "output_type": "stream",
     "text": [
      " 90%|████████████████████████████████████████████████████████████████████████████████████████████████████████████████████████████████████████████████████████████████████████████████████████████████████▋                      | 581/647 [01:05<00:07,  8.90it/s]"
     ]
    },
    {
     "name": "stdout",
     "output_type": "stream",
     "text": [
      "0.8617783396544458\n",
      "0.8785363572597615\n"
     ]
    },
    {
     "name": "stderr",
     "output_type": "stream",
     "text": [
      " 90%|█████████████████████████████████████████████████████████████████████████████████████████████████████████████████████████████████████████████████████████████████████████████████████████████████████▎                     | 583/647 [01:05<00:07,  8.82it/s]"
     ]
    },
    {
     "name": "stdout",
     "output_type": "stream",
     "text": [
      "0.7574074074074074\n",
      "0.8880626742796441\n"
     ]
    },
    {
     "name": "stderr",
     "output_type": "stream",
     "text": [
      " 90%|██████████████████████████████████████████████████████████████████████████████████████████████████████████████████████████████████████████████████████████████████████████████████████████████████████                     | 585/647 [01:05<00:07,  8.70it/s]"
     ]
    },
    {
     "name": "stdout",
     "output_type": "stream",
     "text": [
      "0.8822415153906866\n",
      "0.9170546434697379\n"
     ]
    },
    {
     "name": "stderr",
     "output_type": "stream",
     "text": [
      " 91%|██████████████████████████████████████████████████████████████████████████████████████████████████████████████████████████████████████████████████████████████████████████████████████████████████████▋                    | 587/647 [01:06<00:07,  8.41it/s]"
     ]
    },
    {
     "name": "stdout",
     "output_type": "stream",
     "text": [
      "0.8607700747087405\n",
      "0.8495145631067961\n"
     ]
    },
    {
     "name": "stderr",
     "output_type": "stream",
     "text": [
      " 91%|███████████████████████████████████████████████████████████████████████████████████████████████████████████████████████████████████████████████████████████████████████████████████████████████████████▎                   | 589/647 [01:06<00:06,  8.43it/s]"
     ]
    },
    {
     "name": "stdout",
     "output_type": "stream",
     "text": [
      "0.8217295263028717\n",
      "0.8008565310492506\n"
     ]
    },
    {
     "name": "stderr",
     "output_type": "stream",
     "text": [
      " 91%|████████████████████████████████████████████████████████████████████████████████████████████████████████████████████████████████████████████████████████████████████████████████████████████████████████                   | 591/647 [01:06<00:06,  8.61it/s]"
     ]
    },
    {
     "name": "stdout",
     "output_type": "stream",
     "text": [
      "0.8379880408019698\n",
      "0.8536658653846154\n"
     ]
    },
    {
     "name": "stderr",
     "output_type": "stream",
     "text": [
      " 92%|████████████████████████████████████████████████████████████████████████████████████████████████████████████████████████████████████████████████████████████████████████████████████████████████████████▋                  | 593/647 [01:06<00:06,  8.52it/s]"
     ]
    },
    {
     "name": "stdout",
     "output_type": "stream",
     "text": [
      "0.8296983758700696\n",
      "0.8271545498314877\n"
     ]
    },
    {
     "name": "stderr",
     "output_type": "stream",
     "text": [
      " 92%|█████████████████████████████████████████████████████████████████████████████████████████████████████████████████████████████████████████████████████████████████████████████████████████████████████████▍                 | 595/647 [01:07<00:05,  8.82it/s]"
     ]
    },
    {
     "name": "stdout",
     "output_type": "stream",
     "text": [
      "0.6951880178457617\n",
      "0.7969568062827225\n"
     ]
    },
    {
     "name": "stderr",
     "output_type": "stream",
     "text": [
      " 92%|██████████████████████████████████████████████████████████████████████████████████████████████████████████████████████████████████████████████████████████████████████████████████████████████████████████                 | 597/647 [01:07<00:05,  8.38it/s]"
     ]
    },
    {
     "name": "stdout",
     "output_type": "stream",
     "text": [
      "0.8369127516778524\n",
      "0.7998522895125554\n"
     ]
    },
    {
     "name": "stderr",
     "output_type": "stream",
     "text": [
      " 93%|██████████████████████████████████████████████████████████████████████████████████████████████████████████████████████████████████████████████████████████████████████████████████████████████████████████▊                | 599/647 [01:07<00:05,  8.78it/s]"
     ]
    },
    {
     "name": "stdout",
     "output_type": "stream",
     "text": [
      "0.8565543978677005\n",
      "0.8412698412698413\n"
     ]
    },
    {
     "name": "stderr",
     "output_type": "stream",
     "text": [
      " 93%|███████████████████████████████████████████████████████████████████████████████████████████████████████████████████████████████████████████████████████████████████████████████████████████████████████████▍               | 601/647 [01:07<00:05,  8.50it/s]"
     ]
    },
    {
     "name": "stdout",
     "output_type": "stream",
     "text": [
      "0.8898114378831381\n",
      "0.8962241747803372\n"
     ]
    },
    {
     "name": "stderr",
     "output_type": "stream",
     "text": [
      " 93%|████████████████████████████████████████████████████████████████████████████████████████████████████████████████████████████████████████████████████████████████████████████████████████████████████████████               | 603/647 [01:08<00:05,  8.55it/s]"
     ]
    },
    {
     "name": "stdout",
     "output_type": "stream",
     "text": [
      "0.9146660846791794\n",
      "0.8682267550994869\n"
     ]
    },
    {
     "name": "stderr",
     "output_type": "stream",
     "text": [
      " 94%|████████████████████████████████████████████████████████████████████████████████████████████████████████████████████████████████████████████████████████████████████████████████████████████████████████████▊              | 605/647 [01:08<00:05,  8.04it/s]"
     ]
    },
    {
     "name": "stdout",
     "output_type": "stream",
     "text": [
      "0.8229742173112339\n",
      "0.8777219430485762\n"
     ]
    },
    {
     "name": "stderr",
     "output_type": "stream",
     "text": [
      " 94%|█████████████████████████████████████████████████████████████████████████████████████████████████████████████████████████████████████████████████████████████████████████████████████████████████████████████▍             | 607/647 [01:08<00:04,  8.00it/s]"
     ]
    },
    {
     "name": "stdout",
     "output_type": "stream",
     "text": [
      "0.8697822141560798\n",
      "0.8800082610491532\n"
     ]
    },
    {
     "name": "stderr",
     "output_type": "stream",
     "text": [
      " 94%|██████████████████████████████████████████████████████████████████████████████████████████████████████████████████████████████████████████████████████████████████████████████████████████████████████████████▏            | 609/647 [01:08<00:04,  8.38it/s]"
     ]
    },
    {
     "name": "stdout",
     "output_type": "stream",
     "text": [
      "0.9094431429086322\n",
      "0.7401413690476191\n"
     ]
    },
    {
     "name": "stderr",
     "output_type": "stream",
     "text": [
      " 94%|██████████████████████████████████████████████████████████████████████████████████████████████████████████████████████████████████████████████████████████████████████████████████████████████████████████████▊            | 611/647 [01:09<00:04,  8.78it/s]"
     ]
    },
    {
     "name": "stdout",
     "output_type": "stream",
     "text": [
      "0.84251968503937\n",
      "0.8802301255230126\n"
     ]
    },
    {
     "name": "stderr",
     "output_type": "stream",
     "text": [
      " 95%|███████████████████████████████████████████████████████████████████████████████████████████████████████████████████████████████████████████████████████████████████████████████████████████████████████████████▍           | 613/647 [01:09<00:04,  8.43it/s]"
     ]
    },
    {
     "name": "stdout",
     "output_type": "stream",
     "text": [
      "0.782816991376557\n",
      "0.9172369886996657\n"
     ]
    },
    {
     "name": "stderr",
     "output_type": "stream",
     "text": [
      " 95%|████████████████████████████████████████████████████████████████████████████████████████████████████████████████████████████████████████████████████████████████████████████████████████████████████████████████▏          | 615/647 [01:09<00:03,  8.70it/s]"
     ]
    },
    {
     "name": "stdout",
     "output_type": "stream",
     "text": [
      "0.8057805999562075\n",
      "0.7959932279909706\n"
     ]
    },
    {
     "name": "stderr",
     "output_type": "stream",
     "text": [
      " 95%|████████████████████████████████████████████████████████████████████████████████████████████████████████████████████████████████████████████████████████████████████████████████████████████████████████████████▊          | 617/647 [01:09<00:03,  8.97it/s]"
     ]
    },
    {
     "name": "stdout",
     "output_type": "stream",
     "text": [
      "0.8396739130434783\n",
      "0.8562852683395366\n"
     ]
    },
    {
     "name": "stderr",
     "output_type": "stream",
     "text": [
      " 96%|█████████████████████████████████████████████████████████████████████████████████████████████████████████████████████████████████████████████████████████████████████████████████████████████████████████████████▌         | 619/647 [01:09<00:03,  8.29it/s]"
     ]
    },
    {
     "name": "stdout",
     "output_type": "stream",
     "text": [
      "0.8725086168140267\n",
      "0.8763292634895629\n"
     ]
    },
    {
     "name": "stderr",
     "output_type": "stream",
     "text": [
      " 96%|██████████████████████████████████████████████████████████████████████████████████████████████████████████████████████████████████████████████████████████████████████████████████████████████████████████████████▏        | 621/647 [01:10<00:03,  8.48it/s]"
     ]
    },
    {
     "name": "stdout",
     "output_type": "stream",
     "text": [
      "0.8531628974106851\n",
      "0.8753135805817344\n"
     ]
    },
    {
     "name": "stderr",
     "output_type": "stream",
     "text": [
      " 96%|██████████████████████████████████████████████████████████████████████████████████████████████████████████████████████████████████████████████████████████████████████████████████████████████████████████████████▉        | 623/647 [01:10<00:02,  8.52it/s]"
     ]
    },
    {
     "name": "stdout",
     "output_type": "stream",
     "text": [
      "0.7869182389937107\n",
      "0.9365944437059683\n"
     ]
    },
    {
     "name": "stderr",
     "output_type": "stream",
     "text": [
      " 97%|███████████████████████████████████████████████████████████████████████████████████████████████████████████████████████████████████████████████████████████████████████████████████████████████████████████████████▌       | 625/647 [01:10<00:02,  8.48it/s]"
     ]
    },
    {
     "name": "stdout",
     "output_type": "stream",
     "text": [
      "0.8942039989875981\n",
      "0.9086999372816056\n"
     ]
    },
    {
     "name": "stderr",
     "output_type": "stream",
     "text": [
      " 97%|████████████████████████████████████████████████████████████████████████████████████████████████████████████████████████████████████████████████████████████████████████████████████████████████████████████████████▏      | 627/647 [01:10<00:02,  8.31it/s]"
     ]
    },
    {
     "name": "stdout",
     "output_type": "stream",
     "text": [
      "0.8565615462868769\n",
      "0.720656963546535\n"
     ]
    },
    {
     "name": "stderr",
     "output_type": "stream",
     "text": [
      " 97%|████████████████████████████████████████████████████████████████████████████████████████████████████████████████████████████████████████████████████████████████████████████████████████████████████████████████████▉      | 629/647 [01:11<00:02,  8.08it/s]"
     ]
    },
    {
     "name": "stdout",
     "output_type": "stream",
     "text": [
      "0.8687932118164676\n",
      "0.8626229916552497\n"
     ]
    },
    {
     "name": "stderr",
     "output_type": "stream",
     "text": [
      " 98%|█████████████████████████████████████████████████████████████████████████████████████████████████████████████████████████████████████████████████████████████████████████████████████████████████████████████████████▌     | 631/647 [01:11<00:01,  8.67it/s]"
     ]
    },
    {
     "name": "stdout",
     "output_type": "stream",
     "text": [
      "0.8110928061504667\n",
      "0.874820968203953\n"
     ]
    },
    {
     "name": "stderr",
     "output_type": "stream",
     "text": [
      " 98%|██████████████████████████████████████████████████████████████████████████████████████████████████████████████████████████████████████████████████████████████████████████████████████████████████████████████████████▎    | 633/647 [01:11<00:01,  8.71it/s]"
     ]
    },
    {
     "name": "stdout",
     "output_type": "stream",
     "text": [
      "0.9213371156942421\n",
      "0.8615224574715457\n"
     ]
    },
    {
     "name": "stderr",
     "output_type": "stream",
     "text": [
      " 98%|██████████████████████████████████████████████████████████████████████████████████████████████████████████████████████████████████████████████████████████████████████████████████████████████████████████████████████▉    | 635/647 [01:11<00:01,  8.98it/s]"
     ]
    },
    {
     "name": "stdout",
     "output_type": "stream",
     "text": [
      "0.9295485636114911\n",
      "0.9356308179837591\n"
     ]
    },
    {
     "name": "stderr",
     "output_type": "stream",
     "text": [
      " 98%|███████████████████████████████████████████████████████████████████████████████████████████████████████████████████████████████████████████████████████████████████████████████████████████████████████████████████████▌   | 637/647 [01:12<00:01,  8.63it/s]"
     ]
    },
    {
     "name": "stdout",
     "output_type": "stream",
     "text": [
      "0.849331186524647\n",
      "0.8691442030881968\n"
     ]
    },
    {
     "name": "stderr",
     "output_type": "stream",
     "text": [
      " 99%|████████████████████████████████████████████████████████████████████████████████████████████████████████████████████████████████████████████████████████████████████████████████████████████████████████████████████████▎  | 639/647 [01:12<00:00,  8.59it/s]"
     ]
    },
    {
     "name": "stdout",
     "output_type": "stream",
     "text": [
      "0.833009977827051\n",
      "0.7109207708779444\n"
     ]
    },
    {
     "name": "stderr",
     "output_type": "stream",
     "text": [
      " 99%|████████████████████████████████████████████████████████████████████████████████████████████████████████████████████████████████████████████████████████████████████████████████████████████████████████████████████████▉  | 641/647 [01:12<00:00,  8.78it/s]"
     ]
    },
    {
     "name": "stdout",
     "output_type": "stream",
     "text": [
      "0.7760392340028024\n",
      "0.9207253886010363\n"
     ]
    },
    {
     "name": "stderr",
     "output_type": "stream",
     "text": [
      " 99%|█████████████████████████████████████████████████████████████████████████████████████████████████████████████████████████████████████████████████████████████████████████████████████████████████████████████████████████▋ | 643/647 [01:12<00:00,  8.26it/s]"
     ]
    },
    {
     "name": "stdout",
     "output_type": "stream",
     "text": [
      "0.8569292123629113\n",
      "0.8682028538372542\n"
     ]
    },
    {
     "name": "stderr",
     "output_type": "stream",
     "text": [
      "100%|██████████████████████████████████████████████████████████████████████████████████████████████████████████████████████████████████████████████████████████████████████████████████████████████████████████████████████████▎| 645/647 [01:13<00:00,  8.10it/s]"
     ]
    },
    {
     "name": "stdout",
     "output_type": "stream",
     "text": [
      "0.9046216424714215\n",
      "0.8935355017526697\n"
     ]
    },
    {
     "name": "stderr",
     "output_type": "stream",
     "text": [
      "100%|███████████████████████████████████████████████████████████████████████████████████████████████████████████████████████████████████████████████████████████████████████████████████████████████████████████████████████████| 647/647 [01:13<00:00,  8.83it/s]"
     ]
    },
    {
     "name": "stdout",
     "output_type": "stream",
     "text": [
      "0.8172087278715521\n",
      "0.829655990510083\n"
     ]
    },
    {
     "name": "stderr",
     "output_type": "stream",
     "text": [
      "\n"
     ]
    }
   ],
   "source": [
    "segment_files=\"baseline2/segment_files\"\n",
    "seg_df = pd.DataFrame(\n",
    "    columns=[\n",
    "        \"image_index\",\n",
    "        \"iou\",\n",
    "        \"segment_index\",\n",
    "        \"segment_type\",\n",
    "        \"segment_size\",\n",
    "    ]\n",
    ")\n",
    "structure_array = [[1, 1, 1], [1, 1, 1], [1, 1, 1]]\n",
    "\n",
    "for i, (image_embedding, gt2D, boxes, points) in enumerate(tqdm(train_dataloader)):\n",
    "    label_arr=gt2D.cpu()[0].numpy()[0]\n",
    "    os.makedirs(segment_files + \"/\" + str(i) + \"/false_positives\", exist_ok=True)\n",
    "    os.makedirs(segment_files + \"/\" + str(i) + \"/false_negatives\", exist_ok=True)\n",
    "    os.makedirs(segment_files + \"/\" + str(i) + \"/true_positives\", exist_ok=True)\n",
    "    pred_arr = np.array(\n",
    "        Image.open(\"predictions/\" + str(i) + \".png\"), dtype=np.uint8\n",
    "    )\n",
    "    iou = calculateIoU(label_arr,pred_arr)\n",
    "    print(iou)\n",
    "    false_positive_arr = pred_arr - pred_arr * label_arr\n",
    "    false_positive_segments = ndimage.label(\n",
    "        false_positive_arr, structure=structure_array, output=np.uint8\n",
    "    )\n",
    "    seg_df = pd.concat(\n",
    "        [\n",
    "            seg_df,\n",
    "            pd.DataFrame(\n",
    "                gen_seg_df(\n",
    "                    \"false_positives\",\n",
    "                    false_positive_segments,\n",
    "                    iou,\n",
    "                    i,\n",
    "                    segment_files,\n",
    "                )\n",
    "            ),\n",
    "        ]\n",
    "    )\n",
    "\n",
    "    false_negative_arr = label_arr - pred_arr * label_arr\n",
    "    false_negative_segments = ndimage.label(\n",
    "        false_negative_arr, structure=structure_array, output=np.uint8\n",
    "    )\n",
    "    seg_df = pd.concat(\n",
    "        [\n",
    "            seg_df,\n",
    "            pd.DataFrame(\n",
    "                gen_seg_df(\n",
    "                    \"false_negatives\",\n",
    "                    false_negative_segments,\n",
    "                    iou,\n",
    "                    i,\n",
    "                    segment_files,\n",
    "                )\n",
    "            ),\n",
    "        ]\n",
    "    )\n",
    "\n",
    "    true_positive_arr = pred_arr * label_arr\n",
    "    true_positive_segments = ndimage.label(\n",
    "        true_positive_arr, structure=structure_array, output=np.uint8\n",
    "    )\n",
    "    seg_df = pd.concat(\n",
    "        [\n",
    "            seg_df,\n",
    "            pd.DataFrame(\n",
    "                    gen_seg_df(\n",
    "                    \"true_positives\",\n",
    "                    true_positive_segments,\n",
    "                    iou,\n",
    "                    i,\n",
    "                    segment_files,\n",
    "                )\n",
    "            ),\n",
    "        ]\n",
    "    )"
   ]
  },
  {
   "cell_type": "code",
   "execution_count": 14,
   "metadata": {},
   "outputs": [],
   "source": [
    "seg_df.to_csv(\"seg_df.csv\")"
   ]
  },
  {
   "cell_type": "code",
   "execution_count": 15,
   "metadata": {
    "scrolled": true
   },
   "outputs": [
    {
     "name": "stdout",
     "output_type": "stream",
     "text": [
      "Segment energy maps directory baseline2/energy exists. Guide clicks file baseline2/guide_clicks.json exists. Exit.\r\n"
     ]
    }
   ],
   "source": [
    "!python uniform_clicks.py"
   ]
  },
  {
   "cell_type": "code",
   "execution_count": 16,
   "metadata": {},
   "outputs": [],
   "source": [
    "with open(\"baseline2/guide_clicks.json\", \"r\") as gcfile:\n",
    "    guide_clicks = json.load(gcfile)\n",
    "    guide_clicks = {int(k): v for k, v in guide_clicks.items()}"
   ]
  },
  {
   "cell_type": "code",
   "execution_count": 17,
   "metadata": {},
   "outputs": [],
   "source": [
    "seg_df = pd.read_csv (\"baseline2/segment_stats.csv\")"
   ]
  },
  {
   "cell_type": "code",
   "execution_count": 18,
   "metadata": {},
   "outputs": [],
   "source": [
    "s_color = {\n",
    "    \"true_positives\": [255, 255, 255],\n",
    "    \"false_positives\": [255, 128, 0], #[128, 255, 128],\n",
    "    \"false_negatives\": [0, 127, 255], #[255, 128, 128],\n",
    "}\n",
    "builtins.image_size = (256, 256)\n",
    "segment_files = \"baseline2/segment_files\"\n",
    "\n",
    "for i in range(0,647):\n",
    "    \n",
    "    original_image = Image.open(f\"data/BUSIresized/BUSI2Doriginal/{i}.png\")\n",
    "    image_stats = seg_df[seg_df[\"image_index\"] == i]\n",
    "    clicks = guide_clicks[i]\n",
    "\n",
    "    label_arr = np.array(Image.open(f\"data/BUSIresized/BUSI2Dgts/{i}.png\"), dtype=np.uint8) * 255\n",
    "    label_img = ImageOps.colorize(\n",
    "        Image.fromarray(label_arr, mode=\"L\"),\n",
    "        black=[0, 0, 0],\n",
    "        white=[255, 255, 0],\n",
    "        blackpoint=0,\n",
    "        whitepoint=255,\n",
    "    )\n",
    "    img_label_merged = Image.composite(\n",
    "        label_img, original_image, Image.fromarray(label_arr, mode=\"L\")\n",
    "    )\n",
    "\n",
    "    s_merged = original_image\n",
    "    for st in s_color.keys():\n",
    "        st_stats = image_stats[image_stats[\"segment_type\"] == st]\n",
    "        for s in st_stats.iterrows():\n",
    "            with open(\n",
    "                segment_files\n",
    "                + \"/\"\n",
    "                + str(i)\n",
    "                + \"/\"\n",
    "                + st\n",
    "                + \"/\"\n",
    "                + str(s[1][\"segment_index\"])\n",
    "                + \".pkl\",\n",
    "                \"rb\",\n",
    "            ) as s_file:\n",
    "                s_arr = pickle.load(s_file)\n",
    "                s_arr = s_arr * 255\n",
    "                s_img = ImageOps.colorize(\n",
    "                    Image.fromarray(s_arr, mode=\"L\"),\n",
    "                    black=[0, 0, 0],\n",
    "                    white=s_color[st],\n",
    "                    blackpoint=0,\n",
    "                    whitepoint=255,\n",
    "                )\n",
    "                s_merged = Image.composite(\n",
    "                    s_img, s_merged, Image.fromarray(s_arr, mode=\"L\")\n",
    "                )\n",
    "\n",
    "    for c in clicks[\"clicks_positive_tp\"]:\n",
    "        # Pillow and Numpy disagree on the meaning of X and Y\n",
    "        # we use the Numpy convention\n",
    "        # so for Pillow we swap X and Y\n",
    "        ImageDraw.Draw(s_merged).rectangle(\n",
    "            xy=[(c[1] - 1, c[0] - 1), (c[1] + 1, c[0] + 1)],\n",
    "            outline=(0, 255, 0),\n",
    "            fill=(0, 255, 0),\n",
    "            width=1,\n",
    "        )\n",
    "\n",
    "    for c in clicks[\"clicks_positive\"]:\n",
    "        # Pillow and Numpy disagree on the meaning of X and Y\n",
    "        # we use the Numpy convention\n",
    "        # so for Pillow we swap X and Y\n",
    "        ImageDraw.Draw(s_merged).rectangle(\n",
    "            xy=[(c[1] - 1, c[0] - 1), (c[1] + 1, c[0] + 1)],\n",
    "            outline=(0, 255, 0),\n",
    "            fill=(0, 255, 0),\n",
    "            width=1,\n",
    "        )\n",
    "\n",
    "    for c in clicks[\"clicks_negative\"]:\n",
    "        # Pillow and Numpy disagree on the meaning of X and Y\n",
    "        # we use the Numpy convention\n",
    "        # so for Pillow we swap X and Y\n",
    "        ImageDraw.Draw(s_merged).rectangle(\n",
    "            xy=[(c[1] - 1, c[0] - 1), (c[1] + 1, c[0] + 1)],\n",
    "            outline=(255, 0, 0),\n",
    "            fill=(255, 0, 0),\n",
    "            width=1,\n",
    "        )\n",
    "\n",
    "    oi_text = \"image_index=\" + str(i)\n",
    "    try:\n",
    "        oi_text += \"\\n\" + \"IoU=\" + str(round(seg_df.loc[i, \"iou\"], ndigits=4))\n",
    "    except:\n",
    "        pass\n",
    "    draw = ImageDraw.Draw(original_image)\n",
    "    bbox = draw.multiline_textbbox((0, 0), oi_text)\n",
    "    draw.rectangle(bbox, fill=\"black\")\n",
    "    draw.text((0, 0), oi_text)\n",
    "\n",
    "    big_frame = Image.new(\n",
    "        mode=\"RGB\",\n",
    "        size=(builtins.image_size[0] * 3, builtins.image_size[0]),\n",
    "        color=(0, 0, 0),\n",
    "    )\n",
    "    big_frame.paste(original_image, box=(0, 0))\n",
    "    big_frame.paste(img_label_merged, box=(builtins.image_size[0], 0))\n",
    "    big_frame.paste(s_merged, box=(builtins.image_size[0] * 2, 0))\n",
    "    big_frame.save(\"baseline2/segment_images/\"+str(i)+\".png\")\n",
    "#     display(big_frame)\n"
   ]
  },
  {
   "cell_type": "code",
   "execution_count": 19,
   "metadata": {},
   "outputs": [
    {
     "name": "stdout",
     "output_type": "stream",
     "text": [
      "0 {'clicks_negative': [[87, 142]], 'clicks_positive': []}\n",
      "1 {'clicks_negative': [], 'clicks_positive': []}\n",
      "2 {'clicks_negative': [[100, 156], [65, 222]], 'clicks_positive': [[71, 61], [118, 170], [94, 202]]}\n",
      "3 {'clicks_negative': [], 'clicks_positive': []}\n",
      "4 {'clicks_negative': [], 'clicks_positive': []}\n",
      "5 {'clicks_negative': [], 'clicks_positive': []}\n"
     ]
    }
   ],
   "source": [
    "guide_clicks = {}\n",
    "with open(\"baseline2/guide_clicks.json\", \"r\") as gcfile:\n",
    "    guide_clicks_split = json.load(gcfile)\n",
    "    for k, v in guide_clicks_split.items():\n",
    "        v[\"clicks_positive\"] += v[\"clicks_positive_tp\"]\n",
    "        _ = v.pop(\"clicks_positive_tp\", None)\n",
    "        guide_clicks[int(k)] = v\n",
    "\n",
    "i = 0\n",
    "for k, v in guide_clicks.items():\n",
    "    i += 1\n",
    "    print(k, v)\n",
    "    if i > 5:\n",
    "        break"
   ]
  },
  {
   "cell_type": "code",
   "execution_count": 20,
   "metadata": {},
   "outputs": [],
   "source": [
    "class NpzDataset2(Dataset): \n",
    "    def __init__(self, data_root):\n",
    "        self.data_root = data_root\n",
    "        self.npz_files = sorted(os.listdir(self.data_root)) \n",
    "        self.npz_data = [np.load(join(data_root, f)) for f in self.npz_files]\n",
    "        # this implementation is ugly but it works (and is also fast for feeding data to GPU) if your server has enough RAM\n",
    "        # as an alternative, you can also use a list of npy files and load them one by one\n",
    "        self.ori_gts = np.vstack([d['gts'] for d in self.npz_data])\n",
    "        self.img_embeddings = np.vstack([d['img_embeddings'] for d in self.npz_data])\n",
    "        self.ori_imgs=np.vstack([d['imgs'] for d in self.npz_data])\n",
    "\n",
    "        print(f\"{self.img_embeddings.shape=}, {self.ori_gts.shape=}\")\n",
    "    \n",
    "    def __len__(self):\n",
    "        return self.ori_gts.shape[0]\n",
    "\n",
    "    def __getitem__(self, index):\n",
    "        # print(index)\n",
    "        img_embed = self.img_embeddings[index]\n",
    "        gt2D = self.ori_gts[index]\n",
    "        gt2D255=gt2D*255\n",
    "\n",
    "        img2D=self.ori_imgs[index]\n",
    "        # print(gt2D.shape)\n",
    "        # for i in range(0,647):\n",
    "        #     img=Image.fromarray(self.ori_gts[i]*255)\n",
    "        #     img.save('data/BUSIresized/BUSI2Dgts/'+str(i)+\".png\")\n",
    "            # with open(\n",
    "            #     \"baseline/segment_files/\" + str(i) + \"/false_negatives/\" + str(i) + \".pkl\",\n",
    "            #     \"wb\",\n",
    "            # ) as seg_pkl:\n",
    "            #     pickle.dump(self.ori_gts[i], seg_pkl, protocol=5)\n",
    "        # with np.printoptions(threshold=np.inf):\n",
    "        #     print(gt2D)\n",
    "        # img = Image.fromarray(gt2D255)\n",
    "        # img=Image.fromarray(img2D)\n",
    "        # img.save('my.png')\n",
    "        # img.show()\n",
    "        y_indices, x_indices = np.where(gt2D > 0)\n",
    "        x_min, x_max = np.min(x_indices), np.max(x_indices)\n",
    "        y_min, y_max = np.min(y_indices), np.max(y_indices)\n",
    "        # add perturbation to bounding box coordinates\n",
    "        H, W = gt2D.shape\n",
    "        x_min = max(0, x_min - np.random.randint(0, 20))\n",
    "        x_max = min(W, x_max + np.random.randint(0, 20))\n",
    "        y_min = max(0, y_min - np.random.randint(0, 20))\n",
    "        y_max = min(H, y_max + np.random.randint(0, 20))\n",
    "        clickpoint=[]\n",
    "        with open(\n",
    "            \"baseline1/best_points_single_point/\"\n",
    "            + str(index)\n",
    "            + \"/\"\n",
    "            + str(index)\n",
    "            + \".pkl\",\n",
    "            \"rb\",\n",
    "        ) as p_file:\n",
    "            clickpoint += pickle.load(p_file)\n",
    "        # print(clickpoint)\n",
    "        points=np.array(clickpoint)\n",
    "        bboxes = np.array([x_min, y_min, x_max, y_max])\n",
    "        # convert img embedding, mask, bounding box to torch tensor\n",
    "        return torch.tensor(img_embed).float(), torch.tensor(gt2D[None, :,:]).long(), torch.tensor(bboxes).float(), torch.tensor(points).int(), index\n"
   ]
  },
  {
   "cell_type": "code",
   "execution_count": 21,
   "metadata": {},
   "outputs": [],
   "source": [
    "# %% set up model for second fine-tuning \n",
    "# train data path\n",
    "npz_tr_path = 'data/BUSI2D_vit_b'\n",
    "work_dir = './work_dir'\n",
    "task_name = 'BUSIfinalclick'\n",
    "# prepare SAM model\n",
    "model_type = 'vit_b'\n",
    "checkpoint = 'work_dir/BUSI2D/sam_model_latest.pth'\n",
    "device = 'cuda:0'\n",
    "model_save_path = join(work_dir, task_name)\n",
    "os.makedirs(model_save_path, exist_ok=True)\n",
    "sam_model = sam_model_registry[model_type](checkpoint=checkpoint).to(device)\n",
    "sam_model.train()\n",
    "# Set up the optimizer, hyperparameter tuning will improve performance here\n",
    "optimizer = torch.optim.Adam(sam_model.mask_decoder.parameters(), lr=1e-5, weight_decay=0)\n",
    "seg_loss = monai.losses.DiceCELoss(sigmoid=True, squared_pred=True, reduction='mean')"
   ]
  },
  {
   "cell_type": "code",
   "execution_count": 22,
   "metadata": {},
   "outputs": [
    {
     "data": {
      "text/plain": [
       "{'clicks_negative': [], 'clicks_positive': []}"
      ]
     },
     "execution_count": 22,
     "metadata": {},
     "output_type": "execute_result"
    }
   ],
   "source": [
    "guide_clicks[111]"
   ]
  },
  {
   "cell_type": "code",
   "execution_count": 23,
   "metadata": {},
   "outputs": [
    {
     "name": "stdout",
     "output_type": "stream",
     "text": [
      "self.img_embeddings.shape=(647, 256, 64, 64), self.ori_gts.shape=(647, 256, 256)\n"
     ]
    },
    {
     "name": "stderr",
     "output_type": "stream",
     "text": [
      "100%|███████████████████████████████████████████████████████████████████████████████████████████████████████████████████████████████████████████████████████████████████████████████████████████████████████████████████████████| 647/647 [00:09<00:00, 68.66it/s]\n"
     ]
    },
    {
     "name": "stdout",
     "output_type": "stream",
     "text": [
      "EPOCH: 0, Loss: 0.306228383980553\n"
     ]
    },
    {
     "name": "stderr",
     "output_type": "stream",
     "text": [
      "100%|███████████████████████████████████████████████████████████████████████████████████████████████████████████████████████████████████████████████████████████████████████████████████████████████████████████████████████████| 647/647 [00:09<00:00, 70.76it/s]\n"
     ]
    },
    {
     "name": "stdout",
     "output_type": "stream",
     "text": [
      "EPOCH: 1, Loss: 0.22106091933607502\n"
     ]
    },
    {
     "name": "stderr",
     "output_type": "stream",
     "text": [
      "100%|███████████████████████████████████████████████████████████████████████████████████████████████████████████████████████████████████████████████████████████████████████████████████████████████████████████████████████████| 647/647 [00:09<00:00, 70.81it/s]\n"
     ]
    },
    {
     "name": "stdout",
     "output_type": "stream",
     "text": [
      "EPOCH: 2, Loss: 0.19728280541893592\n"
     ]
    },
    {
     "name": "stderr",
     "output_type": "stream",
     "text": [
      "100%|███████████████████████████████████████████████████████████████████████████████████████████████████████████████████████████████████████████████████████████████████████████████████████████████████████████████████████████| 647/647 [00:09<00:00, 70.66it/s]\n"
     ]
    },
    {
     "name": "stdout",
     "output_type": "stream",
     "text": [
      "EPOCH: 3, Loss: 0.18799505129617988\n"
     ]
    },
    {
     "name": "stderr",
     "output_type": "stream",
     "text": [
      "100%|███████████████████████████████████████████████████████████████████████████████████████████████████████████████████████████████████████████████████████████████████████████████████████████████████████████████████████████| 647/647 [00:09<00:00, 70.56it/s]\n"
     ]
    },
    {
     "name": "stdout",
     "output_type": "stream",
     "text": [
      "EPOCH: 4, Loss: 0.17468886780653484\n"
     ]
    },
    {
     "name": "stderr",
     "output_type": "stream",
     "text": [
      "100%|███████████████████████████████████████████████████████████████████████████████████████████████████████████████████████████████████████████████████████████████████████████████████████████████████████████████████████████| 647/647 [00:09<00:00, 71.35it/s]\n"
     ]
    },
    {
     "name": "stdout",
     "output_type": "stream",
     "text": [
      "EPOCH: 5, Loss: 0.16970539765703513\n"
     ]
    },
    {
     "name": "stderr",
     "output_type": "stream",
     "text": [
      "100%|███████████████████████████████████████████████████████████████████████████████████████████████████████████████████████████████████████████████████████████████████████████████████████████████████████████████████████████| 647/647 [00:09<00:00, 69.66it/s]\n"
     ]
    },
    {
     "name": "stdout",
     "output_type": "stream",
     "text": [
      "EPOCH: 6, Loss: 0.15987221746137453\n"
     ]
    },
    {
     "name": "stderr",
     "output_type": "stream",
     "text": [
      "100%|███████████████████████████████████████████████████████████████████████████████████████████████████████████████████████████████████████████████████████████████████████████████████████████████████████████████████████████| 647/647 [00:09<00:00, 71.03it/s]\n"
     ]
    },
    {
     "name": "stdout",
     "output_type": "stream",
     "text": [
      "EPOCH: 7, Loss: 0.1557855454068804\n"
     ]
    },
    {
     "name": "stderr",
     "output_type": "stream",
     "text": [
      "100%|███████████████████████████████████████████████████████████████████████████████████████████████████████████████████████████████████████████████████████████████████████████████████████████████████████████████████████████| 647/647 [00:09<00:00, 71.10it/s]\n"
     ]
    },
    {
     "name": "stdout",
     "output_type": "stream",
     "text": [
      "EPOCH: 8, Loss: 0.1531152182745952\n"
     ]
    },
    {
     "name": "stderr",
     "output_type": "stream",
     "text": [
      "100%|███████████████████████████████████████████████████████████████████████████████████████████████████████████████████████████████████████████████████████████████████████████████████████████████████████████████████████████| 647/647 [00:09<00:00, 70.04it/s]\n"
     ]
    },
    {
     "name": "stdout",
     "output_type": "stream",
     "text": [
      "EPOCH: 9, Loss: 0.14651769910861187\n"
     ]
    },
    {
     "name": "stderr",
     "output_type": "stream",
     "text": [
      "100%|███████████████████████████████████████████████████████████████████████████████████████████████████████████████████████████████████████████████████████████████████████████████████████████████████████████████████████████| 647/647 [00:09<00:00, 71.20it/s]\n"
     ]
    },
    {
     "name": "stdout",
     "output_type": "stream",
     "text": [
      "EPOCH: 10, Loss: 0.14212080929140003\n"
     ]
    },
    {
     "name": "stderr",
     "output_type": "stream",
     "text": [
      "100%|███████████████████████████████████████████████████████████████████████████████████████████████████████████████████████████████████████████████████████████████████████████████████████████████████████████████████████████| 647/647 [00:09<00:00, 71.28it/s]\n"
     ]
    },
    {
     "name": "stdout",
     "output_type": "stream",
     "text": [
      "EPOCH: 11, Loss: 0.13928967218084878\n"
     ]
    },
    {
     "name": "stderr",
     "output_type": "stream",
     "text": [
      "100%|███████████████████████████████████████████████████████████████████████████████████████████████████████████████████████████████████████████████████████████████████████████████████████████████████████████████████████████| 647/647 [00:09<00:00, 71.32it/s]\n"
     ]
    },
    {
     "name": "stdout",
     "output_type": "stream",
     "text": [
      "EPOCH: 12, Loss: 0.1368957875850077\n"
     ]
    },
    {
     "name": "stderr",
     "output_type": "stream",
     "text": [
      "100%|███████████████████████████████████████████████████████████████████████████████████████████████████████████████████████████████████████████████████████████████████████████████████████████████████████████████████████████| 647/647 [00:09<00:00, 67.79it/s]\n"
     ]
    },
    {
     "name": "stdout",
     "output_type": "stream",
     "text": [
      "EPOCH: 13, Loss: 0.13258191967100458\n"
     ]
    },
    {
     "name": "stderr",
     "output_type": "stream",
     "text": [
      "100%|███████████████████████████████████████████████████████████████████████████████████████████████████████████████████████████████████████████████████████████████████████████████████████████████████████████████████████████| 647/647 [00:09<00:00, 69.71it/s]\n"
     ]
    },
    {
     "name": "stdout",
     "output_type": "stream",
     "text": [
      "EPOCH: 14, Loss: 0.1197949729934796\n"
     ]
    },
    {
     "name": "stderr",
     "output_type": "stream",
     "text": [
      "100%|███████████████████████████████████████████████████████████████████████████████████████████████████████████████████████████████████████████████████████████████████████████████████████████████████████████████████████████| 647/647 [00:09<00:00, 68.05it/s]\n"
     ]
    },
    {
     "name": "stdout",
     "output_type": "stream",
     "text": [
      "EPOCH: 15, Loss: 0.12798169335702164\n"
     ]
    },
    {
     "name": "stderr",
     "output_type": "stream",
     "text": [
      "100%|███████████████████████████████████████████████████████████████████████████████████████████████████████████████████████████████████████████████████████████████████████████████████████████████████████████████████████████| 647/647 [00:09<00:00, 71.17it/s]\n"
     ]
    },
    {
     "name": "stdout",
     "output_type": "stream",
     "text": [
      "EPOCH: 16, Loss: 0.11957839823071341\n"
     ]
    },
    {
     "name": "stderr",
     "output_type": "stream",
     "text": [
      "100%|███████████████████████████████████████████████████████████████████████████████████████████████████████████████████████████████████████████████████████████████████████████████████████████████████████████████████████████| 647/647 [00:09<00:00, 71.54it/s]\n"
     ]
    },
    {
     "name": "stdout",
     "output_type": "stream",
     "text": [
      "EPOCH: 17, Loss: 0.11610282080726635\n"
     ]
    },
    {
     "name": "stderr",
     "output_type": "stream",
     "text": [
      "100%|███████████████████████████████████████████████████████████████████████████████████████████████████████████████████████████████████████████████████████████████████████████████████████████████████████████████████████████| 647/647 [00:09<00:00, 71.33it/s]\n"
     ]
    },
    {
     "name": "stdout",
     "output_type": "stream",
     "text": [
      "EPOCH: 18, Loss: 0.11899047662668369\n"
     ]
    },
    {
     "name": "stderr",
     "output_type": "stream",
     "text": [
      "100%|███████████████████████████████████████████████████████████████████████████████████████████████████████████████████████████████████████████████████████████████████████████████████████████████████████████████████████████| 647/647 [00:09<00:00, 70.71it/s]\n"
     ]
    },
    {
     "name": "stdout",
     "output_type": "stream",
     "text": [
      "EPOCH: 19, Loss: 0.11786216343161952\n"
     ]
    },
    {
     "name": "stderr",
     "output_type": "stream",
     "text": [
      "100%|███████████████████████████████████████████████████████████████████████████████████████████████████████████████████████████████████████████████████████████████████████████████████████████████████████████████████████████| 647/647 [00:09<00:00, 71.22it/s]\n"
     ]
    },
    {
     "name": "stdout",
     "output_type": "stream",
     "text": [
      "EPOCH: 20, Loss: 0.11307101770831797\n"
     ]
    },
    {
     "name": "stderr",
     "output_type": "stream",
     "text": [
      "100%|███████████████████████████████████████████████████████████████████████████████████████████████████████████████████████████████████████████████████████████████████████████████████████████████████████████████████████████| 647/647 [00:09<00:00, 70.73it/s]\n"
     ]
    },
    {
     "name": "stdout",
     "output_type": "stream",
     "text": [
      "EPOCH: 21, Loss: 0.10872188659713548\n"
     ]
    },
    {
     "name": "stderr",
     "output_type": "stream",
     "text": [
      "100%|███████████████████████████████████████████████████████████████████████████████████████████████████████████████████████████████████████████████████████████████████████████████████████████████████████████████████████████| 647/647 [00:09<00:00, 71.20it/s]\n"
     ]
    },
    {
     "name": "stdout",
     "output_type": "stream",
     "text": [
      "EPOCH: 22, Loss: 0.10444128307176541\n"
     ]
    },
    {
     "name": "stderr",
     "output_type": "stream",
     "text": [
      "100%|███████████████████████████████████████████████████████████████████████████████████████████████████████████████████████████████████████████████████████████████████████████████████████████████████████████████████████████| 647/647 [00:09<00:00, 69.32it/s]\n"
     ]
    },
    {
     "name": "stdout",
     "output_type": "stream",
     "text": [
      "EPOCH: 23, Loss: 0.10249710835850921\n"
     ]
    },
    {
     "name": "stderr",
     "output_type": "stream",
     "text": [
      "100%|███████████████████████████████████████████████████████████████████████████████████████████████████████████████████████████████████████████████████████████████████████████████████████████████████████████████████████████| 647/647 [00:09<00:00, 70.83it/s]\n"
     ]
    },
    {
     "name": "stdout",
     "output_type": "stream",
     "text": [
      "EPOCH: 24, Loss: 0.10224177596092962\n"
     ]
    },
    {
     "name": "stderr",
     "output_type": "stream",
     "text": [
      "100%|███████████████████████████████████████████████████████████████████████████████████████████████████████████████████████████████████████████████████████████████████████████████████████████████████████████████████████████| 647/647 [00:09<00:00, 70.79it/s]\n"
     ]
    },
    {
     "name": "stdout",
     "output_type": "stream",
     "text": [
      "EPOCH: 25, Loss: 0.10017864427733994\n"
     ]
    },
    {
     "name": "stderr",
     "output_type": "stream",
     "text": [
      "100%|███████████████████████████████████████████████████████████████████████████████████████████████████████████████████████████████████████████████████████████████████████████████████████████████████████████████████████████| 647/647 [00:09<00:00, 71.72it/s]\n"
     ]
    },
    {
     "name": "stdout",
     "output_type": "stream",
     "text": [
      "EPOCH: 26, Loss: 0.09691623678494349\n"
     ]
    },
    {
     "name": "stderr",
     "output_type": "stream",
     "text": [
      "100%|███████████████████████████████████████████████████████████████████████████████████████████████████████████████████████████████████████████████████████████████████████████████████████████████████████████████████████████| 647/647 [00:09<00:00, 71.20it/s]\n"
     ]
    },
    {
     "name": "stdout",
     "output_type": "stream",
     "text": [
      "EPOCH: 27, Loss: 0.09556659277320922\n"
     ]
    },
    {
     "name": "stderr",
     "output_type": "stream",
     "text": [
      "100%|███████████████████████████████████████████████████████████████████████████████████████████████████████████████████████████████████████████████████████████████████████████████████████████████████████████████████████████| 647/647 [00:09<00:00, 71.31it/s]\n"
     ]
    },
    {
     "name": "stdout",
     "output_type": "stream",
     "text": [
      "EPOCH: 28, Loss: 0.09472899892058904\n"
     ]
    },
    {
     "name": "stderr",
     "output_type": "stream",
     "text": [
      "100%|███████████████████████████████████████████████████████████████████████████████████████████████████████████████████████████████████████████████████████████████████████████████████████████████████████████████████████████| 647/647 [00:09<00:00, 71.03it/s]\n"
     ]
    },
    {
     "name": "stdout",
     "output_type": "stream",
     "text": [
      "EPOCH: 29, Loss: 0.09210835377060038\n"
     ]
    },
    {
     "name": "stderr",
     "output_type": "stream",
     "text": [
      "100%|███████████████████████████████████████████████████████████████████████████████████████████████████████████████████████████████████████████████████████████████████████████████████████████████████████████████████████████| 647/647 [00:09<00:00, 70.66it/s]\n"
     ]
    },
    {
     "name": "stdout",
     "output_type": "stream",
     "text": [
      "EPOCH: 30, Loss: 0.0917671320487056\n"
     ]
    },
    {
     "name": "stderr",
     "output_type": "stream",
     "text": [
      "100%|███████████████████████████████████████████████████████████████████████████████████████████████████████████████████████████████████████████████████████████████████████████████████████████████████████████████████████████| 647/647 [00:09<00:00, 71.12it/s]\n"
     ]
    },
    {
     "name": "stdout",
     "output_type": "stream",
     "text": [
      "EPOCH: 31, Loss: 0.08993103626492684\n"
     ]
    },
    {
     "name": "stderr",
     "output_type": "stream",
     "text": [
      "100%|███████████████████████████████████████████████████████████████████████████████████████████████████████████████████████████████████████████████████████████████████████████████████████████████████████████████████████████| 647/647 [00:09<00:00, 70.49it/s]\n"
     ]
    },
    {
     "name": "stdout",
     "output_type": "stream",
     "text": [
      "EPOCH: 32, Loss: 0.09062160798362903\n"
     ]
    },
    {
     "name": "stderr",
     "output_type": "stream",
     "text": [
      "100%|███████████████████████████████████████████████████████████████████████████████████████████████████████████████████████████████████████████████████████████████████████████████████████████████████████████████████████████| 647/647 [00:09<00:00, 70.29it/s]\n"
     ]
    },
    {
     "name": "stdout",
     "output_type": "stream",
     "text": [
      "EPOCH: 33, Loss: 0.09190672579806748\n"
     ]
    },
    {
     "name": "stderr",
     "output_type": "stream",
     "text": [
      "100%|███████████████████████████████████████████████████████████████████████████████████████████████████████████████████████████████████████████████████████████████████████████████████████████████████████████████████████████| 647/647 [00:09<00:00, 70.24it/s]\n"
     ]
    },
    {
     "name": "stdout",
     "output_type": "stream",
     "text": [
      "EPOCH: 34, Loss: 0.0931266286113406\n"
     ]
    },
    {
     "name": "stderr",
     "output_type": "stream",
     "text": [
      "100%|███████████████████████████████████████████████████████████████████████████████████████████████████████████████████████████████████████████████████████████████████████████████████████████████████████████████████████████| 647/647 [00:09<00:00, 71.62it/s]\n"
     ]
    },
    {
     "name": "stdout",
     "output_type": "stream",
     "text": [
      "EPOCH: 35, Loss: 0.087320296064988\n"
     ]
    },
    {
     "name": "stderr",
     "output_type": "stream",
     "text": [
      "100%|███████████████████████████████████████████████████████████████████████████████████████████████████████████████████████████████████████████████████████████████████████████████████████████████████████████████████████████| 647/647 [00:09<00:00, 71.18it/s]\n"
     ]
    },
    {
     "name": "stdout",
     "output_type": "stream",
     "text": [
      "EPOCH: 36, Loss: 0.08617214575963493\n"
     ]
    },
    {
     "name": "stderr",
     "output_type": "stream",
     "text": [
      "100%|███████████████████████████████████████████████████████████████████████████████████████████████████████████████████████████████████████████████████████████████████████████████████████████████████████████████████████████| 647/647 [00:09<00:00, 71.09it/s]\n"
     ]
    },
    {
     "name": "stdout",
     "output_type": "stream",
     "text": [
      "EPOCH: 37, Loss: 0.0835885734386719\n"
     ]
    },
    {
     "name": "stderr",
     "output_type": "stream",
     "text": [
      "100%|███████████████████████████████████████████████████████████████████████████████████████████████████████████████████████████████████████████████████████████████████████████████████████████████████████████████████████████| 647/647 [00:09<00:00, 71.57it/s]\n"
     ]
    },
    {
     "name": "stdout",
     "output_type": "stream",
     "text": [
      "EPOCH: 38, Loss: 0.08155048388595644\n"
     ]
    },
    {
     "name": "stderr",
     "output_type": "stream",
     "text": [
      "100%|███████████████████████████████████████████████████████████████████████████████████████████████████████████████████████████████████████████████████████████████████████████████████████████████████████████████████████████| 647/647 [00:09<00:00, 70.92it/s]\n"
     ]
    },
    {
     "name": "stdout",
     "output_type": "stream",
     "text": [
      "EPOCH: 39, Loss: 0.08149454762853521\n"
     ]
    },
    {
     "name": "stderr",
     "output_type": "stream",
     "text": [
      "100%|███████████████████████████████████████████████████████████████████████████████████████████████████████████████████████████████████████████████████████████████████████████████████████████████████████████████████████████| 647/647 [00:09<00:00, 70.67it/s]\n"
     ]
    },
    {
     "name": "stdout",
     "output_type": "stream",
     "text": [
      "EPOCH: 40, Loss: 0.08216837271413659\n"
     ]
    },
    {
     "name": "stderr",
     "output_type": "stream",
     "text": [
      "100%|███████████████████████████████████████████████████████████████████████████████████████████████████████████████████████████████████████████████████████████████████████████████████████████████████████████████████████████| 647/647 [00:09<00:00, 71.13it/s]\n"
     ]
    },
    {
     "name": "stdout",
     "output_type": "stream",
     "text": [
      "EPOCH: 41, Loss: 0.08148975689079463\n"
     ]
    },
    {
     "name": "stderr",
     "output_type": "stream",
     "text": [
      "100%|███████████████████████████████████████████████████████████████████████████████████████████████████████████████████████████████████████████████████████████████████████████████████████████████████████████████████████████| 647/647 [00:09<00:00, 70.51it/s]\n"
     ]
    },
    {
     "name": "stdout",
     "output_type": "stream",
     "text": [
      "EPOCH: 42, Loss: 0.07850858213051277\n"
     ]
    },
    {
     "name": "stderr",
     "output_type": "stream",
     "text": [
      "100%|███████████████████████████████████████████████████████████████████████████████████████████████████████████████████████████████████████████████████████████████████████████████████████████████████████████████████████████| 647/647 [00:09<00:00, 68.13it/s]\n"
     ]
    },
    {
     "name": "stdout",
     "output_type": "stream",
     "text": [
      "EPOCH: 43, Loss: 0.07789921771227483\n"
     ]
    },
    {
     "name": "stderr",
     "output_type": "stream",
     "text": [
      "100%|███████████████████████████████████████████████████████████████████████████████████████████████████████████████████████████████████████████████████████████████████████████████████████████████████████████████████████████| 647/647 [00:09<00:00, 70.08it/s]\n"
     ]
    },
    {
     "name": "stdout",
     "output_type": "stream",
     "text": [
      "EPOCH: 44, Loss: 0.07674924215595973\n"
     ]
    },
    {
     "name": "stderr",
     "output_type": "stream",
     "text": [
      "100%|███████████████████████████████████████████████████████████████████████████████████████████████████████████████████████████████████████████████████████████████████████████████████████████████████████████████████████████| 647/647 [00:09<00:00, 69.55it/s]\n"
     ]
    },
    {
     "name": "stdout",
     "output_type": "stream",
     "text": [
      "EPOCH: 45, Loss: 0.08050336242414112\n"
     ]
    },
    {
     "name": "stderr",
     "output_type": "stream",
     "text": [
      "100%|███████████████████████████████████████████████████████████████████████████████████████████████████████████████████████████████████████████████████████████████████████████████████████████████████████████████████████████| 647/647 [00:09<00:00, 67.80it/s]\n"
     ]
    },
    {
     "name": "stdout",
     "output_type": "stream",
     "text": [
      "EPOCH: 46, Loss: 0.07798391296283196\n"
     ]
    },
    {
     "name": "stderr",
     "output_type": "stream",
     "text": [
      "100%|███████████████████████████████████████████████████████████████████████████████████████████████████████████████████████████████████████████████████████████████████████████████████████████████████████████████████████████| 647/647 [00:09<00:00, 70.29it/s]\n"
     ]
    },
    {
     "name": "stdout",
     "output_type": "stream",
     "text": [
      "EPOCH: 47, Loss: 0.0789127439179749\n"
     ]
    },
    {
     "name": "stderr",
     "output_type": "stream",
     "text": [
      "100%|███████████████████████████████████████████████████████████████████████████████████████████████████████████████████████████████████████████████████████████████████████████████████████████████████████████████████████████| 647/647 [00:09<00:00, 70.22it/s]\n"
     ]
    },
    {
     "name": "stdout",
     "output_type": "stream",
     "text": [
      "EPOCH: 48, Loss: 0.07563752271292656\n"
     ]
    },
    {
     "name": "stderr",
     "output_type": "stream",
     "text": [
      "100%|███████████████████████████████████████████████████████████████████████████████████████████████████████████████████████████████████████████████████████████████████████████████████████████████████████████████████████████| 647/647 [00:09<00:00, 70.45it/s]\n"
     ]
    },
    {
     "name": "stdout",
     "output_type": "stream",
     "text": [
      "EPOCH: 49, Loss: 0.07289929012984223\n"
     ]
    },
    {
     "name": "stderr",
     "output_type": "stream",
     "text": [
      "100%|███████████████████████████████████████████████████████████████████████████████████████████████████████████████████████████████████████████████████████████████████████████████████████████████████████████████████████████| 647/647 [00:09<00:00, 69.06it/s]\n"
     ]
    },
    {
     "name": "stdout",
     "output_type": "stream",
     "text": [
      "EPOCH: 50, Loss: 0.07420897040366203\n"
     ]
    },
    {
     "name": "stderr",
     "output_type": "stream",
     "text": [
      "100%|███████████████████████████████████████████████████████████████████████████████████████████████████████████████████████████████████████████████████████████████████████████████████████████████████████████████████████████| 647/647 [00:09<00:00, 65.80it/s]\n"
     ]
    },
    {
     "name": "stdout",
     "output_type": "stream",
     "text": [
      "EPOCH: 51, Loss: 0.07392842277607682\n"
     ]
    },
    {
     "name": "stderr",
     "output_type": "stream",
     "text": [
      "100%|███████████████████████████████████████████████████████████████████████████████████████████████████████████████████████████████████████████████████████████████████████████████████████████████████████████████████████████| 647/647 [00:09<00:00, 68.17it/s]\n"
     ]
    },
    {
     "name": "stdout",
     "output_type": "stream",
     "text": [
      "EPOCH: 52, Loss: 0.07589719268917207\n"
     ]
    },
    {
     "name": "stderr",
     "output_type": "stream",
     "text": [
      "100%|███████████████████████████████████████████████████████████████████████████████████████████████████████████████████████████████████████████████████████████████████████████████████████████████████████████████████████████| 647/647 [00:10<00:00, 63.38it/s]\n"
     ]
    },
    {
     "name": "stdout",
     "output_type": "stream",
     "text": [
      "EPOCH: 53, Loss: 0.07273697198567561\n"
     ]
    },
    {
     "name": "stderr",
     "output_type": "stream",
     "text": [
      "100%|███████████████████████████████████████████████████████████████████████████████████████████████████████████████████████████████████████████████████████████████████████████████████████████████████████████████████████████| 647/647 [00:10<00:00, 63.80it/s]\n"
     ]
    },
    {
     "name": "stdout",
     "output_type": "stream",
     "text": [
      "EPOCH: 54, Loss: 0.07147255411008287\n"
     ]
    },
    {
     "name": "stderr",
     "output_type": "stream",
     "text": [
      "100%|███████████████████████████████████████████████████████████████████████████████████████████████████████████████████████████████████████████████████████████████████████████████████████████████████████████████████████████| 647/647 [00:09<00:00, 65.49it/s]\n"
     ]
    },
    {
     "name": "stdout",
     "output_type": "stream",
     "text": [
      "EPOCH: 55, Loss: 0.06931341712538949\n"
     ]
    },
    {
     "name": "stderr",
     "output_type": "stream",
     "text": [
      "100%|███████████████████████████████████████████████████████████████████████████████████████████████████████████████████████████████████████████████████████████████████████████████████████████████████████████████████████████| 647/647 [00:09<00:00, 68.24it/s]\n"
     ]
    },
    {
     "name": "stdout",
     "output_type": "stream",
     "text": [
      "EPOCH: 56, Loss: 0.07010048769714293\n"
     ]
    },
    {
     "name": "stderr",
     "output_type": "stream",
     "text": [
      "100%|███████████████████████████████████████████████████████████████████████████████████████████████████████████████████████████████████████████████████████████████████████████████████████████████████████████████████████████| 647/647 [00:09<00:00, 64.70it/s]\n"
     ]
    },
    {
     "name": "stdout",
     "output_type": "stream",
     "text": [
      "EPOCH: 57, Loss: 0.06840661140418274\n"
     ]
    },
    {
     "name": "stderr",
     "output_type": "stream",
     "text": [
      "100%|███████████████████████████████████████████████████████████████████████████████████████████████████████████████████████████████████████████████████████████████████████████████████████████████████████████████████████████| 647/647 [00:09<00:00, 66.81it/s]\n"
     ]
    },
    {
     "name": "stdout",
     "output_type": "stream",
     "text": [
      "EPOCH: 58, Loss: 0.06868859983680788\n"
     ]
    },
    {
     "name": "stderr",
     "output_type": "stream",
     "text": [
      "100%|███████████████████████████████████████████████████████████████████████████████████████████████████████████████████████████████████████████████████████████████████████████████████████████████████████████████████████████| 647/647 [00:09<00:00, 69.01it/s]\n"
     ]
    },
    {
     "name": "stdout",
     "output_type": "stream",
     "text": [
      "EPOCH: 59, Loss: 0.06904366883757775\n"
     ]
    },
    {
     "name": "stderr",
     "output_type": "stream",
     "text": [
      "100%|███████████████████████████████████████████████████████████████████████████████████████████████████████████████████████████████████████████████████████████████████████████████████████████████████████████████████████████| 647/647 [00:09<00:00, 70.04it/s]\n"
     ]
    },
    {
     "name": "stdout",
     "output_type": "stream",
     "text": [
      "EPOCH: 60, Loss: 0.0689327381234097\n"
     ]
    },
    {
     "name": "stderr",
     "output_type": "stream",
     "text": [
      "100%|███████████████████████████████████████████████████████████████████████████████████████████████████████████████████████████████████████████████████████████████████████████████████████████████████████████████████████████| 647/647 [00:09<00:00, 70.48it/s]\n"
     ]
    },
    {
     "name": "stdout",
     "output_type": "stream",
     "text": [
      "EPOCH: 61, Loss: 0.06929232097654704\n"
     ]
    },
    {
     "name": "stderr",
     "output_type": "stream",
     "text": [
      "100%|███████████████████████████████████████████████████████████████████████████████████████████████████████████████████████████████████████████████████████████████████████████████████████████████████████████████████████████| 647/647 [00:09<00:00, 70.90it/s]\n"
     ]
    },
    {
     "name": "stdout",
     "output_type": "stream",
     "text": [
      "EPOCH: 62, Loss: 0.06765094738534361\n"
     ]
    },
    {
     "name": "stderr",
     "output_type": "stream",
     "text": [
      "100%|███████████████████████████████████████████████████████████████████████████████████████████████████████████████████████████████████████████████████████████████████████████████████████████████████████████████████████████| 647/647 [00:09<00:00, 69.28it/s]\n"
     ]
    },
    {
     "name": "stdout",
     "output_type": "stream",
     "text": [
      "EPOCH: 63, Loss: 0.06516255716282886\n"
     ]
    },
    {
     "name": "stderr",
     "output_type": "stream",
     "text": [
      "100%|███████████████████████████████████████████████████████████████████████████████████████████████████████████████████████████████████████████████████████████████████████████████████████████████████████████████████████████| 647/647 [00:09<00:00, 67.55it/s]\n"
     ]
    },
    {
     "name": "stdout",
     "output_type": "stream",
     "text": [
      "EPOCH: 64, Loss: 0.0667864456138467\n"
     ]
    },
    {
     "name": "stderr",
     "output_type": "stream",
     "text": [
      "100%|███████████████████████████████████████████████████████████████████████████████████████████████████████████████████████████████████████████████████████████████████████████████████████████████████████████████████████████| 647/647 [00:09<00:00, 67.62it/s]\n"
     ]
    },
    {
     "name": "stdout",
     "output_type": "stream",
     "text": [
      "EPOCH: 65, Loss: 0.06461423253727033\n"
     ]
    },
    {
     "name": "stderr",
     "output_type": "stream",
     "text": [
      "100%|███████████████████████████████████████████████████████████████████████████████████████████████████████████████████████████████████████████████████████████████████████████████████████████████████████████████████████████| 647/647 [00:09<00:00, 69.15it/s]\n"
     ]
    },
    {
     "name": "stdout",
     "output_type": "stream",
     "text": [
      "EPOCH: 66, Loss: 0.06350162998418506\n"
     ]
    },
    {
     "name": "stderr",
     "output_type": "stream",
     "text": [
      "100%|███████████████████████████████████████████████████████████████████████████████████████████████████████████████████████████████████████████████████████████████████████████████████████████████████████████████████████████| 647/647 [00:09<00:00, 69.56it/s]\n"
     ]
    },
    {
     "name": "stdout",
     "output_type": "stream",
     "text": [
      "EPOCH: 67, Loss: 0.06427717333423096\n"
     ]
    },
    {
     "name": "stderr",
     "output_type": "stream",
     "text": [
      "100%|███████████████████████████████████████████████████████████████████████████████████████████████████████████████████████████████████████████████████████████████████████████████████████████████████████████████████████████| 647/647 [00:09<00:00, 68.21it/s]\n"
     ]
    },
    {
     "name": "stdout",
     "output_type": "stream",
     "text": [
      "EPOCH: 68, Loss: 0.06420499180953938\n"
     ]
    },
    {
     "name": "stderr",
     "output_type": "stream",
     "text": [
      "100%|███████████████████████████████████████████████████████████████████████████████████████████████████████████████████████████████████████████████████████████████████████████████████████████████████████████████████████████| 647/647 [00:09<00:00, 69.66it/s]\n"
     ]
    },
    {
     "name": "stdout",
     "output_type": "stream",
     "text": [
      "EPOCH: 69, Loss: 0.06604918426813863\n"
     ]
    },
    {
     "name": "stderr",
     "output_type": "stream",
     "text": [
      "100%|███████████████████████████████████████████████████████████████████████████████████████████████████████████████████████████████████████████████████████████████████████████████████████████████████████████████████████████| 647/647 [00:09<00:00, 70.47it/s]\n"
     ]
    },
    {
     "name": "stdout",
     "output_type": "stream",
     "text": [
      "EPOCH: 70, Loss: 0.061553931973828434\n"
     ]
    },
    {
     "name": "stderr",
     "output_type": "stream",
     "text": [
      "100%|███████████████████████████████████████████████████████████████████████████████████████████████████████████████████████████████████████████████████████████████████████████████████████████████████████████████████████████| 647/647 [00:09<00:00, 66.63it/s]\n"
     ]
    },
    {
     "name": "stdout",
     "output_type": "stream",
     "text": [
      "EPOCH: 71, Loss: 0.062372203441999924\n"
     ]
    },
    {
     "name": "stderr",
     "output_type": "stream",
     "text": [
      "100%|███████████████████████████████████████████████████████████████████████████████████████████████████████████████████████████████████████████████████████████████████████████████████████████████████████████████████████████| 647/647 [00:09<00:00, 69.81it/s]\n"
     ]
    },
    {
     "name": "stdout",
     "output_type": "stream",
     "text": [
      "EPOCH: 72, Loss: 0.062473158997947774\n"
     ]
    },
    {
     "name": "stderr",
     "output_type": "stream",
     "text": [
      "100%|███████████████████████████████████████████████████████████████████████████████████████████████████████████████████████████████████████████████████████████████████████████████████████████████████████████████████████████| 647/647 [00:09<00:00, 69.79it/s]\n"
     ]
    },
    {
     "name": "stdout",
     "output_type": "stream",
     "text": [
      "EPOCH: 73, Loss: 0.06078435003688276\n"
     ]
    },
    {
     "name": "stderr",
     "output_type": "stream",
     "text": [
      "100%|███████████████████████████████████████████████████████████████████████████████████████████████████████████████████████████████████████████████████████████████████████████████████████████████████████████████████████████| 647/647 [00:09<00:00, 67.70it/s]\n"
     ]
    },
    {
     "name": "stdout",
     "output_type": "stream",
     "text": [
      "EPOCH: 74, Loss: 0.06303010028340038\n"
     ]
    },
    {
     "name": "stderr",
     "output_type": "stream",
     "text": [
      "100%|███████████████████████████████████████████████████████████████████████████████████████████████████████████████████████████████████████████████████████████████████████████████████████████████████████████████████████████| 647/647 [00:09<00:00, 69.44it/s]\n"
     ]
    },
    {
     "name": "stdout",
     "output_type": "stream",
     "text": [
      "EPOCH: 75, Loss: 0.06129472626332805\n"
     ]
    },
    {
     "name": "stderr",
     "output_type": "stream",
     "text": [
      "100%|███████████████████████████████████████████████████████████████████████████████████████████████████████████████████████████████████████████████████████████████████████████████████████████████████████████████████████████| 647/647 [00:09<00:00, 71.02it/s]\n"
     ]
    },
    {
     "name": "stdout",
     "output_type": "stream",
     "text": [
      "EPOCH: 76, Loss: 0.060368059459646975\n"
     ]
    },
    {
     "name": "stderr",
     "output_type": "stream",
     "text": [
      "100%|███████████████████████████████████████████████████████████████████████████████████████████████████████████████████████████████████████████████████████████████████████████████████████████████████████████████████████████| 647/647 [00:08<00:00, 72.14it/s]\n"
     ]
    },
    {
     "name": "stdout",
     "output_type": "stream",
     "text": [
      "EPOCH: 77, Loss: 0.05953905314651113\n"
     ]
    },
    {
     "name": "stderr",
     "output_type": "stream",
     "text": [
      "100%|███████████████████████████████████████████████████████████████████████████████████████████████████████████████████████████████████████████████████████████████████████████████████████████████████████████████████████████| 647/647 [00:08<00:00, 72.18it/s]\n"
     ]
    },
    {
     "name": "stdout",
     "output_type": "stream",
     "text": [
      "EPOCH: 78, Loss: 0.05964918778315417\n"
     ]
    },
    {
     "name": "stderr",
     "output_type": "stream",
     "text": [
      "100%|███████████████████████████████████████████████████████████████████████████████████████████████████████████████████████████████████████████████████████████████████████████████████████████████████████████████████████████| 647/647 [00:09<00:00, 71.45it/s]\n"
     ]
    },
    {
     "name": "stdout",
     "output_type": "stream",
     "text": [
      "EPOCH: 79, Loss: 0.06253659439737398\n"
     ]
    },
    {
     "name": "stderr",
     "output_type": "stream",
     "text": [
      "100%|███████████████████████████████████████████████████████████████████████████████████████████████████████████████████████████████████████████████████████████████████████████████████████████████████████████████████████████| 647/647 [00:08<00:00, 72.19it/s]\n"
     ]
    },
    {
     "name": "stdout",
     "output_type": "stream",
     "text": [
      "EPOCH: 80, Loss: 0.06079735265087463\n"
     ]
    },
    {
     "name": "stderr",
     "output_type": "stream",
     "text": [
      "100%|███████████████████████████████████████████████████████████████████████████████████████████████████████████████████████████████████████████████████████████████████████████████████████████████████████████████████████████| 647/647 [00:08<00:00, 72.21it/s]\n"
     ]
    },
    {
     "name": "stdout",
     "output_type": "stream",
     "text": [
      "EPOCH: 81, Loss: 0.05712071415786588\n"
     ]
    },
    {
     "name": "stderr",
     "output_type": "stream",
     "text": [
      "100%|███████████████████████████████████████████████████████████████████████████████████████████████████████████████████████████████████████████████████████████████████████████████████████████████████████████████████████████| 647/647 [00:08<00:00, 72.09it/s]\n"
     ]
    },
    {
     "name": "stdout",
     "output_type": "stream",
     "text": [
      "EPOCH: 82, Loss: 0.057645016645395626\n"
     ]
    },
    {
     "name": "stderr",
     "output_type": "stream",
     "text": [
      "100%|███████████████████████████████████████████████████████████████████████████████████████████████████████████████████████████████████████████████████████████████████████████████████████████████████████████████████████████| 647/647 [00:09<00:00, 71.09it/s]\n"
     ]
    },
    {
     "name": "stdout",
     "output_type": "stream",
     "text": [
      "EPOCH: 83, Loss: 0.056754222589519\n"
     ]
    },
    {
     "name": "stderr",
     "output_type": "stream",
     "text": [
      "100%|███████████████████████████████████████████████████████████████████████████████████████████████████████████████████████████████████████████████████████████████████████████████████████████████████████████████████████████| 647/647 [00:08<00:00, 71.99it/s]\n"
     ]
    },
    {
     "name": "stdout",
     "output_type": "stream",
     "text": [
      "EPOCH: 84, Loss: 0.05949701480971124\n"
     ]
    },
    {
     "name": "stderr",
     "output_type": "stream",
     "text": [
      "100%|███████████████████████████████████████████████████████████████████████████████████████████████████████████████████████████████████████████████████████████████████████████████████████████████████████████████████████████| 647/647 [00:08<00:00, 72.17it/s]\n"
     ]
    },
    {
     "name": "stdout",
     "output_type": "stream",
     "text": [
      "EPOCH: 85, Loss: 0.06087914947132023\n"
     ]
    },
    {
     "name": "stderr",
     "output_type": "stream",
     "text": [
      "100%|███████████████████████████████████████████████████████████████████████████████████████████████████████████████████████████████████████████████████████████████████████████████████████████████████████████████████████████| 647/647 [00:08<00:00, 72.05it/s]\n"
     ]
    },
    {
     "name": "stdout",
     "output_type": "stream",
     "text": [
      "EPOCH: 86, Loss: 0.05797719118119024\n"
     ]
    },
    {
     "name": "stderr",
     "output_type": "stream",
     "text": [
      "100%|███████████████████████████████████████████████████████████████████████████████████████████████████████████████████████████████████████████████████████████████████████████████████████████████████████████████████████████| 647/647 [00:08<00:00, 72.12it/s]\n"
     ]
    },
    {
     "name": "stdout",
     "output_type": "stream",
     "text": [
      "EPOCH: 87, Loss: 0.057209117317877874\n"
     ]
    },
    {
     "name": "stderr",
     "output_type": "stream",
     "text": [
      "100%|███████████████████████████████████████████████████████████████████████████████████████████████████████████████████████████████████████████████████████████████████████████████████████████████████████████████████████████| 647/647 [00:09<00:00, 71.86it/s]\n"
     ]
    },
    {
     "name": "stdout",
     "output_type": "stream",
     "text": [
      "EPOCH: 88, Loss: 0.057290955393318514\n"
     ]
    },
    {
     "name": "stderr",
     "output_type": "stream",
     "text": [
      "100%|███████████████████████████████████████████████████████████████████████████████████████████████████████████████████████████████████████████████████████████████████████████████████████████████████████████████████████████| 647/647 [00:08<00:00, 71.99it/s]\n"
     ]
    },
    {
     "name": "stdout",
     "output_type": "stream",
     "text": [
      "EPOCH: 89, Loss: 0.05651233863264276\n"
     ]
    },
    {
     "name": "stderr",
     "output_type": "stream",
     "text": [
      "100%|███████████████████████████████████████████████████████████████████████████████████████████████████████████████████████████████████████████████████████████████████████████████████████████████████████████████████████████| 647/647 [00:08<00:00, 71.96it/s]\n"
     ]
    },
    {
     "name": "stdout",
     "output_type": "stream",
     "text": [
      "EPOCH: 90, Loss: 0.055357445815676136\n"
     ]
    },
    {
     "name": "stderr",
     "output_type": "stream",
     "text": [
      "100%|███████████████████████████████████████████████████████████████████████████████████████████████████████████████████████████████████████████████████████████████████████████████████████████████████████████████████████████| 647/647 [00:08<00:00, 71.92it/s]\n"
     ]
    },
    {
     "name": "stdout",
     "output_type": "stream",
     "text": [
      "EPOCH: 91, Loss: 0.05468444963744135\n"
     ]
    },
    {
     "name": "stderr",
     "output_type": "stream",
     "text": [
      "100%|███████████████████████████████████████████████████████████████████████████████████████████████████████████████████████████████████████████████████████████████████████████████████████████████████████████████████████████| 647/647 [00:08<00:00, 72.07it/s]\n"
     ]
    },
    {
     "name": "stdout",
     "output_type": "stream",
     "text": [
      "EPOCH: 92, Loss: 0.055325092166812154\n"
     ]
    },
    {
     "name": "stderr",
     "output_type": "stream",
     "text": [
      "100%|███████████████████████████████████████████████████████████████████████████████████████████████████████████████████████████████████████████████████████████████████████████████████████████████████████████████████████████| 647/647 [00:08<00:00, 71.94it/s]\n"
     ]
    },
    {
     "name": "stdout",
     "output_type": "stream",
     "text": [
      "EPOCH: 93, Loss: 0.05569171524770996\n"
     ]
    },
    {
     "name": "stderr",
     "output_type": "stream",
     "text": [
      "100%|███████████████████████████████████████████████████████████████████████████████████████████████████████████████████████████████████████████████████████████████████████████████████████████████████████████████████████████| 647/647 [00:08<00:00, 71.89it/s]\n"
     ]
    },
    {
     "name": "stdout",
     "output_type": "stream",
     "text": [
      "EPOCH: 94, Loss: 0.054876874349492344\n"
     ]
    },
    {
     "name": "stderr",
     "output_type": "stream",
     "text": [
      "100%|███████████████████████████████████████████████████████████████████████████████████████████████████████████████████████████████████████████████████████████████████████████████████████████████████████████████████████████| 647/647 [00:08<00:00, 72.35it/s]\n"
     ]
    },
    {
     "name": "stdout",
     "output_type": "stream",
     "text": [
      "EPOCH: 95, Loss: 0.05373289078854647\n"
     ]
    },
    {
     "name": "stderr",
     "output_type": "stream",
     "text": [
      "100%|███████████████████████████████████████████████████████████████████████████████████████████████████████████████████████████████████████████████████████████████████████████████████████████████████████████████████████████| 647/647 [00:08<00:00, 72.12it/s]\n"
     ]
    },
    {
     "name": "stdout",
     "output_type": "stream",
     "text": [
      "EPOCH: 96, Loss: 0.054025405284086524\n"
     ]
    },
    {
     "name": "stderr",
     "output_type": "stream",
     "text": [
      "100%|███████████████████████████████████████████████████████████████████████████████████████████████████████████████████████████████████████████████████████████████████████████████████████████████████████████████████████████| 647/647 [00:09<00:00, 71.69it/s]\n"
     ]
    },
    {
     "name": "stdout",
     "output_type": "stream",
     "text": [
      "EPOCH: 97, Loss: 0.0539187646323913\n"
     ]
    },
    {
     "name": "stderr",
     "output_type": "stream",
     "text": [
      "100%|███████████████████████████████████████████████████████████████████████████████████████████████████████████████████████████████████████████████████████████████████████████████████████████████████████████████████████████| 647/647 [00:09<00:00, 71.84it/s]\n"
     ]
    },
    {
     "name": "stdout",
     "output_type": "stream",
     "text": [
      "EPOCH: 98, Loss: 0.05339738518005416\n"
     ]
    },
    {
     "name": "stderr",
     "output_type": "stream",
     "text": [
      "100%|███████████████████████████████████████████████████████████████████████████████████████████████████████████████████████████████████████████████████████████████████████████████████████████████████████████████████████████| 647/647 [00:08<00:00, 72.11it/s]\n"
     ]
    },
    {
     "name": "stdout",
     "output_type": "stream",
     "text": [
      "EPOCH: 99, Loss: 0.052236022942356373\n"
     ]
    }
   ],
   "source": [
    "#%% train again\n",
    "num_epochs = 100\n",
    "losses = []\n",
    "best_loss = 1e10\n",
    "train_dataset = NpzDataset2(npz_tr_path)\n",
    "train_dataloader = DataLoader(train_dataset, batch_size=1, shuffle=True)\n",
    "for epoch in range(num_epochs):\n",
    "    epoch_loss = 0\n",
    "    # train\n",
    "    for step, (image_embedding, gt2D, boxes, points,index) in enumerate(tqdm(train_dataloader)):\n",
    "        # do not compute gradients for image encoder and prompt encoder\n",
    "        with torch.no_grad():\n",
    "            # convert box to 1024x1024 grid\n",
    "#             box_np = boxes.numpy()\n",
    "#             sam_trans = ResizeLongestSide(sam_model.image_encoder.img_size)\n",
    "#             box = sam_trans.apply_boxes(box_np, (gt2D.shape[-2], gt2D.shape[-1]))\n",
    "#             box_torch = torch.as_tensor(box, dtype=torch.float, device=device)\n",
    "#             if len(box_torch.shape) == 2:\n",
    "#                 box_torch = box_torch[:, None, :] # (B, 1, 4)\\\n",
    "            # print(box_torch)\n",
    "            \n",
    "#             point_np = points.numpy()\n",
    "#             points_p=points_p.to(device)\n",
    "#             labels_p=labels_p.to(device)\n",
    "            # point = sam_trans.apply_coords(point_np, (gt2D.shape[-2], gt2D.shape[-1]))\n",
    "#             point_torch = torch.as_tensor(point_np, dtype=torch.int, device=device)\n",
    "#             point_labels = torch.ones((point_torch.shape[0],point_torch.shape[1]), dtype=torch.int)\n",
    "            # print(point_labels)\n",
    "#             point_labels = point_labels.to(device=device)\n",
    "            # print(point_torch.shape)\n",
    "            # print(point_labels.shape)\n",
    "            # print(box_torch)\n",
    "            # print(len(point_np),point_np)\n",
    "            # print(len(point),point)\n",
    "            # print(len(point_torch),point_torch)\n",
    "            # print(point_labels)\n",
    "#             print(image_embedding.size())\n",
    "#             print(points_p_torch.size(),points_labels_torch.size())\n",
    "            points_=[]\n",
    "            labels_=[]\n",
    "            for i2 in index:\n",
    "                points_p=[]\n",
    "                labels_p=[]\n",
    "                for cxy in guide_clicks[i2.item()][\"clicks_positive\"]:\n",
    "                    points_p.append(cxy)\n",
    "                    labels_p.append(1)\n",
    "                for cxy in guide_clicks[i2.item()][\"clicks_negative\"]:\n",
    "                    points_p.append(cxy)\n",
    "                    labels_p.append(0)\n",
    "                points_.append(points_p)\n",
    "                labels_.append(labels_p)\n",
    "#             print(points_,labels_)\n",
    "#             print(image_embedding.size())\n",
    "            points_p_torch=torch.as_tensor(points_,dtype=torch.int,device=device)\n",
    "            points_labels_torch=torch.as_tensor(labels_,dtype=torch.int,device=device)\n",
    "#             print(points_p_torch.size(),points_labels_torch.size())\n",
    "            if(points_p_torch.size()[1]==0):\n",
    "                point_np = points.numpy()\n",
    "                points_p_torch = torch.as_tensor(point_np, dtype=torch.int, device=device)\n",
    "                point_labels = torch.ones((points_p_torch.shape[0],points_p_torch.shape[1]), dtype=torch.int)\n",
    "                points_labels_torch = point_labels.to(device=device)\n",
    "#             break\n",
    "            # get prompt embeddings \n",
    "            sparse_embeddings, dense_embeddings = sam_model.prompt_encoder(\n",
    "                points=(points_p_torch,points_labels_torch),\n",
    "                boxes=None,#box_torch,\n",
    "                masks=None,\n",
    "            )\n",
    "        mask_predictions, _ = sam_model.mask_decoder(\n",
    "            image_embeddings=image_embedding.to(device), # (B, 256, 64, 64)\n",
    "            image_pe=sam_model.prompt_encoder.get_dense_pe(), # (1, 256, 64, 64)\n",
    "            sparse_prompt_embeddings=sparse_embeddings, # (B, 2, 256)\n",
    "            dense_prompt_embeddings=dense_embeddings, # (B, 256, 64, 64)\n",
    "            multimask_output=False,\n",
    "        )\n",
    "\n",
    "        loss = seg_loss(mask_predictions, gt2D.to(device))\n",
    "        optimizer.zero_grad()\n",
    "        loss.backward()\n",
    "        optimizer.step()\n",
    "        epoch_loss += loss.item()\n",
    "    \n",
    "    epoch_loss /= step\n",
    "    losses.append(epoch_loss)\n",
    "    print(f'EPOCH: {epoch}, Loss: {epoch_loss}')\n",
    "    # save the latest model checkpoint\n",
    "    torch.save(sam_model.state_dict(), join(model_save_path, 'sam_model_latest.pth'))\n",
    "    # save the best model\n",
    "    if epoch_loss < best_loss:\n",
    "        best_loss = epoch_loss\n",
    "        torch.save(sam_model.state_dict(), join(model_save_path, 'sam_model_best.pth'))"
   ]
  },
  {
   "cell_type": "code",
   "execution_count": 24,
   "metadata": {},
   "outputs": [
    {
     "data": {
      "image/png": "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",
      "text/plain": [
       "<Figure size 640x480 with 1 Axes>"
      ]
     },
     "metadata": {},
     "output_type": "display_data"
    }
   ],
   "source": [
    "# plot loss\n",
    "plt.plot(losses)\n",
    "plt.title('Dice + Cross Entropy Loss')\n",
    "plt.xlabel('Epoch')\n",
    "plt.ylabel('Loss')\n",
    "plt.show() # comment this line if you are running on a server\n",
    "plt.savefig(join(model_save_path, 'train_loss.png'))\n",
    "plt.close()"
   ]
  },
  {
   "cell_type": "code",
   "execution_count": 25,
   "metadata": {},
   "outputs": [
    {
     "name": "stdout",
     "output_type": "stream",
     "text": [
      "self.img_embeddings.shape=(647, 256, 64, 64), self.ori_gts.shape=(647, 256, 256)\n"
     ]
    }
   ],
   "source": [
    "train_dataset2 = NpzDataset2(npz_tr_path)\n",
    "train_dataloader2 = DataLoader(train_dataset2, batch_size=1, shuffle=False)"
   ]
  },
  {
   "cell_type": "code",
   "execution_count": 26,
   "metadata": {},
   "outputs": [],
   "source": [
    "import matplotlib\n",
    "matplotlib.use(\"agg\")"
   ]
  },
  {
   "cell_type": "code",
   "execution_count": 29,
   "metadata": {
    "scrolled": true
   },
   "outputs": [
    {
     "name": "stderr",
     "output_type": "stream",
     "text": [
      "100%|██████████████████████████████████████████████████████████████████████████████████████████████████████████████████████████████████████████████████████████████████████████████████████████████████████████████████████████████████████| 647/647 [04:18<00:00,  2.50it/s]"
     ]
    },
    {
     "name": "stdout",
     "output_type": "stream",
     "text": [
      "Original MedSAM mean dsc: 0.925877113512869\n",
      "ClickSAM mean dsc: 0.9559062177484569\n"
     ]
    },
    {
     "name": "stderr",
     "output_type": "stream",
     "text": [
      "\n"
     ]
    }
   ],
   "source": [
    "#%% compare the segmentation results between the original SAM model and the fine-tuned model\n",
    "# load the original SAM model\n",
    "from skimage import io\n",
    "from skimage.transform import resize\n",
    "\n",
    "ori_sam_model = sam_model_registry[model_type](checkpoint=\"word_dir/SAM/sam_vit_b_01ec64.pth\").to(device)\n",
    "ori_sam_predictor = SamPredictor(ori_sam_model)\n",
    "\n",
    "ori_medsam_model = sam_model_registry[model_type](checkpoint=\"work_dir/MedSAM/sam_model_best.pth\").to(device)\n",
    "ori_medsam_model.train()\n",
    "\n",
    "click_sam_model = sam_model_registry[model_type](checkpoint=\"work_dir/BUSIfinalclick/sam_model_best.pth\").to(device)\n",
    "click_sam_model.train()\n",
    "\n",
    "#seg_click_model = sam_model_registry[model_type](checkpoint=\"work_dir/Segclicktrain/pytorch_model.bin\").to(device)\n",
    "#seg_click_model.train()\n",
    "\n",
    "ts_img_path = 'data/BUSI2Dtrain/images'\n",
    "ts_gt_path = 'data/BUSI2Dtrain/labels'\n",
    "test_names = sorted(os.listdir(ts_img_path))\n",
    "\n",
    "def get_bbox_from_mask(mask):\n",
    "    '''Returns a bounding box from a mask'''\n",
    "    y_indices, x_indices = np.where(mask > 0)\n",
    "    x_min, x_max = np.min(x_indices), np.max(x_indices)\n",
    "    y_min, y_max = np.min(y_indices), np.max(y_indices)\n",
    "    # add perturbation to bounding box coordinates\n",
    "    H, W = mask.shape\n",
    "    x_min = max(0, x_min - np.random.randint(0, 20))\n",
    "    x_max = min(W, x_max + np.random.randint(0, 20))\n",
    "    y_min = max(0, y_min - np.random.randint(0, 20))\n",
    "    y_max = min(H, y_max + np.random.randint(0, 20))\n",
    "\n",
    "    return np.array([x_min, y_min, x_max, y_max])\n",
    "\n",
    "def show_mask(mask, ax, random_color=False):\n",
    "    if random_color:\n",
    "        color = np.concatenate([np.random.random(3), np.array([0.6])], axis=0)\n",
    "    else:\n",
    "        color = np.array([251/255, 252/255, 30/255, 0.6])\n",
    "    h, w = mask.shape[-2:]\n",
    "    mask_image = mask.reshape(h, w, 1) * color.reshape(1, 1, -1)\n",
    "    ax.imshow(mask_image)\n",
    "    \n",
    "def show_points(box, ax, color):\n",
    "    \n",
    "    x0, y0 = box[0], box[1]\n",
    "    w, h = 2,2 #box[2] - box[0], box[3] - box[1]\n",
    "    ax.add_patch(plt.Rectangle((x0, y0), w, h, edgecolor=color, facecolor=(0,0,0,0), lw=2))    \n",
    "\n",
    "def show_box(box, ax):\n",
    "    x0, y0 = box[0], box[1]\n",
    "    w, h = box[2] - box[0], box[3] - box[1]\n",
    "    ax.add_patch(plt.Rectangle((x0, y0), w, h, edgecolor='blue', facecolor=(0,0,0,0), lw=2))    \n",
    "    \n",
    "# # random select a test case\n",
    "# img_idx = np.random.randint(len(test_names))\n",
    "# image_data = io.imread(join(ts_img_path, test_names[img_idx]))\n",
    "# image_data = resize(image_data,(256,256),anti_aliasing=True)\n",
    "# if image_data.shape[-1]>3 and len(image_data.shape)==3:\n",
    "#     image_data = image_data[:,:,:3]\n",
    "# if len(image_data.shape)==2:\n",
    "#     image_data = np.repeat(image_data[:,:,None], 3, axis=-1)\n",
    "# # read ground truth (gt should have the same name as the image) and simulate a bounding box\n",
    "# def get_bbox_from_mask(mask):\n",
    "#     '''Returns a bounding box from a mask'''\n",
    "#     y_indices, x_indices = np.where(mask > 0)\n",
    "#     x_min, x_max = np.min(x_indices), np.max(x_indices)\n",
    "#     y_min, y_max = np.min(y_indices), np.max(y_indices)\n",
    "#     # add perturbation to bounding box coordinates\n",
    "#     H, W = mask.shape\n",
    "#     x_min = max(0, x_min - np.random.randint(0, 20))\n",
    "#     x_max = min(W, x_max + np.random.randint(0, 20))\n",
    "#     y_min = max(0, y_min - np.random.randint(0, 20))\n",
    "#     y_max = min(H, y_max + np.random.randint(0, 20))\n",
    "\n",
    "#     return np.array([x_min, y_min, x_max, y_max])\n",
    "# num=test_names[img_idx].split(\"(\")[1].split(\")\")[0]\n",
    "# if len(num)==1:\n",
    "#     gt_name = test_names[img_idx].split(\".\")[0][0] + \"00\" + test_names[img_idx].split(\"(\")[1].split(\")\")[0]+ \".png\"\n",
    "# elif len(num)==2:\n",
    "#     gt_name = test_names[img_idx].split(\".\")[0][0] + \"0\" + test_names[img_idx].split(\"(\")[1].split(\")\")[0]+ \".png\"\n",
    "# else:\n",
    "#     gt_name = test_names[img_idx].split(\".\")[0][0] + test_names[img_idx].split(\"(\")[1].split(\")\")[0]+ \".png\"\n",
    "\n",
    "original_sam_dsc=[]\n",
    "original_medsam_dsc=[]\n",
    "click_sam_dsc=[]\n",
    "for i, (image_embedding, gt2D, boxes, points, index) in enumerate(tqdm(train_dataloader2)):\n",
    "#     print(points,points.size())\n",
    "    points_=points.detach().cpu().numpy().copy()[0]\n",
    "#     print(points_)\n",
    "    points_[0]=points_[0][::-1]\n",
    "#     print(points_)\n",
    "#     print(points)\n",
    "    labels_=[1 for _ in range(len(points))]\n",
    "    \n",
    "    gt_data = io.imread(f\"data/BUSIresized/BUSI2Dgts/{i}.png\")\n",
    "    gt_data = resize(gt_data,(256,256),anti_aliasing=True)\n",
    "    image_data = io.imread(f\"data/BUSIresized/BUSI2Doriginal/{i}.png\")\n",
    "    image_data = resize(image_data,(256,256),anti_aliasing=True)\n",
    "\n",
    "    # preprocess: cut-off and max-min normalization\n",
    "    lower_bound, upper_bound = np.percentile(image_data, 0.5), np.percentile(image_data, 99.5)\n",
    "    image_data_pre = np.clip(image_data, lower_bound, upper_bound)\n",
    "    image_data_pre = (image_data_pre - np.min(image_data_pre))/(np.max(image_data_pre)-np.min(image_data_pre))*255.0\n",
    "    image_data_pre[image_data==0] = 0\n",
    "    image_data_pre = np.uint8(image_data_pre)\n",
    "    H, W, _ = image_data_pre.shape\n",
    "    points_=[]\n",
    "    labels_=[]\n",
    "    # predict the segmentation mask using the original SAM model\n",
    "#     ori_sam_predictor.set_image(image_data_pre)\n",
    "#     ori_sam_seg, _, _ = ori_sam_predictor.predict(point_coords=points_,point_labels=labels_, box=None, multimask_output=False)\n",
    "    with torch.no_grad():\n",
    "        for i2 in index:\n",
    "            points_p=[]\n",
    "            labels_p=[]\n",
    "            for cxy in guide_clicks[i2.item()][\"clicks_positive\"]:\n",
    "                points_p.append(cxy)\n",
    "                labels_p.append(1)\n",
    "            for cxy in guide_clicks[i2.item()][\"clicks_negative\"]:\n",
    "                points_p.append(cxy)\n",
    "                labels_p.append(0)\n",
    "            points_.append(points_p)\n",
    "            labels_.append(labels_p)\n",
    "        points_p_torch=torch.as_tensor(points_,dtype=torch.int,device=device)\n",
    "        points_labels_torch=torch.as_tensor(labels_,dtype=torch.int,device=device)\n",
    "\n",
    "        if(points_p_torch.size()[1]==0):\n",
    "            point_np = points.numpy()\n",
    "            points_p_torch = torch.as_tensor(point_np, dtype=torch.int, device=device)\n",
    "            point_labels = torch.ones((points_p_torch.shape[0],points_p_torch.shape[1]), dtype=torch.int)\n",
    "            points_labels_torch = point_labels.to(device=device)\n",
    "        sparse_embeddings, dense_embeddings = click_sam_model.prompt_encoder(\n",
    "            points=(points_p_torch, points_labels_torch), #(points.to(device),torch.ones((points.shape[0],points.shape[1]), dtype=torch.int).to(device)),\n",
    "            boxes=None,\n",
    "            masks=None,\n",
    "        )\n",
    "        click_sam_seg_prob, _ = click_sam_model.mask_decoder(\n",
    "            image_embeddings=image_embedding.to(device), # (B, 256, 64, 64)\n",
    "            image_pe=click_sam_model.prompt_encoder.get_dense_pe(), # (1, 256, 64, 64)\n",
    "            sparse_prompt_embeddings=sparse_embeddings, # (B, 2, 256)\n",
    "            dense_prompt_embeddings=dense_embeddings, # (B, 256, 64, 64)\n",
    "            multimask_output=False,\n",
    "        )\n",
    "        bbox_raw = get_bbox_from_mask(gt_data)\n",
    "        sam_trans = ResizeLongestSide(ori_medsam_model.image_encoder.img_size)\n",
    "        bbox = sam_trans.apply_boxes(bbox_raw, (H, W))\n",
    "        box_torch = torch.as_tensor(bbox, dtype=torch.float, device=device)\n",
    "        if len(box_torch.shape) == 2:\n",
    "            box_torch = box_torch[:, None, :] # (B, 4) -> (B, 1, 4)\n",
    "#         print(box_torch)\n",
    "        sparse_embeddings2, dense_embeddings2 = ori_medsam_model.prompt_encoder(\n",
    "            points=None,\n",
    "            boxes=box_torch,\n",
    "            masks=None,\n",
    "        )\n",
    "        ori_medsam_seg_prob, _ = ori_medsam_model.mask_decoder(\n",
    "            image_embeddings=image_embedding.to(device), # (B, 256, 64, 64)\n",
    "            image_pe=ori_medsam_model.prompt_encoder.get_dense_pe(), # (1, 256, 64, 64)\n",
    "            sparse_prompt_embeddings=sparse_embeddings2, # (B, 2, 256)\n",
    "            dense_prompt_embeddings=dense_embeddings2, # (B, 256, 64, 64)\n",
    "            multimask_output=False,\n",
    "        )\n",
    "    click_sam_seg_prob = torch.sigmoid(click_sam_seg_prob)\n",
    "    # convert soft mask to hard mask\n",
    "    click_sam_seg_prob = click_sam_seg_prob.cpu().numpy().squeeze()\n",
    "    click_sam_seg = (click_sam_seg_prob > 0.5).astype(np.uint8)\n",
    "    ori_medsam_seg_prob = torch.sigmoid(ori_medsam_seg_prob)\n",
    "    # convert soft mask to hard mask\n",
    "    ori_medsam_seg_prob = ori_medsam_seg_prob.cpu().numpy().squeeze()\n",
    "    ori_medsam_seg = (ori_medsam_seg_prob > 0.5).astype(np.uint8)\n",
    "    \n",
    "#     print(click_sam_seg.shape)\n",
    "#     ori_sam_dsc = compute_dice_coefficient(gt_data>0, ori_sam_seg>0)\n",
    "    ori_medsam_dsc=compute_dice_coefficient(gt_data>0, ori_medsam_seg>0)\n",
    "    cli_sam_dsc = compute_dice_coefficient(gt_data>0, click_sam_seg>0)\n",
    "#     original_sam_dsc.append(ori_sam_dsc)\n",
    "    original_medsam_dsc.append(ori_medsam_dsc)\n",
    "    click_sam_dsc.append(cli_sam_dsc)\n",
    "#     print('Original SAM DSC: {:.4f}'.format(ori_sam_dsc), 'Click SAM DSC: {:.4f}'.format(cli_sam_dsc))\n",
    "    fig=plt.figure(figsize=(25,25))\n",
    "    ax1=fig.add_subplot(1,3,1)\n",
    "    ax2=fig.add_subplot(1,3,2)\n",
    "    ax3=fig.add_subplot(1,3,3)\n",
    "#     _, axs = plt.subplots(1, 3, figsize=(25, 25))\n",
    "    ax1.imshow(image_data)\n",
    "    show_mask(gt_data>0, ax1)\n",
    "    # plt.plot(points_[0])\n",
    "#     show_points([points_[0][0],points_[0][1]], ax1)\n",
    "    # axs[0].set_title('Mask with Tuned Model', fontsize=20)\n",
    "    ax1.axis('off')\n",
    "\n",
    "    ax2.imshow(image_data)\n",
    "    show_mask(ori_medsam_seg, ax2)\n",
    "    # plt.plot(points_[0])\n",
    "    show_box(bbox_raw, ax2)\n",
    "    # add text to image to show dice score\n",
    "#     axs[1].text(0.5, 0.5, 'SAM DSC: {:.4f}'.format(ori_sam_dsc), fontsize=30, horizontalalignment='left', verticalalignment='top', color='yellow')\n",
    "    ax2.text(0.5, 0.5, 'MedSAM DSC: {:.4f}'.format(ori_medsam_dsc), fontsize=30, horizontalalignment='left', verticalalignment='top', color='yellow')\n",
    "    # axs[1].set_title('Mask with Untuned Model', fontsize=20)\n",
    "    ax2.axis('off')\n",
    "\n",
    "    ax3.imshow(image_data)\n",
    "    show_mask(click_sam_seg, ax3)\n",
    "    # plt.plot(points_[0])\n",
    "#     print(index)\n",
    "#     print(guide_clicks)\n",
    "#     break\n",
    "    for c in guide_clicks[int(i)][\"clicks_positive\"]:\n",
    "        # Pillow and Numpy disagree on the meaning of X and Y\n",
    "        # we use the Numpy convention\n",
    "        # so for Pillow we swap X and Y\n",
    "        show_points([c[1],c[0]],ax3, 'lime')\n",
    "#         ImageDraw.Draw(s_merged).rectangle(\n",
    "#             xy=[(c[1] - 1, c[0] - 1), (c[1] + 1, c[0] + 1)],\n",
    "#             outline=(0, 255, 0),\n",
    "#             fill=(0, 255, 0),\n",
    "#             width=1,\n",
    "#         )\n",
    "\n",
    "    for c in guide_clicks[int(i)][\"clicks_negative\"]:\n",
    "        # Pillow and Numpy disagree on the meaning of X and Y\n",
    "        # we use the Numpy convention\n",
    "        # so for Pillow we swap X and Y\n",
    "        show_points([c[1],c[0]],ax3, 'red')\n",
    "#         ImageDraw.Draw(s_merged).rectangle(\n",
    "#             xy=[(c[1] - 1, c[0] - 1), (c[1] + 1, c[0] + 1)],\n",
    "#             outline=(255, 0, 0),\n",
    "#             fill=(255, 0, 0),\n",
    "#             width=1,\n",
    "#         )\n",
    "    show_points([points[0][0][1],points[0][0][0]], ax3, 'blue')\n",
    "    # add text to image to show dice score\n",
    "    ax3.text(0.5, 0.5, 'Click SAM DSC: {:.4f}'.format(cli_sam_dsc), fontsize=30, horizontalalignment='left', verticalalignment='top', color='yellow')\n",
    "    # axs[2].set_title('Ground Truth', fontsize=20)\n",
    "    ax3.axis('off')\n",
    "#     plt.show()  \n",
    "    plt.subplots_adjust(wspace=0.01, hspace=0)\n",
    "    fig.savefig(f\"compare_medsam_final_click_sam/{i}.png\")\n",
    "    \n",
    "    # save plot\n",
    "    # plt.savefig(join(model_save_path, test_npzs[npz_idx].split('.npz')[0] + str(img_id).zfill(3) + '.png'), bbox_inches='tight', dpi=300)\n",
    "    plt.clf()\n",
    "    plt.close(\"all\")\n",
    "# print(\"Original SAM mean dsc:\", sum(original_sam_dsc)/len(original_sam_dsc))\n",
    "print(\"Original MedSAM mean dsc:\", sum(original_medsam_dsc)/len(original_medsam_dsc))\n",
    "print(\"ClickSAM mean dsc:\", sum(click_sam_dsc)/len(click_sam_dsc))\n"
   ]
  },
  {
   "cell_type": "code",
   "execution_count": 30,
   "metadata": {},
   "outputs": [],
   "source": [
    "import time"
   ]
  },
  {
   "cell_type": "code",
   "execution_count": 32,
   "metadata": {},
   "outputs": [
    {
     "name": "stderr",
     "output_type": "stream",
     "text": [
      "  0%|▎                                                                                                                                                                                                                                       | 1/647 [00:00<05:55,  1.82it/s]"
     ]
    },
    {
     "name": "stdout",
     "output_type": "stream",
     "text": [
      "0.5163359642028809\n"
     ]
    },
    {
     "name": "stderr",
     "output_type": "stream",
     "text": [
      "\r\n",
      "  0%|▋                                                                                                                                                                                                                                       | 2/647 [00:01<06:03,  1.77it/s]"
     ]
    },
    {
     "name": "stdout",
     "output_type": "stream",
     "text": [
      "0.5375020503997803\n"
     ]
    },
    {
     "name": "stderr",
     "output_type": "stream",
     "text": [
      "\r\n",
      "  0%|█                                                                                                                                                                                                                                       | 3/647 [00:01<06:04,  1.77it/s]"
     ]
    },
    {
     "name": "stdout",
     "output_type": "stream",
     "text": [
      "0.5339326858520508\n"
     ]
    },
    {
     "name": "stderr",
     "output_type": "stream",
     "text": [
      "\r\n",
      "  1%|█▍                                                                                                                                                                                                                                      | 4/647 [00:02<06:13,  1.72it/s]"
     ]
    },
    {
     "name": "stdout",
     "output_type": "stream",
     "text": [
      "0.5684504508972168\n"
     ]
    },
    {
     "name": "stderr",
     "output_type": "stream",
     "text": [
      "\r\n",
      "  1%|█▊                                                                                                                                                                                                                                      | 5/647 [00:02<06:11,  1.73it/s]"
     ]
    },
    {
     "name": "stdout",
     "output_type": "stream",
     "text": [
      "0.5434091091156006\n"
     ]
    },
    {
     "name": "stderr",
     "output_type": "stream",
     "text": [
      "\r\n",
      "  1%|██▏                                                                                                                                                                                                                                     | 6/647 [00:03<06:08,  1.74it/s]"
     ]
    },
    {
     "name": "stdout",
     "output_type": "stream",
     "text": [
      "0.5334353446960449\n"
     ]
    },
    {
     "name": "stderr",
     "output_type": "stream",
     "text": [
      "\r\n",
      "  1%|██▌                                                                                                                                                                                                                                     | 7/647 [00:03<06:03,  1.76it/s]"
     ]
    },
    {
     "name": "stdout",
     "output_type": "stream",
     "text": [
      "0.5199196338653564\n"
     ]
    },
    {
     "name": "stderr",
     "output_type": "stream",
     "text": [
      "\r\n",
      "  1%|██▊                                                                                                                                                                                                                                     | 8/647 [00:04<06:00,  1.77it/s]"
     ]
    },
    {
     "name": "stdout",
     "output_type": "stream",
     "text": [
      "0.5210363864898682\n"
     ]
    },
    {
     "name": "stderr",
     "output_type": "stream",
     "text": [
      "\r\n",
      "  1%|███▏                                                                                                                                                                                                                                    | 9/647 [00:05<06:00,  1.77it/s]"
     ]
    },
    {
     "name": "stdout",
     "output_type": "stream",
     "text": [
      "0.5351948738098145\n"
     ]
    },
    {
     "name": "stderr",
     "output_type": "stream",
     "text": [
      "\r\n",
      "  2%|███▌                                                                                                                                                                                                                                   | 10/647 [00:05<06:22,  1.66it/s]"
     ]
    },
    {
     "name": "stdout",
     "output_type": "stream",
     "text": [
      "0.6469898223876953\n"
     ]
    },
    {
     "name": "stderr",
     "output_type": "stream",
     "text": [
      "\r\n",
      "  2%|███▉                                                                                                                                                                                                                                   | 11/647 [00:06<06:21,  1.67it/s]"
     ]
    },
    {
     "name": "stdout",
     "output_type": "stream",
     "text": [
      "0.5661354064941406\n"
     ]
    },
    {
     "name": "stderr",
     "output_type": "stream",
     "text": [
      "\r\n",
      "  2%|████▎                                                                                                                                                                                                                                  | 12/647 [00:06<06:14,  1.70it/s]"
     ]
    },
    {
     "name": "stdout",
     "output_type": "stream",
     "text": [
      "0.5312995910644531\n"
     ]
    },
    {
     "name": "stderr",
     "output_type": "stream",
     "text": [
      "\r\n",
      "  2%|████▋                                                                                                                                                                                                                                  | 13/647 [00:07<06:11,  1.71it/s]"
     ]
    },
    {
     "name": "stdout",
     "output_type": "stream",
     "text": [
      "0.5443966388702393\n"
     ]
    },
    {
     "name": "stderr",
     "output_type": "stream",
     "text": [
      "\r\n",
      "  2%|████▉                                                                                                                                                                                                                                  | 14/647 [00:08<06:10,  1.71it/s]"
     ]
    },
    {
     "name": "stdout",
     "output_type": "stream",
     "text": [
      "0.5512304306030273\n"
     ]
    },
    {
     "name": "stderr",
     "output_type": "stream",
     "text": [
      "\r\n",
      "  2%|█████▎                                                                                                                                                                                                                                 | 15/647 [00:08<06:03,  1.74it/s]"
     ]
    },
    {
     "name": "stdout",
     "output_type": "stream",
     "text": [
      "0.5191705226898193\n"
     ]
    },
    {
     "name": "stderr",
     "output_type": "stream",
     "text": [
      "\r\n",
      "  2%|█████▋                                                                                                                                                                                                                                 | 16/647 [00:09<05:58,  1.76it/s]"
     ]
    },
    {
     "name": "stdout",
     "output_type": "stream",
     "text": [
      "0.5167500972747803\n"
     ]
    },
    {
     "name": "stderr",
     "output_type": "stream",
     "text": [
      "\r\n",
      "  3%|██████                                                                                                                                                                                                                                 | 17/647 [00:09<05:58,  1.76it/s]"
     ]
    },
    {
     "name": "stdout",
     "output_type": "stream",
     "text": [
      "0.5348527431488037\n"
     ]
    },
    {
     "name": "stderr",
     "output_type": "stream",
     "text": [
      "\r\n",
      "  3%|██████▍                                                                                                                                                                                                                                | 18/647 [00:10<05:55,  1.77it/s]"
     ]
    },
    {
     "name": "stdout",
     "output_type": "stream",
     "text": [
      "0.5259609222412109\n"
     ]
    },
    {
     "name": "stderr",
     "output_type": "stream",
     "text": [
      "\r\n",
      "  3%|██████▊                                                                                                                                                                                                                                | 19/647 [00:10<05:53,  1.78it/s]"
     ]
    },
    {
     "name": "stdout",
     "output_type": "stream",
     "text": [
      "0.5208938121795654\n"
     ]
    },
    {
     "name": "stderr",
     "output_type": "stream",
     "text": [
      "\r\n",
      "  3%|███████▏                                                                                                                                                                                                                               | 20/647 [00:11<05:52,  1.78it/s]"
     ]
    },
    {
     "name": "stdout",
     "output_type": "stream",
     "text": [
      "0.5258851051330566\n"
     ]
    },
    {
     "name": "stderr",
     "output_type": "stream",
     "text": [
      "\r\n",
      "  3%|███████▍                                                                                                                                                                                                                               | 21/647 [00:12<05:50,  1.79it/s]"
     ]
    },
    {
     "name": "stdout",
     "output_type": "stream",
     "text": [
      "0.5207839012145996\n"
     ]
    },
    {
     "name": "stderr",
     "output_type": "stream",
     "text": [
      "\r\n",
      "  3%|███████▊                                                                                                                                                                                                                               | 22/647 [00:12<05:48,  1.79it/s]"
     ]
    },
    {
     "name": "stdout",
     "output_type": "stream",
     "text": [
      "0.5202968120574951\n"
     ]
    },
    {
     "name": "stderr",
     "output_type": "stream",
     "text": [
      "\r\n",
      "  4%|████████▏                                                                                                                                                                                                                              | 23/647 [00:13<05:46,  1.80it/s]"
     ]
    },
    {
     "name": "stdout",
     "output_type": "stream",
     "text": [
      "0.5178537368774414\n"
     ]
    },
    {
     "name": "stderr",
     "output_type": "stream",
     "text": [
      "\r\n",
      "  4%|████████▌                                                                                                                                                                                                                              | 24/647 [00:13<06:20,  1.64it/s]"
     ]
    },
    {
     "name": "stdout",
     "output_type": "stream",
     "text": [
      "0.5687911510467529\n"
     ]
    },
    {
     "name": "stderr",
     "output_type": "stream",
     "text": [
      "\r\n",
      "  4%|████████▉                                                                                                                                                                                                                              | 25/647 [00:14<06:08,  1.69it/s]"
     ]
    },
    {
     "name": "stdout",
     "output_type": "stream",
     "text": [
      "0.5179312229156494\n"
     ]
    },
    {
     "name": "stderr",
     "output_type": "stream",
     "text": [
      "\r\n",
      "  4%|█████████▎                                                                                                                                                                                                                             | 26/647 [00:14<06:01,  1.72it/s]"
     ]
    },
    {
     "name": "stdout",
     "output_type": "stream",
     "text": [
      "0.522862434387207\n"
     ]
    },
    {
     "name": "stderr",
     "output_type": "stream",
     "text": [
      "\r\n",
      "  4%|█████████▋                                                                                                                                                                                                                             | 27/647 [00:15<06:01,  1.72it/s]"
     ]
    },
    {
     "name": "stdout",
     "output_type": "stream",
     "text": [
      "0.5511894226074219\n"
     ]
    },
    {
     "name": "stderr",
     "output_type": "stream",
     "text": [
      "\r\n",
      "  4%|█████████▉                                                                                                                                                                                                                             | 28/647 [00:16<05:55,  1.74it/s]"
     ]
    },
    {
     "name": "stdout",
     "output_type": "stream",
     "text": [
      "0.5203723907470703\n"
     ]
    },
    {
     "name": "stderr",
     "output_type": "stream",
     "text": [
      "\r\n",
      "  4%|██████████▎                                                                                                                                                                                                                            | 29/647 [00:16<05:51,  1.76it/s]"
     ]
    },
    {
     "name": "stdout",
     "output_type": "stream",
     "text": [
      "0.5208499431610107\n"
     ]
    },
    {
     "name": "stderr",
     "output_type": "stream",
     "text": [
      "\r\n",
      "  5%|██████████▋                                                                                                                                                                                                                            | 30/647 [00:17<05:47,  1.78it/s]"
     ]
    },
    {
     "name": "stdout",
     "output_type": "stream",
     "text": [
      "0.5173993110656738\n"
     ]
    },
    {
     "name": "stderr",
     "output_type": "stream",
     "text": [
      "\r\n",
      "  5%|███████████                                                                                                                                                                                                                            | 31/647 [00:17<05:46,  1.78it/s]"
     ]
    },
    {
     "name": "stdout",
     "output_type": "stream",
     "text": [
      "0.527634859085083\n"
     ]
    },
    {
     "name": "stderr",
     "output_type": "stream",
     "text": [
      "\r\n",
      "  5%|███████████▍                                                                                                                                                                                                                           | 32/647 [00:18<05:44,  1.78it/s]"
     ]
    },
    {
     "name": "stdout",
     "output_type": "stream",
     "text": [
      "0.5218758583068848\n"
     ]
    },
    {
     "name": "stderr",
     "output_type": "stream",
     "text": [
      "\r\n",
      "  5%|███████████▊                                                                                                                                                                                                                           | 33/647 [00:18<05:43,  1.79it/s]"
     ]
    },
    {
     "name": "stdout",
     "output_type": "stream",
     "text": [
      "0.5234315395355225\n"
     ]
    },
    {
     "name": "stderr",
     "output_type": "stream",
     "text": [
      "\r\n",
      "  5%|████████████▏                                                                                                                                                                                                                          | 34/647 [00:19<05:42,  1.79it/s]"
     ]
    },
    {
     "name": "stdout",
     "output_type": "stream",
     "text": [
      "0.5241796970367432\n"
     ]
    },
    {
     "name": "stderr",
     "output_type": "stream",
     "text": [
      "\r\n",
      "  5%|████████████▍                                                                                                                                                                                                                          | 35/647 [00:20<05:43,  1.78it/s]"
     ]
    },
    {
     "name": "stdout",
     "output_type": "stream",
     "text": [
      "0.5312063694000244\n"
     ]
    },
    {
     "name": "stderr",
     "output_type": "stream",
     "text": [
      "\r\n",
      "  6%|████████████▊                                                                                                                                                                                                                          | 36/647 [00:20<05:44,  1.77it/s]"
     ]
    },
    {
     "name": "stdout",
     "output_type": "stream",
     "text": [
      "0.5384566783905029\n"
     ]
    },
    {
     "name": "stderr",
     "output_type": "stream",
     "text": [
      "\r\n",
      "  6%|█████████████▏                                                                                                                                                                                                                         | 37/647 [00:21<05:47,  1.75it/s]"
     ]
    },
    {
     "name": "stdout",
     "output_type": "stream",
     "text": [
      "0.5489463806152344\n"
     ]
    },
    {
     "name": "stderr",
     "output_type": "stream",
     "text": [
      "\r\n",
      "  6%|█████████████▌                                                                                                                                                                                                                         | 38/647 [00:21<05:43,  1.77it/s]"
     ]
    },
    {
     "name": "stdout",
     "output_type": "stream",
     "text": [
      "0.5185222625732422\n"
     ]
    },
    {
     "name": "stderr",
     "output_type": "stream",
     "text": [
      "\r\n",
      "  6%|█████████████▉                                                                                                                                                                                                                         | 39/647 [00:22<06:05,  1.66it/s]"
     ]
    },
    {
     "name": "stdout",
     "output_type": "stream",
     "text": [
      "0.6549196243286133\n"
     ]
    },
    {
     "name": "stderr",
     "output_type": "stream",
     "text": [
      "\r\n",
      "  6%|██████████████▎                                                                                                                                                                                                                        | 40/647 [00:22<05:56,  1.70it/s]"
     ]
    },
    {
     "name": "stdout",
     "output_type": "stream",
     "text": [
      "0.520388126373291\n"
     ]
    },
    {
     "name": "stderr",
     "output_type": "stream",
     "text": [
      "\r\n",
      "  6%|██████████████▋                                                                                                                                                                                                                        | 41/647 [00:23<05:50,  1.73it/s]"
     ]
    },
    {
     "name": "stdout",
     "output_type": "stream",
     "text": [
      "0.5217978954315186\n"
     ]
    },
    {
     "name": "stderr",
     "output_type": "stream",
     "text": [
      "\r\n",
      "  6%|██████████████▉                                                                                                                                                                                                                        | 42/647 [00:24<05:45,  1.75it/s]"
     ]
    },
    {
     "name": "stdout",
     "output_type": "stream",
     "text": [
      "0.5216937065124512\n"
     ]
    },
    {
     "name": "stderr",
     "output_type": "stream",
     "text": [
      "\r\n",
      "  7%|███████████████▎                                                                                                                                                                                                                       | 43/647 [00:24<05:41,  1.77it/s]"
     ]
    },
    {
     "name": "stdout",
     "output_type": "stream",
     "text": [
      "0.5209846496582031\n"
     ]
    },
    {
     "name": "stderr",
     "output_type": "stream",
     "text": [
      "\r\n",
      "  7%|███████████████▋                                                                                                                                                                                                                       | 44/647 [00:25<05:38,  1.78it/s]"
     ]
    },
    {
     "name": "stdout",
     "output_type": "stream",
     "text": [
      "0.5145246982574463\n"
     ]
    },
    {
     "name": "stderr",
     "output_type": "stream",
     "text": [
      "\r\n",
      "  7%|████████████████                                                                                                                                                                                                                       | 45/647 [00:25<05:36,  1.79it/s]"
     ]
    },
    {
     "name": "stdout",
     "output_type": "stream",
     "text": [
      "0.5216295719146729\n"
     ]
    },
    {
     "name": "stderr",
     "output_type": "stream",
     "text": [
      "\r\n",
      "  7%|████████████████▍                                                                                                                                                                                                                      | 46/647 [00:26<05:35,  1.79it/s]"
     ]
    },
    {
     "name": "stdout",
     "output_type": "stream",
     "text": [
      "0.5228836536407471\n"
     ]
    },
    {
     "name": "stderr",
     "output_type": "stream",
     "text": [
      "\r\n",
      "  7%|████████████████▊                                                                                                                                                                                                                      | 47/647 [00:26<05:35,  1.79it/s]"
     ]
    },
    {
     "name": "stdout",
     "output_type": "stream",
     "text": [
      "0.5293374061584473\n"
     ]
    },
    {
     "name": "stderr",
     "output_type": "stream",
     "text": [
      "\r\n",
      "  7%|█████████████████▏                                                                                                                                                                                                                     | 48/647 [00:27<05:41,  1.76it/s]"
     ]
    },
    {
     "name": "stdout",
     "output_type": "stream",
     "text": [
      "0.5593409538269043\n"
     ]
    },
    {
     "name": "stderr",
     "output_type": "stream",
     "text": [
      "\r\n",
      "  8%|█████████████████▍                                                                                                                                                                                                                     | 49/647 [00:28<05:39,  1.76it/s]"
     ]
    },
    {
     "name": "stdout",
     "output_type": "stream",
     "text": [
      "0.5319898128509521\n"
     ]
    },
    {
     "name": "stderr",
     "output_type": "stream",
     "text": [
      "\r\n",
      "  8%|█████████████████▊                                                                                                                                                                                                                     | 50/647 [00:28<05:37,  1.77it/s]"
     ]
    },
    {
     "name": "stdout",
     "output_type": "stream",
     "text": [
      "0.5246086120605469\n"
     ]
    },
    {
     "name": "stderr",
     "output_type": "stream",
     "text": [
      "\r\n",
      "  8%|██████████████████▏                                                                                                                                                                                                                    | 51/647 [00:29<05:34,  1.78it/s]"
     ]
    },
    {
     "name": "stdout",
     "output_type": "stream",
     "text": [
      "0.5160701274871826\n"
     ]
    },
    {
     "name": "stderr",
     "output_type": "stream",
     "text": [
      "\r\n",
      "  8%|██████████████████▌                                                                                                                                                                                                                    | 52/647 [00:29<05:32,  1.79it/s]"
     ]
    },
    {
     "name": "stdout",
     "output_type": "stream",
     "text": [
      "0.5233657360076904\n"
     ]
    },
    {
     "name": "stderr",
     "output_type": "stream",
     "text": [
      "\r\n",
      "  8%|██████████████████▉                                                                                                                                                                                                                    | 53/647 [00:30<05:54,  1.67it/s]"
     ]
    },
    {
     "name": "stdout",
     "output_type": "stream",
     "text": [
      "0.5128743648529053\n"
     ]
    },
    {
     "name": "stderr",
     "output_type": "stream",
     "text": [
      "\r\n",
      "  8%|███████████████████▎                                                                                                                                                                                                                   | 54/647 [00:30<05:46,  1.71it/s]"
     ]
    },
    {
     "name": "stdout",
     "output_type": "stream",
     "text": [
      "0.5211362838745117\n"
     ]
    },
    {
     "name": "stderr",
     "output_type": "stream",
     "text": [
      "\r\n",
      "  9%|███████████████████▋                                                                                                                                                                                                                   | 55/647 [00:31<05:41,  1.73it/s]"
     ]
    },
    {
     "name": "stdout",
     "output_type": "stream",
     "text": [
      "0.526174783706665\n"
     ]
    },
    {
     "name": "stderr",
     "output_type": "stream",
     "text": [
      "\r\n",
      "  9%|███████████████████▉                                                                                                                                                                                                                   | 56/647 [00:32<05:37,  1.75it/s]"
     ]
    },
    {
     "name": "stdout",
     "output_type": "stream",
     "text": [
      "0.5227499008178711\n"
     ]
    },
    {
     "name": "stderr",
     "output_type": "stream",
     "text": [
      "\r\n",
      "  9%|████████████████████▎                                                                                                                                                                                                                  | 57/647 [00:32<05:34,  1.76it/s]"
     ]
    },
    {
     "name": "stdout",
     "output_type": "stream",
     "text": [
      "0.5239119529724121\n"
     ]
    },
    {
     "name": "stderr",
     "output_type": "stream",
     "text": [
      "\r\n",
      "  9%|████████████████████▋                                                                                                                                                                                                                  | 58/647 [00:33<05:31,  1.78it/s]"
     ]
    },
    {
     "name": "stdout",
     "output_type": "stream",
     "text": [
      "0.5176424980163574\n"
     ]
    },
    {
     "name": "stderr",
     "output_type": "stream",
     "text": [
      "\r\n",
      "  9%|█████████████████████                                                                                                                                                                                                                  | 59/647 [00:33<05:29,  1.78it/s]"
     ]
    },
    {
     "name": "stdout",
     "output_type": "stream",
     "text": [
      "0.5211203098297119\n"
     ]
    },
    {
     "name": "stderr",
     "output_type": "stream",
     "text": [
      "\r\n",
      "  9%|█████████████████████▍                                                                                                                                                                                                                 | 60/647 [00:34<05:29,  1.78it/s]"
     ]
    },
    {
     "name": "stdout",
     "output_type": "stream",
     "text": [
      "0.5324628353118896\n"
     ]
    },
    {
     "name": "stderr",
     "output_type": "stream",
     "text": [
      "\r\n",
      "  9%|█████████████████████▊                                                                                                                                                                                                                 | 61/647 [00:34<05:29,  1.78it/s]"
     ]
    },
    {
     "name": "stdout",
     "output_type": "stream",
     "text": [
      "0.5269410610198975\n"
     ]
    },
    {
     "name": "stderr",
     "output_type": "stream",
     "text": [
      "\r\n",
      " 10%|██████████████████████▏                                                                                                                                                                                                                | 62/647 [00:35<05:28,  1.78it/s]"
     ]
    },
    {
     "name": "stdout",
     "output_type": "stream",
     "text": [
      "0.5287206172943115\n"
     ]
    },
    {
     "name": "stderr",
     "output_type": "stream",
     "text": [
      "\r\n",
      " 10%|██████████████████████▍                                                                                                                                                                                                                | 63/647 [00:35<05:27,  1.78it/s]"
     ]
    },
    {
     "name": "stdout",
     "output_type": "stream",
     "text": [
      "0.5249879360198975\n"
     ]
    },
    {
     "name": "stderr",
     "output_type": "stream",
     "text": [
      "\r\n",
      " 10%|██████████████████████▊                                                                                                                                                                                                                | 64/647 [00:36<05:26,  1.79it/s]"
     ]
    },
    {
     "name": "stdout",
     "output_type": "stream",
     "text": [
      "0.5241580009460449\n"
     ]
    },
    {
     "name": "stderr",
     "output_type": "stream",
     "text": [
      "\r\n",
      " 10%|███████████████████████▏                                                                                                                                                                                                               | 65/647 [00:37<05:24,  1.79it/s]"
     ]
    },
    {
     "name": "stdout",
     "output_type": "stream",
     "text": [
      "0.5219817161560059\n"
     ]
    },
    {
     "name": "stderr",
     "output_type": "stream",
     "text": [
      "\r\n",
      " 10%|███████████████████████▌                                                                                                                                                                                                               | 66/647 [00:37<05:26,  1.78it/s]"
     ]
    },
    {
     "name": "stdout",
     "output_type": "stream",
     "text": [
      "0.5352287292480469\n"
     ]
    },
    {
     "name": "stderr",
     "output_type": "stream",
     "text": [
      "\r\n",
      " 10%|███████████████████████▉                                                                                                                                                                                                               | 67/647 [00:38<05:23,  1.79it/s]"
     ]
    },
    {
     "name": "stdout",
     "output_type": "stream",
     "text": [
      "0.5163662433624268\n"
     ]
    },
    {
     "name": "stderr",
     "output_type": "stream",
     "text": [
      "\r\n",
      " 11%|████████████████████████▎                                                                                                                                                                                                              | 68/647 [00:38<05:45,  1.68it/s]"
     ]
    },
    {
     "name": "stdout",
     "output_type": "stream",
     "text": [
      "0.6520051956176758\n"
     ]
    },
    {
     "name": "stderr",
     "output_type": "stream",
     "text": [
      "\r\n",
      " 11%|████████████████████████▋                                                                                                                                                                                                              | 69/647 [00:39<05:37,  1.71it/s]"
     ]
    },
    {
     "name": "stdout",
     "output_type": "stream",
     "text": [
      "0.520355224609375\n"
     ]
    },
    {
     "name": "stderr",
     "output_type": "stream",
     "text": [
      "\r\n",
      " 11%|████████████████████████▉                                                                                                                                                                                                              | 70/647 [00:39<05:32,  1.74it/s]"
     ]
    },
    {
     "name": "stdout",
     "output_type": "stream",
     "text": [
      "0.524550199508667\n"
     ]
    },
    {
     "name": "stderr",
     "output_type": "stream",
     "text": [
      "\r\n",
      " 11%|█████████████████████████▎                                                                                                                                                                                                             | 71/647 [00:40<05:28,  1.75it/s]"
     ]
    },
    {
     "name": "stdout",
     "output_type": "stream",
     "text": [
      "0.5212135314941406\n"
     ]
    },
    {
     "name": "stderr",
     "output_type": "stream",
     "text": [
      "\r\n",
      " 11%|█████████████████████████▋                                                                                                                                                                                                             | 72/647 [00:41<05:25,  1.77it/s]"
     ]
    },
    {
     "name": "stdout",
     "output_type": "stream",
     "text": [
      "0.5229377746582031\n"
     ]
    },
    {
     "name": "stderr",
     "output_type": "stream",
     "text": [
      "\r\n",
      " 11%|██████████████████████████                                                                                                                                                                                                             | 73/647 [00:41<05:25,  1.76it/s]"
     ]
    },
    {
     "name": "stdout",
     "output_type": "stream",
     "text": [
      "0.5375373363494873\n"
     ]
    },
    {
     "name": "stderr",
     "output_type": "stream",
     "text": [
      "\r\n",
      " 11%|██████████████████████████▍                                                                                                                                                                                                            | 74/647 [00:42<05:22,  1.77it/s]"
     ]
    },
    {
     "name": "stdout",
     "output_type": "stream",
     "text": [
      "0.5197997093200684\n"
     ]
    },
    {
     "name": "stderr",
     "output_type": "stream",
     "text": [
      "\r\n",
      " 12%|██████████████████████████▊                                                                                                                                                                                                            | 75/647 [00:42<05:23,  1.77it/s]"
     ]
    },
    {
     "name": "stdout",
     "output_type": "stream",
     "text": [
      "0.5322713851928711\n"
     ]
    },
    {
     "name": "stderr",
     "output_type": "stream",
     "text": [
      "\r\n",
      " 12%|███████████████████████████▏                                                                                                                                                                                                           | 76/647 [00:43<05:21,  1.78it/s]"
     ]
    },
    {
     "name": "stdout",
     "output_type": "stream",
     "text": [
      "0.5239050388336182\n"
     ]
    },
    {
     "name": "stderr",
     "output_type": "stream",
     "text": [
      "\r\n",
      " 12%|███████████████████████████▍                                                                                                                                                                                                           | 77/647 [00:43<05:19,  1.78it/s]"
     ]
    },
    {
     "name": "stdout",
     "output_type": "stream",
     "text": [
      "0.5220098495483398\n"
     ]
    },
    {
     "name": "stderr",
     "output_type": "stream",
     "text": [
      "\r\n",
      " 12%|███████████████████████████▊                                                                                                                                                                                                           | 78/647 [00:44<05:18,  1.79it/s]"
     ]
    },
    {
     "name": "stdout",
     "output_type": "stream",
     "text": [
      "0.5226733684539795\n"
     ]
    },
    {
     "name": "stderr",
     "output_type": "stream",
     "text": [
      "\r\n",
      " 12%|████████████████████████████▏                                                                                                                                                                                                          | 79/647 [00:45<05:16,  1.79it/s]"
     ]
    },
    {
     "name": "stdout",
     "output_type": "stream",
     "text": [
      "0.5205647945404053\n"
     ]
    },
    {
     "name": "stderr",
     "output_type": "stream",
     "text": [
      "\r\n",
      " 12%|████████████████████████████▌                                                                                                                                                                                                          | 80/647 [00:45<05:16,  1.79it/s]"
     ]
    },
    {
     "name": "stdout",
     "output_type": "stream",
     "text": [
      "0.5259485244750977\n"
     ]
    },
    {
     "name": "stderr",
     "output_type": "stream",
     "text": [
      "\r\n",
      " 13%|████████████████████████████▉                                                                                                                                                                                                          | 81/647 [00:46<05:15,  1.79it/s]"
     ]
    },
    {
     "name": "stdout",
     "output_type": "stream",
     "text": [
      "0.5222277641296387\n"
     ]
    },
    {
     "name": "stderr",
     "output_type": "stream",
     "text": [
      "\r\n",
      " 13%|█████████████████████████████▎                                                                                                                                                                                                         | 82/647 [00:46<05:38,  1.67it/s]"
     ]
    },
    {
     "name": "stdout",
     "output_type": "stream",
     "text": [
      "0.5272488594055176\n"
     ]
    },
    {
     "name": "stderr",
     "output_type": "stream",
     "text": [
      "\r\n",
      " 13%|█████████████████████████████▋                                                                                                                                                                                                         | 83/647 [00:47<05:34,  1.69it/s]"
     ]
    },
    {
     "name": "stdout",
     "output_type": "stream",
     "text": [
      "0.5437171459197998\n"
     ]
    },
    {
     "name": "stderr",
     "output_type": "stream",
     "text": [
      "\r\n",
      " 13%|█████████████████████████████▉                                                                                                                                                                                                         | 84/647 [00:47<05:26,  1.72it/s]"
     ]
    },
    {
     "name": "stdout",
     "output_type": "stream",
     "text": [
      "0.5180096626281738\n"
     ]
    },
    {
     "name": "stderr",
     "output_type": "stream",
     "text": [
      "\r\n",
      " 13%|██████████████████████████████▎                                                                                                                                                                                                        | 85/647 [00:48<05:22,  1.75it/s]"
     ]
    },
    {
     "name": "stdout",
     "output_type": "stream",
     "text": [
      "0.5231549739837646\n"
     ]
    },
    {
     "name": "stderr",
     "output_type": "stream",
     "text": [
      "\r\n",
      " 13%|██████████████████████████████▋                                                                                                                                                                                                        | 86/647 [00:49<05:18,  1.76it/s]"
     ]
    },
    {
     "name": "stdout",
     "output_type": "stream",
     "text": [
      "0.5245168209075928\n"
     ]
    },
    {
     "name": "stderr",
     "output_type": "stream",
     "text": [
      "\r\n",
      " 13%|███████████████████████████████                                                                                                                                                                                                        | 87/647 [00:49<05:16,  1.77it/s]"
     ]
    },
    {
     "name": "stdout",
     "output_type": "stream",
     "text": [
      "0.5202353000640869\n"
     ]
    },
    {
     "name": "stderr",
     "output_type": "stream",
     "text": [
      "\r\n",
      " 14%|███████████████████████████████▍                                                                                                                                                                                                       | 88/647 [00:50<05:13,  1.78it/s]"
     ]
    },
    {
     "name": "stdout",
     "output_type": "stream",
     "text": [
      "0.5208098888397217\n"
     ]
    },
    {
     "name": "stderr",
     "output_type": "stream",
     "text": [
      "\r\n",
      " 14%|███████████████████████████████▊                                                                                                                                                                                                       | 89/647 [00:50<05:13,  1.78it/s]"
     ]
    },
    {
     "name": "stdout",
     "output_type": "stream",
     "text": [
      "0.5258119106292725\n"
     ]
    },
    {
     "name": "stderr",
     "output_type": "stream",
     "text": [
      "\r\n",
      " 14%|████████████████████████████████▏                                                                                                                                                                                                      | 90/647 [00:51<05:12,  1.78it/s]"
     ]
    },
    {
     "name": "stdout",
     "output_type": "stream",
     "text": [
      "0.525914192199707\n"
     ]
    },
    {
     "name": "stderr",
     "output_type": "stream",
     "text": [
      "\r\n",
      " 14%|████████████████████████████████▍                                                                                                                                                                                                      | 91/647 [00:51<05:10,  1.79it/s]"
     ]
    },
    {
     "name": "stdout",
     "output_type": "stream",
     "text": [
      "0.5225059986114502\n"
     ]
    },
    {
     "name": "stderr",
     "output_type": "stream",
     "text": [
      "\r\n",
      " 14%|████████████████████████████████▊                                                                                                                                                                                                      | 92/647 [00:52<05:09,  1.79it/s]"
     ]
    },
    {
     "name": "stdout",
     "output_type": "stream",
     "text": [
      "0.5235471725463867\n"
     ]
    },
    {
     "name": "stderr",
     "output_type": "stream",
     "text": [
      "\r\n",
      " 14%|█████████████████████████████████▏                                                                                                                                                                                                     | 93/647 [00:52<05:08,  1.80it/s]"
     ]
    },
    {
     "name": "stdout",
     "output_type": "stream",
     "text": [
      "0.5196642875671387\n"
     ]
    },
    {
     "name": "stderr",
     "output_type": "stream",
     "text": [
      "\r\n",
      " 15%|█████████████████████████████████▌                                                                                                                                                                                                     | 94/647 [00:53<05:08,  1.79it/s]"
     ]
    },
    {
     "name": "stdout",
     "output_type": "stream",
     "text": [
      "0.5266578197479248\n"
     ]
    },
    {
     "name": "stderr",
     "output_type": "stream",
     "text": [
      "\r\n",
      " 15%|█████████████████████████████████▉                                                                                                                                                                                                     | 95/647 [00:54<05:07,  1.79it/s]"
     ]
    },
    {
     "name": "stdout",
     "output_type": "stream",
     "text": [
      "0.5233252048492432\n"
     ]
    },
    {
     "name": "stderr",
     "output_type": "stream",
     "text": [
      "\r\n",
      " 15%|██████████████████████████████████▎                                                                                                                                                                                                    | 96/647 [00:54<05:06,  1.80it/s]"
     ]
    },
    {
     "name": "stdout",
     "output_type": "stream",
     "text": [
      "0.5193157196044922\n"
     ]
    },
    {
     "name": "stderr",
     "output_type": "stream",
     "text": [
      "\r\n",
      " 15%|██████████████████████████████████▋                                                                                                                                                                                                    | 97/647 [00:55<05:28,  1.68it/s]"
     ]
    },
    {
     "name": "stdout",
     "output_type": "stream",
     "text": [
      "0.6591603755950928\n"
     ]
    },
    {
     "name": "stderr",
     "output_type": "stream",
     "text": [
      "\r\n",
      " 15%|██████████████████████████████████▉                                                                                                                                                                                                    | 98/647 [00:55<05:20,  1.71it/s]"
     ]
    },
    {
     "name": "stdout",
     "output_type": "stream",
     "text": [
      "0.5198183059692383\n"
     ]
    },
    {
     "name": "stderr",
     "output_type": "stream",
     "text": [
      "\r\n",
      " 15%|███████████████████████████████████▎                                                                                                                                                                                                   | 99/647 [00:56<05:14,  1.74it/s]"
     ]
    },
    {
     "name": "stdout",
     "output_type": "stream",
     "text": [
      "0.5157899856567383\n"
     ]
    },
    {
     "name": "stderr",
     "output_type": "stream",
     "text": [
      "\r\n",
      " 15%|███████████████████████████████████▌                                                                                                                                                                                                  | 100/647 [00:56<05:10,  1.76it/s]"
     ]
    },
    {
     "name": "stdout",
     "output_type": "stream",
     "text": [
      "0.519960880279541\n"
     ]
    },
    {
     "name": "stderr",
     "output_type": "stream",
     "text": [
      "\r\n",
      " 16%|███████████████████████████████████▉                                                                                                                                                                                                  | 101/647 [00:57<05:07,  1.78it/s]"
     ]
    },
    {
     "name": "stdout",
     "output_type": "stream",
     "text": [
      "0.5192420482635498\n"
     ]
    },
    {
     "name": "stderr",
     "output_type": "stream",
     "text": [
      "\r\n",
      " 16%|████████████████████████████████████▎                                                                                                                                                                                                 | 102/647 [00:58<05:05,  1.78it/s]"
     ]
    },
    {
     "name": "stdout",
     "output_type": "stream",
     "text": [
      "0.5211288928985596\n"
     ]
    },
    {
     "name": "stderr",
     "output_type": "stream",
     "text": [
      "\r\n",
      " 16%|████████████████████████████████████▌                                                                                                                                                                                                 | 103/647 [00:58<05:04,  1.79it/s]"
     ]
    },
    {
     "name": "stdout",
     "output_type": "stream",
     "text": [
      "0.5211911201477051\n"
     ]
    },
    {
     "name": "stderr",
     "output_type": "stream",
     "text": [
      "\r\n",
      " 16%|████████████████████████████████████▉                                                                                                                                                                                                 | 104/647 [00:59<05:03,  1.79it/s]"
     ]
    },
    {
     "name": "stdout",
     "output_type": "stream",
     "text": [
      "0.5189425945281982\n"
     ]
    },
    {
     "name": "stderr",
     "output_type": "stream",
     "text": [
      "\r\n",
      " 16%|█████████████████████████████████████▎                                                                                                                                                                                                | 105/647 [00:59<05:03,  1.79it/s]"
     ]
    },
    {
     "name": "stdout",
     "output_type": "stream",
     "text": [
      "0.5255091190338135\n"
     ]
    },
    {
     "name": "stderr",
     "output_type": "stream",
     "text": [
      "\r\n",
      " 16%|█████████████████████████████████████▋                                                                                                                                                                                                | 106/647 [01:00<05:02,  1.79it/s]"
     ]
    },
    {
     "name": "stdout",
     "output_type": "stream",
     "text": [
      "0.5270187854766846\n"
     ]
    },
    {
     "name": "stderr",
     "output_type": "stream",
     "text": [
      "\r\n",
      " 17%|██████████████████████████████████████                                                                                                                                                                                                | 107/647 [01:00<05:02,  1.78it/s]"
     ]
    },
    {
     "name": "stdout",
     "output_type": "stream",
     "text": [
      "0.5296804904937744\n"
     ]
    },
    {
     "name": "stderr",
     "output_type": "stream",
     "text": [
      "\r\n",
      " 17%|██████████████████████████████████████▍                                                                                                                                                                                               | 108/647 [01:01<05:02,  1.78it/s]"
     ]
    },
    {
     "name": "stdout",
     "output_type": "stream",
     "text": [
      "0.526289701461792\n"
     ]
    },
    {
     "name": "stderr",
     "output_type": "stream",
     "text": [
      "\r\n",
      " 17%|██████████████████████████████████████▋                                                                                                                                                                                               | 109/647 [01:01<05:00,  1.79it/s]"
     ]
    },
    {
     "name": "stdout",
     "output_type": "stream",
     "text": [
      "0.5192248821258545\n"
     ]
    },
    {
     "name": "stderr",
     "output_type": "stream",
     "text": [
      "\r\n",
      " 17%|███████████████████████████████████████                                                                                                                                                                                               | 110/647 [01:02<04:58,  1.80it/s]"
     ]
    },
    {
     "name": "stdout",
     "output_type": "stream",
     "text": [
      "0.5210049152374268\n"
     ]
    },
    {
     "name": "stderr",
     "output_type": "stream",
     "text": [
      "\r\n",
      " 17%|███████████████████████████████████████▍                                                                                                                                                                                              | 111/647 [01:03<05:01,  1.78it/s]"
     ]
    },
    {
     "name": "stdout",
     "output_type": "stream",
     "text": [
      "0.5428307056427002\n"
     ]
    },
    {
     "name": "stderr",
     "output_type": "stream",
     "text": [
      "\r\n",
      " 17%|███████████████████████████████████████▊                                                                                                                                                                                              | 112/647 [01:03<05:21,  1.67it/s]"
     ]
    },
    {
     "name": "stdout",
     "output_type": "stream",
     "text": [
      "0.6550276279449463\n"
     ]
    },
    {
     "name": "stderr",
     "output_type": "stream",
     "text": [
      "\r\n",
      " 17%|████████████████████████████████████████▏                                                                                                                                                                                             | 113/647 [01:04<05:12,  1.71it/s]"
     ]
    },
    {
     "name": "stdout",
     "output_type": "stream",
     "text": [
      "0.518592119216919\n"
     ]
    },
    {
     "name": "stderr",
     "output_type": "stream",
     "text": [
      "\r\n",
      " 18%|████████████████████████████████████████▌                                                                                                                                                                                             | 114/647 [01:04<05:08,  1.73it/s]"
     ]
    },
    {
     "name": "stdout",
     "output_type": "stream",
     "text": [
      "0.526094913482666\n"
     ]
    },
    {
     "name": "stderr",
     "output_type": "stream",
     "text": [
      "\r\n",
      " 18%|████████████████████████████████████████▉                                                                                                                                                                                             | 115/647 [01:05<05:03,  1.75it/s]"
     ]
    },
    {
     "name": "stdout",
     "output_type": "stream",
     "text": [
      "0.5222394466400146\n"
     ]
    },
    {
     "name": "stderr",
     "output_type": "stream",
     "text": [
      "\r\n",
      " 18%|█████████████████████████████████████████▏                                                                                                                                                                                            | 116/647 [01:06<05:00,  1.77it/s]"
     ]
    },
    {
     "name": "stdout",
     "output_type": "stream",
     "text": [
      "0.5167322158813477\n"
     ]
    },
    {
     "name": "stderr",
     "output_type": "stream",
     "text": [
      "\r\n",
      " 18%|█████████████████████████████████████████▌                                                                                                                                                                                            | 117/647 [01:06<04:58,  1.77it/s]"
     ]
    },
    {
     "name": "stdout",
     "output_type": "stream",
     "text": [
      "0.5261850357055664\n"
     ]
    },
    {
     "name": "stderr",
     "output_type": "stream",
     "text": [
      "\r\n",
      " 18%|█████████████████████████████████████████▉                                                                                                                                                                                            | 118/647 [01:07<04:57,  1.78it/s]"
     ]
    },
    {
     "name": "stdout",
     "output_type": "stream",
     "text": [
      "0.5238220691680908\n"
     ]
    },
    {
     "name": "stderr",
     "output_type": "stream",
     "text": [
      "\r\n",
      " 18%|██████████████████████████████████████████▎                                                                                                                                                                                           | 119/647 [01:07<04:58,  1.77it/s]"
     ]
    },
    {
     "name": "stdout",
     "output_type": "stream",
     "text": [
      "0.5387201309204102\n"
     ]
    },
    {
     "name": "stderr",
     "output_type": "stream",
     "text": [
      "\r\n",
      " 19%|██████████████████████████████████████████▋                                                                                                                                                                                           | 120/647 [01:08<04:54,  1.79it/s]"
     ]
    },
    {
     "name": "stdout",
     "output_type": "stream",
     "text": [
      "0.5134460926055908\n"
     ]
    },
    {
     "name": "stderr",
     "output_type": "stream",
     "text": [
      "\r\n",
      " 19%|███████████████████████████████████████████                                                                                                                                                                                           | 121/647 [01:08<04:54,  1.78it/s]"
     ]
    },
    {
     "name": "stdout",
     "output_type": "stream",
     "text": [
      "0.5297458171844482\n"
     ]
    },
    {
     "name": "stderr",
     "output_type": "stream",
     "text": [
      "\r\n",
      " 19%|███████████████████████████████████████████▎                                                                                                                                                                                          | 122/647 [01:09<04:52,  1.79it/s]"
     ]
    },
    {
     "name": "stdout",
     "output_type": "stream",
     "text": [
      "0.517005443572998\n"
     ]
    },
    {
     "name": "stderr",
     "output_type": "stream",
     "text": [
      "\r\n",
      " 19%|███████████████████████████████████████████▋                                                                                                                                                                                          | 123/647 [01:09<04:51,  1.80it/s]"
     ]
    },
    {
     "name": "stdout",
     "output_type": "stream",
     "text": [
      "0.5196478366851807\n"
     ]
    },
    {
     "name": "stderr",
     "output_type": "stream",
     "text": [
      "\r\n",
      " 19%|████████████████████████████████████████████                                                                                                                                                                                          | 124/647 [01:10<04:50,  1.80it/s]"
     ]
    },
    {
     "name": "stdout",
     "output_type": "stream",
     "text": [
      "0.5196294784545898\n"
     ]
    },
    {
     "name": "stderr",
     "output_type": "stream",
     "text": [
      "\r\n",
      " 19%|████████████████████████████████████████████▍                                                                                                                                                                                         | 125/647 [01:11<04:51,  1.79it/s]"
     ]
    },
    {
     "name": "stdout",
     "output_type": "stream",
     "text": [
      "0.5289685726165771\n"
     ]
    },
    {
     "name": "stderr",
     "output_type": "stream",
     "text": [
      "\r\n",
      " 19%|████████████████████████████████████████████▊                                                                                                                                                                                         | 126/647 [01:11<05:11,  1.67it/s]"
     ]
    },
    {
     "name": "stdout",
     "output_type": "stream",
     "text": [
      "0.6576197147369385\n"
     ]
    },
    {
     "name": "stderr",
     "output_type": "stream",
     "text": [
      "\r\n",
      " 20%|█████████████████████████████████████████████▏                                                                                                                                                                                        | 127/647 [01:12<05:04,  1.71it/s]"
     ]
    },
    {
     "name": "stdout",
     "output_type": "stream",
     "text": [
      "0.5254950523376465\n"
     ]
    },
    {
     "name": "stderr",
     "output_type": "stream",
     "text": [
      "\r\n",
      " 20%|█████████████████████████████████████████████▌                                                                                                                                                                                        | 128/647 [01:12<04:58,  1.74it/s]"
     ]
    },
    {
     "name": "stdout",
     "output_type": "stream",
     "text": [
      "0.5173816680908203\n"
     ]
    },
    {
     "name": "stderr",
     "output_type": "stream",
     "text": [
      "\r\n",
      " 20%|█████████████████████████████████████████████▊                                                                                                                                                                                        | 129/647 [01:13<04:55,  1.75it/s]"
     ]
    },
    {
     "name": "stdout",
     "output_type": "stream",
     "text": [
      "0.5244162082672119\n"
     ]
    },
    {
     "name": "stderr",
     "output_type": "stream",
     "text": [
      "\r\n",
      " 20%|██████████████████████████████████████████████▏                                                                                                                                                                                       | 130/647 [01:13<04:53,  1.76it/s]"
     ]
    },
    {
     "name": "stdout",
     "output_type": "stream",
     "text": [
      "0.5315845012664795\n"
     ]
    },
    {
     "name": "stderr",
     "output_type": "stream",
     "text": [
      "\r\n",
      " 20%|██████████████████████████████████████████████▌                                                                                                                                                                                       | 131/647 [01:14<04:51,  1.77it/s]"
     ]
    },
    {
     "name": "stdout",
     "output_type": "stream",
     "text": [
      "0.5226387977600098\n"
     ]
    },
    {
     "name": "stderr",
     "output_type": "stream",
     "text": [
      "\r\n",
      " 20%|██████████████████████████████████████████████▉                                                                                                                                                                                       | 132/647 [01:15<04:49,  1.78it/s]"
     ]
    },
    {
     "name": "stdout",
     "output_type": "stream",
     "text": [
      "0.5234441757202148\n"
     ]
    },
    {
     "name": "stderr",
     "output_type": "stream",
     "text": [
      "\r\n",
      " 21%|███████████████████████████████████████████████▎                                                                                                                                                                                      | 133/647 [01:15<04:49,  1.78it/s]"
     ]
    },
    {
     "name": "stdout",
     "output_type": "stream",
     "text": [
      "0.5301637649536133\n"
     ]
    },
    {
     "name": "stderr",
     "output_type": "stream",
     "text": [
      "\r\n",
      " 21%|███████████████████████████████████████████████▋                                                                                                                                                                                      | 134/647 [01:16<04:47,  1.78it/s]"
     ]
    },
    {
     "name": "stdout",
     "output_type": "stream",
     "text": [
      "0.5223023891448975\n"
     ]
    },
    {
     "name": "stderr",
     "output_type": "stream",
     "text": [
      "\r\n",
      " 21%|███████████████████████████████████████████████▉                                                                                                                                                                                      | 135/647 [01:16<04:47,  1.78it/s]"
     ]
    },
    {
     "name": "stdout",
     "output_type": "stream",
     "text": [
      "0.5286762714385986\n"
     ]
    },
    {
     "name": "stderr",
     "output_type": "stream",
     "text": [
      "\r\n",
      " 21%|████████████████████████████████████████████████▎                                                                                                                                                                                     | 136/647 [01:17<04:46,  1.78it/s]"
     ]
    },
    {
     "name": "stdout",
     "output_type": "stream",
     "text": [
      "0.5250587463378906\n"
     ]
    },
    {
     "name": "stderr",
     "output_type": "stream",
     "text": [
      "\r\n",
      " 21%|████████████████████████████████████████████████▋                                                                                                                                                                                     | 137/647 [01:17<04:51,  1.75it/s]"
     ]
    },
    {
     "name": "stdout",
     "output_type": "stream",
     "text": [
      "0.560300350189209\n"
     ]
    },
    {
     "name": "stderr",
     "output_type": "stream",
     "text": [
      "\r\n",
      " 21%|█████████████████████████████████████████████████                                                                                                                                                                                     | 138/647 [01:18<04:49,  1.76it/s]"
     ]
    },
    {
     "name": "stdout",
     "output_type": "stream",
     "text": [
      "0.5280845165252686\n"
     ]
    },
    {
     "name": "stderr",
     "output_type": "stream",
     "text": [
      "\r\n",
      " 21%|█████████████████████████████████████████████████▍                                                                                                                                                                                    | 139/647 [01:19<04:47,  1.76it/s]"
     ]
    },
    {
     "name": "stdout",
     "output_type": "stream",
     "text": [
      "0.5254628658294678\n"
     ]
    },
    {
     "name": "stderr",
     "output_type": "stream",
     "text": [
      "\r\n",
      " 22%|█████████████████████████████████████████████████▊                                                                                                                                                                                    | 140/647 [01:19<04:49,  1.75it/s]"
     ]
    },
    {
     "name": "stdout",
     "output_type": "stream",
     "text": [
      "0.5454807281494141\n"
     ]
    },
    {
     "name": "stderr",
     "output_type": "stream",
     "text": [
      "\r\n",
      " 22%|██████████████████████████████████████████████████                                                                                                                                                                                    | 141/647 [01:20<05:07,  1.65it/s]"
     ]
    },
    {
     "name": "stdout",
     "output_type": "stream",
     "text": [
      "0.6590964794158936\n"
     ]
    },
    {
     "name": "stderr",
     "output_type": "stream",
     "text": [
      "\r\n",
      " 22%|██████████████████████████████████████████████████▍                                                                                                                                                                                   | 142/647 [01:20<04:59,  1.69it/s]"
     ]
    },
    {
     "name": "stdout",
     "output_type": "stream",
     "text": [
      "0.5238504409790039\n"
     ]
    },
    {
     "name": "stderr",
     "output_type": "stream",
     "text": [
      "\r\n",
      " 22%|██████████████████████████████████████████████████▊                                                                                                                                                                                   | 143/647 [01:21<04:54,  1.71it/s]"
     ]
    },
    {
     "name": "stdout",
     "output_type": "stream",
     "text": [
      "0.5312631130218506\n"
     ]
    },
    {
     "name": "stderr",
     "output_type": "stream",
     "text": [
      "\r\n",
      " 22%|███████████████████████████████████████████████████▏                                                                                                                                                                                  | 144/647 [01:22<04:50,  1.73it/s]"
     ]
    },
    {
     "name": "stdout",
     "output_type": "stream",
     "text": [
      "0.525489330291748\n"
     ]
    },
    {
     "name": "stderr",
     "output_type": "stream",
     "text": [
      "\r\n",
      " 22%|███████████████████████████████████████████████████▌                                                                                                                                                                                  | 145/647 [01:22<04:46,  1.75it/s]"
     ]
    },
    {
     "name": "stdout",
     "output_type": "stream",
     "text": [
      "0.5237252712249756\n"
     ]
    },
    {
     "name": "stderr",
     "output_type": "stream",
     "text": [
      "\r\n",
      " 23%|███████████████████████████████████████████████████▉                                                                                                                                                                                  | 146/647 [01:23<04:44,  1.76it/s]"
     ]
    },
    {
     "name": "stdout",
     "output_type": "stream",
     "text": [
      "0.5223815441131592\n"
     ]
    },
    {
     "name": "stderr",
     "output_type": "stream",
     "text": [
      "\r\n",
      " 23%|████████████████████████████████████████████████████▎                                                                                                                                                                                 | 147/647 [01:23<04:41,  1.77it/s]"
     ]
    },
    {
     "name": "stdout",
     "output_type": "stream",
     "text": [
      "0.5213356018066406\n"
     ]
    },
    {
     "name": "stderr",
     "output_type": "stream",
     "text": [
      "\r\n",
      " 23%|████████████████████████████████████████████████████▌                                                                                                                                                                                 | 148/647 [01:24<04:40,  1.78it/s]"
     ]
    },
    {
     "name": "stdout",
     "output_type": "stream",
     "text": [
      "0.5258481502532959\n"
     ]
    },
    {
     "name": "stderr",
     "output_type": "stream",
     "text": [
      "\r\n",
      " 23%|████████████████████████████████████████████████████▉                                                                                                                                                                                 | 149/647 [01:24<04:39,  1.78it/s]"
     ]
    },
    {
     "name": "stdout",
     "output_type": "stream",
     "text": [
      "0.5254549980163574\n"
     ]
    },
    {
     "name": "stderr",
     "output_type": "stream",
     "text": [
      "\r\n",
      " 23%|█████████████████████████████████████████████████████▎                                                                                                                                                                                | 150/647 [01:25<04:40,  1.77it/s]"
     ]
    },
    {
     "name": "stdout",
     "output_type": "stream",
     "text": [
      "0.5373542308807373\n"
     ]
    },
    {
     "name": "stderr",
     "output_type": "stream",
     "text": [
      "\r\n",
      " 23%|█████████████████████████████████████████████████████▋                                                                                                                                                                                | 151/647 [01:25<04:40,  1.77it/s]"
     ]
    },
    {
     "name": "stdout",
     "output_type": "stream",
     "text": [
      "0.5343894958496094\n"
     ]
    },
    {
     "name": "stderr",
     "output_type": "stream",
     "text": [
      "\r\n",
      " 23%|██████████████████████████████████████████████████████                                                                                                                                                                                | 152/647 [01:26<04:39,  1.77it/s]"
     ]
    },
    {
     "name": "stdout",
     "output_type": "stream",
     "text": [
      "0.5300731658935547\n"
     ]
    },
    {
     "name": "stderr",
     "output_type": "stream",
     "text": [
      "\r\n",
      " 24%|██████████████████████████████████████████████████████▍                                                                                                                                                                               | 153/647 [01:27<04:40,  1.76it/s]"
     ]
    },
    {
     "name": "stdout",
     "output_type": "stream",
     "text": [
      "0.5433168411254883\n"
     ]
    },
    {
     "name": "stderr",
     "output_type": "stream",
     "text": [
      "\r\n",
      " 24%|██████████████████████████████████████████████████████▋                                                                                                                                                                               | 154/647 [01:27<04:39,  1.77it/s]"
     ]
    },
    {
     "name": "stdout",
     "output_type": "stream",
     "text": [
      "0.5279936790466309\n"
     ]
    },
    {
     "name": "stderr",
     "output_type": "stream",
     "text": [
      "\r\n",
      " 24%|███████████████████████████████████████████████████████                                                                                                                                                                               | 155/647 [01:28<04:57,  1.65it/s]"
     ]
    },
    {
     "name": "stdout",
     "output_type": "stream",
     "text": [
      "0.5268230438232422\n"
     ]
    },
    {
     "name": "stderr",
     "output_type": "stream",
     "text": [
      "\r\n",
      " 24%|███████████████████████████████████████████████████████▍                                                                                                                                                                              | 156/647 [01:28<04:50,  1.69it/s]"
     ]
    },
    {
     "name": "stdout",
     "output_type": "stream",
     "text": [
      "0.5219693183898926\n"
     ]
    },
    {
     "name": "stderr",
     "output_type": "stream",
     "text": [
      "\r\n",
      " 24%|███████████████████████████████████████████████████████▊                                                                                                                                                                              | 157/647 [01:29<04:45,  1.72it/s]"
     ]
    },
    {
     "name": "stdout",
     "output_type": "stream",
     "text": [
      "0.5240609645843506\n"
     ]
    },
    {
     "name": "stderr",
     "output_type": "stream",
     "text": [
      "\r\n",
      " 24%|████████████████████████████████████████████████████████▏                                                                                                                                                                             | 158/647 [01:30<04:43,  1.72it/s]"
     ]
    },
    {
     "name": "stdout",
     "output_type": "stream",
     "text": [
      "0.5413675308227539\n"
     ]
    },
    {
     "name": "stderr",
     "output_type": "stream",
     "text": [
      "\r\n",
      " 25%|████████████████████████████████████████████████████████▌                                                                                                                                                                             | 159/647 [01:30<04:40,  1.74it/s]"
     ]
    },
    {
     "name": "stdout",
     "output_type": "stream",
     "text": [
      "0.5276486873626709\n"
     ]
    },
    {
     "name": "stderr",
     "output_type": "stream",
     "text": [
      "\r\n",
      " 25%|████████████████████████████████████████████████████████▉                                                                                                                                                                             | 160/647 [01:31<04:38,  1.75it/s]"
     ]
    },
    {
     "name": "stdout",
     "output_type": "stream",
     "text": [
      "0.5287075042724609\n"
     ]
    },
    {
     "name": "stderr",
     "output_type": "stream",
     "text": [
      "\r\n",
      " 25%|█████████████████████████████████████████████████████████▏                                                                                                                                                                            | 161/647 [01:31<04:36,  1.76it/s]"
     ]
    },
    {
     "name": "stdout",
     "output_type": "stream",
     "text": [
      "0.5325701236724854\n"
     ]
    },
    {
     "name": "stderr",
     "output_type": "stream",
     "text": [
      "\r\n",
      " 25%|█████████████████████████████████████████████████████████▌                                                                                                                                                                            | 162/647 [01:32<04:34,  1.77it/s]"
     ]
    },
    {
     "name": "stdout",
     "output_type": "stream",
     "text": [
      "0.5247712135314941\n"
     ]
    },
    {
     "name": "stderr",
     "output_type": "stream",
     "text": [
      "\r\n",
      " 25%|█████████████████████████████████████████████████████████▉                                                                                                                                                                            | 163/647 [01:32<04:33,  1.77it/s]"
     ]
    },
    {
     "name": "stdout",
     "output_type": "stream",
     "text": [
      "0.5265817642211914\n"
     ]
    },
    {
     "name": "stderr",
     "output_type": "stream",
     "text": [
      "\r\n",
      " 25%|██████████████████████████████████████████████████████████▎                                                                                                                                                                           | 164/647 [01:33<04:32,  1.77it/s]"
     ]
    },
    {
     "name": "stdout",
     "output_type": "stream",
     "text": [
      "0.5324232578277588\n"
     ]
    },
    {
     "name": "stderr",
     "output_type": "stream",
     "text": [
      "\r\n",
      " 26%|██████████████████████████████████████████████████████████▋                                                                                                                                                                           | 165/647 [01:33<04:30,  1.78it/s]"
     ]
    },
    {
     "name": "stdout",
     "output_type": "stream",
     "text": [
      "0.521064043045044\n"
     ]
    },
    {
     "name": "stderr",
     "output_type": "stream",
     "text": [
      "\r\n",
      " 26%|███████████████████████████████████████████████████████████                                                                                                                                                                           | 166/647 [01:34<04:29,  1.78it/s]"
     ]
    },
    {
     "name": "stdout",
     "output_type": "stream",
     "text": [
      "0.5258331298828125\n"
     ]
    },
    {
     "name": "stderr",
     "output_type": "stream",
     "text": [
      "\r\n",
      " 26%|███████████████████████████████████████████████████████████▎                                                                                                                                                                          | 167/647 [01:35<04:28,  1.79it/s]"
     ]
    },
    {
     "name": "stdout",
     "output_type": "stream",
     "text": [
      "0.5252015590667725\n"
     ]
    },
    {
     "name": "stderr",
     "output_type": "stream",
     "text": [
      "\r\n",
      " 26%|███████████████████████████████████████████████████████████▋                                                                                                                                                                          | 168/647 [01:35<04:27,  1.79it/s]"
     ]
    },
    {
     "name": "stdout",
     "output_type": "stream",
     "text": [
      "0.5202145576477051\n"
     ]
    },
    {
     "name": "stderr",
     "output_type": "stream",
     "text": [
      "\r\n",
      " 26%|████████████████████████████████████████████████████████████                                                                                                                                                                          | 169/647 [01:36<04:26,  1.80it/s]"
     ]
    },
    {
     "name": "stdout",
     "output_type": "stream",
     "text": [
      "0.5211532115936279\n"
     ]
    },
    {
     "name": "stderr",
     "output_type": "stream",
     "text": [
      "\r\n",
      " 26%|████████████████████████████████████████████████████████████▍                                                                                                                                                                         | 170/647 [01:36<04:45,  1.67it/s]"
     ]
    },
    {
     "name": "stdout",
     "output_type": "stream",
     "text": [
      "0.6616168022155762\n"
     ]
    },
    {
     "name": "stderr",
     "output_type": "stream",
     "text": [
      "\r\n",
      " 26%|████████████████████████████████████████████████████████████▊                                                                                                                                                                         | 171/647 [01:37<04:38,  1.71it/s]"
     ]
    },
    {
     "name": "stdout",
     "output_type": "stream",
     "text": [
      "0.5238809585571289\n"
     ]
    },
    {
     "name": "stderr",
     "output_type": "stream",
     "text": [
      "\r\n",
      " 27%|█████████████████████████████████████████████████████████████▏                                                                                                                                                                        | 172/647 [01:37<04:33,  1.73it/s]"
     ]
    },
    {
     "name": "stdout",
     "output_type": "stream",
     "text": [
      "0.5222485065460205\n"
     ]
    },
    {
     "name": "stderr",
     "output_type": "stream",
     "text": [
      "\r\n",
      " 27%|█████████████████████████████████████████████████████████████▍                                                                                                                                                                        | 173/647 [01:38<04:30,  1.75it/s]"
     ]
    },
    {
     "name": "stdout",
     "output_type": "stream",
     "text": [
      "0.5229506492614746\n"
     ]
    },
    {
     "name": "stderr",
     "output_type": "stream",
     "text": [
      "\r\n",
      " 27%|█████████████████████████████████████████████████████████████▊                                                                                                                                                                        | 174/647 [01:39<04:30,  1.75it/s]"
     ]
    },
    {
     "name": "stdout",
     "output_type": "stream",
     "text": [
      "0.5384390354156494\n"
     ]
    },
    {
     "name": "stderr",
     "output_type": "stream",
     "text": [
      "\r\n",
      " 27%|██████████████████████████████████████████████████████████████▏                                                                                                                                                                       | 175/647 [01:39<04:28,  1.76it/s]"
     ]
    },
    {
     "name": "stdout",
     "output_type": "stream",
     "text": [
      "0.5272910594940186\n"
     ]
    },
    {
     "name": "stderr",
     "output_type": "stream",
     "text": [
      "\r\n",
      " 27%|██████████████████████████████████████████████████████████████▌                                                                                                                                                                       | 176/647 [01:40<04:25,  1.77it/s]"
     ]
    },
    {
     "name": "stdout",
     "output_type": "stream",
     "text": [
      "0.521167516708374\n"
     ]
    },
    {
     "name": "stderr",
     "output_type": "stream",
     "text": [
      "\r\n",
      " 27%|██████████████████████████████████████████████████████████████▉                                                                                                                                                                       | 177/647 [01:40<04:23,  1.78it/s]"
     ]
    },
    {
     "name": "stdout",
     "output_type": "stream",
     "text": [
      "0.5204672813415527\n"
     ]
    },
    {
     "name": "stderr",
     "output_type": "stream",
     "text": [
      "\r\n",
      " 28%|███████████████████████████████████████████████████████████████▎                                                                                                                                                                      | 178/647 [01:41<04:22,  1.79it/s]"
     ]
    },
    {
     "name": "stdout",
     "output_type": "stream",
     "text": [
      "0.5231025218963623\n"
     ]
    },
    {
     "name": "stderr",
     "output_type": "stream",
     "text": [
      "\r\n",
      " 28%|███████████████████████████████████████████████████████████████▋                                                                                                                                                                      | 179/647 [01:41<04:21,  1.79it/s]"
     ]
    },
    {
     "name": "stdout",
     "output_type": "stream",
     "text": [
      "0.5227208137512207\n"
     ]
    },
    {
     "name": "stderr",
     "output_type": "stream",
     "text": [
      "\r\n",
      " 28%|███████████████████████████████████████████████████████████████▉                                                                                                                                                                      | 180/647 [01:42<04:20,  1.79it/s]"
     ]
    },
    {
     "name": "stdout",
     "output_type": "stream",
     "text": [
      "0.5250005722045898\n"
     ]
    },
    {
     "name": "stderr",
     "output_type": "stream",
     "text": [
      "\r\n",
      " 28%|████████████████████████████████████████████████████████████████▎                                                                                                                                                                     | 181/647 [01:43<04:21,  1.78it/s]"
     ]
    },
    {
     "name": "stdout",
     "output_type": "stream",
     "text": [
      "0.5335221290588379\n"
     ]
    },
    {
     "name": "stderr",
     "output_type": "stream",
     "text": [
      "\r\n",
      " 28%|████████████████████████████████████████████████████████████████▋                                                                                                                                                                     | 182/647 [01:43<04:22,  1.77it/s]"
     ]
    },
    {
     "name": "stdout",
     "output_type": "stream",
     "text": [
      "0.5372092723846436\n"
     ]
    },
    {
     "name": "stderr",
     "output_type": "stream",
     "text": [
      "\r\n",
      " 28%|█████████████████████████████████████████████████████████████████                                                                                                                                                                     | 183/647 [01:44<04:21,  1.77it/s]"
     ]
    },
    {
     "name": "stdout",
     "output_type": "stream",
     "text": [
      "0.5295310020446777\n"
     ]
    },
    {
     "name": "stderr",
     "output_type": "stream",
     "text": [
      "\r\n",
      " 28%|█████████████████████████████████████████████████████████████████▍                                                                                                                                                                    | 184/647 [01:44<04:41,  1.65it/s]"
     ]
    },
    {
     "name": "stdout",
     "output_type": "stream",
     "text": [
      "0.5331897735595703\n"
     ]
    },
    {
     "name": "stderr",
     "output_type": "stream",
     "text": [
      "\r\n",
      " 29%|█████████████████████████████████████████████████████████████████▊                                                                                                                                                                    | 185/647 [01:45<04:35,  1.68it/s]"
     ]
    },
    {
     "name": "stdout",
     "output_type": "stream",
     "text": [
      "0.5323333740234375\n"
     ]
    },
    {
     "name": "stderr",
     "output_type": "stream",
     "text": [
      "\r\n",
      " 29%|██████████████████████████████████████████████████████████████████                                                                                                                                                                    | 186/647 [01:45<04:29,  1.71it/s]"
     ]
    },
    {
     "name": "stdout",
     "output_type": "stream",
     "text": [
      "0.5249199867248535\n"
     ]
    },
    {
     "name": "stderr",
     "output_type": "stream",
     "text": [
      "\r\n",
      " 29%|██████████████████████████████████████████████████████████████████▍                                                                                                                                                                   | 187/647 [01:46<04:26,  1.72it/s]"
     ]
    },
    {
     "name": "stdout",
     "output_type": "stream",
     "text": [
      "0.5338356494903564\n"
     ]
    },
    {
     "name": "stderr",
     "output_type": "stream",
     "text": [
      "\r\n",
      " 29%|██████████████████████████████████████████████████████████████████▊                                                                                                                                                                   | 188/647 [01:47<04:29,  1.70it/s]"
     ]
    },
    {
     "name": "stdout",
     "output_type": "stream",
     "text": [
      "0.5708973407745361\n"
     ]
    },
    {
     "name": "stderr",
     "output_type": "stream",
     "text": [
      "\r\n",
      " 29%|███████████████████████████████████████████████████████████████████▏                                                                                                                                                                  | 189/647 [01:47<04:27,  1.71it/s]"
     ]
    },
    {
     "name": "stdout",
     "output_type": "stream",
     "text": [
      "0.5411219596862793\n"
     ]
    },
    {
     "name": "stderr",
     "output_type": "stream",
     "text": [
      "\r\n",
      " 29%|███████████████████████████████████████████████████████████████████▌                                                                                                                                                                  | 190/647 [01:48<04:24,  1.73it/s]"
     ]
    },
    {
     "name": "stdout",
     "output_type": "stream",
     "text": [
      "0.5328578948974609\n"
     ]
    },
    {
     "name": "stderr",
     "output_type": "stream",
     "text": [
      "\r\n",
      " 30%|███████████████████████████████████████████████████████████████████▉                                                                                                                                                                  | 191/647 [01:48<04:21,  1.75it/s]"
     ]
    },
    {
     "name": "stdout",
     "output_type": "stream",
     "text": [
      "0.523453950881958\n"
     ]
    },
    {
     "name": "stderr",
     "output_type": "stream",
     "text": [
      "\r\n",
      " 30%|████████████████████████████████████████████████████████████████████▎                                                                                                                                                                 | 192/647 [01:49<04:21,  1.74it/s]"
     ]
    },
    {
     "name": "stdout",
     "output_type": "stream",
     "text": [
      "0.5440294742584229\n"
     ]
    },
    {
     "name": "stderr",
     "output_type": "stream",
     "text": [
      "\r\n",
      " 30%|████████████████████████████████████████████████████████████████████▌                                                                                                                                                                 | 193/647 [01:50<04:24,  1.72it/s]"
     ]
    },
    {
     "name": "stdout",
     "output_type": "stream",
     "text": [
      "0.5669219493865967\n"
     ]
    },
    {
     "name": "stderr",
     "output_type": "stream",
     "text": [
      "\r\n",
      " 30%|████████████████████████████████████████████████████████████████████▉                                                                                                                                                                 | 194/647 [01:50<04:22,  1.73it/s]"
     ]
    },
    {
     "name": "stdout",
     "output_type": "stream",
     "text": [
      "0.5381193161010742\n"
     ]
    },
    {
     "name": "stderr",
     "output_type": "stream",
     "text": [
      "\r\n",
      " 30%|█████████████████████████████████████████████████████████████████████▎                                                                                                                                                                | 195/647 [01:51<04:20,  1.74it/s]"
     ]
    },
    {
     "name": "stdout",
     "output_type": "stream",
     "text": [
      "0.5358736515045166\n"
     ]
    },
    {
     "name": "stderr",
     "output_type": "stream",
     "text": [
      "\r\n",
      " 30%|█████████████████████████████████████████████████████████████████████▋                                                                                                                                                                | 196/647 [01:51<04:17,  1.75it/s]"
     ]
    },
    {
     "name": "stdout",
     "output_type": "stream",
     "text": [
      "0.5223493576049805\n"
     ]
    },
    {
     "name": "stderr",
     "output_type": "stream",
     "text": [
      "\r\n",
      " 30%|██████████████████████████████████████████████████████████████████████                                                                                                                                                                | 197/647 [01:52<04:16,  1.75it/s]"
     ]
    },
    {
     "name": "stdout",
     "output_type": "stream",
     "text": [
      "0.5364844799041748\n"
     ]
    },
    {
     "name": "stderr",
     "output_type": "stream",
     "text": [
      "\r\n",
      " 31%|██████████████████████████████████████████████████████████████████████▍                                                                                                                                                               | 198/647 [01:52<04:20,  1.72it/s]"
     ]
    },
    {
     "name": "stdout",
     "output_type": "stream",
     "text": [
      "0.568446159362793\n"
     ]
    },
    {
     "name": "stderr",
     "output_type": "stream",
     "text": [
      "\r\n",
      " 31%|██████████████████████████████████████████████████████████████████████▋                                                                                                                                                               | 199/647 [01:53<04:37,  1.62it/s]"
     ]
    },
    {
     "name": "stdout",
     "output_type": "stream",
     "text": [
      "0.6734127998352051\n"
     ]
    },
    {
     "name": "stderr",
     "output_type": "stream",
     "text": [
      "\r\n",
      " 31%|███████████████████████████████████████████████████████████████████████                                                                                                                                                               | 200/647 [01:54<04:30,  1.65it/s]"
     ]
    },
    {
     "name": "stdout",
     "output_type": "stream",
     "text": [
      "0.5389740467071533\n"
     ]
    },
    {
     "name": "stderr",
     "output_type": "stream",
     "text": [
      "\r\n",
      " 31%|███████████████████████████████████████████████████████████████████████▍                                                                                                                                                              | 201/647 [01:54<04:23,  1.69it/s]"
     ]
    },
    {
     "name": "stdout",
     "output_type": "stream",
     "text": [
      "0.521674394607544\n"
     ]
    },
    {
     "name": "stderr",
     "output_type": "stream",
     "text": [
      "\r\n",
      " 31%|███████████████████████████████████████████████████████████████████████▊                                                                                                                                                              | 202/647 [01:55<04:20,  1.71it/s]"
     ]
    },
    {
     "name": "stdout",
     "output_type": "stream",
     "text": [
      "0.5376317501068115\n"
     ]
    },
    {
     "name": "stderr",
     "output_type": "stream",
     "text": [
      "\r\n",
      " 31%|████████████████████████████████████████████████████████████████████████▏                                                                                                                                                             | 203/647 [01:55<04:16,  1.73it/s]"
     ]
    },
    {
     "name": "stdout",
     "output_type": "stream",
     "text": [
      "0.5245161056518555\n"
     ]
    },
    {
     "name": "stderr",
     "output_type": "stream",
     "text": [
      "\r\n",
      " 32%|████████████████████████████████████████████████████████████████████████▌                                                                                                                                                             | 204/647 [01:56<04:13,  1.75it/s]"
     ]
    },
    {
     "name": "stdout",
     "output_type": "stream",
     "text": [
      "0.5239791870117188\n"
     ]
    },
    {
     "name": "stderr",
     "output_type": "stream",
     "text": [
      "\r\n",
      " 32%|████████████████████████████████████████████████████████████████████████▊                                                                                                                                                             | 205/647 [01:56<04:08,  1.78it/s]"
     ]
    },
    {
     "name": "stdout",
     "output_type": "stream",
     "text": [
      "0.5088930130004883\n"
     ]
    },
    {
     "name": "stderr",
     "output_type": "stream",
     "text": [
      "\r\n",
      " 32%|█████████████████████████████████████████████████████████████████████████▏                                                                                                                                                            | 206/647 [01:57<04:06,  1.79it/s]"
     ]
    },
    {
     "name": "stdout",
     "output_type": "stream",
     "text": [
      "0.5166807174682617\n"
     ]
    },
    {
     "name": "stderr",
     "output_type": "stream",
     "text": [
      "\r\n",
      " 32%|█████████████████████████████████████████████████████████████████████████▌                                                                                                                                                            | 207/647 [01:58<04:03,  1.80it/s]"
     ]
    },
    {
     "name": "stdout",
     "output_type": "stream",
     "text": [
      "0.5084021091461182\n"
     ]
    },
    {
     "name": "stderr",
     "output_type": "stream",
     "text": [
      "\r\n",
      " 32%|█████████████████████████████████████████████████████████████████████████▉                                                                                                                                                            | 208/647 [01:58<04:01,  1.82it/s]"
     ]
    },
    {
     "name": "stdout",
     "output_type": "stream",
     "text": [
      "0.5060234069824219\n"
     ]
    },
    {
     "name": "stderr",
     "output_type": "stream",
     "text": [
      "\r\n",
      " 32%|██████████████████████████████████████████████████████████████████████████▎                                                                                                                                                           | 209/647 [01:59<04:03,  1.80it/s]"
     ]
    },
    {
     "name": "stdout",
     "output_type": "stream",
     "text": [
      "0.5355837345123291\n"
     ]
    },
    {
     "name": "stderr",
     "output_type": "stream",
     "text": [
      "\r\n",
      " 32%|██████████████████████████████████████████████████████████████████████████▋                                                                                                                                                           | 210/647 [01:59<04:03,  1.80it/s]"
     ]
    },
    {
     "name": "stdout",
     "output_type": "stream",
     "text": [
      "0.5261514186859131\n"
     ]
    },
    {
     "name": "stderr",
     "output_type": "stream",
     "text": [
      "\r\n",
      " 33%|███████████████████████████████████████████████████████████████████████████                                                                                                                                                           | 211/647 [02:00<04:03,  1.79it/s]"
     ]
    },
    {
     "name": "stdout",
     "output_type": "stream",
     "text": [
      "0.5289630889892578\n"
     ]
    },
    {
     "name": "stderr",
     "output_type": "stream",
     "text": [
      "\r\n",
      " 33%|███████████████████████████████████████████████████████████████████████████▎                                                                                                                                                          | 212/647 [02:00<04:01,  1.80it/s]"
     ]
    },
    {
     "name": "stdout",
     "output_type": "stream",
     "text": [
      "0.514714241027832\n"
     ]
    },
    {
     "name": "stderr",
     "output_type": "stream",
     "text": [
      "\r\n",
      " 33%|███████████████████████████████████████████████████████████████████████████▋                                                                                                                                                          | 213/647 [02:01<04:02,  1.79it/s]"
     ]
    },
    {
     "name": "stdout",
     "output_type": "stream",
     "text": [
      "0.5316052436828613\n"
     ]
    },
    {
     "name": "stderr",
     "output_type": "stream",
     "text": [
      "\r\n",
      " 33%|████████████████████████████████████████████████████████████████████████████                                                                                                                                                          | 214/647 [02:02<04:19,  1.67it/s]"
     ]
    },
    {
     "name": "stdout",
     "output_type": "stream",
     "text": [
      "0.6596615314483643\n"
     ]
    },
    {
     "name": "stderr",
     "output_type": "stream",
     "text": [
      "\r\n",
      " 33%|████████████████████████████████████████████████████████████████████████████▍                                                                                                                                                         | 215/647 [02:02<04:13,  1.70it/s]"
     ]
    },
    {
     "name": "stdout",
     "output_type": "stream",
     "text": [
      "0.52541184425354\n"
     ]
    },
    {
     "name": "stderr",
     "output_type": "stream",
     "text": [
      "\r\n",
      " 33%|████████████████████████████████████████████████████████████████████████████▊                                                                                                                                                         | 216/647 [02:03<04:09,  1.73it/s]"
     ]
    },
    {
     "name": "stdout",
     "output_type": "stream",
     "text": [
      "0.5267112255096436\n"
     ]
    },
    {
     "name": "stderr",
     "output_type": "stream",
     "text": [
      "\r\n",
      " 34%|█████████████████████████████████████████████████████████████████████████████▏                                                                                                                                                        | 217/647 [02:03<04:06,  1.74it/s]"
     ]
    },
    {
     "name": "stdout",
     "output_type": "stream",
     "text": [
      "0.5301389694213867\n"
     ]
    },
    {
     "name": "stderr",
     "output_type": "stream",
     "text": [
      "\r\n",
      " 34%|█████████████████████████████████████████████████████████████████████████████▍                                                                                                                                                        | 218/647 [02:04<04:04,  1.75it/s]"
     ]
    },
    {
     "name": "stdout",
     "output_type": "stream",
     "text": [
      "0.5291812419891357\n"
     ]
    },
    {
     "name": "stderr",
     "output_type": "stream",
     "text": [
      "\r\n",
      " 34%|█████████████████████████████████████████████████████████████████████████████▊                                                                                                                                                        | 219/647 [02:04<04:07,  1.73it/s]"
     ]
    },
    {
     "name": "stdout",
     "output_type": "stream",
     "text": [
      "0.5660710334777832\n"
     ]
    },
    {
     "name": "stderr",
     "output_type": "stream",
     "text": [
      "\r\n",
      " 34%|██████████████████████████████████████████████████████████████████████████████▏                                                                                                                                                       | 220/647 [02:05<04:05,  1.74it/s]"
     ]
    },
    {
     "name": "stdout",
     "output_type": "stream",
     "text": [
      "0.5274169445037842\n"
     ]
    },
    {
     "name": "stderr",
     "output_type": "stream",
     "text": [
      "\r\n",
      " 34%|██████████████████████████████████████████████████████████████████████████████▌                                                                                                                                                       | 221/647 [02:06<04:02,  1.76it/s]"
     ]
    },
    {
     "name": "stdout",
     "output_type": "stream",
     "text": [
      "0.5232744216918945\n"
     ]
    },
    {
     "name": "stderr",
     "output_type": "stream",
     "text": [
      "\r\n",
      " 34%|██████████████████████████████████████████████████████████████████████████████▉                                                                                                                                                       | 222/647 [02:06<04:00,  1.77it/s]"
     ]
    },
    {
     "name": "stdout",
     "output_type": "stream",
     "text": [
      "0.5237205028533936\n"
     ]
    },
    {
     "name": "stderr",
     "output_type": "stream",
     "text": [
      "\r\n",
      " 34%|███████████████████████████████████████████████████████████████████████████████▎                                                                                                                                                      | 223/647 [02:07<03:57,  1.78it/s]"
     ]
    },
    {
     "name": "stdout",
     "output_type": "stream",
     "text": [
      "0.5185775756835938\n"
     ]
    },
    {
     "name": "stderr",
     "output_type": "stream",
     "text": [
      "\r\n",
      " 35%|███████████████████████████████████████████████████████████████████████████████▋                                                                                                                                                      | 224/647 [02:07<03:56,  1.79it/s]"
     ]
    },
    {
     "name": "stdout",
     "output_type": "stream",
     "text": [
      "0.5193212032318115\n"
     ]
    },
    {
     "name": "stderr",
     "output_type": "stream",
     "text": [
      "\r\n",
      " 35%|███████████████████████████████████████████████████████████████████████████████▉                                                                                                                                                      | 225/647 [02:08<03:56,  1.79it/s]"
     ]
    },
    {
     "name": "stdout",
     "output_type": "stream",
     "text": [
      "0.5303986072540283\n"
     ]
    },
    {
     "name": "stderr",
     "output_type": "stream",
     "text": [
      "\r\n",
      " 35%|████████████████████████████████████████████████████████████████████████████████▎                                                                                                                                                     | 226/647 [02:08<03:55,  1.79it/s]"
     ]
    },
    {
     "name": "stdout",
     "output_type": "stream",
     "text": [
      "0.5229897499084473\n"
     ]
    },
    {
     "name": "stderr",
     "output_type": "stream",
     "text": [
      "\r\n",
      " 35%|████████████████████████████████████████████████████████████████████████████████▋                                                                                                                                                     | 227/647 [02:09<03:54,  1.79it/s]"
     ]
    },
    {
     "name": "stdout",
     "output_type": "stream",
     "text": [
      "0.5267748832702637\n"
     ]
    },
    {
     "name": "stderr",
     "output_type": "stream",
     "text": [
      "\r\n",
      " 35%|█████████████████████████████████████████████████████████████████████████████████                                                                                                                                                     | 228/647 [02:10<04:10,  1.67it/s]"
     ]
    },
    {
     "name": "stdout",
     "output_type": "stream",
     "text": [
      "0.5166127681732178\n"
     ]
    },
    {
     "name": "stderr",
     "output_type": "stream",
     "text": [
      "\r\n",
      " 35%|█████████████████████████████████████████████████████████████████████████████████▍                                                                                                                                                    | 229/647 [02:10<04:06,  1.70it/s]"
     ]
    },
    {
     "name": "stdout",
     "output_type": "stream",
     "text": [
      "0.5333516597747803\n"
     ]
    },
    {
     "name": "stderr",
     "output_type": "stream",
     "text": [
      "\r\n",
      " 36%|█████████████████████████████████████████████████████████████████████████████████▊                                                                                                                                                    | 230/647 [02:11<04:01,  1.72it/s]"
     ]
    },
    {
     "name": "stdout",
     "output_type": "stream",
     "text": [
      "0.5265212059020996\n"
     ]
    },
    {
     "name": "stderr",
     "output_type": "stream",
     "text": [
      "\r\n",
      " 36%|██████████████████████████████████████████████████████████████████████████████████                                                                                                                                                    | 231/647 [02:11<03:58,  1.74it/s]"
     ]
    },
    {
     "name": "stdout",
     "output_type": "stream",
     "text": [
      "0.5282373428344727\n"
     ]
    },
    {
     "name": "stderr",
     "output_type": "stream",
     "text": [
      "\r\n",
      " 36%|██████████████████████████████████████████████████████████████████████████████████▍                                                                                                                                                   | 232/647 [02:12<03:56,  1.76it/s]"
     ]
    },
    {
     "name": "stdout",
     "output_type": "stream",
     "text": [
      "0.5230622291564941\n"
     ]
    },
    {
     "name": "stderr",
     "output_type": "stream",
     "text": [
      "\r\n",
      " 36%|██████████████████████████████████████████████████████████████████████████████████▊                                                                                                                                                   | 233/647 [02:12<03:54,  1.77it/s]"
     ]
    },
    {
     "name": "stdout",
     "output_type": "stream",
     "text": [
      "0.5235233306884766\n"
     ]
    },
    {
     "name": "stderr",
     "output_type": "stream",
     "text": [
      "\r\n",
      " 36%|███████████████████████████████████████████████████████████████████████████████████▏                                                                                                                                                  | 234/647 [02:13<03:53,  1.77it/s]"
     ]
    },
    {
     "name": "stdout",
     "output_type": "stream",
     "text": [
      "0.5349953174591064\n"
     ]
    },
    {
     "name": "stderr",
     "output_type": "stream",
     "text": [
      "\r\n",
      " 36%|███████████████████████████████████████████████████████████████████████████████████▌                                                                                                                                                  | 235/647 [02:14<03:51,  1.78it/s]"
     ]
    },
    {
     "name": "stdout",
     "output_type": "stream",
     "text": [
      "0.5210573673248291\n"
     ]
    },
    {
     "name": "stderr",
     "output_type": "stream",
     "text": [
      "\r\n",
      " 36%|███████████████████████████████████████████████████████████████████████████████████▉                                                                                                                                                  | 236/647 [02:14<03:53,  1.76it/s]"
     ]
    },
    {
     "name": "stdout",
     "output_type": "stream",
     "text": [
      "0.5451841354370117\n"
     ]
    },
    {
     "name": "stderr",
     "output_type": "stream",
     "text": [
      "\r\n",
      " 37%|████████████████████████████████████████████████████████████████████████████████████▎                                                                                                                                                 | 237/647 [02:15<03:52,  1.76it/s]"
     ]
    },
    {
     "name": "stdout",
     "output_type": "stream",
     "text": [
      "0.5316207408905029\n"
     ]
    },
    {
     "name": "stderr",
     "output_type": "stream",
     "text": [
      "\r\n",
      " 37%|████████████████████████████████████████████████████████████████████████████████████▌                                                                                                                                                 | 238/647 [02:15<03:51,  1.77it/s]"
     ]
    },
    {
     "name": "stdout",
     "output_type": "stream",
     "text": [
      "0.5290722846984863\n"
     ]
    },
    {
     "name": "stderr",
     "output_type": "stream",
     "text": [
      "\r\n",
      " 37%|████████████████████████████████████████████████████████████████████████████████████▉                                                                                                                                                 | 239/647 [02:16<03:49,  1.78it/s]"
     ]
    },
    {
     "name": "stdout",
     "output_type": "stream",
     "text": [
      "0.5251688957214355\n"
     ]
    },
    {
     "name": "stderr",
     "output_type": "stream",
     "text": [
      "\r\n",
      " 37%|█████████████████████████████████████████████████████████████████████████████████████▎                                                                                                                                                | 240/647 [02:16<03:48,  1.78it/s]"
     ]
    },
    {
     "name": "stdout",
     "output_type": "stream",
     "text": [
      "0.5279548168182373\n"
     ]
    },
    {
     "name": "stderr",
     "output_type": "stream",
     "text": [
      "\r\n",
      " 37%|█████████████████████████████████████████████████████████████████████████████████████▋                                                                                                                                                | 241/647 [02:17<03:48,  1.78it/s]"
     ]
    },
    {
     "name": "stdout",
     "output_type": "stream",
     "text": [
      "0.5257136821746826\n"
     ]
    },
    {
     "name": "stderr",
     "output_type": "stream",
     "text": [
      "\r\n",
      " 37%|██████████████████████████████████████████████████████████████████████████████████████                                                                                                                                                | 242/647 [02:18<04:06,  1.64it/s]"
     ]
    },
    {
     "name": "stdout",
     "output_type": "stream",
     "text": [
      "0.5462751388549805\n"
     ]
    },
    {
     "name": "stderr",
     "output_type": "stream",
     "text": [
      "\r\n",
      " 38%|██████████████████████████████████████████████████████████████████████████████████████▍                                                                                                                                               | 243/647 [02:18<03:59,  1.69it/s]"
     ]
    },
    {
     "name": "stdout",
     "output_type": "stream",
     "text": [
      "0.5253324508666992\n"
     ]
    },
    {
     "name": "stderr",
     "output_type": "stream",
     "text": [
      "\r\n",
      " 38%|██████████████████████████████████████████████████████████████████████████████████████▋                                                                                                                                               | 244/647 [02:19<03:54,  1.72it/s]"
     ]
    },
    {
     "name": "stdout",
     "output_type": "stream",
     "text": [
      "0.5192668437957764\n"
     ]
    },
    {
     "name": "stderr",
     "output_type": "stream",
     "text": [
      "\r\n",
      " 38%|███████████████████████████████████████████████████████████████████████████████████████                                                                                                                                               | 245/647 [02:19<03:50,  1.74it/s]"
     ]
    },
    {
     "name": "stdout",
     "output_type": "stream",
     "text": [
      "0.5238425731658936\n"
     ]
    },
    {
     "name": "stderr",
     "output_type": "stream",
     "text": [
      "\r\n",
      " 38%|███████████████████████████████████████████████████████████████████████████████████████▍                                                                                                                                              | 246/647 [02:20<03:48,  1.75it/s]"
     ]
    },
    {
     "name": "stdout",
     "output_type": "stream",
     "text": [
      "0.529954195022583\n"
     ]
    },
    {
     "name": "stderr",
     "output_type": "stream",
     "text": [
      "\r\n",
      " 38%|███████████████████████████████████████████████████████████████████████████████████████▊                                                                                                                                              | 247/647 [02:20<03:46,  1.76it/s]"
     ]
    },
    {
     "name": "stdout",
     "output_type": "stream",
     "text": [
      "0.5238218307495117\n"
     ]
    },
    {
     "name": "stderr",
     "output_type": "stream",
     "text": [
      "\r\n",
      " 38%|████████████████████████████████████████████████████████████████████████████████████████▏                                                                                                                                             | 248/647 [02:21<03:44,  1.78it/s]"
     ]
    },
    {
     "name": "stdout",
     "output_type": "stream",
     "text": [
      "0.5187258720397949\n"
     ]
    },
    {
     "name": "stderr",
     "output_type": "stream",
     "text": [
      "\r\n",
      " 38%|████████████████████████████████████████████████████████████████████████████████████████▌                                                                                                                                             | 249/647 [02:22<03:43,  1.78it/s]"
     ]
    },
    {
     "name": "stdout",
     "output_type": "stream",
     "text": [
      "0.5199911594390869\n"
     ]
    },
    {
     "name": "stderr",
     "output_type": "stream",
     "text": [
      "\r\n",
      " 39%|████████████████████████████████████████████████████████████████████████████████████████▊                                                                                                                                             | 250/647 [02:22<03:43,  1.77it/s]"
     ]
    },
    {
     "name": "stdout",
     "output_type": "stream",
     "text": [
      "0.5354969501495361\n"
     ]
    },
    {
     "name": "stderr",
     "output_type": "stream",
     "text": [
      "\r\n",
      " 39%|█████████████████████████████████████████████████████████████████████████████████████████▏                                                                                                                                            | 251/647 [02:23<03:42,  1.78it/s]"
     ]
    },
    {
     "name": "stdout",
     "output_type": "stream",
     "text": [
      "0.5221652984619141\n"
     ]
    },
    {
     "name": "stderr",
     "output_type": "stream",
     "text": [
      "\r\n",
      " 39%|█████████████████████████████████████████████████████████████████████████████████████████▌                                                                                                                                            | 252/647 [02:23<03:42,  1.78it/s]"
     ]
    },
    {
     "name": "stdout",
     "output_type": "stream",
     "text": [
      "0.5311994552612305\n"
     ]
    },
    {
     "name": "stderr",
     "output_type": "stream",
     "text": [
      "\r\n",
      " 39%|█████████████████████████████████████████████████████████████████████████████████████████▉                                                                                                                                            | 253/647 [02:24<03:39,  1.80it/s]"
     ]
    },
    {
     "name": "stdout",
     "output_type": "stream",
     "text": [
      "0.5048768520355225\n"
     ]
    },
    {
     "name": "stderr",
     "output_type": "stream",
     "text": [
      "\r\n",
      " 39%|██████████████████████████████████████████████████████████████████████████████████████████▎                                                                                                                                           | 254/647 [02:24<03:38,  1.80it/s]"
     ]
    },
    {
     "name": "stdout",
     "output_type": "stream",
     "text": [
      "0.518310546875\n"
     ]
    },
    {
     "name": "stderr",
     "output_type": "stream",
     "text": [
      "\r\n",
      " 39%|██████████████████████████████████████████████████████████████████████████████████████████▋                                                                                                                                           | 255/647 [02:25<03:37,  1.80it/s]"
     ]
    },
    {
     "name": "stdout",
     "output_type": "stream",
     "text": [
      "0.5233376026153564\n"
     ]
    },
    {
     "name": "stderr",
     "output_type": "stream",
     "text": [
      "\r\n",
      " 40%|███████████████████████████████████████████████████████████████████████████████████████████                                                                                                                                           | 256/647 [02:25<03:37,  1.80it/s]"
     ]
    },
    {
     "name": "stdout",
     "output_type": "stream",
     "text": [
      "0.5215089321136475\n"
     ]
    },
    {
     "name": "stderr",
     "output_type": "stream",
     "text": [
      "\r\n",
      " 40%|███████████████████████████████████████████████████████████████████████████████████████████▎                                                                                                                                          | 257/647 [02:26<03:52,  1.67it/s]"
     ]
    },
    {
     "name": "stdout",
     "output_type": "stream",
     "text": [
      "0.6617331504821777\n"
     ]
    },
    {
     "name": "stderr",
     "output_type": "stream",
     "text": [
      "\r\n",
      " 40%|███████████████████████████████████████████████████████████████████████████████████████████▋                                                                                                                                          | 258/647 [02:27<03:47,  1.71it/s]"
     ]
    },
    {
     "name": "stdout",
     "output_type": "stream",
     "text": [
      "0.5257737636566162\n"
     ]
    },
    {
     "name": "stderr",
     "output_type": "stream",
     "text": [
      "\r\n",
      " 40%|████████████████████████████████████████████████████████████████████████████████████████████                                                                                                                                          | 259/647 [02:27<03:44,  1.73it/s]"
     ]
    },
    {
     "name": "stdout",
     "output_type": "stream",
     "text": [
      "0.5237381458282471\n"
     ]
    },
    {
     "name": "stderr",
     "output_type": "stream",
     "text": [
      "\r\n",
      " 40%|████████████████████████████████████████████████████████████████████████████████████████████▍                                                                                                                                         | 260/647 [02:28<03:41,  1.75it/s]"
     ]
    },
    {
     "name": "stdout",
     "output_type": "stream",
     "text": [
      "0.5237715244293213\n"
     ]
    },
    {
     "name": "stderr",
     "output_type": "stream",
     "text": [
      "\r\n",
      " 40%|████████████████████████████████████████████████████████████████████████████████████████████▊                                                                                                                                         | 261/647 [02:28<03:40,  1.75it/s]"
     ]
    },
    {
     "name": "stdout",
     "output_type": "stream",
     "text": [
      "0.5266315937042236\n"
     ]
    },
    {
     "name": "stderr",
     "output_type": "stream",
     "text": [
      "\r\n",
      " 40%|█████████████████████████████████████████████████████████████████████████████████████████████▏                                                                                                                                        | 262/647 [02:29<03:38,  1.76it/s]"
     ]
    },
    {
     "name": "stdout",
     "output_type": "stream",
     "text": [
      "0.5239048004150391\n"
     ]
    },
    {
     "name": "stderr",
     "output_type": "stream",
     "text": [
      "\r\n",
      " 41%|█████████████████████████████████████████████████████████████████████████████████████████████▍                                                                                                                                        | 263/647 [02:29<03:37,  1.76it/s]"
     ]
    },
    {
     "name": "stdout",
     "output_type": "stream",
     "text": [
      "0.5280930995941162\n"
     ]
    },
    {
     "name": "stderr",
     "output_type": "stream",
     "text": [
      "\r\n",
      " 41%|█████████████████████████████████████████████████████████████████████████████████████████████▊                                                                                                                                        | 264/647 [02:30<03:36,  1.77it/s]"
     ]
    },
    {
     "name": "stdout",
     "output_type": "stream",
     "text": [
      "0.5263922214508057\n"
     ]
    },
    {
     "name": "stderr",
     "output_type": "stream",
     "text": [
      "\r\n",
      " 41%|██████████████████████████████████████████████████████████████████████████████████████████████▏                                                                                                                                       | 265/647 [02:31<03:35,  1.78it/s]"
     ]
    },
    {
     "name": "stdout",
     "output_type": "stream",
     "text": [
      "0.52378249168396\n"
     ]
    },
    {
     "name": "stderr",
     "output_type": "stream",
     "text": [
      "\r\n",
      " 41%|██████████████████████████████████████████████████████████████████████████████████████████████▌                                                                                                                                       | 266/647 [02:31<03:33,  1.79it/s]"
     ]
    },
    {
     "name": "stdout",
     "output_type": "stream",
     "text": [
      "0.5189177989959717\n"
     ]
    },
    {
     "name": "stderr",
     "output_type": "stream",
     "text": [
      "\r\n",
      " 41%|██████████████████████████████████████████████████████████████████████████████████████████████▉                                                                                                                                       | 267/647 [02:32<03:32,  1.79it/s]"
     ]
    },
    {
     "name": "stdout",
     "output_type": "stream",
     "text": [
      "0.523388147354126\n"
     ]
    },
    {
     "name": "stderr",
     "output_type": "stream",
     "text": [
      "\r\n",
      " 41%|███████████████████████████████████████████████████████████████████████████████████████████████▎                                                                                                                                      | 268/647 [02:32<03:32,  1.78it/s]"
     ]
    },
    {
     "name": "stdout",
     "output_type": "stream",
     "text": [
      "0.5307090282440186\n"
     ]
    },
    {
     "name": "stderr",
     "output_type": "stream",
     "text": [
      "\r\n",
      " 42%|███████████████████████████████████████████████████████████████████████████████████████████████▋                                                                                                                                      | 269/647 [02:33<03:32,  1.78it/s]"
     ]
    },
    {
     "name": "stdout",
     "output_type": "stream",
     "text": [
      "0.5363612174987793\n"
     ]
    },
    {
     "name": "stderr",
     "output_type": "stream",
     "text": [
      "\r\n",
      " 42%|███████████████████████████████████████████████████████████████████████████████████████████████▉                                                                                                                                      | 270/647 [02:33<03:31,  1.78it/s]"
     ]
    },
    {
     "name": "stdout",
     "output_type": "stream",
     "text": [
      "0.5242011547088623\n"
     ]
    },
    {
     "name": "stderr",
     "output_type": "stream",
     "text": [
      "\r\n",
      " 42%|████████████████████████████████████████████████████████████████████████████████████████████████▎                                                                                                                                     | 271/647 [02:34<03:32,  1.77it/s]"
     ]
    },
    {
     "name": "stdout",
     "output_type": "stream",
     "text": [
      "0.5371522903442383\n"
     ]
    },
    {
     "name": "stderr",
     "output_type": "stream",
     "text": [
      "\r\n",
      " 42%|████████████████████████████████████████████████████████████████████████████████████████████████▋                                                                                                                                     | 272/647 [02:35<03:47,  1.65it/s]"
     ]
    },
    {
     "name": "stdout",
     "output_type": "stream",
     "text": [
      "0.6640334129333496\n"
     ]
    },
    {
     "name": "stderr",
     "output_type": "stream",
     "text": [
      "\r\n",
      " 42%|█████████████████████████████████████████████████████████████████████████████████████████████████                                                                                                                                     | 273/647 [02:35<03:41,  1.69it/s]"
     ]
    },
    {
     "name": "stdout",
     "output_type": "stream",
     "text": [
      "0.5251293182373047\n"
     ]
    },
    {
     "name": "stderr",
     "output_type": "stream",
     "text": [
      "\r\n",
      " 42%|█████████████████████████████████████████████████████████████████████████████████████████████████▍                                                                                                                                    | 274/647 [02:36<03:36,  1.72it/s]"
     ]
    },
    {
     "name": "stdout",
     "output_type": "stream",
     "text": [
      "0.5234999656677246\n"
     ]
    },
    {
     "name": "stderr",
     "output_type": "stream",
     "text": [
      "\r\n",
      " 43%|█████████████████████████████████████████████████████████████████████████████████████████████████▊                                                                                                                                    | 275/647 [02:36<03:34,  1.73it/s]"
     ]
    },
    {
     "name": "stdout",
     "output_type": "stream",
     "text": [
      "0.5332412719726562\n"
     ]
    },
    {
     "name": "stderr",
     "output_type": "stream",
     "text": [
      "\r\n",
      " 43%|██████████████████████████████████████████████████████████████████████████████████████████████████                                                                                                                                    | 276/647 [02:37<03:32,  1.75it/s]"
     ]
    },
    {
     "name": "stdout",
     "output_type": "stream",
     "text": [
      "0.5231971740722656\n"
     ]
    },
    {
     "name": "stderr",
     "output_type": "stream",
     "text": [
      "\r\n",
      " 43%|██████████████████████████████████████████████████████████████████████████████████████████████████▍                                                                                                                                   | 277/647 [02:37<03:29,  1.76it/s]"
     ]
    },
    {
     "name": "stdout",
     "output_type": "stream",
     "text": [
      "0.5182740688323975\n"
     ]
    },
    {
     "name": "stderr",
     "output_type": "stream",
     "text": [
      "\r\n",
      " 43%|██████████████████████████████████████████████████████████████████████████████████████████████████▊                                                                                                                                   | 278/647 [02:38<03:28,  1.77it/s]"
     ]
    },
    {
     "name": "stdout",
     "output_type": "stream",
     "text": [
      "0.5207130908966064\n"
     ]
    },
    {
     "name": "stderr",
     "output_type": "stream",
     "text": [
      "\r\n",
      " 43%|███████████████████████████████████████████████████████████████████████████████████████████████████▏                                                                                                                                  | 279/647 [02:39<03:27,  1.77it/s]"
     ]
    },
    {
     "name": "stdout",
     "output_type": "stream",
     "text": [
      "0.5316805839538574\n"
     ]
    },
    {
     "name": "stderr",
     "output_type": "stream",
     "text": [
      "\r\n",
      " 43%|███████████████████████████████████████████████████████████████████████████████████████████████████▌                                                                                                                                  | 280/647 [02:39<03:27,  1.77it/s]"
     ]
    },
    {
     "name": "stdout",
     "output_type": "stream",
     "text": [
      "0.527597188949585\n"
     ]
    },
    {
     "name": "stderr",
     "output_type": "stream",
     "text": [
      "\r\n",
      " 43%|███████████████████████████████████████████████████████████████████████████████████████████████████▉                                                                                                                                  | 281/647 [02:40<03:25,  1.78it/s]"
     ]
    },
    {
     "name": "stdout",
     "output_type": "stream",
     "text": [
      "0.5217471122741699\n"
     ]
    },
    {
     "name": "stderr",
     "output_type": "stream",
     "text": [
      "\r\n",
      " 44%|████████████████████████████████████████████████████████████████████████████████████████████████████▏                                                                                                                                 | 282/647 [02:40<03:23,  1.79it/s]"
     ]
    },
    {
     "name": "stdout",
     "output_type": "stream",
     "text": [
      "0.5156826972961426\n"
     ]
    },
    {
     "name": "stderr",
     "output_type": "stream",
     "text": [
      "\r\n",
      " 44%|████████████████████████████████████████████████████████████████████████████████████████████████████▌                                                                                                                                 | 283/647 [02:41<03:22,  1.79it/s]"
     ]
    },
    {
     "name": "stdout",
     "output_type": "stream",
     "text": [
      "0.5201029777526855\n"
     ]
    },
    {
     "name": "stderr",
     "output_type": "stream",
     "text": [
      "\r\n",
      " 44%|████████████████████████████████████████████████████████████████████████████████████████████████████▉                                                                                                                                 | 284/647 [02:41<03:22,  1.79it/s]"
     ]
    },
    {
     "name": "stdout",
     "output_type": "stream",
     "text": [
      "0.5240495204925537\n"
     ]
    },
    {
     "name": "stderr",
     "output_type": "stream",
     "text": [
      "\r\n",
      " 44%|█████████████████████████████████████████████████████████████████████████████████████████████████████▎                                                                                                                                | 285/647 [02:42<03:21,  1.79it/s]"
     ]
    },
    {
     "name": "stdout",
     "output_type": "stream",
     "text": [
      "0.5240378379821777\n"
     ]
    },
    {
     "name": "stderr",
     "output_type": "stream",
     "text": [
      "\r\n",
      " 44%|█████████████████████████████████████████████████████████████████████████████████████████████████████▋                                                                                                                                | 286/647 [02:43<03:36,  1.67it/s]"
     ]
    },
    {
     "name": "stdout",
     "output_type": "stream",
     "text": [
      "0.5257689952850342\n"
     ]
    },
    {
     "name": "stderr",
     "output_type": "stream",
     "text": [
      "\r\n",
      " 44%|██████████████████████████████████████████████████████████████████████████████████████████████████████                                                                                                                                | 287/647 [02:43<03:30,  1.71it/s]"
     ]
    },
    {
     "name": "stdout",
     "output_type": "stream",
     "text": [
      "0.5206973552703857\n"
     ]
    },
    {
     "name": "stderr",
     "output_type": "stream",
     "text": [
      "\r\n",
      " 45%|██████████████████████████████████████████████████████████████████████████████████████████████████████▍                                                                                                                               | 288/647 [02:44<03:26,  1.73it/s]"
     ]
    },
    {
     "name": "stdout",
     "output_type": "stream",
     "text": [
      "0.5208249092102051\n"
     ]
    },
    {
     "name": "stderr",
     "output_type": "stream",
     "text": [
      "\r\n",
      " 45%|██████████████████████████████████████████████████████████████████████████████████████████████████████▋                                                                                                                               | 289/647 [02:44<03:23,  1.76it/s]"
     ]
    },
    {
     "name": "stdout",
     "output_type": "stream",
     "text": [
      "0.5182263851165771\n"
     ]
    },
    {
     "name": "stderr",
     "output_type": "stream",
     "text": [
      "\r\n",
      " 45%|███████████████████████████████████████████████████████████████████████████████████████████████████████                                                                                                                               | 290/647 [02:45<03:22,  1.77it/s]"
     ]
    },
    {
     "name": "stdout",
     "output_type": "stream",
     "text": [
      "0.525242805480957\n"
     ]
    },
    {
     "name": "stderr",
     "output_type": "stream",
     "text": [
      "\r\n",
      " 45%|███████████████████████████████████████████████████████████████████████████████████████████████████████▍                                                                                                                              | 291/647 [02:45<03:20,  1.78it/s]"
     ]
    },
    {
     "name": "stdout",
     "output_type": "stream",
     "text": [
      "0.5239043235778809\n"
     ]
    },
    {
     "name": "stderr",
     "output_type": "stream",
     "text": [
      "\r\n",
      " 45%|███████████████████████████████████████████████████████████████████████████████████████████████████████▊                                                                                                                              | 292/647 [02:46<03:19,  1.78it/s]"
     ]
    },
    {
     "name": "stdout",
     "output_type": "stream",
     "text": [
      "0.5285565853118896\n"
     ]
    },
    {
     "name": "stderr",
     "output_type": "stream",
     "text": [
      "\r\n",
      " 45%|████████████████████████████████████████████████████████████████████████████████████████████████████████▏                                                                                                                             | 293/647 [02:47<03:18,  1.79it/s]"
     ]
    },
    {
     "name": "stdout",
     "output_type": "stream",
     "text": [
      "0.5179662704467773\n"
     ]
    },
    {
     "name": "stderr",
     "output_type": "stream",
     "text": [
      "\r\n",
      " 45%|████████████████████████████████████████████████████████████████████████████████████████████████████████▌                                                                                                                             | 294/647 [02:47<03:16,  1.79it/s]"
     ]
    },
    {
     "name": "stdout",
     "output_type": "stream",
     "text": [
      "0.5192694664001465\n"
     ]
    },
    {
     "name": "stderr",
     "output_type": "stream",
     "text": [
      "\r\n",
      " 46%|████████████████████████████████████████████████████████████████████████████████████████████████████████▊                                                                                                                             | 295/647 [02:48<03:16,  1.79it/s]"
     ]
    },
    {
     "name": "stdout",
     "output_type": "stream",
     "text": [
      "0.522775411605835\n"
     ]
    },
    {
     "name": "stderr",
     "output_type": "stream",
     "text": [
      "\r\n",
      " 46%|█████████████████████████████████████████████████████████████████████████████████████████████████████████▏                                                                                                                            | 296/647 [02:48<03:15,  1.79it/s]"
     ]
    },
    {
     "name": "stdout",
     "output_type": "stream",
     "text": [
      "0.5241951942443848\n"
     ]
    },
    {
     "name": "stderr",
     "output_type": "stream",
     "text": [
      "\r\n",
      " 46%|█████████████████████████████████████████████████████████████████████████████████████████████████████████▌                                                                                                                            | 297/647 [02:49<03:15,  1.79it/s]"
     ]
    },
    {
     "name": "stdout",
     "output_type": "stream",
     "text": [
      "0.5237095355987549\n"
     ]
    },
    {
     "name": "stderr",
     "output_type": "stream",
     "text": [
      "\r\n",
      " 46%|█████████████████████████████████████████████████████████████████████████████████████████████████████████▉                                                                                                                            | 298/647 [02:49<03:14,  1.79it/s]"
     ]
    },
    {
     "name": "stdout",
     "output_type": "stream",
     "text": [
      "0.5287420749664307\n"
     ]
    },
    {
     "name": "stderr",
     "output_type": "stream",
     "text": [
      "\r\n",
      " 46%|██████████████████████████████████████████████████████████████████████████████████████████████████████████▎                                                                                                                           | 299/647 [02:50<03:13,  1.80it/s]"
     ]
    },
    {
     "name": "stdout",
     "output_type": "stream",
     "text": [
      "0.5202701091766357\n"
     ]
    },
    {
     "name": "stderr",
     "output_type": "stream",
     "text": [
      "\r\n",
      " 46%|██████████████████████████████████████████████████████████████████████████████████████████████████████████▋                                                                                                                           | 300/647 [02:50<03:12,  1.80it/s]"
     ]
    },
    {
     "name": "stdout",
     "output_type": "stream",
     "text": [
      "0.5180859565734863\n"
     ]
    },
    {
     "name": "stderr",
     "output_type": "stream",
     "text": [
      "\r\n",
      " 47%|███████████████████████████████████████████████████████████████████████████████████████████████████████████                                                                                                                           | 301/647 [02:51<03:25,  1.68it/s]"
     ]
    },
    {
     "name": "stdout",
     "output_type": "stream",
     "text": [
      "0.6486387252807617\n"
     ]
    },
    {
     "name": "stderr",
     "output_type": "stream",
     "text": [
      "\r\n",
      " 47%|███████████████████████████████████████████████████████████████████████████████████████████████████████████▎                                                                                                                          | 302/647 [02:52<03:22,  1.70it/s]"
     ]
    },
    {
     "name": "stdout",
     "output_type": "stream",
     "text": [
      "0.537822961807251\n"
     ]
    },
    {
     "name": "stderr",
     "output_type": "stream",
     "text": [
      "\r\n",
      " 47%|███████████████████████████████████████████████████████████████████████████████████████████████████████████▋                                                                                                                          | 303/647 [02:52<03:20,  1.72it/s]"
     ]
    },
    {
     "name": "stdout",
     "output_type": "stream",
     "text": [
      "0.5355057716369629\n"
     ]
    },
    {
     "name": "stderr",
     "output_type": "stream",
     "text": [
      "\r\n",
      " 47%|████████████████████████████████████████████████████████████████████████████████████████████████████████████                                                                                                                          | 304/647 [02:53<03:17,  1.74it/s]"
     ]
    },
    {
     "name": "stdout",
     "output_type": "stream",
     "text": [
      "0.5260369777679443\n"
     ]
    },
    {
     "name": "stderr",
     "output_type": "stream",
     "text": [
      "\r\n",
      " 47%|████████████████████████████████████████████████████████████████████████████████████████████████████████████▍                                                                                                                         | 305/647 [02:53<03:14,  1.76it/s]"
     ]
    },
    {
     "name": "stdout",
     "output_type": "stream",
     "text": [
      "0.52337646484375\n"
     ]
    },
    {
     "name": "stderr",
     "output_type": "stream",
     "text": [
      "\r\n",
      " 47%|████████████████████████████████████████████████████████████████████████████████████████████████████████████▊                                                                                                                         | 306/647 [02:54<03:12,  1.77it/s]"
     ]
    },
    {
     "name": "stdout",
     "output_type": "stream",
     "text": [
      "0.5198252201080322\n"
     ]
    },
    {
     "name": "stderr",
     "output_type": "stream",
     "text": [
      "\r\n",
      " 47%|█████████████████████████████████████████████████████████████████████████████████████████████████████████████▏                                                                                                                        | 307/647 [02:54<03:11,  1.78it/s]"
     ]
    },
    {
     "name": "stdout",
     "output_type": "stream",
     "text": [
      "0.5226664543151855\n"
     ]
    },
    {
     "name": "stderr",
     "output_type": "stream",
     "text": [
      "\r\n",
      " 48%|█████████████████████████████████████████████████████████████████████████████████████████████████████████████▍                                                                                                                        | 308/647 [02:55<03:11,  1.77it/s]"
     ]
    },
    {
     "name": "stdout",
     "output_type": "stream",
     "text": [
      "0.5340962409973145\n"
     ]
    },
    {
     "name": "stderr",
     "output_type": "stream",
     "text": [
      "\r\n",
      " 48%|█████████████████████████████████████████████████████████████████████████████████████████████████████████████▊                                                                                                                        | 309/647 [02:56<03:10,  1.78it/s]"
     ]
    },
    {
     "name": "stdout",
     "output_type": "stream",
     "text": [
      "0.5249483585357666\n"
     ]
    },
    {
     "name": "stderr",
     "output_type": "stream",
     "text": [
      "\r\n",
      " 48%|██████████████████████████████████████████████████████████████████████████████████████████████████████████████▏                                                                                                                       | 310/647 [02:56<03:08,  1.79it/s]"
     ]
    },
    {
     "name": "stdout",
     "output_type": "stream",
     "text": [
      "0.5216183662414551\n"
     ]
    },
    {
     "name": "stderr",
     "output_type": "stream",
     "text": [
      "\r\n",
      " 48%|██████████████████████████████████████████████████████████████████████████████████████████████████████████████▌                                                                                                                       | 311/647 [02:57<03:07,  1.79it/s]"
     ]
    },
    {
     "name": "stdout",
     "output_type": "stream",
     "text": [
      "0.5218100547790527\n"
     ]
    },
    {
     "name": "stderr",
     "output_type": "stream",
     "text": [
      "\r\n",
      " 48%|██████████████████████████████████████████████████████████████████████████████████████████████████████████████▉                                                                                                                       | 312/647 [02:57<03:06,  1.80it/s]"
     ]
    },
    {
     "name": "stdout",
     "output_type": "stream",
     "text": [
      "0.5183563232421875\n"
     ]
    },
    {
     "name": "stderr",
     "output_type": "stream",
     "text": [
      "\r\n",
      " 48%|███████████████████████████████████████████████████████████████████████████████████████████████████████████████▎                                                                                                                      | 313/647 [02:58<03:05,  1.80it/s]"
     ]
    },
    {
     "name": "stdout",
     "output_type": "stream",
     "text": [
      "0.5217771530151367\n"
     ]
    },
    {
     "name": "stderr",
     "output_type": "stream",
     "text": [
      "\r\n",
      " 49%|███████████████████████████████████████████████████████████████████████████████████████████████████████████████▌                                                                                                                      | 314/647 [02:58<03:05,  1.79it/s]"
     ]
    },
    {
     "name": "stdout",
     "output_type": "stream",
     "text": [
      "0.5291845798492432\n"
     ]
    },
    {
     "name": "stderr",
     "output_type": "stream",
     "text": [
      "\r\n",
      " 49%|███████████████████████████████████████████████████████████████████████████████████████████████████████████████▉                                                                                                                      | 315/647 [02:59<03:05,  1.79it/s]"
     ]
    },
    {
     "name": "stdout",
     "output_type": "stream",
     "text": [
      "0.5297188758850098\n"
     ]
    },
    {
     "name": "stderr",
     "output_type": "stream",
     "text": [
      "\r\n",
      " 49%|████████████████████████████████████████████████████████████████████████████████████████████████████████████████▎                                                                                                                     | 316/647 [03:00<03:18,  1.66it/s]"
     ]
    },
    {
     "name": "stdout",
     "output_type": "stream",
     "text": [
      "0.6640918254852295\n"
     ]
    },
    {
     "name": "stderr",
     "output_type": "stream",
     "text": [
      "\r\n",
      " 49%|████████████████████████████████████████████████████████████████████████████████████████████████████████████████▋                                                                                                                     | 317/647 [03:00<03:14,  1.70it/s]"
     ]
    },
    {
     "name": "stdout",
     "output_type": "stream",
     "text": [
      "0.530841588973999\n"
     ]
    },
    {
     "name": "stderr",
     "output_type": "stream",
     "text": [
      "\r\n",
      " 49%|█████████████████████████████████████████████████████████████████████████████████████████████████████████████████                                                                                                                     | 318/647 [03:01<03:08,  1.74it/s]"
     ]
    },
    {
     "name": "stdout",
     "output_type": "stream",
     "text": [
      "0.5037143230438232\n"
     ]
    },
    {
     "name": "stderr",
     "output_type": "stream",
     "text": [
      "\r\n",
      " 49%|█████████████████████████████████████████████████████████████████████████████████████████████████████████████████▍                                                                                                                    | 319/647 [03:01<03:06,  1.76it/s]"
     ]
    },
    {
     "name": "stdout",
     "output_type": "stream",
     "text": [
      "0.5249581336975098\n"
     ]
    },
    {
     "name": "stderr",
     "output_type": "stream",
     "text": [
      "\r\n",
      " 49%|█████████████████████████████████████████████████████████████████████████████████████████████████████████████████▊                                                                                                                    | 320/647 [03:02<03:05,  1.76it/s]"
     ]
    },
    {
     "name": "stdout",
     "output_type": "stream",
     "text": [
      "0.5306086540222168\n"
     ]
    },
    {
     "name": "stderr",
     "output_type": "stream",
     "text": [
      "\r\n",
      " 50%|██████████████████████████████████████████████████████████████████████████████████████████████████████████████████                                                                                                                    | 321/647 [03:02<03:06,  1.75it/s]"
     ]
    },
    {
     "name": "stdout",
     "output_type": "stream",
     "text": [
      "0.550900936126709\n"
     ]
    },
    {
     "name": "stderr",
     "output_type": "stream",
     "text": [
      "\r\n",
      " 50%|██████████████████████████████████████████████████████████████████████████████████████████████████████████████████▍                                                                                                                   | 322/647 [03:03<03:05,  1.75it/s]"
     ]
    },
    {
     "name": "stdout",
     "output_type": "stream",
     "text": [
      "0.5326175689697266\n"
     ]
    },
    {
     "name": "stderr",
     "output_type": "stream",
     "text": [
      "\r\n",
      " 50%|██████████████████████████████████████████████████████████████████████████████████████████████████████████████████▊                                                                                                                   | 323/647 [03:04<03:03,  1.77it/s]"
     ]
    },
    {
     "name": "stdout",
     "output_type": "stream",
     "text": [
      "0.5213613510131836\n"
     ]
    },
    {
     "name": "stderr",
     "output_type": "stream",
     "text": [
      "\r\n",
      " 50%|███████████████████████████████████████████████████████████████████████████████████████████████████████████████████▏                                                                                                                  | 324/647 [03:04<03:02,  1.77it/s]"
     ]
    },
    {
     "name": "stdout",
     "output_type": "stream",
     "text": [
      "0.522540807723999\n"
     ]
    },
    {
     "name": "stderr",
     "output_type": "stream",
     "text": [
      "\r\n",
      " 50%|███████████████████████████████████████████████████████████████████████████████████████████████████████████████████▌                                                                                                                  | 325/647 [03:05<03:01,  1.77it/s]"
     ]
    },
    {
     "name": "stdout",
     "output_type": "stream",
     "text": [
      "0.534538984298706\n"
     ]
    },
    {
     "name": "stderr",
     "output_type": "stream",
     "text": [
      "\r\n",
      " 50%|███████████████████████████████████████████████████████████████████████████████████████████████████████████████████▉                                                                                                                  | 326/647 [03:05<03:02,  1.76it/s]"
     ]
    },
    {
     "name": "stdout",
     "output_type": "stream",
     "text": [
      "0.5404088497161865\n"
     ]
    },
    {
     "name": "stderr",
     "output_type": "stream",
     "text": [
      "\r\n",
      " 51%|████████████████████████████████████████████████████████████████████████████████████████████████████████████████████▏                                                                                                                 | 327/647 [03:06<03:03,  1.75it/s]"
     ]
    },
    {
     "name": "stdout",
     "output_type": "stream",
     "text": [
      "0.549166202545166\n"
     ]
    },
    {
     "name": "stderr",
     "output_type": "stream",
     "text": [
      "\r\n",
      " 51%|████████████████████████████████████████████████████████████████████████████████████████████████████████████████████▌                                                                                                                 | 328/647 [03:06<03:01,  1.76it/s]"
     ]
    },
    {
     "name": "stdout",
     "output_type": "stream",
     "text": [
      "0.5301985740661621\n"
     ]
    },
    {
     "name": "stderr",
     "output_type": "stream",
     "text": [
      "\r\n",
      " 51%|████████████████████████████████████████████████████████████████████████████████████████████████████████████████████▉                                                                                                                 | 329/647 [03:07<03:00,  1.77it/s]"
     ]
    },
    {
     "name": "stdout",
     "output_type": "stream",
     "text": [
      "0.5266513824462891\n"
     ]
    },
    {
     "name": "stderr",
     "output_type": "stream",
     "text": [
      "\r\n",
      " 51%|█████████████████████████████████████████████████████████████████████████████████████████████████████████████████████▎                                                                                                                | 330/647 [03:08<03:11,  1.66it/s]"
     ]
    },
    {
     "name": "stdout",
     "output_type": "stream",
     "text": [
      "0.516369104385376\n"
     ]
    },
    {
     "name": "stderr",
     "output_type": "stream",
     "text": [
      "\r\n",
      " 51%|█████████████████████████████████████████████████████████████████████████████████████████████████████████████████████▋                                                                                                                | 331/647 [03:08<03:06,  1.70it/s]"
     ]
    },
    {
     "name": "stdout",
     "output_type": "stream",
     "text": [
      "0.5260484218597412\n"
     ]
    },
    {
     "name": "stderr",
     "output_type": "stream",
     "text": [
      "\r\n",
      " 51%|██████████████████████████████████████████████████████████████████████████████████████████████████████████████████████                                                                                                                | 332/647 [03:09<03:03,  1.71it/s]"
     ]
    },
    {
     "name": "stdout",
     "output_type": "stream",
     "text": [
      "0.536083459854126\n"
     ]
    },
    {
     "name": "stderr",
     "output_type": "stream",
     "text": [
      "\r\n",
      " 51%|██████████████████████████████████████████████████████████████████████████████████████████████████████████████████████▍                                                                                                               | 333/647 [03:09<03:01,  1.73it/s]"
     ]
    },
    {
     "name": "stdout",
     "output_type": "stream",
     "text": [
      "0.5293898582458496\n"
     ]
    },
    {
     "name": "stderr",
     "output_type": "stream",
     "text": [
      "\r\n",
      " 52%|██████████████████████████████████████████████████████████████████████████████████████████████████████████████████████▋                                                                                                               | 334/647 [03:10<02:59,  1.75it/s]"
     ]
    },
    {
     "name": "stdout",
     "output_type": "stream",
     "text": [
      "0.5279257297515869\n"
     ]
    },
    {
     "name": "stderr",
     "output_type": "stream",
     "text": [
      "\r\n",
      " 52%|███████████████████████████████████████████████████████████████████████████████████████████████████████████████████████                                                                                                               | 335/647 [03:10<02:56,  1.77it/s]"
     ]
    },
    {
     "name": "stdout",
     "output_type": "stream",
     "text": [
      "0.5172238349914551\n"
     ]
    },
    {
     "name": "stderr",
     "output_type": "stream",
     "text": [
      "\r\n",
      " 52%|███████████████████████████████████████████████████████████████████████████████████████████████████████████████████████▍                                                                                                              | 336/647 [03:11<02:56,  1.76it/s]"
     ]
    },
    {
     "name": "stdout",
     "output_type": "stream",
     "text": [
      "0.5390958786010742\n"
     ]
    },
    {
     "name": "stderr",
     "output_type": "stream",
     "text": [
      "\r\n",
      " 52%|███████████████████████████████████████████████████████████████████████████████████████████████████████████████████████▊                                                                                                              | 337/647 [03:12<02:55,  1.76it/s]"
     ]
    },
    {
     "name": "stdout",
     "output_type": "stream",
     "text": [
      "0.5304157733917236\n"
     ]
    },
    {
     "name": "stderr",
     "output_type": "stream",
     "text": [
      "\r\n",
      " 52%|████████████████████████████████████████████████████████████████████████████████████████████████████████████████████████▏                                                                                                             | 338/647 [03:12<02:54,  1.77it/s]"
     ]
    },
    {
     "name": "stdout",
     "output_type": "stream",
     "text": [
      "0.5291509628295898\n"
     ]
    },
    {
     "name": "stderr",
     "output_type": "stream",
     "text": [
      "\r\n",
      " 52%|████████████████████████████████████████████████████████████████████████████████████████████████████████████████████████▌                                                                                                             | 339/647 [03:13<02:53,  1.77it/s]"
     ]
    },
    {
     "name": "stdout",
     "output_type": "stream",
     "text": [
      "0.5274231433868408\n"
     ]
    },
    {
     "name": "stderr",
     "output_type": "stream",
     "text": [
      "\r\n",
      " 53%|████████████████████████████████████████████████████████████████████████████████████████████████████████████████████████▊                                                                                                             | 340/647 [03:13<02:54,  1.76it/s]"
     ]
    },
    {
     "name": "stdout",
     "output_type": "stream",
     "text": [
      "0.542428731918335\n"
     ]
    },
    {
     "name": "stderr",
     "output_type": "stream",
     "text": [
      "\r\n",
      " 53%|█████████████████████████████████████████████████████████████████████████████████████████████████████████████████████████▏                                                                                                            | 341/647 [03:14<02:54,  1.75it/s]"
     ]
    },
    {
     "name": "stdout",
     "output_type": "stream",
     "text": [
      "0.54294753074646\n"
     ]
    },
    {
     "name": "stderr",
     "output_type": "stream",
     "text": [
      "\r\n",
      " 53%|█████████████████████████████████████████████████████████████████████████████████████████████████████████████████████████▌                                                                                                            | 342/647 [03:14<02:53,  1.76it/s]"
     ]
    },
    {
     "name": "stdout",
     "output_type": "stream",
     "text": [
      "0.5276165008544922\n"
     ]
    },
    {
     "name": "stderr",
     "output_type": "stream",
     "text": [
      "\r\n",
      " 53%|█████████████████████████████████████████████████████████████████████████████████████████████████████████████████████████▉                                                                                                            | 343/647 [03:15<02:52,  1.76it/s]"
     ]
    },
    {
     "name": "stdout",
     "output_type": "stream",
     "text": [
      "0.5377709865570068\n"
     ]
    },
    {
     "name": "stderr",
     "output_type": "stream",
     "text": [
      "\r\n",
      " 53%|██████████████████████████████████████████████████████████████████████████████████████████████████████████████████████████▎                                                                                                           | 344/647 [03:16<02:51,  1.77it/s]"
     ]
    },
    {
     "name": "stdout",
     "output_type": "stream",
     "text": [
      "0.5276172161102295\n"
     ]
    },
    {
     "name": "stderr",
     "output_type": "stream",
     "text": [
      "\r\n",
      " 53%|██████████████████████████████████████████████████████████████████████████████████████████████████████████████████████████▋                                                                                                           | 345/647 [03:16<03:04,  1.64it/s]"
     ]
    },
    {
     "name": "stdout",
     "output_type": "stream",
     "text": [
      "0.6813030242919922\n"
     ]
    },
    {
     "name": "stderr",
     "output_type": "stream",
     "text": [
      "\r\n",
      " 53%|██████████████████████████████████████████████████████████████████████████████████████████████████████████████████████████▉                                                                                                           | 346/647 [03:17<02:59,  1.68it/s]"
     ]
    },
    {
     "name": "stdout",
     "output_type": "stream",
     "text": [
      "0.5275709629058838\n"
     ]
    },
    {
     "name": "stderr",
     "output_type": "stream",
     "text": [
      "\r\n",
      " 54%|███████████████████████████████████████████████████████████████████████████████████████████████████████████████████████████▎                                                                                                          | 347/647 [03:17<02:55,  1.71it/s]"
     ]
    },
    {
     "name": "stdout",
     "output_type": "stream",
     "text": [
      "0.5297727584838867\n"
     ]
    },
    {
     "name": "stderr",
     "output_type": "stream",
     "text": [
      "\r\n",
      " 54%|███████████████████████████████████████████████████████████████████████████████████████████████████████████████████████████▋                                                                                                          | 348/647 [03:18<02:52,  1.73it/s]"
     ]
    },
    {
     "name": "stdout",
     "output_type": "stream",
     "text": [
      "0.5265061855316162\n"
     ]
    },
    {
     "name": "stderr",
     "output_type": "stream",
     "text": [
      "\r\n",
      " 54%|████████████████████████████████████████████████████████████████████████████████████████████████████████████████████████████                                                                                                          | 349/647 [03:19<02:52,  1.73it/s]"
     ]
    },
    {
     "name": "stdout",
     "output_type": "stream",
     "text": [
      "0.543480396270752\n"
     ]
    },
    {
     "name": "stderr",
     "output_type": "stream",
     "text": [
      "\r\n",
      " 54%|████████████████████████████████████████████████████████████████████████████████████████████████████████████████████████████▍                                                                                                         | 350/647 [03:19<02:49,  1.75it/s]"
     ]
    },
    {
     "name": "stdout",
     "output_type": "stream",
     "text": [
      "0.5175774097442627\n"
     ]
    },
    {
     "name": "stderr",
     "output_type": "stream",
     "text": [
      "\r\n",
      " 54%|████████████████████████████████████████████████████████████████████████████████████████████████████████████████████████████▊                                                                                                         | 351/647 [03:20<02:50,  1.73it/s]"
     ]
    },
    {
     "name": "stdout",
     "output_type": "stream",
     "text": [
      "0.5616357326507568\n"
     ]
    },
    {
     "name": "stderr",
     "output_type": "stream",
     "text": [
      "\r\n",
      " 54%|█████████████████████████████████████████████████████████████████████████████████████████████████████████████████████████████▏                                                                                                        | 352/647 [03:20<02:50,  1.73it/s]"
     ]
    },
    {
     "name": "stdout",
     "output_type": "stream",
     "text": [
      "0.546104907989502\n"
     ]
    },
    {
     "name": "stderr",
     "output_type": "stream",
     "text": [
      "\r\n",
      " 55%|█████████████████████████████████████████████████████████████████████████████████████████████████████████████████████████████▍                                                                                                        | 353/647 [03:21<02:48,  1.75it/s]"
     ]
    },
    {
     "name": "stdout",
     "output_type": "stream",
     "text": [
      "0.523322582244873\n"
     ]
    },
    {
     "name": "stderr",
     "output_type": "stream",
     "text": [
      "\r\n",
      " 55%|█████████████████████████████████████████████████████████████████████████████████████████████████████████████████████████████▊                                                                                                        | 354/647 [03:21<02:45,  1.77it/s]"
     ]
    },
    {
     "name": "stdout",
     "output_type": "stream",
     "text": [
      "0.5148670673370361\n"
     ]
    },
    {
     "name": "stderr",
     "output_type": "stream",
     "text": [
      "\r\n",
      " 55%|██████████████████████████████████████████████████████████████████████████████████████████████████████████████████████████████▏                                                                                                       | 355/647 [03:22<02:43,  1.78it/s]"
     ]
    },
    {
     "name": "stdout",
     "output_type": "stream",
     "text": [
      "0.5154953002929688\n"
     ]
    },
    {
     "name": "stderr",
     "output_type": "stream",
     "text": [
      "\r\n",
      " 55%|██████████████████████████████████████████████████████████████████████████████████████████████████████████████████████████████▌                                                                                                       | 356/647 [03:22<02:42,  1.79it/s]"
     ]
    },
    {
     "name": "stdout",
     "output_type": "stream",
     "text": [
      "0.5203745365142822\n"
     ]
    },
    {
     "name": "stderr",
     "output_type": "stream",
     "text": [
      "\r\n",
      " 55%|██████████████████████████████████████████████████████████████████████████████████████████████████████████████████████████████▉                                                                                                       | 357/647 [03:23<02:41,  1.79it/s]"
     ]
    },
    {
     "name": "stdout",
     "output_type": "stream",
     "text": [
      "0.5250275135040283\n"
     ]
    },
    {
     "name": "stderr",
     "output_type": "stream",
     "text": [
      "\r\n",
      " 55%|███████████████████████████████████████████████████████████████████████████████████████████████████████████████████████████████▎                                                                                                      | 358/647 [03:24<02:41,  1.79it/s]"
     ]
    },
    {
     "name": "stdout",
     "output_type": "stream",
     "text": [
      "0.5300195217132568\n"
     ]
    },
    {
     "name": "stderr",
     "output_type": "stream",
     "text": [
      "\r\n",
      " 55%|███████████████████████████████████████████████████████████████████████████████████████████████████████████████████████████████▌                                                                                                      | 359/647 [03:24<02:53,  1.66it/s]"
     ]
    },
    {
     "name": "stdout",
     "output_type": "stream",
     "text": [
      "0.5272974967956543\n"
     ]
    },
    {
     "name": "stderr",
     "output_type": "stream",
     "text": [
      "\r\n",
      " 56%|███████████████████████████████████████████████████████████████████████████████████████████████████████████████████████████████▉                                                                                                      | 360/647 [03:25<02:49,  1.69it/s]"
     ]
    },
    {
     "name": "stdout",
     "output_type": "stream",
     "text": [
      "0.5324313640594482\n"
     ]
    },
    {
     "name": "stderr",
     "output_type": "stream",
     "text": [
      "\r\n",
      " 56%|████████████████████████████████████████████████████████████████████████████████████████████████████████████████████████████████▎                                                                                                     | 361/647 [03:25<02:45,  1.72it/s]"
     ]
    },
    {
     "name": "stdout",
     "output_type": "stream",
     "text": [
      "0.5202772617340088\n"
     ]
    },
    {
     "name": "stderr",
     "output_type": "stream",
     "text": [
      "\r\n",
      " 56%|████████████████████████████████████████████████████████████████████████████████████████████████████████████████████████████████▋                                                                                                     | 362/647 [03:26<02:43,  1.75it/s]"
     ]
    },
    {
     "name": "stdout",
     "output_type": "stream",
     "text": [
      "0.5218360424041748\n"
     ]
    },
    {
     "name": "stderr",
     "output_type": "stream",
     "text": [
      "\r\n",
      " 56%|█████████████████████████████████████████████████████████████████████████████████████████████████████████████████████████████████                                                                                                     | 363/647 [03:27<02:42,  1.75it/s]"
     ]
    },
    {
     "name": "stdout",
     "output_type": "stream",
     "text": [
      "0.5408964157104492\n"
     ]
    },
    {
     "name": "stderr",
     "output_type": "stream",
     "text": [
      "\r\n",
      " 56%|█████████████████████████████████████████████████████████████████████████████████████████████████████████████████████████████████▍                                                                                                    | 364/647 [03:27<02:42,  1.74it/s]"
     ]
    },
    {
     "name": "stdout",
     "output_type": "stream",
     "text": [
      "0.542003870010376\n"
     ]
    },
    {
     "name": "stderr",
     "output_type": "stream",
     "text": [
      "\r\n",
      " 56%|█████████████████████████████████████████████████████████████████████████████████████████████████████████████████████████████████▊                                                                                                    | 365/647 [03:28<02:43,  1.73it/s]"
     ]
    },
    {
     "name": "stdout",
     "output_type": "stream",
     "text": [
      "0.5557339191436768\n"
     ]
    },
    {
     "name": "stderr",
     "output_type": "stream",
     "text": [
      "\r\n",
      " 57%|██████████████████████████████████████████████████████████████████████████████████████████████████████████████████████████████████                                                                                                    | 366/647 [03:28<02:40,  1.76it/s]"
     ]
    },
    {
     "name": "stdout",
     "output_type": "stream",
     "text": [
      "0.51617431640625\n"
     ]
    },
    {
     "name": "stderr",
     "output_type": "stream",
     "text": [
      "\r\n",
      " 57%|██████████████████████████████████████████████████████████████████████████████████████████████████████████████████████████████████▍                                                                                                   | 367/647 [03:29<02:38,  1.77it/s]"
     ]
    },
    {
     "name": "stdout",
     "output_type": "stream",
     "text": [
      "0.5205545425415039\n"
     ]
    },
    {
     "name": "stderr",
     "output_type": "stream",
     "text": [
      "\r\n",
      " 57%|██████████████████████████████████████████████████████████████████████████████████████████████████████████████████████████████████▊                                                                                                   | 368/647 [03:29<02:37,  1.77it/s]"
     ]
    },
    {
     "name": "stdout",
     "output_type": "stream",
     "text": [
      "0.5293400287628174\n"
     ]
    },
    {
     "name": "stderr",
     "output_type": "stream",
     "text": [
      "\r\n",
      " 57%|███████████████████████████████████████████████████████████████████████████████████████████████████████████████████████████████████▏                                                                                                  | 369/647 [03:30<02:36,  1.78it/s]"
     ]
    },
    {
     "name": "stdout",
     "output_type": "stream",
     "text": [
      "0.5255324840545654\n"
     ]
    },
    {
     "name": "stderr",
     "output_type": "stream",
     "text": [
      "\r\n",
      " 57%|███████████████████████████████████████████████████████████████████████████████████████████████████████████████████████████████████▌                                                                                                  | 370/647 [03:31<02:35,  1.79it/s]"
     ]
    },
    {
     "name": "stdout",
     "output_type": "stream",
     "text": [
      "0.5197610855102539\n"
     ]
    },
    {
     "name": "stderr",
     "output_type": "stream",
     "text": [
      "\r\n",
      " 57%|███████████████████████████████████████████████████████████████████████████████████████████████████████████████████████████████████▉                                                                                                  | 371/647 [03:31<02:34,  1.79it/s]"
     ]
    },
    {
     "name": "stdout",
     "output_type": "stream",
     "text": [
      "0.5238063335418701\n"
     ]
    },
    {
     "name": "stderr",
     "output_type": "stream",
     "text": [
      "\r\n",
      " 57%|████████████████████████████████████████████████████████████████████████████████████████████████████████████████████████████████████▏                                                                                                 | 372/647 [03:32<02:32,  1.80it/s]"
     ]
    },
    {
     "name": "stdout",
     "output_type": "stream",
     "text": [
      "0.5156478881835938\n"
     ]
    },
    {
     "name": "stderr",
     "output_type": "stream",
     "text": [
      "\r\n",
      " 58%|████████████████████████████████████████████████████████████████████████████████████████████████████████████████████████████████████▌                                                                                                 | 373/647 [03:32<02:32,  1.80it/s]"
     ]
    },
    {
     "name": "stdout",
     "output_type": "stream",
     "text": [
      "0.5222585201263428\n"
     ]
    },
    {
     "name": "stderr",
     "output_type": "stream",
     "text": [
      "\r\n",
      " 58%|████████████████████████████████████████████████████████████████████████████████████████████████████████████████████████████████████▉                                                                                                 | 374/647 [03:33<02:41,  1.69it/s]"
     ]
    },
    {
     "name": "stdout",
     "output_type": "stream",
     "text": [
      "0.5064651966094971\n"
     ]
    },
    {
     "name": "stderr",
     "output_type": "stream",
     "text": [
      "\r\n",
      " 58%|█████████████████████████████████████████████████████████████████████████████████████████████████████████████████████████████████████▎                                                                                                | 375/647 [03:33<02:38,  1.72it/s]"
     ]
    },
    {
     "name": "stdout",
     "output_type": "stream",
     "text": [
      "0.5219738483428955\n"
     ]
    },
    {
     "name": "stderr",
     "output_type": "stream",
     "text": [
      "\r\n",
      " 58%|█████████████████████████████████████████████████████████████████████████████████████████████████████████████████████████████████████▋                                                                                                | 376/647 [03:34<02:35,  1.74it/s]"
     ]
    },
    {
     "name": "stdout",
     "output_type": "stream",
     "text": [
      "0.5215749740600586\n"
     ]
    },
    {
     "name": "stderr",
     "output_type": "stream",
     "text": [
      "\r\n",
      " 58%|██████████████████████████████████████████████████████████████████████████████████████████████████████████████████████████████████████                                                                                                | 377/647 [03:35<02:33,  1.76it/s]"
     ]
    },
    {
     "name": "stdout",
     "output_type": "stream",
     "text": [
      "0.5213947296142578\n"
     ]
    },
    {
     "name": "stderr",
     "output_type": "stream",
     "text": [
      "\r\n",
      " 58%|██████████████████████████████████████████████████████████████████████████████████████████████████████████████████████████████████████▎                                                                                               | 378/647 [03:35<02:31,  1.77it/s]"
     ]
    },
    {
     "name": "stdout",
     "output_type": "stream",
     "text": [
      "0.518653154373169\n"
     ]
    },
    {
     "name": "stderr",
     "output_type": "stream",
     "text": [
      "\r\n",
      " 59%|██████████████████████████████████████████████████████████████████████████████████████████████████████████████████████████████████████▋                                                                                               | 379/647 [03:36<02:30,  1.78it/s]"
     ]
    },
    {
     "name": "stdout",
     "output_type": "stream",
     "text": [
      "0.518791675567627\n"
     ]
    },
    {
     "name": "stderr",
     "output_type": "stream",
     "text": [
      "\r\n",
      " 59%|███████████████████████████████████████████████████████████████████████████████████████████████████████████████████████████████████████                                                                                               | 380/647 [03:36<02:29,  1.79it/s]"
     ]
    },
    {
     "name": "stdout",
     "output_type": "stream",
     "text": [
      "0.5238995552062988\n"
     ]
    },
    {
     "name": "stderr",
     "output_type": "stream",
     "text": [
      "\r\n",
      " 59%|███████████████████████████████████████████████████████████████████████████████████████████████████████████████████████████████████████▍                                                                                              | 381/647 [03:37<02:29,  1.78it/s]"
     ]
    },
    {
     "name": "stdout",
     "output_type": "stream",
     "text": [
      "0.528111457824707\n"
     ]
    },
    {
     "name": "stderr",
     "output_type": "stream",
     "text": [
      "\r\n",
      " 59%|███████████████████████████████████████████████████████████████████████████████████████████████████████████████████████████████████████▊                                                                                              | 382/647 [03:37<02:28,  1.78it/s]"
     ]
    },
    {
     "name": "stdout",
     "output_type": "stream",
     "text": [
      "0.5275993347167969\n"
     ]
    },
    {
     "name": "stderr",
     "output_type": "stream",
     "text": [
      "\r\n",
      " 59%|████████████████████████████████████████████████████████████████████████████████████████████████████████████████████████████████████████▏                                                                                             | 383/647 [03:38<02:27,  1.79it/s]"
     ]
    },
    {
     "name": "stdout",
     "output_type": "stream",
     "text": [
      "0.5222024917602539\n"
     ]
    },
    {
     "name": "stderr",
     "output_type": "stream",
     "text": [
      "\r\n",
      " 59%|████████████████████████████████████████████████████████████████████████████████████████████████████████████████████████████████████████▌                                                                                             | 384/647 [03:38<02:26,  1.79it/s]"
     ]
    },
    {
     "name": "stdout",
     "output_type": "stream",
     "text": [
      "0.5207536220550537\n"
     ]
    },
    {
     "name": "stderr",
     "output_type": "stream",
     "text": [
      "\r\n",
      " 60%|████████████████████████████████████████████████████████████████████████████████████████████████████████████████████████████████████████▊                                                                                             | 385/647 [03:39<02:26,  1.79it/s]"
     ]
    },
    {
     "name": "stdout",
     "output_type": "stream",
     "text": [
      "0.5211575031280518\n"
     ]
    },
    {
     "name": "stderr",
     "output_type": "stream",
     "text": [
      "\r\n",
      " 60%|█████████████████████████████████████████████████████████████████████████████████████████████████████████████████████████████████████████▏                                                                                            | 386/647 [03:40<02:25,  1.79it/s]"
     ]
    },
    {
     "name": "stdout",
     "output_type": "stream",
     "text": [
      "0.5189125537872314\n"
     ]
    },
    {
     "name": "stderr",
     "output_type": "stream",
     "text": [
      "\r\n",
      " 60%|█████████████████████████████████████████████████████████████████████████████████████████████████████████████████████████████████████████▌                                                                                            | 387/647 [03:40<02:24,  1.80it/s]"
     ]
    },
    {
     "name": "stdout",
     "output_type": "stream",
     "text": [
      "0.5145425796508789\n"
     ]
    },
    {
     "name": "stderr",
     "output_type": "stream",
     "text": [
      "\r\n",
      " 60%|█████████████████████████████████████████████████████████████████████████████████████████████████████████████████████████████████████████▉                                                                                            | 388/647 [03:41<02:23,  1.80it/s]"
     ]
    },
    {
     "name": "stdout",
     "output_type": "stream",
     "text": [
      "0.5216126441955566\n"
     ]
    },
    {
     "name": "stderr",
     "output_type": "stream",
     "text": [
      "\r\n",
      " 60%|██████████████████████████████████████████████████████████████████████████████████████████████████████████████████████████████████████████▎                                                                                           | 389/647 [03:41<02:33,  1.68it/s]"
     ]
    },
    {
     "name": "stdout",
     "output_type": "stream",
     "text": [
      "0.6603372097015381\n"
     ]
    },
    {
     "name": "stderr",
     "output_type": "stream",
     "text": [
      "\r\n",
      " 60%|██████████████████████████████████████████████████████████████████████████████████████████████████████████████████████████████████████████▋                                                                                           | 390/647 [03:42<02:30,  1.71it/s]"
     ]
    },
    {
     "name": "stdout",
     "output_type": "stream",
     "text": [
      "0.5231752395629883\n"
     ]
    },
    {
     "name": "stderr",
     "output_type": "stream",
     "text": [
      "\r\n",
      " 60%|██████████████████████████████████████████████████████████████████████████████████████████████████████████████████████████████████████████▉                                                                                           | 391/647 [03:42<02:27,  1.74it/s]"
     ]
    },
    {
     "name": "stdout",
     "output_type": "stream",
     "text": [
      "0.5187077522277832\n"
     ]
    },
    {
     "name": "stderr",
     "output_type": "stream",
     "text": [
      "\r\n",
      " 61%|███████████████████████████████████████████████████████████████████████████████████████████████████████████████████████████████████████████▎                                                                                          | 392/647 [03:43<02:25,  1.76it/s]"
     ]
    },
    {
     "name": "stdout",
     "output_type": "stream",
     "text": [
      "0.5227639675140381\n"
     ]
    },
    {
     "name": "stderr",
     "output_type": "stream",
     "text": [
      "\r\n",
      " 61%|███████████████████████████████████████████████████████████████████████████████████████████████████████████████████████████████████████████▋                                                                                          | 393/647 [03:44<02:23,  1.77it/s]"
     ]
    },
    {
     "name": "stdout",
     "output_type": "stream",
     "text": [
      "0.5226562023162842\n"
     ]
    },
    {
     "name": "stderr",
     "output_type": "stream",
     "text": [
      "\r\n",
      " 61%|████████████████████████████████████████████████████████████████████████████████████████████████████████████████████████████████████████████                                                                                          | 394/647 [03:44<02:22,  1.77it/s]"
     ]
    },
    {
     "name": "stdout",
     "output_type": "stream",
     "text": [
      "0.5284953117370605\n"
     ]
    },
    {
     "name": "stderr",
     "output_type": "stream",
     "text": [
      "\r\n",
      " 61%|████████████████████████████████████████████████████████████████████████████████████████████████████████████████████████████████████████████▍                                                                                         | 395/647 [03:45<02:21,  1.78it/s]"
     ]
    },
    {
     "name": "stdout",
     "output_type": "stream",
     "text": [
      "0.5161819458007812\n"
     ]
    },
    {
     "name": "stderr",
     "output_type": "stream",
     "text": [
      "\r\n",
      " 61%|████████████████████████████████████████████████████████████████████████████████████████████████████████████████████████████████████████████▊                                                                                         | 396/647 [03:45<02:20,  1.78it/s]"
     ]
    },
    {
     "name": "stdout",
     "output_type": "stream",
     "text": [
      "0.5286843776702881\n"
     ]
    },
    {
     "name": "stderr",
     "output_type": "stream",
     "text": [
      "\r\n",
      " 61%|█████████████████████████████████████████████████████████████████████████████████████████████████████████████████████████████████████████████▏                                                                                        | 397/647 [03:46<02:20,  1.78it/s]"
     ]
    },
    {
     "name": "stdout",
     "output_type": "stream",
     "text": [
      "0.5302858352661133\n"
     ]
    },
    {
     "name": "stderr",
     "output_type": "stream",
     "text": [
      "\r\n",
      " 62%|█████████████████████████████████████████████████████████████████████████████████████████████████████████████████████████████████████████████▍                                                                                        | 398/647 [03:46<02:21,  1.76it/s]"
     ]
    },
    {
     "name": "stdout",
     "output_type": "stream",
     "text": [
      "0.5529961585998535\n"
     ]
    },
    {
     "name": "stderr",
     "output_type": "stream",
     "text": [
      "\r\n",
      " 62%|█████████████████████████████████████████████████████████████████████████████████████████████████████████████████████████████████████████████▊                                                                                        | 399/647 [03:47<02:27,  1.69it/s]"
     ]
    },
    {
     "name": "stdout",
     "output_type": "stream",
     "text": [
      "0.6103222370147705\n"
     ]
    },
    {
     "name": "stderr",
     "output_type": "stream",
     "text": [
      "\r\n",
      " 62%|██████████████████████████████████████████████████████████████████████████████████████████████████████████████████████████████████████████████▏                                                                                       | 400/647 [03:48<02:24,  1.72it/s]"
     ]
    },
    {
     "name": "stdout",
     "output_type": "stream",
     "text": [
      "0.5248603820800781\n"
     ]
    },
    {
     "name": "stderr",
     "output_type": "stream",
     "text": [
      "\r\n",
      " 62%|██████████████████████████████████████████████████████████████████████████████████████████████████████████████████████████████████████████████▌                                                                                       | 401/647 [03:48<02:21,  1.74it/s]"
     ]
    },
    {
     "name": "stdout",
     "output_type": "stream",
     "text": [
      "0.5222992897033691\n"
     ]
    },
    {
     "name": "stderr",
     "output_type": "stream",
     "text": [
      "\r\n",
      " 62%|██████████████████████████████████████████████████████████████████████████████████████████████████████████████████████████████████████████████▉                                                                                       | 402/647 [03:49<02:20,  1.75it/s]"
     ]
    },
    {
     "name": "stdout",
     "output_type": "stream",
     "text": [
      "0.5321600437164307\n"
     ]
    },
    {
     "name": "stderr",
     "output_type": "stream",
     "text": [
      "\r\n",
      " 62%|███████████████████████████████████████████████████████████████████████████████████████████████████████████████████████████████████████████████▎                                                                                      | 403/647 [03:49<02:29,  1.64it/s]"
     ]
    },
    {
     "name": "stdout",
     "output_type": "stream",
     "text": [
      "0.5255918502807617\n"
     ]
    },
    {
     "name": "stderr",
     "output_type": "stream",
     "text": [
      "\r\n",
      " 62%|███████████████████████████████████████████████████████████████████████████████████████████████████████████████████████████████████████████████▌                                                                                      | 404/647 [03:50<02:24,  1.69it/s]"
     ]
    },
    {
     "name": "stdout",
     "output_type": "stream",
     "text": [
      "0.515458345413208\n"
     ]
    },
    {
     "name": "stderr",
     "output_type": "stream",
     "text": [
      "\r\n",
      " 63%|███████████████████████████████████████████████████████████████████████████████████████████████████████████████████████████████████████████████▉                                                                                      | 405/647 [03:51<02:26,  1.65it/s]"
     ]
    },
    {
     "name": "stdout",
     "output_type": "stream",
     "text": [
      "0.6057612895965576\n"
     ]
    },
    {
     "name": "stderr",
     "output_type": "stream",
     "text": [
      "\r\n",
      " 63%|████████████████████████████████████████████████████████████████████████████████████████████████████████████████████████████████████████████████▎                                                                                     | 406/647 [03:51<02:22,  1.69it/s]"
     ]
    },
    {
     "name": "stdout",
     "output_type": "stream",
     "text": [
      "0.5214226245880127\n"
     ]
    },
    {
     "name": "stderr",
     "output_type": "stream",
     "text": [
      "\r\n",
      " 63%|████████████████████████████████████████████████████████████████████████████████████████████████████████████████████████████████████████████████▋                                                                                     | 407/647 [03:52<02:19,  1.72it/s]"
     ]
    },
    {
     "name": "stdout",
     "output_type": "stream",
     "text": [
      "0.522796630859375\n"
     ]
    },
    {
     "name": "stderr",
     "output_type": "stream",
     "text": [
      "\r\n",
      " 63%|█████████████████████████████████████████████████████████████████████████████████████████████████████████████████████████████████████████████████                                                                                     | 408/647 [03:52<02:17,  1.74it/s]"
     ]
    },
    {
     "name": "stdout",
     "output_type": "stream",
     "text": [
      "0.5245747566223145\n"
     ]
    },
    {
     "name": "stderr",
     "output_type": "stream",
     "text": [
      "\r\n",
      " 63%|█████████████████████████████████████████████████████████████████████████████████████████████████████████████████████████████████████████████████▍                                                                                    | 409/647 [03:53<02:15,  1.75it/s]"
     ]
    },
    {
     "name": "stdout",
     "output_type": "stream",
     "text": [
      "0.527613639831543\n"
     ]
    },
    {
     "name": "stderr",
     "output_type": "stream",
     "text": [
      "\r\n",
      " 63%|█████████████████████████████████████████████████████████████████████████████████████████████████████████████████████████████████████████████████▋                                                                                    | 410/647 [03:53<02:16,  1.74it/s]"
     ]
    },
    {
     "name": "stdout",
     "output_type": "stream",
     "text": [
      "0.5448441505432129\n"
     ]
    },
    {
     "name": "stderr",
     "output_type": "stream",
     "text": [
      "\r\n",
      " 64%|██████████████████████████████████████████████████████████████████████████████████████████████████████████████████████████████████████████████████                                                                                    | 411/647 [03:54<02:14,  1.76it/s]"
     ]
    },
    {
     "name": "stdout",
     "output_type": "stream",
     "text": [
      "0.524176836013794\n"
     ]
    },
    {
     "name": "stderr",
     "output_type": "stream",
     "text": [
      "\r\n",
      " 64%|██████████████████████████████████████████████████████████████████████████████████████████████████████████████████████████████████████████████████▍                                                                                   | 412/647 [03:55<02:13,  1.76it/s]"
     ]
    },
    {
     "name": "stdout",
     "output_type": "stream",
     "text": [
      "0.5263500213623047\n"
     ]
    },
    {
     "name": "stderr",
     "output_type": "stream",
     "text": [
      "\r\n",
      " 64%|██████████████████████████████████████████████████████████████████████████████████████████████████████████████████████████████████████████████████▊                                                                                   | 413/647 [03:55<02:10,  1.79it/s]"
     ]
    },
    {
     "name": "stdout",
     "output_type": "stream",
     "text": [
      "0.5057950019836426\n"
     ]
    },
    {
     "name": "stderr",
     "output_type": "stream",
     "text": [
      "\r\n",
      " 64%|███████████████████████████████████████████████████████████████████████████████████████████████████████████████████████████████████████████████████▏                                                                                  | 414/647 [03:56<02:09,  1.79it/s]"
     ]
    },
    {
     "name": "stdout",
     "output_type": "stream",
     "text": [
      "0.5206081867218018\n"
     ]
    },
    {
     "name": "stderr",
     "output_type": "stream",
     "text": [
      "\r\n",
      " 64%|███████████████████████████████████████████████████████████████████████████████████████████████████████████████████████████████████████████████████▌                                                                                  | 415/647 [03:56<02:08,  1.80it/s]"
     ]
    },
    {
     "name": "stdout",
     "output_type": "stream",
     "text": [
      "0.5192747116088867\n"
     ]
    },
    {
     "name": "stderr",
     "output_type": "stream",
     "text": [
      "\r\n",
      " 64%|███████████████████████████████████████████████████████████████████████████████████████████████████████████████████████████████████████████████████▉                                                                                  | 416/647 [03:57<02:08,  1.80it/s]"
     ]
    },
    {
     "name": "stdout",
     "output_type": "stream",
     "text": [
      "0.519467830657959\n"
     ]
    },
    {
     "name": "stderr",
     "output_type": "stream",
     "text": [
      "\r\n",
      " 64%|████████████████████████████████████████████████████████████████████████████████████████████████████████████████████████████████████████████████████▏                                                                                 | 417/647 [03:57<02:07,  1.80it/s]"
     ]
    },
    {
     "name": "stdout",
     "output_type": "stream",
     "text": [
      "0.5256099700927734\n"
     ]
    },
    {
     "name": "stderr",
     "output_type": "stream",
     "text": [
      "\r\n",
      " 65%|████████████████████████████████████████████████████████████████████████████████████████████████████████████████████████████████████████████████████▌                                                                                 | 418/647 [03:58<02:16,  1.68it/s]"
     ]
    },
    {
     "name": "stdout",
     "output_type": "stream",
     "text": [
      "0.6575939655303955\n"
     ]
    },
    {
     "name": "stderr",
     "output_type": "stream",
     "text": [
      "\r\n",
      " 65%|████████████████████████████████████████████████████████████████████████████████████████████████████████████████████████████████████████████████████▉                                                                                 | 419/647 [03:59<02:12,  1.72it/s]"
     ]
    },
    {
     "name": "stdout",
     "output_type": "stream",
     "text": [
      "0.516646146774292\n"
     ]
    },
    {
     "name": "stderr",
     "output_type": "stream",
     "text": [
      "\r\n",
      " 65%|█████████████████████████████████████████████████████████████████████████████████████████████████████████████████████████████████████████████████████▎                                                                                | 420/647 [03:59<02:10,  1.74it/s]"
     ]
    },
    {
     "name": "stdout",
     "output_type": "stream",
     "text": [
      "0.5201330184936523\n"
     ]
    },
    {
     "name": "stderr",
     "output_type": "stream",
     "text": [
      "\r\n",
      " 65%|█████████████████████████████████████████████████████████████████████████████████████████████████████████████████████████████████████████████████████▋                                                                                | 421/647 [04:00<02:08,  1.76it/s]"
     ]
    },
    {
     "name": "stdout",
     "output_type": "stream",
     "text": [
      "0.520796537399292\n"
     ]
    },
    {
     "name": "stderr",
     "output_type": "stream",
     "text": [
      "\r\n",
      " 65%|██████████████████████████████████████████████████████████████████████████████████████████████████████████████████████████████████████████████████████                                                                                | 422/647 [04:00<02:07,  1.76it/s]"
     ]
    },
    {
     "name": "stdout",
     "output_type": "stream",
     "text": [
      "0.5332410335540771\n"
     ]
    },
    {
     "name": "stderr",
     "output_type": "stream",
     "text": [
      "\r\n",
      " 65%|██████████████████████████████████████████████████████████████████████████████████████████████████████████████████████████████████████████████████████▎                                                                               | 423/647 [04:01<02:06,  1.78it/s]"
     ]
    },
    {
     "name": "stdout",
     "output_type": "stream",
     "text": [
      "0.5177769660949707\n"
     ]
    },
    {
     "name": "stderr",
     "output_type": "stream",
     "text": [
      "\r\n",
      " 66%|██████████████████████████████████████████████████████████████████████████████████████████████████████████████████████████████████████████████████████▋                                                                               | 424/647 [04:01<02:05,  1.77it/s]"
     ]
    },
    {
     "name": "stdout",
     "output_type": "stream",
     "text": [
      "0.5316641330718994\n"
     ]
    },
    {
     "name": "stderr",
     "output_type": "stream",
     "text": [
      "\r\n",
      " 66%|███████████████████████████████████████████████████████████████████████████████████████████████████████████████████████████████████████████████████████                                                                               | 425/647 [04:02<02:04,  1.78it/s]"
     ]
    },
    {
     "name": "stdout",
     "output_type": "stream",
     "text": [
      "0.5220251083374023\n"
     ]
    },
    {
     "name": "stderr",
     "output_type": "stream",
     "text": [
      "\r\n",
      " 66%|███████████████████████████████████████████████████████████████████████████████████████████████████████████████████████████████████████████████████████▍                                                                              | 426/647 [04:02<02:03,  1.79it/s]"
     ]
    },
    {
     "name": "stdout",
     "output_type": "stream",
     "text": [
      "0.5192136764526367\n"
     ]
    },
    {
     "name": "stderr",
     "output_type": "stream",
     "text": [
      "\r\n",
      " 66%|███████████████████████████████████████████████████████████████████████████████████████████████████████████████████████████████████████████████████████▊                                                                              | 427/647 [04:03<02:01,  1.81it/s]"
     ]
    },
    {
     "name": "stdout",
     "output_type": "stream",
     "text": [
      "0.5078625679016113\n"
     ]
    },
    {
     "name": "stderr",
     "output_type": "stream",
     "text": [
      "\r\n",
      " 66%|████████████████████████████████████████████████████████████████████████████████████████████████████████████████████████████████████████████████████████▏                                                                             | 428/647 [04:04<02:01,  1.80it/s]"
     ]
    },
    {
     "name": "stdout",
     "output_type": "stream",
     "text": [
      "0.520904541015625\n"
     ]
    },
    {
     "name": "stderr",
     "output_type": "stream",
     "text": [
      "\r\n",
      " 66%|████████████████████████████████████████████████████████████████████████████████████████████████████████████████████████████████████████████████████████▌                                                                             | 429/647 [04:04<02:00,  1.80it/s]"
     ]
    },
    {
     "name": "stdout",
     "output_type": "stream",
     "text": [
      "0.5184817314147949\n"
     ]
    },
    {
     "name": "stderr",
     "output_type": "stream",
     "text": [
      "\r\n",
      " 66%|████████████████████████████████████████████████████████████████████████████████████████████████████████████████████████████████████████████████████████▊                                                                             | 430/647 [04:05<02:00,  1.80it/s]"
     ]
    },
    {
     "name": "stdout",
     "output_type": "stream",
     "text": [
      "0.5237925052642822\n"
     ]
    },
    {
     "name": "stderr",
     "output_type": "stream",
     "text": [
      "\r\n",
      " 67%|█████████████████████████████████████████████████████████████████████████████████████████████████████████████████████████████████████████████████████████▏                                                                            | 431/647 [04:05<02:00,  1.79it/s]"
     ]
    },
    {
     "name": "stdout",
     "output_type": "stream",
     "text": [
      "0.5278024673461914\n"
     ]
    },
    {
     "name": "stderr",
     "output_type": "stream",
     "text": [
      "\r\n",
      " 67%|█████████████████████████████████████████████████████████████████████████████████████████████████████████████████████████████████████████████████████████▌                                                                            | 432/647 [04:06<01:59,  1.80it/s]"
     ]
    },
    {
     "name": "stdout",
     "output_type": "stream",
     "text": [
      "0.5192313194274902\n"
     ]
    },
    {
     "name": "stderr",
     "output_type": "stream",
     "text": [
      "\r\n",
      " 67%|█████████████████████████████████████████████████████████████████████████████████████████████████████████████████████████████████████████████████████████▉                                                                            | 433/647 [04:06<02:07,  1.68it/s]"
     ]
    },
    {
     "name": "stdout",
     "output_type": "stream",
     "text": [
      "0.6549215316772461\n"
     ]
    },
    {
     "name": "stderr",
     "output_type": "stream",
     "text": [
      "\r\n",
      " 67%|██████████████████████████████████████████████████████████████████████████████████████████████████████████████████████████████████████████████████████████▎                                                                           | 434/647 [04:07<02:04,  1.71it/s]"
     ]
    },
    {
     "name": "stdout",
     "output_type": "stream",
     "text": [
      "0.5259072780609131\n"
     ]
    },
    {
     "name": "stderr",
     "output_type": "stream",
     "text": [
      "\r\n",
      " 67%|██████████████████████████████████████████████████████████████████████████████████████████████████████████████████████████████████████████████████████████▋                                                                           | 435/647 [04:08<02:02,  1.73it/s]"
     ]
    },
    {
     "name": "stdout",
     "output_type": "stream",
     "text": [
      "0.5309598445892334\n"
     ]
    },
    {
     "name": "stderr",
     "output_type": "stream",
     "text": [
      "\r\n",
      " 67%|██████████████████████████████████████████████████████████████████████████████████████████████████████████████████████████████████████████████████████████▉                                                                           | 436/647 [04:08<02:01,  1.73it/s]"
     ]
    },
    {
     "name": "stdout",
     "output_type": "stream",
     "text": [
      "0.5419638156890869\n"
     ]
    },
    {
     "name": "stderr",
     "output_type": "stream",
     "text": [
      "\r\n",
      " 68%|███████████████████████████████████████████████████████████████████████████████████████████████████████████████████████████████████████████████████████████▎                                                                          | 437/647 [04:09<01:59,  1.75it/s]"
     ]
    },
    {
     "name": "stdout",
     "output_type": "stream",
     "text": [
      "0.5226008892059326\n"
     ]
    },
    {
     "name": "stderr",
     "output_type": "stream",
     "text": [
      "\r\n",
      " 68%|███████████████████████████████████████████████████████████████████████████████████████████████████████████████████████████████████████████████████████████▋                                                                          | 438/647 [04:09<01:59,  1.75it/s]"
     ]
    },
    {
     "name": "stdout",
     "output_type": "stream",
     "text": [
      "0.541398286819458\n"
     ]
    },
    {
     "name": "stderr",
     "output_type": "stream",
     "text": [
      "\r\n",
      " 68%|████████████████████████████████████████████████████████████████████████████████████████████████████████████████████████████████████████████████████████████                                                                          | 439/647 [04:10<02:00,  1.73it/s]"
     ]
    },
    {
     "name": "stdout",
     "output_type": "stream",
     "text": [
      "0.5567643642425537\n"
     ]
    },
    {
     "name": "stderr",
     "output_type": "stream",
     "text": [
      "\r\n",
      " 68%|████████████████████████████████████████████████████████████████████████████████████████████████████████████████████████████████████████████████████████████▍                                                                         | 440/647 [04:10<01:58,  1.74it/s]"
     ]
    },
    {
     "name": "stdout",
     "output_type": "stream",
     "text": [
      "0.5339996814727783\n"
     ]
    },
    {
     "name": "stderr",
     "output_type": "stream",
     "text": [
      "\r\n",
      " 68%|████████████████████████████████████████████████████████████████████████████████████████████████████████████████████████████████████████████████████████████▊                                                                         | 441/647 [04:11<01:58,  1.74it/s]"
     ]
    },
    {
     "name": "stdout",
     "output_type": "stream",
     "text": [
      "0.5378375053405762\n"
     ]
    },
    {
     "name": "stderr",
     "output_type": "stream",
     "text": [
      "\r\n",
      " 68%|█████████████████████████████████████████████████████████████████████████████████████████████████████████████████████████████████████████████████████████████▏                                                                        | 442/647 [04:12<01:57,  1.75it/s]"
     ]
    },
    {
     "name": "stdout",
     "output_type": "stream",
     "text": [
      "0.5307388305664062\n"
     ]
    },
    {
     "name": "stderr",
     "output_type": "stream",
     "text": [
      "\r\n",
      " 68%|█████████████████████████████████████████████████████████████████████████████████████████████████████████████████████████████████████████████████████████████▍                                                                        | 443/647 [04:12<01:58,  1.72it/s]"
     ]
    },
    {
     "name": "stdout",
     "output_type": "stream",
     "text": [
      "0.5782337188720703\n"
     ]
    },
    {
     "name": "stderr",
     "output_type": "stream",
     "text": [
      "\r\n",
      " 69%|█████████████████████████████████████████████████████████████████████████████████████████████████████████████████████████████████████████████████████████████▊                                                                        | 444/647 [04:13<01:57,  1.72it/s]"
     ]
    },
    {
     "name": "stdout",
     "output_type": "stream",
     "text": [
      "0.5396275520324707\n"
     ]
    },
    {
     "name": "stderr",
     "output_type": "stream",
     "text": [
      "\r\n",
      " 69%|██████████████████████████████████████████████████████████████████████████████████████████████████████████████████████████████████████████████████████████████▏                                                                       | 445/647 [04:13<01:55,  1.74it/s]"
     ]
    },
    {
     "name": "stdout",
     "output_type": "stream",
     "text": [
      "0.5255157947540283\n"
     ]
    },
    {
     "name": "stderr",
     "output_type": "stream",
     "text": [
      "\r\n",
      " 69%|██████████████████████████████████████████████████████████████████████████████████████████████████████████████████████████████████████████████████████████████▌                                                                       | 446/647 [04:14<01:54,  1.75it/s]"
     ]
    },
    {
     "name": "stdout",
     "output_type": "stream",
     "text": [
      "0.530630350112915\n"
     ]
    },
    {
     "name": "stderr",
     "output_type": "stream",
     "text": [
      "\r\n",
      " 69%|██████████████████████████████████████████████████████████████████████████████████████████████████████████████████████████████████████████████████████████████▉                                                                       | 447/647 [04:15<02:02,  1.64it/s]"
     ]
    },
    {
     "name": "stdout",
     "output_type": "stream",
     "text": [
      "0.6718025207519531\n"
     ]
    },
    {
     "name": "stderr",
     "output_type": "stream",
     "text": [
      "\r\n",
      " 69%|███████████████████████████████████████████████████████████████████████████████████████████████████████████████████████████████████████████████████████████████▎                                                                      | 448/647 [04:15<01:59,  1.67it/s]"
     ]
    },
    {
     "name": "stdout",
     "output_type": "stream",
     "text": [
      "0.5342764854431152\n"
     ]
    },
    {
     "name": "stderr",
     "output_type": "stream",
     "text": [
      "\r\n",
      " 69%|███████████████████████████████████████████████████████████████████████████████████████████████████████████████████████████████████████████████████████████████▌                                                                      | 449/647 [04:16<01:56,  1.71it/s]"
     ]
    },
    {
     "name": "stdout",
     "output_type": "stream",
     "text": [
      "0.5251960754394531\n"
     ]
    },
    {
     "name": "stderr",
     "output_type": "stream",
     "text": [
      "\r\n",
      " 70%|███████████████████████████████████████████████████████████████████████████████████████████████████████████████████████████████████████████████████████████████▉                                                                      | 450/647 [04:16<01:54,  1.72it/s]"
     ]
    },
    {
     "name": "stdout",
     "output_type": "stream",
     "text": [
      "0.5322015285491943\n"
     ]
    },
    {
     "name": "stderr",
     "output_type": "stream",
     "text": [
      "\r\n",
      " 70%|████████████████████████████████████████████████████████████████████████████████████████████████████████████████████████████████████████████████████████████████▎                                                                     | 451/647 [04:17<01:52,  1.74it/s]"
     ]
    },
    {
     "name": "stdout",
     "output_type": "stream",
     "text": [
      "0.53350830078125\n"
     ]
    },
    {
     "name": "stderr",
     "output_type": "stream",
     "text": [
      "\r\n",
      " 70%|████████████████████████████████████████████████████████████████████████████████████████████████████████████████████████████████████████████████████████████████▋                                                                     | 452/647 [04:17<01:52,  1.74it/s]"
     ]
    },
    {
     "name": "stdout",
     "output_type": "stream",
     "text": [
      "0.5408124923706055\n"
     ]
    },
    {
     "name": "stderr",
     "output_type": "stream",
     "text": [
      "\r\n",
      " 70%|█████████████████████████████████████████████████████████████████████████████████████████████████████████████████████████████████████████████████████████████████                                                                     | 453/647 [04:18<01:50,  1.75it/s]"
     ]
    },
    {
     "name": "stdout",
     "output_type": "stream",
     "text": [
      "0.5287246704101562\n"
     ]
    },
    {
     "name": "stderr",
     "output_type": "stream",
     "text": [
      "\r\n",
      " 70%|█████████████████████████████████████████████████████████████████████████████████████████████████████████████████████████████████████████████████████████████████▍                                                                    | 454/647 [04:19<01:49,  1.76it/s]"
     ]
    },
    {
     "name": "stdout",
     "output_type": "stream",
     "text": [
      "0.5288116931915283\n"
     ]
    },
    {
     "name": "stderr",
     "output_type": "stream",
     "text": [
      "\r\n",
      " 70%|█████████████████████████████████████████████████████████████████████████████████████████████████████████████████████████████████████████████████████████████████▋                                                                    | 455/647 [04:19<01:51,  1.73it/s]"
     ]
    },
    {
     "name": "stdout",
     "output_type": "stream",
     "text": [
      "0.5695397853851318\n"
     ]
    },
    {
     "name": "stderr",
     "output_type": "stream",
     "text": [
      "\r\n",
      " 70%|██████████████████████████████████████████████████████████████████████████████████████████████████████████████████████████████████████████████████████████████████                                                                    | 456/647 [04:20<01:50,  1.73it/s]"
     ]
    },
    {
     "name": "stdout",
     "output_type": "stream",
     "text": [
      "0.5394959449768066\n"
     ]
    },
    {
     "name": "stderr",
     "output_type": "stream",
     "text": [
      "\r\n",
      " 71%|██████████████████████████████████████████████████████████████████████████████████████████████████████████████████████████████████████████████████████████████████▍                                                                   | 457/647 [04:20<01:49,  1.73it/s]"
     ]
    },
    {
     "name": "stdout",
     "output_type": "stream",
     "text": [
      "0.5407857894897461\n"
     ]
    },
    {
     "name": "stderr",
     "output_type": "stream",
     "text": [
      "\r\n",
      " 71%|██████████████████████████████████████████████████████████████████████████████████████████████████████████████████████████████████████████████████████████████████▊                                                                   | 458/647 [04:21<01:48,  1.74it/s]"
     ]
    },
    {
     "name": "stdout",
     "output_type": "stream",
     "text": [
      "0.5421202182769775\n"
     ]
    },
    {
     "name": "stderr",
     "output_type": "stream",
     "text": [
      "\r\n",
      " 71%|███████████████████████████████████████████████████████████████████████████████████████████████████████████████████████████████████████████████████████████████████▏                                                                  | 459/647 [04:21<01:49,  1.71it/s]"
     ]
    },
    {
     "name": "stdout",
     "output_type": "stream",
     "text": [
      "0.5628228187561035\n"
     ]
    },
    {
     "name": "stderr",
     "output_type": "stream",
     "text": [
      "\r\n",
      " 71%|███████████████████████████████████████████████████████████████████████████████████████████████████████████████████████████████████████████████████████████████████▌                                                                  | 460/647 [04:22<01:48,  1.72it/s]"
     ]
    },
    {
     "name": "stdout",
     "output_type": "stream",
     "text": [
      "0.5415992736816406\n"
     ]
    },
    {
     "name": "stderr",
     "output_type": "stream",
     "text": [
      "\r\n",
      " 71%|███████████████████████████████████████████████████████████████████████████████████████████████████████████████████████████████████████████████████████████████████▉                                                                  | 461/647 [04:23<01:56,  1.59it/s]"
     ]
    },
    {
     "name": "stdout",
     "output_type": "stream",
     "text": [
      "0.7042140960693359\n"
     ]
    },
    {
     "name": "stderr",
     "output_type": "stream",
     "text": [
      "\r\n",
      " 71%|████████████████████████████████████████████████████████████████████████████████████████████████████████████████████████████████████████████████████████████████████▏                                                                 | 462/647 [04:23<01:52,  1.64it/s]"
     ]
    },
    {
     "name": "stdout",
     "output_type": "stream",
     "text": [
      "0.5317270755767822\n"
     ]
    },
    {
     "name": "stderr",
     "output_type": "stream",
     "text": [
      "\r\n",
      " 72%|████████████████████████████████████████████████████████████████████████████████████████████████████████████████████████████████████████████████████████████████████▌                                                                 | 463/647 [04:24<01:49,  1.68it/s]"
     ]
    },
    {
     "name": "stdout",
     "output_type": "stream",
     "text": [
      "0.5288360118865967\n"
     ]
    },
    {
     "name": "stderr",
     "output_type": "stream",
     "text": [
      "\r\n",
      " 72%|████████████████████████████████████████████████████████████████████████████████████████████████████████████████████████████████████████████████████████████████████▉                                                                 | 464/647 [04:24<01:48,  1.69it/s]"
     ]
    },
    {
     "name": "stdout",
     "output_type": "stream",
     "text": [
      "0.5448508262634277\n"
     ]
    },
    {
     "name": "stderr",
     "output_type": "stream",
     "text": [
      "\r\n",
      " 72%|█████████████████████████████████████████████████████████████████████████████████████████████████████████████████████████████████████████████████████████████████████▎                                                                | 465/647 [04:25<01:46,  1.70it/s]"
     ]
    },
    {
     "name": "stdout",
     "output_type": "stream",
     "text": [
      "0.545133113861084\n"
     ]
    },
    {
     "name": "stderr",
     "output_type": "stream",
     "text": [
      "\r\n",
      " 72%|█████████████████████████████████████████████████████████████████████████████████████████████████████████████████████████████████████████████████████████████████████▋                                                                | 466/647 [04:26<01:45,  1.72it/s]"
     ]
    },
    {
     "name": "stdout",
     "output_type": "stream",
     "text": [
      "0.5306165218353271\n"
     ]
    },
    {
     "name": "stderr",
     "output_type": "stream",
     "text": [
      "\r\n",
      " 72%|██████████████████████████████████████████████████████████████████████████████████████████████████████████████████████████████████████████████████████████████████████                                                                | 467/647 [04:26<01:45,  1.71it/s]"
     ]
    },
    {
     "name": "stdout",
     "output_type": "stream",
     "text": [
      "0.5634639263153076\n"
     ]
    },
    {
     "name": "stderr",
     "output_type": "stream",
     "text": [
      "\r\n",
      " 72%|██████████████████████████████████████████████████████████████████████████████████████████████████████████████████████████████████████████████████████████████████████▎                                                               | 468/647 [04:27<01:43,  1.73it/s]"
     ]
    },
    {
     "name": "stdout",
     "output_type": "stream",
     "text": [
      "0.5330016613006592\n"
     ]
    },
    {
     "name": "stderr",
     "output_type": "stream",
     "text": [
      "\r\n",
      " 72%|██████████████████████████████████████████████████████████████████████████████████████████████████████████████████████████████████████████████████████████████████████▋                                                               | 469/647 [04:27<01:43,  1.72it/s]"
     ]
    },
    {
     "name": "stdout",
     "output_type": "stream",
     "text": [
      "0.548799991607666\n"
     ]
    },
    {
     "name": "stderr",
     "output_type": "stream",
     "text": [
      "\r\n",
      " 73%|███████████████████████████████████████████████████████████████████████████████████████████████████████████████████████████████████████████████████████████████████████                                                               | 470/647 [04:28<01:42,  1.72it/s]"
     ]
    },
    {
     "name": "stdout",
     "output_type": "stream",
     "text": [
      "0.5485856533050537\n"
     ]
    },
    {
     "name": "stderr",
     "output_type": "stream",
     "text": [
      "\r\n",
      " 73%|███████████████████████████████████████████████████████████████████████████████████████████████████████████████████████████████████████████████████████████████████████▍                                                              | 471/647 [04:29<01:42,  1.72it/s]"
     ]
    },
    {
     "name": "stdout",
     "output_type": "stream",
     "text": [
      "0.5541031360626221\n"
     ]
    },
    {
     "name": "stderr",
     "output_type": "stream",
     "text": [
      "\r\n",
      " 73%|███████████████████████████████████████████████████████████████████████████████████████████████████████████████████████████████████████████████████████████████████████▊                                                              | 472/647 [04:29<01:41,  1.72it/s]"
     ]
    },
    {
     "name": "stdout",
     "output_type": "stream",
     "text": [
      "0.5435092449188232\n"
     ]
    },
    {
     "name": "stderr",
     "output_type": "stream",
     "text": [
      "\r\n",
      " 73%|████████████████████████████████████████████████████████████████████████████████████████████████████████████████████████████████████████████████████████████████████████▏                                                             | 473/647 [04:30<01:40,  1.73it/s]"
     ]
    },
    {
     "name": "stdout",
     "output_type": "stream",
     "text": [
      "0.5316715240478516\n"
     ]
    },
    {
     "name": "stderr",
     "output_type": "stream",
     "text": [
      "\r\n",
      " 73%|████████████████████████████████████████████████████████████████████████████████████████████████████████████████████████████████████████████████████████████████████████▌                                                             | 474/647 [04:30<01:39,  1.74it/s]"
     ]
    },
    {
     "name": "stdout",
     "output_type": "stream",
     "text": [
      "0.5333418846130371\n"
     ]
    },
    {
     "name": "stderr",
     "output_type": "stream",
     "text": [
      "\r\n",
      " 73%|████████████████████████████████████████████████████████████████████████████████████████████████████████████████████████████████████████████████████████████████████████▊                                                             | 475/647 [04:31<01:46,  1.62it/s]"
     ]
    },
    {
     "name": "stdout",
     "output_type": "stream",
     "text": [
      "0.5474886894226074\n"
     ]
    },
    {
     "name": "stderr",
     "output_type": "stream",
     "text": [
      "\r\n",
      " 74%|█████████████████████████████████████████████████████████████████████████████████████████████████████████████████████████████████████████████████████████████████████████▏                                                            | 476/647 [04:32<01:43,  1.65it/s]"
     ]
    },
    {
     "name": "stdout",
     "output_type": "stream",
     "text": [
      "0.5404098033905029\n"
     ]
    },
    {
     "name": "stderr",
     "output_type": "stream",
     "text": [
      "\r\n",
      " 74%|█████████████████████████████████████████████████████████████████████████████████████████████████████████████████████████████████████████████████████████████████████████▌                                                            | 477/647 [04:32<01:40,  1.69it/s]"
     ]
    },
    {
     "name": "stdout",
     "output_type": "stream",
     "text": [
      "0.5251429080963135\n"
     ]
    },
    {
     "name": "stderr",
     "output_type": "stream",
     "text": [
      "\r\n",
      " 74%|█████████████████████████████████████████████████████████████████████████████████████████████████████████████████████████████████████████████████████████████████████████▉                                                            | 478/647 [04:33<01:38,  1.72it/s]"
     ]
    },
    {
     "name": "stdout",
     "output_type": "stream",
     "text": [
      "0.5267398357391357\n"
     ]
    },
    {
     "name": "stderr",
     "output_type": "stream",
     "text": [
      "\r\n",
      " 74%|██████████████████████████████████████████████████████████████████████████████████████████████████████████████████████████████████████████████████████████████████████████▎                                                           | 479/647 [04:33<01:36,  1.74it/s]"
     ]
    },
    {
     "name": "stdout",
     "output_type": "stream",
     "text": [
      "0.5234584808349609\n"
     ]
    },
    {
     "name": "stderr",
     "output_type": "stream",
     "text": [
      "\r\n",
      " 74%|██████████████████████████████████████████████████████████████████████████████████████████████████████████████████████████████████████████████████████████████████████████▋                                                           | 480/647 [04:34<01:36,  1.73it/s]"
     ]
    },
    {
     "name": "stdout",
     "output_type": "stream",
     "text": [
      "0.549086332321167\n"
     ]
    },
    {
     "name": "stderr",
     "output_type": "stream",
     "text": [
      "\r\n",
      " 74%|██████████████████████████████████████████████████████████████████████████████████████████████████████████████████████████████████████████████████████████████████████████▉                                                           | 481/647 [04:34<01:35,  1.74it/s]"
     ]
    },
    {
     "name": "stdout",
     "output_type": "stream",
     "text": [
      "0.5283763408660889\n"
     ]
    },
    {
     "name": "stderr",
     "output_type": "stream",
     "text": [
      "\r\n",
      " 74%|███████████████████████████████████████████████████████████████████████████████████████████████████████████████████████████████████████████████████████████████████████████▎                                                          | 482/647 [04:35<01:34,  1.74it/s]"
     ]
    },
    {
     "name": "stdout",
     "output_type": "stream",
     "text": [
      "0.5453774929046631\n"
     ]
    },
    {
     "name": "stderr",
     "output_type": "stream",
     "text": [
      "\r\n",
      " 75%|███████████████████████████████████████████████████████████████████████████████████████████████████████████████████████████████████████████████████████████████████████████▋                                                          | 483/647 [04:36<01:33,  1.75it/s]"
     ]
    },
    {
     "name": "stdout",
     "output_type": "stream",
     "text": [
      "0.5319864749908447\n"
     ]
    },
    {
     "name": "stderr",
     "output_type": "stream",
     "text": [
      "\r\n",
      " 75%|████████████████████████████████████████████████████████████████████████████████████████████████████████████████████████████████████████████████████████████████████████████                                                          | 484/647 [04:36<01:33,  1.75it/s]"
     ]
    },
    {
     "name": "stdout",
     "output_type": "stream",
     "text": [
      "0.5336682796478271\n"
     ]
    },
    {
     "name": "stderr",
     "output_type": "stream",
     "text": [
      "\r\n",
      " 75%|████████████████████████████████████████████████████████████████████████████████████████████████████████████████████████████████████████████████████████████████████████████▍                                                         | 485/647 [04:37<01:32,  1.76it/s]"
     ]
    },
    {
     "name": "stdout",
     "output_type": "stream",
     "text": [
      "0.5281362533569336\n"
     ]
    },
    {
     "name": "stderr",
     "output_type": "stream",
     "text": [
      "\r\n",
      " 75%|████████████████████████████████████████████████████████████████████████████████████████████████████████████████████████████████████████████████████████████████████████████▊                                                         | 486/647 [04:37<01:32,  1.74it/s]"
     ]
    },
    {
     "name": "stdout",
     "output_type": "stream",
     "text": [
      "0.5536644458770752\n"
     ]
    },
    {
     "name": "stderr",
     "output_type": "stream",
     "text": [
      "\r\n",
      " 75%|█████████████████████████████████████████████████████████████████████████████████████████████████████████████████████████████████████████████████████████████████████████████                                                         | 487/647 [04:38<01:31,  1.76it/s]"
     ]
    },
    {
     "name": "stdout",
     "output_type": "stream",
     "text": [
      "0.5243794918060303\n"
     ]
    },
    {
     "name": "stderr",
     "output_type": "stream",
     "text": [
      "\r\n",
      " 75%|█████████████████████████████████████████████████████████████████████████████████████████████████████████████████████████████████████████████████████████████████████████████▍                                                        | 488/647 [04:38<01:30,  1.76it/s]"
     ]
    },
    {
     "name": "stdout",
     "output_type": "stream",
     "text": [
      "0.531409740447998\n"
     ]
    },
    {
     "name": "stderr",
     "output_type": "stream",
     "text": [
      "\r\n",
      " 76%|█████████████████████████████████████████████████████████████████████████████████████████████████████████████████████████████████████████████████████████████████████████████▊                                                        | 489/647 [04:39<01:28,  1.79it/s]"
     ]
    },
    {
     "name": "stdout",
     "output_type": "stream",
     "text": [
      "0.5063033103942871\n"
     ]
    },
    {
     "name": "stderr",
     "output_type": "stream",
     "text": [
      "\r\n",
      " 76%|██████████████████████████████████████████████████████████████████████████████████████████████████████████████████████████████████████████████████████████████████████████████▏                                                       | 490/647 [04:40<01:34,  1.66it/s]"
     ]
    },
    {
     "name": "stdout",
     "output_type": "stream",
     "text": [
      "0.6704962253570557\n"
     ]
    },
    {
     "name": "stderr",
     "output_type": "stream",
     "text": [
      "\r\n",
      " 76%|██████████████████████████████████████████████████████████████████████████████████████████████████████████████████████████████████████████████████████████████████████████████▌                                                       | 491/647 [04:40<01:32,  1.69it/s]"
     ]
    },
    {
     "name": "stdout",
     "output_type": "stream",
     "text": [
      "0.5270626544952393\n"
     ]
    },
    {
     "name": "stderr",
     "output_type": "stream",
     "text": [
      "\r\n",
      " 76%|██████████████████████████████████████████████████████████████████████████████████████████████████████████████████████████████████████████████████████████████████████████████▉                                                       | 492/647 [04:41<01:29,  1.73it/s]"
     ]
    },
    {
     "name": "stdout",
     "output_type": "stream",
     "text": [
      "0.5203356742858887\n"
     ]
    },
    {
     "name": "stderr",
     "output_type": "stream",
     "text": [
      "\r\n",
      " 76%|███████████████████████████████████████████████████████████████████████████████████████████████████████████████████████████████████████████████████████████████████████████████▎                                                      | 493/647 [04:41<01:28,  1.73it/s]"
     ]
    },
    {
     "name": "stdout",
     "output_type": "stream",
     "text": [
      "0.5388555526733398\n"
     ]
    },
    {
     "name": "stderr",
     "output_type": "stream",
     "text": [
      "\r\n",
      " 76%|███████████████████████████████████████████████████████████████████████████████████████████████████████████████████████████████████████████████████████████████████████████████▌                                                      | 494/647 [04:42<01:28,  1.73it/s]"
     ]
    },
    {
     "name": "stdout",
     "output_type": "stream",
     "text": [
      "0.5424838066101074\n"
     ]
    },
    {
     "name": "stderr",
     "output_type": "stream",
     "text": [
      "\r\n",
      " 77%|███████████████████████████████████████████████████████████████████████████████████████████████████████████████████████████████████████████████████████████████████████████████▉                                                      | 495/647 [04:42<01:27,  1.73it/s]"
     ]
    },
    {
     "name": "stdout",
     "output_type": "stream",
     "text": [
      "0.5478940010070801\n"
     ]
    },
    {
     "name": "stderr",
     "output_type": "stream",
     "text": [
      "\r\n",
      " 77%|████████████████████████████████████████████████████████████████████████████████████████████████████████████████████████████████████████████████████████████████████████████████▎                                                     | 496/647 [04:43<01:26,  1.74it/s]"
     ]
    },
    {
     "name": "stdout",
     "output_type": "stream",
     "text": [
      "0.5365762710571289\n"
     ]
    },
    {
     "name": "stderr",
     "output_type": "stream",
     "text": [
      "\r\n",
      " 77%|████████████████████████████████████████████████████████████████████████████████████████████████████████████████████████████████████████████████████████████████████████████████▋                                                     | 497/647 [04:44<01:26,  1.73it/s]"
     ]
    },
    {
     "name": "stdout",
     "output_type": "stream",
     "text": [
      "0.551443338394165\n"
     ]
    },
    {
     "name": "stderr",
     "output_type": "stream",
     "text": [
      "\r\n",
      " 77%|█████████████████████████████████████████████████████████████████████████████████████████████████████████████████████████████████████████████████████████████████████████████████                                                     | 498/647 [04:44<01:26,  1.73it/s]"
     ]
    },
    {
     "name": "stdout",
     "output_type": "stream",
     "text": [
      "0.5486409664154053\n"
     ]
    },
    {
     "name": "stderr",
     "output_type": "stream",
     "text": [
      "\r\n",
      " 77%|█████████████████████████████████████████████████████████████████████████████████████████████████████████████████████████████████████████████████████████████████████████████████▍                                                    | 499/647 [04:45<01:25,  1.73it/s]"
     ]
    },
    {
     "name": "stdout",
     "output_type": "stream",
     "text": [
      "0.5438854694366455\n"
     ]
    },
    {
     "name": "stderr",
     "output_type": "stream",
     "text": [
      "\r\n",
      " 77%|█████████████████████████████████████████████████████████████████████████████████████████████████████████████████████████████████████████████████████████████████████████████████▋                                                    | 500/647 [04:45<01:24,  1.73it/s]"
     ]
    },
    {
     "name": "stdout",
     "output_type": "stream",
     "text": [
      "0.5379512310028076\n"
     ]
    },
    {
     "name": "stderr",
     "output_type": "stream",
     "text": [
      "\r\n",
      " 77%|██████████████████████████████████████████████████████████████████████████████████████████████████████████████████████████████████████████████████████████████████████████████████                                                    | 501/647 [04:46<01:24,  1.73it/s]"
     ]
    },
    {
     "name": "stdout",
     "output_type": "stream",
     "text": [
      "0.5478396415710449\n"
     ]
    },
    {
     "name": "stderr",
     "output_type": "stream",
     "text": [
      "\r\n",
      " 78%|██████████████████████████████████████████████████████████████████████████████████████████████████████████████████████████████████████████████████████████████████████████████████▍                                                   | 502/647 [04:46<01:22,  1.75it/s]"
     ]
    },
    {
     "name": "stdout",
     "output_type": "stream",
     "text": [
      "0.522575855255127\n"
     ]
    },
    {
     "name": "stderr",
     "output_type": "stream",
     "text": [
      "\r\n",
      " 78%|██████████████████████████████████████████████████████████████████████████████████████████████████████████████████████████████████████████████████████████████████████████████████▊                                                   | 503/647 [04:47<01:23,  1.72it/s]"
     ]
    },
    {
     "name": "stdout",
     "output_type": "stream",
     "text": [
      "0.5732581615447998\n"
     ]
    },
    {
     "name": "stderr",
     "output_type": "stream",
     "text": [
      "\r\n",
      " 78%|███████████████████████████████████████████████████████████████████████████████████████████████████████████████████████████████████████████████████████████████████████████████████▏                                                  | 504/647 [04:48<01:28,  1.61it/s]"
     ]
    },
    {
     "name": "stdout",
     "output_type": "stream",
     "text": [
      "0.6758074760437012\n"
     ]
    },
    {
     "name": "stderr",
     "output_type": "stream",
     "text": [
      "\r\n",
      " 78%|███████████████████████████████████████████████████████████████████████████████████████████████████████████████████████████████████████████████████████████████████████████████████▌                                                  | 505/647 [04:48<01:27,  1.62it/s]"
     ]
    },
    {
     "name": "stdout",
     "output_type": "stream",
     "text": [
      "0.5766370296478271\n"
     ]
    },
    {
     "name": "stderr",
     "output_type": "stream",
     "text": [
      "\r\n",
      " 78%|███████████████████████████████████████████████████████████████████████████████████████████████████████████████████████████████████████████████████████████████████████████████████▉                                                  | 506/647 [04:49<01:24,  1.66it/s]"
     ]
    },
    {
     "name": "stdout",
     "output_type": "stream",
     "text": [
      "0.5351064205169678\n"
     ]
    },
    {
     "name": "stderr",
     "output_type": "stream",
     "text": [
      "\r\n",
      " 78%|████████████████████████████████████████████████████████████████████████████████████████████████████████████████████████████████████████████████████████████████████████████████████▏                                                 | 507/647 [04:50<01:23,  1.68it/s]"
     ]
    },
    {
     "name": "stdout",
     "output_type": "stream",
     "text": [
      "0.5436828136444092\n"
     ]
    },
    {
     "name": "stderr",
     "output_type": "stream",
     "text": [
      "\r\n",
      " 79%|████████████████████████████████████████████████████████████████████████████████████████████████████████████████████████████████████████████████████████████████████████████████████▌                                                 | 508/647 [04:50<01:22,  1.69it/s]"
     ]
    },
    {
     "name": "stdout",
     "output_type": "stream",
     "text": [
      "0.5479104518890381\n"
     ]
    },
    {
     "name": "stderr",
     "output_type": "stream",
     "text": [
      "\r\n",
      " 79%|████████████████████████████████████████████████████████████████████████████████████████████████████████████████████████████████████████████████████████████████████████████████████▉                                                 | 509/647 [04:51<01:22,  1.67it/s]"
     ]
    },
    {
     "name": "stdout",
     "output_type": "stream",
     "text": [
      "0.5836479663848877\n"
     ]
    },
    {
     "name": "stderr",
     "output_type": "stream",
     "text": [
      "\r\n",
      " 79%|█████████████████████████████████████████████████████████████████████████████████████████████████████████████████████████████████████████████████████████████████████████████████████▎                                                | 510/647 [04:51<01:21,  1.67it/s]"
     ]
    },
    {
     "name": "stdout",
     "output_type": "stream",
     "text": [
      "0.5604004859924316\n"
     ]
    },
    {
     "name": "stderr",
     "output_type": "stream",
     "text": [
      "\r\n",
      " 79%|█████████████████████████████████████████████████████████████████████████████████████████████████████████████████████████████████████████████████████████████████████████████████████▋                                                | 511/647 [04:52<01:20,  1.69it/s]"
     ]
    },
    {
     "name": "stdout",
     "output_type": "stream",
     "text": [
      "0.5418670177459717\n"
     ]
    },
    {
     "name": "stderr",
     "output_type": "stream",
     "text": [
      "\r\n",
      " 79%|██████████████████████████████████████████████████████████████████████████████████████████████████████████████████████████████████████████████████████████████████████████████████████                                                | 512/647 [04:52<01:18,  1.72it/s]"
     ]
    },
    {
     "name": "stdout",
     "output_type": "stream",
     "text": [
      "0.5247650146484375\n"
     ]
    },
    {
     "name": "stderr",
     "output_type": "stream",
     "text": [
      "\r\n",
      " 79%|██████████████████████████████████████████████████████████████████████████████████████████████████████████████████████████████████████████████████████████████████████████████████████▎                                               | 513/647 [04:53<01:17,  1.74it/s]"
     ]
    },
    {
     "name": "stdout",
     "output_type": "stream",
     "text": [
      "0.5310697555541992\n"
     ]
    },
    {
     "name": "stderr",
     "output_type": "stream",
     "text": [
      "\r\n",
      " 79%|██████████████████████████████████████████████████████████████████████████████████████████████████████████████████████████████████████████████████████████████████████████████████████▋                                               | 514/647 [04:54<01:16,  1.74it/s]"
     ]
    },
    {
     "name": "stdout",
     "output_type": "stream",
     "text": [
      "0.5433530807495117\n"
     ]
    },
    {
     "name": "stderr",
     "output_type": "stream",
     "text": [
      "\r\n",
      " 80%|███████████████████████████████████████████████████████████████████████████████████████████████████████████████████████████████████████████████████████████████████████████████████████                                               | 515/647 [04:54<01:15,  1.76it/s]"
     ]
    },
    {
     "name": "stdout",
     "output_type": "stream",
     "text": [
      "0.518580436706543\n"
     ]
    },
    {
     "name": "stderr",
     "output_type": "stream",
     "text": [
      "\r\n",
      " 80%|███████████████████████████████████████████████████████████████████████████████████████████████████████████████████████████████████████████████████████████████████████████████████████▍                                              | 516/647 [04:55<01:14,  1.77it/s]"
     ]
    },
    {
     "name": "stdout",
     "output_type": "stream",
     "text": [
      "0.5243692398071289\n"
     ]
    },
    {
     "name": "stderr",
     "output_type": "stream",
     "text": [
      "\r\n",
      " 80%|███████████████████████████████████████████████████████████████████████████████████████████████████████████████████████████████████████████████████████████████████████████████████████▊                                              | 517/647 [04:55<01:13,  1.76it/s]"
     ]
    },
    {
     "name": "stdout",
     "output_type": "stream",
     "text": [
      "0.5401010513305664\n"
     ]
    },
    {
     "name": "stderr",
     "output_type": "stream",
     "text": [
      "\r\n",
      " 80%|████████████████████████████████████████████████████████████████████████████████████████████████████████████████████████████████████████████████████████████████████████████████████████▏                                             | 518/647 [04:56<01:12,  1.77it/s]"
     ]
    },
    {
     "name": "stdout",
     "output_type": "stream",
     "text": [
      "0.527733325958252\n"
     ]
    },
    {
     "name": "stderr",
     "output_type": "stream",
     "text": [
      "\r\n",
      " 80%|████████████████████████████████████████████████████████████████████████████████████████████████████████████████████████████████████████████████████████████████████████████████████████▍                                             | 519/647 [04:57<01:17,  1.65it/s]"
     ]
    },
    {
     "name": "stdout",
     "output_type": "stream",
     "text": [
      "0.6668336391448975\n"
     ]
    },
    {
     "name": "stderr",
     "output_type": "stream",
     "text": [
      "\r\n",
      " 80%|████████████████████████████████████████████████████████████████████████████████████████████████████████████████████████████████████████████████████████████████████████████████████████▊                                             | 520/647 [04:57<01:14,  1.70it/s]"
     ]
    },
    {
     "name": "stdout",
     "output_type": "stream",
     "text": [
      "0.51528000831604\n"
     ]
    },
    {
     "name": "stderr",
     "output_type": "stream",
     "text": [
      "\r\n",
      " 81%|█████████████████████████████████████████████████████████████████████████████████████████████████████████████████████████████████████████████████████████████████████████████████████████▏                                            | 521/647 [04:58<01:13,  1.72it/s]"
     ]
    },
    {
     "name": "stdout",
     "output_type": "stream",
     "text": [
      "0.5276408195495605\n"
     ]
    },
    {
     "name": "stderr",
     "output_type": "stream",
     "text": [
      "\r\n",
      " 81%|█████████████████████████████████████████████████████████████████████████████████████████████████████████████████████████████████████████████████████████████████████████████████████████▌                                            | 522/647 [04:58<01:12,  1.73it/s]"
     ]
    },
    {
     "name": "stdout",
     "output_type": "stream",
     "text": [
      "0.5344898700714111\n"
     ]
    },
    {
     "name": "stderr",
     "output_type": "stream",
     "text": [
      "\r\n",
      " 81%|█████████████████████████████████████████████████████████████████████████████████████████████████████████████████████████████████████████████████████████████████████████████████████████▉                                            | 523/647 [04:59<01:10,  1.76it/s]"
     ]
    },
    {
     "name": "stdout",
     "output_type": "stream",
     "text": [
      "0.5168027877807617\n"
     ]
    },
    {
     "name": "stderr",
     "output_type": "stream",
     "text": [
      "\r\n",
      " 81%|██████████████████████████████████████████████████████████████████████████████████████████████████████████████████████████████████████████████████████████████████████████████████████████▎                                           | 524/647 [04:59<01:10,  1.75it/s]"
     ]
    },
    {
     "name": "stdout",
     "output_type": "stream",
     "text": [
      "0.5419278144836426\n"
     ]
    },
    {
     "name": "stderr",
     "output_type": "stream",
     "text": [
      "\r\n",
      " 81%|██████████████████████████████████████████████████████████████████████████████████████████████████████████████████████████████████████████████████████████████████████████████████████████▋                                           | 525/647 [05:00<01:09,  1.76it/s]"
     ]
    },
    {
     "name": "stdout",
     "output_type": "stream",
     "text": [
      "0.5304868221282959\n"
     ]
    },
    {
     "name": "stderr",
     "output_type": "stream",
     "text": [
      "\r\n",
      " 81%|██████████████████████████████████████████████████████████████████████████████████████████████████████████████████████████████████████████████████████████████████████████████████████████▉                                           | 526/647 [05:00<01:08,  1.76it/s]"
     ]
    },
    {
     "name": "stdout",
     "output_type": "stream",
     "text": [
      "0.5307776927947998\n"
     ]
    },
    {
     "name": "stderr",
     "output_type": "stream",
     "text": [
      "\r\n",
      " 81%|███████████████████████████████████████████████████████████████████████████████████████████████████████████████████████████████████████████████████████████████████████████████████████████▎                                          | 527/647 [05:01<01:07,  1.77it/s]"
     ]
    },
    {
     "name": "stdout",
     "output_type": "stream",
     "text": [
      "0.527721643447876\n"
     ]
    },
    {
     "name": "stderr",
     "output_type": "stream",
     "text": [
      "\r\n",
      " 82%|███████████████████████████████████████████████████████████████████████████████████████████████████████████████████████████████████████████████████████████████████████████████████████████▋                                          | 528/647 [05:02<01:07,  1.77it/s]"
     ]
    },
    {
     "name": "stdout",
     "output_type": "stream",
     "text": [
      "0.5264451503753662\n"
     ]
    },
    {
     "name": "stderr",
     "output_type": "stream",
     "text": [
      "\r\n",
      " 82%|████████████████████████████████████████████████████████████████████████████████████████████████████████████████████████████████████████████████████████████████████████████████████████████                                          | 529/647 [05:02<01:06,  1.78it/s]"
     ]
    },
    {
     "name": "stdout",
     "output_type": "stream",
     "text": [
      "0.5222792625427246\n"
     ]
    },
    {
     "name": "stderr",
     "output_type": "stream",
     "text": [
      "\r\n",
      " 82%|████████████████████████████████████████████████████████████████████████████████████████████████████████████████████████████████████████████████████████████████████████████████████████████▍                                         | 530/647 [05:03<01:05,  1.77it/s]"
     ]
    },
    {
     "name": "stdout",
     "output_type": "stream",
     "text": [
      "0.5360732078552246\n"
     ]
    },
    {
     "name": "stderr",
     "output_type": "stream",
     "text": [
      "\r\n",
      " 82%|████████████████████████████████████████████████████████████████████████████████████████████████████████████████████████████████████████████████████████████████████████████████████████████▊                                         | 531/647 [05:03<01:05,  1.77it/s]"
     ]
    },
    {
     "name": "stdout",
     "output_type": "stream",
     "text": [
      "0.5325860977172852\n"
     ]
    },
    {
     "name": "stderr",
     "output_type": "stream",
     "text": [
      "\r\n",
      " 82%|█████████████████████████████████████████████████████████████████████████████████████████████████████████████████████████████████████████████████████████████████████████████████████████████                                         | 532/647 [05:04<01:05,  1.75it/s]"
     ]
    },
    {
     "name": "stdout",
     "output_type": "stream",
     "text": [
      "0.5593445301055908\n"
     ]
    },
    {
     "name": "stderr",
     "output_type": "stream",
     "text": [
      "\r\n",
      " 82%|█████████████████████████████████████████████████████████████████████████████████████████████████████████████████████████████████████████████████████████████████████████████████████████████▍                                        | 533/647 [05:04<01:05,  1.75it/s]"
     ]
    },
    {
     "name": "stdout",
     "output_type": "stream",
     "text": [
      "0.5317785739898682\n"
     ]
    },
    {
     "name": "stderr",
     "output_type": "stream",
     "text": [
      "\r\n",
      " 83%|█████████████████████████████████████████████████████████████████████████████████████████████████████████████████████████████████████████████████████████████████████████████████████████████▊                                        | 534/647 [05:05<01:09,  1.63it/s]"
     ]
    },
    {
     "name": "stdout",
     "output_type": "stream",
     "text": [
      "0.6837573051452637\n"
     ]
    },
    {
     "name": "stderr",
     "output_type": "stream",
     "text": [
      "\r\n",
      " 83%|██████████████████████████████████████████████████████████████████████████████████████████████████████████████████████████████████████████████████████████████████████████████████████████████▏                                       | 535/647 [05:06<01:07,  1.67it/s]"
     ]
    },
    {
     "name": "stdout",
     "output_type": "stream",
     "text": [
      "0.5306389331817627\n"
     ]
    },
    {
     "name": "stderr",
     "output_type": "stream",
     "text": [
      "\r\n",
      " 83%|██████████████████████████████████████████████████████████████████████████████████████████████████████████████████████████████████████████████████████████████████████████████████████████████▌                                       | 536/647 [05:06<01:05,  1.70it/s]"
     ]
    },
    {
     "name": "stdout",
     "output_type": "stream",
     "text": [
      "0.5332620143890381\n"
     ]
    },
    {
     "name": "stderr",
     "output_type": "stream",
     "text": [
      "\r\n",
      " 83%|██████████████████████████████████████████████████████████████████████████████████████████████████████████████████████████████████████████████████████████████████████████████████████████████▉                                       | 537/647 [05:07<01:03,  1.73it/s]"
     ]
    },
    {
     "name": "stdout",
     "output_type": "stream",
     "text": [
      "0.5208368301391602\n"
     ]
    },
    {
     "name": "stderr",
     "output_type": "stream",
     "text": [
      "\r\n",
      " 83%|███████████████████████████████████████████████████████████████████████████████████████████████████████████████████████████████████████████████████████████████████████████████████████████████▎                                      | 538/647 [05:07<01:03,  1.73it/s]"
     ]
    },
    {
     "name": "stdout",
     "output_type": "stream",
     "text": [
      "0.545952558517456\n"
     ]
    },
    {
     "name": "stderr",
     "output_type": "stream",
     "text": [
      "\r\n",
      " 83%|███████████████████████████████████████████████████████████████████████████████████████████████████████████████████████████████████████████████████████████████████████████████████████████████▌                                      | 539/647 [05:08<01:01,  1.75it/s]"
     ]
    },
    {
     "name": "stdout",
     "output_type": "stream",
     "text": [
      "0.5242400169372559\n"
     ]
    },
    {
     "name": "stderr",
     "output_type": "stream",
     "text": [
      "\r\n",
      " 83%|███████████████████████████████████████████████████████████████████████████████████████████████████████████████████████████████████████████████████████████████████████████████████████████████▉                                      | 540/647 [05:09<01:00,  1.77it/s]"
     ]
    },
    {
     "name": "stdout",
     "output_type": "stream",
     "text": [
      "0.5179843902587891\n"
     ]
    },
    {
     "name": "stderr",
     "output_type": "stream",
     "text": [
      "\r\n",
      " 84%|████████████████████████████████████████████████████████████████████████████████████████████████████████████████████████████████████████████████████████████████████████████████████████████████▎                                     | 541/647 [05:09<00:59,  1.78it/s]"
     ]
    },
    {
     "name": "stdout",
     "output_type": "stream",
     "text": [
      "0.5222880840301514\n"
     ]
    },
    {
     "name": "stderr",
     "output_type": "stream",
     "text": [
      "\r\n",
      " 84%|████████████████████████████████████████████████████████████████████████████████████████████████████████████████████████████████████████████████████████████████████████████████████████████████▋                                     | 542/647 [05:10<00:59,  1.77it/s]"
     ]
    },
    {
     "name": "stdout",
     "output_type": "stream",
     "text": [
      "0.5363063812255859\n"
     ]
    },
    {
     "name": "stderr",
     "output_type": "stream",
     "text": [
      "\r\n",
      " 84%|█████████████████████████████████████████████████████████████████████████████████████████████████████████████████████████████████████████████████████████████████████████████████████████████████                                     | 543/647 [05:10<00:58,  1.77it/s]"
     ]
    },
    {
     "name": "stdout",
     "output_type": "stream",
     "text": [
      "0.5268840789794922\n"
     ]
    },
    {
     "name": "stderr",
     "output_type": "stream",
     "text": [
      "\r\n",
      " 84%|█████████████████████████████████████████████████████████████████████████████████████████████████████████████████████████████████████████████████████████████████████████████████████████████████▍                                    | 544/647 [05:11<00:58,  1.76it/s]"
     ]
    },
    {
     "name": "stdout",
     "output_type": "stream",
     "text": [
      "0.5394244194030762\n"
     ]
    },
    {
     "name": "stderr",
     "output_type": "stream",
     "text": [
      "\r\n",
      " 84%|█████████████████████████████████████████████████████████████████████████████████████████████████████████████████████████████████████████████████████████████████████████████████████████████████▋                                    | 545/647 [05:11<00:58,  1.75it/s]"
     ]
    },
    {
     "name": "stdout",
     "output_type": "stream",
     "text": [
      "0.5505731105804443\n"
     ]
    },
    {
     "name": "stderr",
     "output_type": "stream",
     "text": [
      "\r\n",
      " 84%|██████████████████████████████████████████████████████████████████████████████████████████████████████████████████████████████████████████████████████████████████████████████████████████████████                                    | 546/647 [05:12<00:58,  1.74it/s]"
     ]
    },
    {
     "name": "stdout",
     "output_type": "stream",
     "text": [
      "0.5434648990631104\n"
     ]
    },
    {
     "name": "stderr",
     "output_type": "stream",
     "text": [
      "\r\n",
      " 85%|██████████████████████████████████████████████████████████████████████████████████████████████████████████████████████████████████████████████████████████████████████████████████████████████████▍                                   | 547/647 [05:13<00:56,  1.76it/s]"
     ]
    },
    {
     "name": "stdout",
     "output_type": "stream",
     "text": [
      "0.5188000202178955\n"
     ]
    },
    {
     "name": "stderr",
     "output_type": "stream",
     "text": [
      "\r\n",
      " 85%|██████████████████████████████████████████████████████████████████████████████████████████████████████████████████████████████████████████████████████████████████████████████████████████████████▊                                   | 548/647 [05:13<01:00,  1.64it/s]"
     ]
    },
    {
     "name": "stdout",
     "output_type": "stream",
     "text": [
      "0.6658496856689453\n"
     ]
    },
    {
     "name": "stderr",
     "output_type": "stream",
     "text": [
      "\r\n",
      " 85%|███████████████████████████████████████████████████████████████████████████████████████████████████████████████████████████████████████████████████████████████████████████████████████████████████▏                                  | 549/647 [05:14<00:58,  1.67it/s]"
     ]
    },
    {
     "name": "stdout",
     "output_type": "stream",
     "text": [
      "0.5463345050811768\n"
     ]
    },
    {
     "name": "stderr",
     "output_type": "stream",
     "text": [
      "\r\n",
      " 85%|███████████████████████████████████████████████████████████████████████████████████████████████████████████████████████████████████████████████████████████████████████████████████████████████████▌                                  | 550/647 [05:14<00:57,  1.69it/s]"
     ]
    },
    {
     "name": "stdout",
     "output_type": "stream",
     "text": [
      "0.5319225788116455\n"
     ]
    },
    {
     "name": "stderr",
     "output_type": "stream",
     "text": [
      "\r\n",
      " 85%|███████████████████████████████████████████████████████████████████████████████████████████████████████████████████████████████████████████████████████████████████████████████████████████████████▊                                  | 551/647 [05:15<00:55,  1.72it/s]"
     ]
    },
    {
     "name": "stdout",
     "output_type": "stream",
     "text": [
      "0.5289220809936523\n"
     ]
    },
    {
     "name": "stderr",
     "output_type": "stream",
     "text": [
      "\r\n",
      " 85%|████████████████████████████████████████████████████████████████████████████████████████████████████████████████████████████████████████████████████████████████████████████████████████████████████▏                                 | 552/647 [05:16<00:54,  1.73it/s]"
     ]
    },
    {
     "name": "stdout",
     "output_type": "stream",
     "text": [
      "0.5367765426635742\n"
     ]
    },
    {
     "name": "stderr",
     "output_type": "stream",
     "text": [
      "\r\n",
      " 85%|████████████████████████████████████████████████████████████████████████████████████████████████████████████████████████████████████████████████████████████████████████████████████████████████████▌                                 | 553/647 [05:16<00:54,  1.74it/s]"
     ]
    },
    {
     "name": "stdout",
     "output_type": "stream",
     "text": [
      "0.5332534313201904\n"
     ]
    },
    {
     "name": "stderr",
     "output_type": "stream",
     "text": [
      "\r\n",
      " 86%|████████████████████████████████████████████████████████████████████████████████████████████████████████████████████████████████████████████████████████████████████████████████████████████████████▉                                 | 554/647 [05:17<00:53,  1.74it/s]"
     ]
    },
    {
     "name": "stdout",
     "output_type": "stream",
     "text": [
      "0.5385372638702393\n"
     ]
    },
    {
     "name": "stderr",
     "output_type": "stream",
     "text": [
      "\r\n",
      " 86%|█████████████████████████████████████████████████████████████████████████████████████████████████████████████████████████████████████████████████████████████████████████████████████████████████████▎                                | 555/647 [05:17<00:52,  1.75it/s]"
     ]
    },
    {
     "name": "stdout",
     "output_type": "stream",
     "text": [
      "0.5317964553833008\n"
     ]
    },
    {
     "name": "stderr",
     "output_type": "stream",
     "text": [
      "\r\n",
      " 86%|█████████████████████████████████████████████████████████████████████████████████████████████████████████████████████████████████████████████████████████████████████████████████████████████████████▋                                | 556/647 [05:18<00:52,  1.75it/s]"
     ]
    },
    {
     "name": "stdout",
     "output_type": "stream",
     "text": [
      "0.538621187210083\n"
     ]
    },
    {
     "name": "stderr",
     "output_type": "stream",
     "text": [
      "\r\n",
      " 86%|██████████████████████████████████████████████████████████████████████████████████████████████████████████████████████████████████████████████████████████████████████████████████████████████████████                                | 557/647 [05:18<00:51,  1.75it/s]"
     ]
    },
    {
     "name": "stdout",
     "output_type": "stream",
     "text": [
      "0.5386028289794922\n"
     ]
    },
    {
     "name": "stderr",
     "output_type": "stream",
     "text": [
      "\r\n",
      " 86%|██████████████████████████████████████████████████████████████████████████████████████████████████████████████████████████████████████████████████████████████████████████████████████████████████████▎                               | 558/647 [05:19<00:50,  1.76it/s]"
     ]
    },
    {
     "name": "stdout",
     "output_type": "stream",
     "text": [
      "0.5273385047912598\n"
     ]
    },
    {
     "name": "stderr",
     "output_type": "stream",
     "text": [
      "\r\n",
      " 86%|██████████████████████████████████████████████████████████████████████████████████████████████████████████████████████████████████████████████████████████████████████████████████████████████████████▋                               | 559/647 [05:20<00:50,  1.76it/s]"
     ]
    },
    {
     "name": "stdout",
     "output_type": "stream",
     "text": [
      "0.5334672927856445\n"
     ]
    },
    {
     "name": "stderr",
     "output_type": "stream",
     "text": [
      "\r\n",
      " 87%|███████████████████████████████████████████████████████████████████████████████████████████████████████████████████████████████████████████████████████████████████████████████████████████████████████                               | 560/647 [05:20<00:49,  1.77it/s]"
     ]
    },
    {
     "name": "stdout",
     "output_type": "stream",
     "text": [
      "0.5203430652618408\n"
     ]
    },
    {
     "name": "stderr",
     "output_type": "stream",
     "text": [
      "\r\n",
      " 87%|███████████████████████████████████████████████████████████████████████████████████████████████████████████████████████████████████████████████████████████████████████████████████████████████████████▍                              | 561/647 [05:21<00:48,  1.77it/s]"
     ]
    },
    {
     "name": "stdout",
     "output_type": "stream",
     "text": [
      "0.5339164733886719\n"
     ]
    },
    {
     "name": "stderr",
     "output_type": "stream",
     "text": [
      "\r\n",
      " 87%|███████████████████████████████████████████████████████████████████████████████████████████████████████████████████████████████████████████████████████████████████████████████████████████████████████▊                              | 562/647 [05:21<00:51,  1.64it/s]"
     ]
    },
    {
     "name": "stdout",
     "output_type": "stream",
     "text": [
      "0.6745941638946533\n"
     ]
    },
    {
     "name": "stderr",
     "output_type": "stream",
     "text": [
      "\r\n",
      " 87%|████████████████████████████████████████████████████████████████████████████████████████████████████████████████████████████████████████████████████████████████████████████████████████████████████████▏                             | 563/647 [05:22<00:50,  1.67it/s]"
     ]
    },
    {
     "name": "stdout",
     "output_type": "stream",
     "text": [
      "0.5397517681121826\n"
     ]
    },
    {
     "name": "stderr",
     "output_type": "stream",
     "text": [
      "\r\n",
      " 87%|████████████████████████████████████████████████████████████████████████████████████████████████████████████████████████████████████████████████████████████████████████████████████████████████████████▍                             | 564/647 [05:22<00:49,  1.69it/s]"
     ]
    },
    {
     "name": "stdout",
     "output_type": "stream",
     "text": [
      "0.5386402606964111\n"
     ]
    },
    {
     "name": "stderr",
     "output_type": "stream",
     "text": [
      "\r\n",
      " 87%|████████████████████████████████████████████████████████████████████████████████████████████████████████████████████████████████████████████████████████████████████████████████████████████████████████▊                             | 565/647 [05:23<00:47,  1.71it/s]"
     ]
    },
    {
     "name": "stdout",
     "output_type": "stream",
     "text": [
      "0.5341217517852783\n"
     ]
    },
    {
     "name": "stderr",
     "output_type": "stream",
     "text": [
      "\r\n",
      " 87%|█████████████████████████████████████████████████████████████████████████████████████████████████████████████████████████████████████████████████████████████████████████████████████████████████████████▏                            | 566/647 [05:24<00:47,  1.69it/s]"
     ]
    },
    {
     "name": "stdout",
     "output_type": "stream",
     "text": [
      "0.5736160278320312\n"
     ]
    },
    {
     "name": "stderr",
     "output_type": "stream",
     "text": [
      "\r\n",
      " 88%|█████████████████████████████████████████████████████████████████████████████████████████████████████████████████████████████████████████████████████████████████████████████████████████████████████████▌                            | 567/647 [05:24<00:46,  1.72it/s]"
     ]
    },
    {
     "name": "stdout",
     "output_type": "stream",
     "text": [
      "0.528691291809082\n"
     ]
    },
    {
     "name": "stderr",
     "output_type": "stream",
     "text": [
      "\r\n",
      " 88%|█████████████████████████████████████████████████████████████████████████████████████████████████████████████████████████████████████████████████████████████████████████████████████████████████████████▉                            | 568/647 [05:25<00:45,  1.74it/s]"
     ]
    },
    {
     "name": "stdout",
     "output_type": "stream",
     "text": [
      "0.5281217098236084\n"
     ]
    },
    {
     "name": "stderr",
     "output_type": "stream",
     "text": [
      "\r\n",
      " 88%|██████████████████████████████████████████████████████████████████████████████████████████████████████████████████████████████████████████████████████████████████████████████████████████████████████████▎                           | 569/647 [05:25<00:44,  1.75it/s]"
     ]
    },
    {
     "name": "stdout",
     "output_type": "stream",
     "text": [
      "0.5233156681060791\n"
     ]
    },
    {
     "name": "stderr",
     "output_type": "stream",
     "text": [
      "\r\n",
      " 88%|██████████████████████████████████████████████████████████████████████████████████████████████████████████████████████████████████████████████████████████████████████████████████████████████████████████▋                           | 570/647 [05:26<00:43,  1.75it/s]"
     ]
    },
    {
     "name": "stdout",
     "output_type": "stream",
     "text": [
      "0.5367059707641602\n"
     ]
    },
    {
     "name": "stderr",
     "output_type": "stream",
     "text": [
      "\r\n",
      " 88%|██████████████████████████████████████████████████████████████████████████████████████████████████████████████████████████████████████████████████████████████████████████████████████████████████████████▉                           | 571/647 [05:26<00:43,  1.76it/s]"
     ]
    },
    {
     "name": "stdout",
     "output_type": "stream",
     "text": [
      "0.5253419876098633\n"
     ]
    },
    {
     "name": "stderr",
     "output_type": "stream",
     "text": [
      "\r\n",
      " 88%|███████████████████████████████████████████████████████████████████████████████████████████████████████████████████████████████████████████████████████████████████████████████████████████████████████████▎                          | 572/647 [05:27<00:42,  1.76it/s]"
     ]
    },
    {
     "name": "stdout",
     "output_type": "stream",
     "text": [
      "0.5391006469726562\n"
     ]
    },
    {
     "name": "stderr",
     "output_type": "stream",
     "text": [
      "\r\n",
      " 89%|███████████████████████████████████████████████████████████████████████████████████████████████████████████████████████████████████████████████████████████████████████████████████████████████████████████▋                          | 573/647 [05:28<00:42,  1.74it/s]"
     ]
    },
    {
     "name": "stdout",
     "output_type": "stream",
     "text": [
      "0.5580532550811768\n"
     ]
    },
    {
     "name": "stderr",
     "output_type": "stream",
     "text": [
      "\r\n",
      " 89%|████████████████████████████████████████████████████████████████████████████████████████████████████████████████████████████████████████████████████████████████████████████████████████████████████████████                          | 574/647 [05:28<00:41,  1.75it/s]"
     ]
    },
    {
     "name": "stdout",
     "output_type": "stream",
     "text": [
      "0.5324666500091553\n"
     ]
    },
    {
     "name": "stderr",
     "output_type": "stream",
     "text": [
      "\r\n",
      " 89%|████████████████████████████████████████████████████████████████████████████████████████████████████████████████████████████████████████████████████████████████████████████████████████████████████████████▍                         | 575/647 [05:29<00:41,  1.75it/s]"
     ]
    },
    {
     "name": "stdout",
     "output_type": "stream",
     "text": [
      "0.540534496307373\n"
     ]
    },
    {
     "name": "stderr",
     "output_type": "stream",
     "text": [
      "\r\n",
      " 89%|████████████████████████████████████████████████████████████████████████████████████████████████████████████████████████████████████████████████████████████████████████████████████████████████████████████▊                         | 576/647 [05:29<00:43,  1.64it/s]"
     ]
    },
    {
     "name": "stdout",
     "output_type": "stream",
     "text": [
      "0.6682047843933105\n"
     ]
    },
    {
     "name": "stderr",
     "output_type": "stream",
     "text": [
      "\r\n",
      " 89%|█████████████████████████████████████████████████████████████████████████████████████████████████████████████████████████████████████████████████████████████████████████████████████████████████████████████                         | 577/647 [05:30<00:41,  1.67it/s]"
     ]
    },
    {
     "name": "stdout",
     "output_type": "stream",
     "text": [
      "0.5364208221435547\n"
     ]
    },
    {
     "name": "stderr",
     "output_type": "stream",
     "text": [
      "\r\n",
      " 89%|█████████████████████████████████████████████████████████████████████████████████████████████████████████████████████████████████████████████████████████████████████████████████████████████████████████████▍                        | 578/647 [05:31<00:40,  1.70it/s]"
     ]
    },
    {
     "name": "stdout",
     "output_type": "stream",
     "text": [
      "0.5288095474243164\n"
     ]
    },
    {
     "name": "stderr",
     "output_type": "stream",
     "text": [
      "\r\n",
      " 89%|█████████████████████████████████████████████████████████████████████████████████████████████████████████████████████████████████████████████████████████████████████████████████████████████████████████████▊                        | 579/647 [05:31<00:39,  1.71it/s]"
     ]
    },
    {
     "name": "stdout",
     "output_type": "stream",
     "text": [
      "0.5388028621673584\n"
     ]
    },
    {
     "name": "stderr",
     "output_type": "stream",
     "text": [
      "\r\n",
      " 90%|██████████████████████████████████████████████████████████████████████████████████████████████████████████████████████████████████████████████████████████████████████████████████████████████████████████████▏                       | 580/647 [05:32<00:38,  1.73it/s]"
     ]
    },
    {
     "name": "stdout",
     "output_type": "stream",
     "text": [
      "0.5263009071350098\n"
     ]
    },
    {
     "name": "stderr",
     "output_type": "stream",
     "text": [
      "\r\n",
      " 90%|██████████████████████████████████████████████████████████████████████████████████████████████████████████████████████████████████████████████████████████████████████████████████████████████████████████████▌                       | 581/647 [05:32<00:37,  1.74it/s]"
     ]
    },
    {
     "name": "stdout",
     "output_type": "stream",
     "text": [
      "0.5320501327514648\n"
     ]
    },
    {
     "name": "stderr",
     "output_type": "stream",
     "text": [
      "\r\n",
      " 90%|██████████████████████████████████████████████████████████████████████████████████████████████████████████████████████████████████████████████████████████████████████████████████████████████████████████████▉                       | 582/647 [05:33<00:37,  1.75it/s]"
     ]
    },
    {
     "name": "stdout",
     "output_type": "stream",
     "text": [
      "0.5359203815460205\n"
     ]
    },
    {
     "name": "stderr",
     "output_type": "stream",
     "text": [
      "\r\n",
      " 90%|███████████████████████████████████████████████████████████████████████████████████████████████████████████████████████████████████████████████████████████████████████████████████████████████████████████████▏                      | 583/647 [05:33<00:36,  1.76it/s]"
     ]
    },
    {
     "name": "stdout",
     "output_type": "stream",
     "text": [
      "0.529768705368042\n"
     ]
    },
    {
     "name": "stderr",
     "output_type": "stream",
     "text": [
      "\r\n",
      " 90%|███████████████████████████████████████████████████████████████████████████████████████████████████████████████████████████████████████████████████████████████████████████████████████████████████████████████▌                      | 584/647 [05:34<00:35,  1.76it/s]"
     ]
    },
    {
     "name": "stdout",
     "output_type": "stream",
     "text": [
      "0.5291543006896973\n"
     ]
    },
    {
     "name": "stderr",
     "output_type": "stream",
     "text": [
      "\r\n",
      " 90%|███████████████████████████████████████████████████████████████████████████████████████████████████████████████████████████████████████████████████████████████████████████████████████████████████████████████▉                      | 585/647 [05:35<00:35,  1.77it/s]"
     ]
    },
    {
     "name": "stdout",
     "output_type": "stream",
     "text": [
      "0.5282604694366455\n"
     ]
    },
    {
     "name": "stderr",
     "output_type": "stream",
     "text": [
      "\r\n",
      " 91%|████████████████████████████████████████████████████████████████████████████████████████████████████████████████████████████████████████████████████████████████████████████████████████████████████████████████▎                     | 586/647 [05:35<00:34,  1.76it/s]"
     ]
    },
    {
     "name": "stdout",
     "output_type": "stream",
     "text": [
      "0.5376427173614502\n"
     ]
    },
    {
     "name": "stderr",
     "output_type": "stream",
     "text": [
      "\r\n",
      " 91%|████████████████████████████████████████████████████████████████████████████████████████████████████████████████████████████████████████████████████████████████████████████████████████████████████████████████▋                     | 587/647 [05:36<00:33,  1.77it/s]"
     ]
    },
    {
     "name": "stdout",
     "output_type": "stream",
     "text": [
      "0.5233757495880127\n"
     ]
    },
    {
     "name": "stderr",
     "output_type": "stream",
     "text": [
      "\r\n",
      " 91%|█████████████████████████████████████████████████████████████████████████████████████████████████████████████████████████████████████████████████████████████████████████████████████████████████████████████████                     | 588/647 [05:36<00:33,  1.77it/s]"
     ]
    },
    {
     "name": "stdout",
     "output_type": "stream",
     "text": [
      "0.5356104373931885\n"
     ]
    },
    {
     "name": "stderr",
     "output_type": "stream",
     "text": [
      "\r\n",
      " 91%|█████████████████████████████████████████████████████████████████████████████████████████████████████████████████████████████████████████████████████████████████████████████████████████████████████████████████▍                    | 589/647 [05:37<00:32,  1.77it/s]"
     ]
    },
    {
     "name": "stdout",
     "output_type": "stream",
     "text": [
      "0.5263285636901855\n"
     ]
    },
    {
     "name": "stderr",
     "output_type": "stream",
     "text": [
      "\r\n",
      " 91%|█████████████████████████████████████████████████████████████████████████████████████████████████████████████████████████████████████████████████████████████████████████████████████████████████████████████████▋                    | 590/647 [05:38<00:34,  1.64it/s]"
     ]
    },
    {
     "name": "stdout",
     "output_type": "stream",
     "text": [
      "0.54018235206604\n"
     ]
    },
    {
     "name": "stderr",
     "output_type": "stream",
     "text": [
      "\r\n",
      " 91%|██████████████████████████████████████████████████████████████████████████████████████████████████████████████████████████████████████████████████████████████████████████████████████████████████████████████████                    | 591/647 [05:38<00:33,  1.68it/s]"
     ]
    },
    {
     "name": "stdout",
     "output_type": "stream",
     "text": [
      "0.5261509418487549\n"
     ]
    },
    {
     "name": "stderr",
     "output_type": "stream",
     "text": [
      "\r\n",
      " 91%|██████████████████████████████████████████████████████████████████████████████████████████████████████████████████████████████████████████████████████████████████████████████████████████████████████████████████▍                   | 592/647 [05:39<00:32,  1.71it/s]"
     ]
    },
    {
     "name": "stdout",
     "output_type": "stream",
     "text": [
      "0.5294156074523926\n"
     ]
    },
    {
     "name": "stderr",
     "output_type": "stream",
     "text": [
      "\r\n",
      " 92%|██████████████████████████████████████████████████████████████████████████████████████████████████████████████████████████████████████████████████████████████████████████████████████████████████████████████████▊                   | 593/647 [05:39<00:31,  1.73it/s]"
     ]
    },
    {
     "name": "stdout",
     "output_type": "stream",
     "text": [
      "0.5266766548156738\n"
     ]
    },
    {
     "name": "stderr",
     "output_type": "stream",
     "text": [
      "\r\n",
      " 92%|███████████████████████████████████████████████████████████████████████████████████████████████████████████████████████████████████████████████████████████████████████████████████████████████████████████████████▏                  | 594/647 [05:40<00:30,  1.74it/s]"
     ]
    },
    {
     "name": "stdout",
     "output_type": "stream",
     "text": [
      "0.5393612384796143\n"
     ]
    },
    {
     "name": "stderr",
     "output_type": "stream",
     "text": [
      "\r\n",
      " 92%|███████████████████████████████████████████████████████████████████████████████████████████████████████████████████████████████████████████████████████████████████████████████████████████████████████████████████▌                  | 595/647 [05:40<00:30,  1.72it/s]"
     ]
    },
    {
     "name": "stdout",
     "output_type": "stream",
     "text": [
      "0.5570046901702881\n"
     ]
    },
    {
     "name": "stderr",
     "output_type": "stream",
     "text": [
      "\r\n",
      " 92%|███████████████████████████████████████████████████████████████████████████████████████████████████████████████████████████████████████████████████████████████████████████████████████████████████████████████████▊                  | 596/647 [05:41<00:29,  1.73it/s]"
     ]
    },
    {
     "name": "stdout",
     "output_type": "stream",
     "text": [
      "0.5336470603942871\n"
     ]
    },
    {
     "name": "stderr",
     "output_type": "stream",
     "text": [
      "\r\n",
      " 92%|████████████████████████████████████████████████████████████████████████████████████████████████████████████████████████████████████████████████████████████████████████████████████████████████████████████████████▏                 | 597/647 [05:42<00:28,  1.75it/s]"
     ]
    },
    {
     "name": "stdout",
     "output_type": "stream",
     "text": [
      "0.5289177894592285\n"
     ]
    },
    {
     "name": "stderr",
     "output_type": "stream",
     "text": [
      "\r\n",
      " 92%|████████████████████████████████████████████████████████████████████████████████████████████████████████████████████████████████████████████████████████████████████████████████████████████████████████████████████▌                 | 598/647 [05:42<00:27,  1.76it/s]"
     ]
    },
    {
     "name": "stdout",
     "output_type": "stream",
     "text": [
      "0.5293052196502686\n"
     ]
    },
    {
     "name": "stderr",
     "output_type": "stream",
     "text": [
      "\r\n",
      " 93%|████████████████████████████████████████████████████████████████████████████████████████████████████████████████████████████████████████████████████████████████████████████████████████████████████████████████████▉                 | 599/647 [05:43<00:27,  1.77it/s]"
     ]
    },
    {
     "name": "stdout",
     "output_type": "stream",
     "text": [
      "0.5244438648223877\n"
     ]
    },
    {
     "name": "stderr",
     "output_type": "stream",
     "text": [
      "\r\n",
      " 93%|█████████████████████████████████████████████████████████████████████████████████████████████████████████████████████████████████████████████████████████████████████████████████████████████████████████████████████▎                | 600/647 [05:43<00:26,  1.76it/s]"
     ]
    },
    {
     "name": "stdout",
     "output_type": "stream",
     "text": [
      "0.5357818603515625\n"
     ]
    },
    {
     "name": "stderr",
     "output_type": "stream",
     "text": [
      "\r\n",
      " 93%|█████████████████████████████████████████████████████████████████████████████████████████████████████████████████████████████████████████████████████████████████████████████████████████████████████████████████████▋                | 601/647 [05:44<00:26,  1.75it/s]"
     ]
    },
    {
     "name": "stdout",
     "output_type": "stream",
     "text": [
      "0.5507292747497559\n"
     ]
    },
    {
     "name": "stderr",
     "output_type": "stream",
     "text": [
      "\r\n",
      " 93%|██████████████████████████████████████████████████████████████████████████████████████████████████████████████████████████████████████████████████████████████████████████████████████████████████████████████████████                | 602/647 [05:44<00:25,  1.76it/s]"
     ]
    },
    {
     "name": "stdout",
     "output_type": "stream",
     "text": [
      "0.5308892726898193\n"
     ]
    },
    {
     "name": "stderr",
     "output_type": "stream",
     "text": [
      "\r\n",
      " 93%|██████████████████████████████████████████████████████████████████████████████████████████████████████████████████████████████████████████████████████████████████████████████████████████████████████████████████████▎               | 603/647 [05:45<00:25,  1.75it/s]"
     ]
    },
    {
     "name": "stdout",
     "output_type": "stream",
     "text": [
      "0.541757345199585\n"
     ]
    },
    {
     "name": "stderr",
     "output_type": "stream",
     "text": [
      "\r\n",
      " 93%|██████████████████████████████████████████████████████████████████████████████████████████████████████████████████████████████████████████████████████████████████████████████████████████████████████████████████████▋               | 604/647 [05:45<00:24,  1.76it/s]"
     ]
    },
    {
     "name": "stdout",
     "output_type": "stream",
     "text": [
      "0.5263411998748779\n"
     ]
    },
    {
     "name": "stderr",
     "output_type": "stream",
     "text": [
      "\r\n",
      " 94%|███████████████████████████████████████████████████████████████████████████████████████████████████████████████████████████████████████████████████████████████████████████████████████████████████████████████████████               | 605/647 [05:46<00:25,  1.65it/s]"
     ]
    },
    {
     "name": "stdout",
     "output_type": "stream",
     "text": [
      "0.6649916172027588\n"
     ]
    },
    {
     "name": "stderr",
     "output_type": "stream",
     "text": [
      "\r\n",
      " 94%|███████████████████████████████████████████████████████████████████████████████████████████████████████████████████████████████████████████████████████████████████████████████████████████████████████████████████████▍              | 606/647 [05:47<00:24,  1.69it/s]"
     ]
    },
    {
     "name": "stdout",
     "output_type": "stream",
     "text": [
      "0.5244266986846924\n"
     ]
    },
    {
     "name": "stderr",
     "output_type": "stream",
     "text": [
      "\r\n",
      " 94%|███████████████████████████████████████████████████████████████████████████████████████████████████████████████████████████████████████████████████████████████████████████████████████████████████████████████████████▊              | 607/647 [05:47<00:23,  1.71it/s]"
     ]
    },
    {
     "name": "stdout",
     "output_type": "stream",
     "text": [
      "0.5285289287567139\n"
     ]
    },
    {
     "name": "stderr",
     "output_type": "stream",
     "text": [
      "\r\n",
      " 94%|████████████████████████████████████████████████████████████████████████████████████████████████████████████████████████████████████████████████████████████████████████████████████████████████████████████████████████▏             | 608/647 [05:48<00:22,  1.73it/s]"
     ]
    },
    {
     "name": "stdout",
     "output_type": "stream",
     "text": [
      "0.5307176113128662\n"
     ]
    },
    {
     "name": "stderr",
     "output_type": "stream",
     "text": [
      "\r\n",
      " 94%|████████████████████████████████████████████████████████████████████████████████████████████████████████████████████████████████████████████████████████████████████████████████████████████████████████████████████████▍             | 609/647 [05:48<00:21,  1.75it/s]"
     ]
    },
    {
     "name": "stdout",
     "output_type": "stream",
     "text": [
      "0.5237720012664795\n"
     ]
    },
    {
     "name": "stderr",
     "output_type": "stream",
     "text": [
      "\r\n",
      " 94%|████████████████████████████████████████████████████████████████████████████████████████████████████████████████████████████████████████████████████████████████████████████████████████████████████████████████████████▊             | 610/647 [05:49<00:20,  1.77it/s]"
     ]
    },
    {
     "name": "stdout",
     "output_type": "stream",
     "text": [
      "0.5199112892150879\n"
     ]
    },
    {
     "name": "stderr",
     "output_type": "stream",
     "text": [
      "\r\n",
      " 94%|█████████████████████████████████████████████████████████████████████████████████████████████████████████████████████████████████████████████████████████████████████████████████████████████████████████████████████████▏            | 611/647 [05:50<00:20,  1.71it/s]"
     ]
    },
    {
     "name": "stdout",
     "output_type": "stream",
     "text": [
      "0.5886785984039307\n"
     ]
    },
    {
     "name": "stderr",
     "output_type": "stream",
     "text": [
      "\r\n",
      " 95%|█████████████████████████████████████████████████████████████████████████████████████████████████████████████████████████████████████████████████████████████████████████████████████████████████████████████████████████▌            | 612/647 [05:50<00:20,  1.74it/s]"
     ]
    },
    {
     "name": "stdout",
     "output_type": "stream",
     "text": [
      "0.5257701873779297\n"
     ]
    },
    {
     "name": "stderr",
     "output_type": "stream",
     "text": [
      "\r\n",
      " 95%|█████████████████████████████████████████████████████████████████████████████████████████████████████████████████████████████████████████████████████████████████████████████████████████████████████████████████████████▉            | 613/647 [05:51<00:19,  1.74it/s]"
     ]
    },
    {
     "name": "stdout",
     "output_type": "stream",
     "text": [
      "0.5359888076782227\n"
     ]
    },
    {
     "name": "stderr",
     "output_type": "stream",
     "text": [
      "\r\n",
      " 95%|██████████████████████████████████████████████████████████████████████████████████████████████████████████████████████████████████████████████████████████████████████████████████████████████████████████████████████████▎           | 614/647 [05:51<00:18,  1.76it/s]"
     ]
    },
    {
     "name": "stdout",
     "output_type": "stream",
     "text": [
      "0.518312931060791\n"
     ]
    },
    {
     "name": "stderr",
     "output_type": "stream",
     "text": [
      "\r\n",
      " 95%|██████████████████████████████████████████████████████████████████████████████████████████████████████████████████████████████████████████████████████████████████████████████████████████████████████████████████████████▌           | 615/647 [05:52<00:18,  1.77it/s]"
     ]
    },
    {
     "name": "stdout",
     "output_type": "stream",
     "text": [
      "0.5240135192871094\n"
     ]
    },
    {
     "name": "stderr",
     "output_type": "stream",
     "text": [
      "\r\n",
      " 95%|██████████████████████████████████████████████████████████████████████████████████████████████████████████████████████████████████████████████████████████████████████████████████████████████████████████████████████████▉           | 616/647 [05:52<00:17,  1.78it/s]"
     ]
    },
    {
     "name": "stdout",
     "output_type": "stream",
     "text": [
      "0.5185716152191162\n"
     ]
    },
    {
     "name": "stderr",
     "output_type": "stream",
     "text": [
      "\r\n",
      " 95%|███████████████████████████████████████████████████████████████████████████████████████████████████████████████████████████████████████████████████████████████████████████████████████████████████████████████████████████▎          | 617/647 [05:53<00:16,  1.78it/s]"
     ]
    },
    {
     "name": "stdout",
     "output_type": "stream",
     "text": [
      "0.5353038311004639\n"
     ]
    },
    {
     "name": "stderr",
     "output_type": "stream",
     "text": [
      "\r\n",
      " 96%|███████████████████████████████████████████████████████████████████████████████████████████████████████████████████████████████████████████████████████████████████████████████████████████████████████████████████████████▋          | 618/647 [05:54<00:16,  1.76it/s]"
     ]
    },
    {
     "name": "stdout",
     "output_type": "stream",
     "text": [
      "0.5434072017669678\n"
     ]
    },
    {
     "name": "stderr",
     "output_type": "stream",
     "text": [
      "\r\n",
      " 96%|████████████████████████████████████████████████████████████████████████████████████████████████████████████████████████████████████████████████████████████████████████████████████████████████████████████████████████████          | 619/647 [05:54<00:16,  1.65it/s]"
     ]
    },
    {
     "name": "stdout",
     "output_type": "stream",
     "text": [
      "0.6671464443206787\n"
     ]
    },
    {
     "name": "stderr",
     "output_type": "stream",
     "text": [
      "\r\n",
      " 96%|████████████████████████████████████████████████████████████████████████████████████████████████████████████████████████████████████████████████████████████████████████████████████████████████████████████████████████████▍         | 620/647 [05:55<00:16,  1.68it/s]"
     ]
    },
    {
     "name": "stdout",
     "output_type": "stream",
     "text": [
      "0.5284104347229004\n"
     ]
    },
    {
     "name": "stderr",
     "output_type": "stream",
     "text": [
      "\r\n",
      " 96%|████████████████████████████████████████████████████████████████████████████████████████████████████████████████████████████████████████████████████████████████████████████████████████████████████████████████████████████▊         | 621/647 [05:55<00:15,  1.70it/s]"
     ]
    },
    {
     "name": "stdout",
     "output_type": "stream",
     "text": [
      "0.5402915477752686\n"
     ]
    },
    {
     "name": "stderr",
     "output_type": "stream",
     "text": [
      "\r\n",
      " 96%|█████████████████████████████████████████████████████████████████████████████████████████████████████████████████████████████████████████████████████████████████████████████████████████████████████████████████████████████         | 622/647 [05:56<00:14,  1.73it/s]"
     ]
    },
    {
     "name": "stdout",
     "output_type": "stream",
     "text": [
      "0.5254285335540771\n"
     ]
    },
    {
     "name": "stderr",
     "output_type": "stream",
     "text": [
      "\r\n",
      " 96%|█████████████████████████████████████████████████████████████████████████████████████████████████████████████████████████████████████████████████████████████████████████████████████████████████████████████████████████████▍        | 623/647 [05:56<00:13,  1.74it/s]"
     ]
    },
    {
     "name": "stdout",
     "output_type": "stream",
     "text": [
      "0.524824857711792\n"
     ]
    },
    {
     "name": "stderr",
     "output_type": "stream",
     "text": [
      "\r\n",
      " 96%|█████████████████████████████████████████████████████████████████████████████████████████████████████████████████████████████████████████████████████████████████████████████████████████████████████████████████████████████▊        | 624/647 [05:57<00:13,  1.75it/s]"
     ]
    },
    {
     "name": "stdout",
     "output_type": "stream",
     "text": [
      "0.5285773277282715\n"
     ]
    },
    {
     "name": "stderr",
     "output_type": "stream",
     "text": [
      "\r\n",
      " 97%|██████████████████████████████████████████████████████████████████████████████████████████████████████████████████████████████████████████████████████████████████████████████████████████████████████████████████████████████▏       | 625/647 [05:58<00:12,  1.76it/s]"
     ]
    },
    {
     "name": "stdout",
     "output_type": "stream",
     "text": [
      "0.528658390045166\n"
     ]
    },
    {
     "name": "stderr",
     "output_type": "stream",
     "text": [
      "\r\n",
      " 97%|██████████████████████████████████████████████████████████████████████████████████████████████████████████████████████████████████████████████████████████████████████████████████████████████████████████████████████████████▌       | 626/647 [05:58<00:11,  1.76it/s]"
     ]
    },
    {
     "name": "stdout",
     "output_type": "stream",
     "text": [
      "0.5318448543548584\n"
     ]
    },
    {
     "name": "stderr",
     "output_type": "stream",
     "text": [
      "\r\n",
      " 97%|██████████████████████████████████████████████████████████████████████████████████████████████████████████████████████████████████████████████████████████████████████████████████████████████████████████████████████████████▉       | 627/647 [05:59<00:11,  1.75it/s]"
     ]
    },
    {
     "name": "stdout",
     "output_type": "stream",
     "text": [
      "0.5523209571838379\n"
     ]
    },
    {
     "name": "stderr",
     "output_type": "stream",
     "text": [
      "\r\n",
      " 97%|███████████████████████████████████████████████████████████████████████████████████████████████████████████████████████████████████████████████████████████████████████████████████████████████████████████████████████████████▏      | 628/647 [05:59<00:10,  1.76it/s]"
     ]
    },
    {
     "name": "stdout",
     "output_type": "stream",
     "text": [
      "0.5285277366638184\n"
     ]
    },
    {
     "name": "stderr",
     "output_type": "stream",
     "text": [
      "\r\n",
      " 97%|███████████████████████████████████████████████████████████████████████████████████████████████████████████████████████████████████████████████████████████████████████████████████████████████████████████████████████████████▌      | 629/647 [06:00<00:10,  1.77it/s]"
     ]
    },
    {
     "name": "stdout",
     "output_type": "stream",
     "text": [
      "0.5171666145324707\n"
     ]
    },
    {
     "name": "stderr",
     "output_type": "stream",
     "text": [
      "\r\n",
      " 97%|███████████████████████████████████████████████████████████████████████████████████████████████████████████████████████████████████████████████████████████████████████████████████████████████████████████████████████████████▉      | 630/647 [06:00<00:09,  1.78it/s]"
     ]
    },
    {
     "name": "stdout",
     "output_type": "stream",
     "text": [
      "0.5258393287658691\n"
     ]
    },
    {
     "name": "stderr",
     "output_type": "stream",
     "text": [
      "\r\n",
      " 98%|████████████████████████████████████████████████████████████████████████████████████████████████████████████████████████████████████████████████████████████████████████████████████████████████████████████████████████████████▎     | 631/647 [06:01<00:08,  1.78it/s]"
     ]
    },
    {
     "name": "stdout",
     "output_type": "stream",
     "text": [
      "0.526055097579956\n"
     ]
    },
    {
     "name": "stderr",
     "output_type": "stream",
     "text": [
      "\r\n",
      " 98%|████████████████████████████████████████████████████████████████████████████████████████████████████████████████████████████████████████████████████████████████████████████████████████████████████████████████████████████████▋     | 632/647 [06:02<00:08,  1.78it/s]"
     ]
    },
    {
     "name": "stdout",
     "output_type": "stream",
     "text": [
      "0.5277302265167236\n"
     ]
    },
    {
     "name": "stderr",
     "output_type": "stream",
     "text": [
      "\r\n",
      " 98%|█████████████████████████████████████████████████████████████████████████████████████████████████████████████████████████████████████████████████████████████████████████████████████████████████████████████████████████████████     | 633/647 [06:02<00:08,  1.65it/s]"
     ]
    },
    {
     "name": "stdout",
     "output_type": "stream",
     "text": [
      "0.6737551689147949\n"
     ]
    },
    {
     "name": "stderr",
     "output_type": "stream",
     "text": [
      "\r\n",
      " 98%|█████████████████████████████████████████████████████████████████████████████████████████████████████████████████████████████████████████████████████████████████████████████████████████████████████████████████████████████████▍    | 634/647 [06:03<00:07,  1.70it/s]"
     ]
    },
    {
     "name": "stdout",
     "output_type": "stream",
     "text": [
      "0.5142185688018799\n"
     ]
    },
    {
     "name": "stderr",
     "output_type": "stream",
     "text": [
      "\r\n",
      " 98%|█████████████████████████████████████████████████████████████████████████████████████████████████████████████████████████████████████████████████████████████████████████████████████████████████████████████████████████████████▋    | 635/647 [06:03<00:06,  1.73it/s]"
     ]
    },
    {
     "name": "stdout",
     "output_type": "stream",
     "text": [
      "0.5218923091888428\n"
     ]
    },
    {
     "name": "stderr",
     "output_type": "stream",
     "text": [
      "\r\n",
      " 98%|██████████████████████████████████████████████████████████████████████████████████████████████████████████████████████████████████████████████████████████████████████████████████████████████████████████████████████████████████    | 636/647 [06:04<00:06,  1.72it/s]"
     ]
    },
    {
     "name": "stdout",
     "output_type": "stream",
     "text": [
      "0.560410737991333\n"
     ]
    },
    {
     "name": "stderr",
     "output_type": "stream",
     "text": [
      "\r\n",
      " 98%|██████████████████████████████████████████████████████████████████████████████████████████████████████████████████████████████████████████████████████████████████████████████████████████████████████████████████████████████████▍   | 637/647 [06:05<00:05,  1.74it/s]"
     ]
    },
    {
     "name": "stdout",
     "output_type": "stream",
     "text": [
      "0.5241920948028564\n"
     ]
    },
    {
     "name": "stderr",
     "output_type": "stream",
     "text": [
      "\r\n",
      " 99%|██████████████████████████████████████████████████████████████████████████████████████████████████████████████████████████████████████████████████████████████████████████████████████████████████████████████████████████████████▊   | 638/647 [06:05<00:05,  1.73it/s]"
     ]
    },
    {
     "name": "stdout",
     "output_type": "stream",
     "text": [
      "0.5496788024902344\n"
     ]
    },
    {
     "name": "stderr",
     "output_type": "stream",
     "text": [
      "\r\n",
      " 99%|███████████████████████████████████████████████████████████████████████████████████████████████████████████████████████████████████████████████████████████████████████████████████████████████████████████████████████████████████▏  | 639/647 [06:06<00:04,  1.72it/s]"
     ]
    },
    {
     "name": "stdout",
     "output_type": "stream",
     "text": [
      "0.5592732429504395\n"
     ]
    },
    {
     "name": "stderr",
     "output_type": "stream",
     "text": [
      "\r\n",
      " 99%|███████████████████████████████████████████████████████████████████████████████████████████████████████████████████████████████████████████████████████████████████████████████████████████████████████████████████████████████████▌  | 640/647 [06:06<00:04,  1.74it/s]"
     ]
    },
    {
     "name": "stdout",
     "output_type": "stream",
     "text": [
      "0.5266773700714111\n"
     ]
    },
    {
     "name": "stderr",
     "output_type": "stream",
     "text": [
      "\r\n",
      " 99%|███████████████████████████████████████████████████████████████████████████████████████████████████████████████████████████████████████████████████████████████████████████████████████████████████████████████████████████████████▊  | 641/647 [06:07<00:03,  1.75it/s]"
     ]
    },
    {
     "name": "stdout",
     "output_type": "stream",
     "text": [
      "0.5296416282653809\n"
     ]
    },
    {
     "name": "stderr",
     "output_type": "stream",
     "text": [
      "\r\n",
      " 99%|████████████████████████████████████████████████████████████████████████████████████████████████████████████████████████████████████████████████████████████████████████████████████████████████████████████████████████████████████▏ | 642/647 [06:07<00:02,  1.73it/s]"
     ]
    },
    {
     "name": "stdout",
     "output_type": "stream",
     "text": [
      "0.559910774230957\n"
     ]
    },
    {
     "name": "stderr",
     "output_type": "stream",
     "text": [
      "\r\n",
      " 99%|████████████████████████████████████████████████████████████████████████████████████████████████████████████████████████████████████████████████████████████████████████████████████████████████████████████████████████████████████▌ | 643/647 [06:08<00:02,  1.73it/s]"
     ]
    },
    {
     "name": "stdout",
     "output_type": "stream",
     "text": [
      "0.5430688858032227\n"
     ]
    },
    {
     "name": "stderr",
     "output_type": "stream",
     "text": [
      "\r\n",
      "100%|████████████████████████████████████████████████████████████████████████████████████████████████████████████████████████████████████████████████████████████████████████████████████████████████████████████████████████████████████▉ | 644/647 [06:09<00:01,  1.74it/s]"
     ]
    },
    {
     "name": "stdout",
     "output_type": "stream",
     "text": [
      "0.5329163074493408\n"
     ]
    },
    {
     "name": "stderr",
     "output_type": "stream",
     "text": [
      "\r\n",
      "100%|█████████████████████████████████████████████████████████████████████████████████████████████████████████████████████████████████████████████████████████████████████████████████████████████████████████████████████████████████████▎| 645/647 [06:09<00:01,  1.75it/s]"
     ]
    },
    {
     "name": "stdout",
     "output_type": "stream",
     "text": [
      "0.5314540863037109\n"
     ]
    },
    {
     "name": "stderr",
     "output_type": "stream",
     "text": [
      "\r\n",
      "100%|█████████████████████████████████████████████████████████████████████████████████████████████████████████████████████████████████████████████████████████████████████████████████████████████████████████████████████████████████████▋| 646/647 [06:10<00:00,  1.75it/s]"
     ]
    },
    {
     "name": "stdout",
     "output_type": "stream",
     "text": [
      "0.5378737449645996\n"
     ]
    },
    {
     "name": "stderr",
     "output_type": "stream",
     "text": [
      "100%|██████████████████████████████████████████████████████████████████████████████████████████████████████████████████████████████████████████████████████████████████████████████████████████████████████████████████████████████████████| 647/647 [06:10<00:00,  1.75it/s]"
     ]
    },
    {
     "name": "stdout",
     "output_type": "stream",
     "text": [
      "0.5295307636260986\n",
      "Original MedSAM mean IoU: 0.8624056591056504\n",
      "ClickSAM mean IoU: 0.9159799251525119\n"
     ]
    },
    {
     "name": "stderr",
     "output_type": "stream",
     "text": [
      "\n"
     ]
    },
    {
     "ename": "TypeError",
     "evalue": "unsupported operand type(s) for /: 'list' and 'int'",
     "output_type": "error",
     "traceback": [
      "\u001b[0;31m---------------------------------------------------------------------------\u001b[0m",
      "\u001b[0;31mTypeError\u001b[0m                                 Traceback (most recent call last)",
      "Cell \u001b[0;32mIn[32], line 271\u001b[0m\n\u001b[1;32m    269\u001b[0m \u001b[38;5;28mprint\u001b[39m(\u001b[38;5;124m\"\u001b[39m\u001b[38;5;124mOriginal MedSAM mean IoU:\u001b[39m\u001b[38;5;124m\"\u001b[39m, \u001b[38;5;28msum\u001b[39m(original_medsam_iou)\u001b[38;5;241m/\u001b[39m\u001b[38;5;28mlen\u001b[39m(original_medsam_dsc))\n\u001b[1;32m    270\u001b[0m \u001b[38;5;28mprint\u001b[39m(\u001b[38;5;124m\"\u001b[39m\u001b[38;5;124mClickSAM mean IoU:\u001b[39m\u001b[38;5;124m\"\u001b[39m, \u001b[38;5;28msum\u001b[39m(click_sam_iou)\u001b[38;5;241m/\u001b[39m\u001b[38;5;28mlen\u001b[39m(click_sam_dsc))\n\u001b[0;32m--> 271\u001b[0m \u001b[38;5;28mprint\u001b[39m(\u001b[38;5;124m\"\u001b[39m\u001b[38;5;124mAverage Time:\u001b[39m\u001b[38;5;124m\"\u001b[39m,\u001b[43maverage_time\u001b[49m\u001b[38;5;241;43m/\u001b[39;49m\u001b[38;5;28;43mlen\u001b[39;49m\u001b[43m(\u001b[49m\u001b[43maverage_time\u001b[49m\u001b[43m)\u001b[49m)\n",
      "\u001b[0;31mTypeError\u001b[0m: unsupported operand type(s) for /: 'list' and 'int'"
     ]
    }
   ],
   "source": [
    "#%% compare the segmentation results between the original SAM model and the fine-tuned model\n",
    "# load the original SAM model\n",
    "from skimage import io\n",
    "from skimage.transform import resize\n",
    "\n",
    "ori_sam_model = sam_model_registry[model_type](checkpoint=\"word_dir/SAM/sam_vit_b_01ec64.pth\").to(device)\n",
    "ori_sam_predictor = SamPredictor(ori_sam_model)\n",
    "\n",
    "ori_medsam_model = sam_model_registry[model_type](checkpoint=\"work_dir/MedSAM/sam_model_best.pth\").to(device)\n",
    "ori_medsam_model.train()\n",
    "\n",
    "click_sam_model = sam_model_registry[model_type](checkpoint=\"work_dir/BUSIfinalclick/sam_model_best.pth\").to(device)\n",
    "click_sam_model.train()\n",
    "\n",
    "# seg_click_model = sam_model_registry[model_type](checkpoint=\"work_dir/Segclicktrain/pytorch_model.bin\").to(device)\n",
    "# seg_click_model.train()\n",
    "\n",
    "ts_img_path = 'data/BUSI2Dtrain/images'\n",
    "ts_gt_path = 'data/BUSI2Dtrain/labels'\n",
    "test_names = sorted(os.listdir(ts_img_path))\n",
    "\n",
    "def get_bbox_from_mask(mask):\n",
    "    '''Returns a bounding box from a mask'''\n",
    "    y_indices, x_indices = np.where(mask > 0)\n",
    "    x_min, x_max = np.min(x_indices), np.max(x_indices)\n",
    "    y_min, y_max = np.min(y_indices), np.max(y_indices)\n",
    "    # add perturbation to bounding box coordinates\n",
    "    H, W = mask.shape\n",
    "    x_min = max(0, x_min - np.random.randint(0, 20))\n",
    "    x_max = min(W, x_max + np.random.randint(0, 20))\n",
    "    y_min = max(0, y_min - np.random.randint(0, 20))\n",
    "    y_max = min(H, y_max + np.random.randint(0, 20))\n",
    "\n",
    "    return np.array([x_min, y_min, x_max, y_max])\n",
    "\n",
    "def show_mask(mask, ax, random_color=False):\n",
    "    if random_color:\n",
    "        color = np.concatenate([np.random.random(3), np.array([0.6])], axis=0)\n",
    "    else:\n",
    "        color = np.array([251/255, 252/255, 30/255, 0.6])\n",
    "    h, w = mask.shape[-2:]\n",
    "    mask_image = mask.reshape(h, w, 1) * color.reshape(1, 1, -1)\n",
    "    ax.imshow(mask_image)\n",
    "    \n",
    "def show_points(box, ax, color):\n",
    "    \n",
    "    x0, y0 = box[0], box[1]\n",
    "    w, h = 2,2 #box[2] - box[0], box[3] - box[1]\n",
    "    ax.add_patch(plt.Rectangle((x0, y0), w, h, edgecolor=color, facecolor=(0,0,0,0), lw=2))    \n",
    "\n",
    "def show_box(box, ax):\n",
    "    x0, y0 = box[0], box[1]\n",
    "    w, h = box[2] - box[0], box[3] - box[1]\n",
    "    ax.add_patch(plt.Rectangle((x0, y0), w, h, edgecolor='blue', facecolor=(0,0,0,0), lw=2))    \n",
    "    \n",
    "# # random select a test case\n",
    "# img_idx = np.random.randint(len(test_names))\n",
    "# image_data = io.imread(join(ts_img_path, test_names[img_idx]))\n",
    "# image_data = resize(image_data,(256,256),anti_aliasing=True)\n",
    "# if image_data.shape[-1]>3 and len(image_data.shape)==3:\n",
    "#     image_data = image_data[:,:,:3]\n",
    "# if len(image_data.shape)==2:\n",
    "#     image_data = np.repeat(image_data[:,:,None], 3, axis=-1)\n",
    "# # read ground truth (gt should have the same name as the image) and simulate a bounding box\n",
    "# def get_bbox_from_mask(mask):\n",
    "#     '''Returns a bounding box from a mask'''\n",
    "#     y_indices, x_indices = np.where(mask > 0)\n",
    "#     x_min, x_max = np.min(x_indices), np.max(x_indices)\n",
    "#     y_min, y_max = np.min(y_indices), np.max(y_indices)\n",
    "#     # add perturbation to bounding box coordinates\n",
    "#     H, W = mask.shape\n",
    "#     x_min = max(0, x_min - np.random.randint(0, 20))\n",
    "#     x_max = min(W, x_max + np.random.randint(0, 20))\n",
    "#     y_min = max(0, y_min - np.random.randint(0, 20))\n",
    "#     y_max = min(H, y_max + np.random.randint(0, 20))\n",
    "\n",
    "#     return np.array([x_min, y_min, x_max, y_max])\n",
    "# num=test_names[img_idx].split(\"(\")[1].split(\")\")[0]\n",
    "# if len(num)==1:\n",
    "#     gt_name = test_names[img_idx].split(\".\")[0][0] + \"00\" + test_names[img_idx].split(\"(\")[1].split(\")\")[0]+ \".png\"\n",
    "# elif len(num)==2:\n",
    "#     gt_name = test_names[img_idx].split(\".\")[0][0] + \"0\" + test_names[img_idx].split(\"(\")[1].split(\")\")[0]+ \".png\"\n",
    "# else:\n",
    "#     gt_name = test_names[img_idx].split(\".\")[0][0] + test_names[img_idx].split(\"(\")[1].split(\")\")[0]+ \".png\"\n",
    "\n",
    "# original_sam_dsc=[]\n",
    "# original_medsam_dsc=[]\n",
    "# click_sam_dsc=[]\n",
    "\n",
    "original_sam_iou=[]\n",
    "original_medsam_iou=[]\n",
    "click_sam_iou=[]\n",
    "average_time=[]\n",
    "\n",
    "for i, (image_embedding, gt2D, boxes, points, index) in enumerate(tqdm(train_dataloader2)):\n",
    "    start = time.time()\n",
    "#     print(points,points.size())\n",
    "    points_=points.detach().cpu().numpy().copy()[0]\n",
    "#     print(points_)\n",
    "    points_[0]=points_[0][::-1]\n",
    "#     print(points_)\n",
    "#     print(points)\n",
    "    labels_=[1 for _ in range(len(points))]\n",
    "    \n",
    "    gt_data = io.imread(f\"data/BUSIresized/BUSI2Dgts/{i}.png\")\n",
    "    gt_data = resize(gt_data,(256,256),anti_aliasing=True)\n",
    "    image_data = io.imread(f\"data/BUSIresized/BUSI2Doriginal/{i}.png\")\n",
    "    image_data = resize(image_data,(256,256),anti_aliasing=True)\n",
    "\n",
    "    # preprocess: cut-off and max-min normalization\n",
    "    lower_bound, upper_bound = np.percentile(image_data, 0.5), np.percentile(image_data, 99.5)\n",
    "    image_data_pre = np.clip(image_data, lower_bound, upper_bound)\n",
    "    image_data_pre = (image_data_pre - np.min(image_data_pre))/(np.max(image_data_pre)-np.min(image_data_pre))*255.0\n",
    "    image_data_pre[image_data==0] = 0\n",
    "    image_data_pre = np.uint8(image_data_pre)\n",
    "    H, W, _ = image_data_pre.shape\n",
    "    points_=[]\n",
    "    labels_=[]\n",
    "    # predict the segmentation mask using the original SAM model\n",
    "#     ori_sam_predictor.set_image(image_data_pre)\n",
    "#     ori_sam_seg, _, _ = ori_sam_predictor.predict(point_coords=points_,point_labels=labels_, box=None, multimask_output=False)\n",
    "    with torch.no_grad():\n",
    "        for i2 in index:\n",
    "            points_p=[]\n",
    "            labels_p=[]\n",
    "            for cxy in guide_clicks[i2.item()][\"clicks_positive\"]:\n",
    "                points_p.append(cxy)\n",
    "                labels_p.append(1)\n",
    "            for cxy in guide_clicks[i2.item()][\"clicks_negative\"]:\n",
    "                points_p.append(cxy)\n",
    "                labels_p.append(0)\n",
    "            points_.append(points_p)\n",
    "            labels_.append(labels_p)\n",
    "        points_p_torch=torch.as_tensor(points_,dtype=torch.int,device=device)\n",
    "        points_labels_torch=torch.as_tensor(labels_,dtype=torch.int,device=device)\n",
    "\n",
    "        if(points_p_torch.size()[1]==0):\n",
    "            point_np = points.numpy()\n",
    "            points_p_torch = torch.as_tensor(point_np, dtype=torch.int, device=device)\n",
    "            point_labels = torch.ones((points_p_torch.shape[0],points_p_torch.shape[1]), dtype=torch.int)\n",
    "            points_labels_torch = point_labels.to(device=device)\n",
    "        sparse_embeddings, dense_embeddings = click_sam_model.prompt_encoder(\n",
    "            points=(points_p_torch, points_labels_torch), #(points.to(device),torch.ones((points.shape[0],points.shape[1]), dtype=torch.int).to(device)),\n",
    "            boxes=None,\n",
    "            masks=None,\n",
    "        )\n",
    "        click_sam_seg_prob, _ = click_sam_model.mask_decoder(\n",
    "            image_embeddings=image_embedding.to(device), # (B, 256, 64, 64)\n",
    "            image_pe=click_sam_model.prompt_encoder.get_dense_pe(), # (1, 256, 64, 64)\n",
    "            sparse_prompt_embeddings=sparse_embeddings, # (B, 2, 256)\n",
    "            dense_prompt_embeddings=dense_embeddings, # (B, 256, 64, 64)\n",
    "            multimask_output=False,\n",
    "        )\n",
    "        bbox_raw = get_bbox_from_mask(gt_data)\n",
    "        sam_trans = ResizeLongestSide(ori_medsam_model.image_encoder.img_size)\n",
    "        bbox = sam_trans.apply_boxes(bbox_raw, (H, W))\n",
    "        box_torch = torch.as_tensor(bbox, dtype=torch.float, device=device)\n",
    "        if len(box_torch.shape) == 2:\n",
    "            box_torch = box_torch[:, None, :] # (B, 4) -> (B, 1, 4)\n",
    "#         print(box_torch)\n",
    "        sparse_embeddings2, dense_embeddings2 = ori_medsam_model.prompt_encoder(\n",
    "            points=None,\n",
    "            boxes=box_torch,\n",
    "            masks=None,\n",
    "        )\n",
    "        ori_medsam_seg_prob, _ = ori_medsam_model.mask_decoder(\n",
    "            image_embeddings=image_embedding.to(device), # (B, 256, 64, 64)\n",
    "            image_pe=ori_medsam_model.prompt_encoder.get_dense_pe(), # (1, 256, 64, 64)\n",
    "            sparse_prompt_embeddings=sparse_embeddings2, # (B, 2, 256)\n",
    "            dense_prompt_embeddings=dense_embeddings2, # (B, 256, 64, 64)\n",
    "            multimask_output=False,\n",
    "        )\n",
    "    click_sam_seg_prob = torch.sigmoid(click_sam_seg_prob)\n",
    "    # convert soft mask to hard mask\n",
    "    click_sam_seg_prob = click_sam_seg_prob.cpu().numpy().squeeze()\n",
    "    click_sam_seg = (click_sam_seg_prob > 0.5).astype(np.uint8)\n",
    "    ori_medsam_seg_prob = torch.sigmoid(ori_medsam_seg_prob)\n",
    "    # convert soft mask to hard mask\n",
    "    ori_medsam_seg_prob = ori_medsam_seg_prob.cpu().numpy().squeeze()\n",
    "    ori_medsam_seg = (ori_medsam_seg_prob > 0.5).astype(np.uint8)\n",
    "    \n",
    "#     print(click_sam_seg.shape)\n",
    "#     ori_sam_dsc = compute_dice_coefficient(gt_data>0, ori_sam_seg>0)\n",
    "#     ori_medsam_dsc=compute_dice_coefficient(gt_data>0, ori_medsam_seg>0)\n",
    "#     cli_sam_dsc = compute_dice_coefficient(gt_data>0, click_sam_seg>0)\n",
    "\n",
    "    medsamiou = calculateIoU(gt_data,ori_medsam_seg)\n",
    "    clicksamiou=calculateIoU(gt_data,click_sam_seg)\n",
    "    \n",
    "#     original_sam_dsc.append(ori_sam_dsc)\n",
    "#     original_medsam_dsc.append(ori_medsam_dsc)\n",
    "#     click_sam_dsc.append(cli_sam_dsc)\n",
    "    \n",
    "#     original_sam_iou.append(ori_sam_iou)\n",
    "    original_medsam_iou.append(medsamiou)\n",
    "    click_sam_iou.append(clicksamiou)\n",
    "#     print('Original SAM DSC: {:.4f}'.format(ori_sam_dsc), 'Click SAM DSC: {:.4f}'.format(cli_sam_dsc))\n",
    "    fig=plt.figure(figsize=(25,25))\n",
    "    ax1=fig.add_subplot(1,3,1)\n",
    "    ax2=fig.add_subplot(1,3,2)\n",
    "    ax3=fig.add_subplot(1,3,3)\n",
    "#     _, axs = plt.subplots(1, 3, figsize=(25, 25))\n",
    "    ax1.imshow(image_data)\n",
    "    show_mask(gt_data>0, ax1)\n",
    "    # plt.plot(points_[0])\n",
    "#     show_points([points_[0][0],points_[0][1]], ax1)\n",
    "    # axs[0].set_title('Mask with Tuned Model', fontsize=20)\n",
    "    ax1.axis('off')\n",
    "\n",
    "\n",
    "    ax2.imshow(image_data)\n",
    "    show_mask(ori_medsam_seg, ax2)\n",
    "    # plt.plot(points_[0])\n",
    "    show_box(bbox_raw, ax2)\n",
    "    # add text to image to show dice score\n",
    "#     axs[1].text(0.5, 0.5, 'SAM DSC: {:.4f}'.format(ori_sam_dsc), fontsize=30, horizontalalignment='left', verticalalignment='top', color='yellow')\n",
    "#     ax2.text(0.5, 0.5, 'MedSAM DSC: {:.4f}'.format(ori_medsam_dsc), fontsize=30, horizontalalignment='left', verticalalignment='top', color='yellow')\n",
    "    ax2.text(0.5, 0.5, 'MedSAM IoU: {:.4f}'.format(medsamiou), fontsize=30, horizontalalignment='left', verticalalignment='top', color='yellow')\n",
    "    # axs[1].set_title('Mask with Untuned Model', fontsize=20)\n",
    "    ax2.axis('off')\n",
    "\n",
    "    \n",
    "    ax3.imshow(image_data)\n",
    "    show_mask(click_sam_seg, ax3)\n",
    "    # plt.plot(points_[0])\n",
    "#     print(index)\n",
    "#     print(guide_clicks)\n",
    "#     break\n",
    "    for c in guide_clicks[int(i)][\"clicks_positive\"]:\n",
    "        # Pillow and Numpy disagree on the meaning of X and Y\n",
    "        # we use the Numpy convention\n",
    "        # so for Pillow we swap X and Y\n",
    "        show_points([c[1],c[0]],ax3, 'lime')\n",
    "#         ImageDraw.Draw(s_merged).rectangle(\n",
    "#             xy=[(c[1] - 1, c[0] - 1), (c[1] + 1, c[0] + 1)],\n",
    "#             outline=(0, 255, 0),\n",
    "#             fill=(0, 255, 0),\n",
    "#             width=1,\n",
    "#         )\n",
    "\n",
    "    for c in guide_clicks[int(i)][\"clicks_negative\"]:\n",
    "        # Pillow and Numpy disagree on the meaning of X and Y\n",
    "        # we use the Numpy convention\n",
    "        # so for Pillow we swap X and Y\n",
    "        show_points([c[1],c[0]],ax3, 'red')\n",
    "#         ImageDraw.Draw(s_merged).rectangle(\n",
    "#             xy=[(c[1] - 1, c[0] - 1), (c[1] + 1, c[0] + 1)],\n",
    "#             outline=(255, 0, 0),\n",
    "#             fill=(255, 0, 0),\n",
    "#             width=1,\n",
    "#         )\n",
    "    show_points([points[0][0][1],points[0][0][0]], ax3, 'blue')\n",
    "    # add text to image to show dice score\n",
    "#     ax3.text(0.5, 0.5, 'Click SAM DSC: {:.4f}'.format(cli_sam_dsc), fontsize=30, horizontalalignment='left', verticalalignment='top', color='yellow')\n",
    "    ax3.text(0.5, 0.5, 'Click SAM IoU: {:.4f}'.format(clicksamiou), fontsize=30, horizontalalignment='left', verticalalignment='top', color='yellow')\n",
    "    # axs[2].set_title('Ground Truth', fontsize=20)\n",
    "    ax3.axis('off')\n",
    "#     plt.show()  \n",
    "    plt.subplots_adjust(wspace=0.01, hspace=0)\n",
    "    fig.savefig(f\"compare_medsam_final_click_sam_iou/{i}.png\")\n",
    "    end = time.time()\n",
    "    print(end - start)\n",
    "    average_time.append(end-start)\n",
    "    # save plot\n",
    "    # plt.savefig(join(model_save_path, test_npzs[npz_idx].split('.npz')[0] + str(img_id).zfill(3) + '.png'), bbox_inches='tight', dpi=300)\n",
    "    plt.clf()\n",
    "    plt.close(\"all\")\n",
    "# print(\"Original SAM mean dsc:\", sum(original_sam_dsc)/len(original_sam_dsc))\n",
    "print(\"Original MedSAM mean IoU:\", sum(original_medsam_iou)/len(original_medsam_dsc))\n",
    "print(\"ClickSAM mean IoU:\", sum(click_sam_iou)/len(click_sam_dsc))\n",
    "print(\"Average Time:\",sum(average_time)/len(average_time))\n"
   ]
  },
  {
   "cell_type": "code",
   "execution_count": 33,
   "metadata": {},
   "outputs": [
    {
     "name": "stdout",
     "output_type": "stream",
     "text": [
      "Original MedSAM mean IoU: 0.8624056591056504\n",
      "ClickSAM mean IoU: 0.9159799251525119\n",
      "Average Time: 0.5362112529495215\n"
     ]
    }
   ],
   "source": [
    "print(\"Original MedSAM mean IoU:\", sum(original_medsam_iou)/len(original_medsam_iou))\n",
    "print(\"ClickSAM mean IoU:\", sum(click_sam_iou)/len(click_sam_iou))\n",
    "print(\"Average Time:\",sum(average_time)/len(average_time))"
   ]
  },
  {
   "cell_type": "code",
   "execution_count": null,
   "metadata": {
    "scrolled": true
   },
   "outputs": [],
   "source": [
    "print(\"MedSAM mean dsc:\", sum(original_medsam_dsc)/len(original_medsam_dsc))\n",
    "print(\"ClickSAM mean dsc:\", sum(click_sam_dsc)/len(click_sam_dsc))"
   ]
  },
  {
   "cell_type": "code",
   "execution_count": null,
   "metadata": {},
   "outputs": [],
   "source": [
    "click_sam_model = sam_model_registry[model_type](checkpoint=\"work_dir/BUSIfinalclick/sam_model_best.pth\").to(device)\n",
    "click_sam_model.train()\n",
    "click_sam_iou=0\n",
    "num_loops=1\n",
    "for i, (image_embedding, gt2D, boxes, points,index) in enumerate(tqdm(train_dataloader2)):\n",
    "    points_=[]\n",
    "    labels_=[]\n",
    "    with torch.no_grad():\n",
    "        for i2 in index:\n",
    "            points_p=[]\n",
    "            labels_p=[]\n",
    "            for cxy in guide_clicks[i2.item()][\"clicks_positive\"]:\n",
    "                points_p.append(cxy)\n",
    "                labels_p.append(1)\n",
    "            for cxy in guide_clicks[i2.item()][\"clicks_negative\"]:\n",
    "                points_p.append(cxy)\n",
    "                labels_p.append(0)\n",
    "            points_.append(points_p)\n",
    "            labels_.append(labels_p)\n",
    "        points_p_torch=torch.as_tensor(points_,dtype=torch.int,device=device)\n",
    "        points_labels_torch=torch.as_tensor(labels_,dtype=torch.int,device=device)\n",
    "\n",
    "        if(points_p_torch.size()[1]==0):\n",
    "            point_np = points.numpy()\n",
    "            points_p_torch = torch.as_tensor(point_np, dtype=torch.int, device=device)\n",
    "            point_labels = torch.ones((points_p_torch.shape[0],points_p_torch.shape[1]), dtype=torch.int)\n",
    "            points_labels_torch = point_labels.to(device=device)\n",
    "        sparse_embeddings, dense_embeddings = click_sam_model.prompt_encoder(\n",
    "            points=(points_p_torch, points_labels_torch), #(points.to(device),torch.ones((points.shape[0],points.shape[1]), dtype=torch.int).to(device)),\n",
    "            boxes=None,\n",
    "            masks=None,\n",
    "        )\n",
    "        click_sam_seg_prob, _ = click_sam_model.mask_decoder(\n",
    "            image_embeddings=image_embedding.to(device), # (B, 256, 64, 64)\n",
    "            image_pe=click_sam_model.prompt_encoder.get_dense_pe(), # (1, 256, 64, 64)\n",
    "            sparse_prompt_embeddings=sparse_embeddings, # (B, 2, 256)\n",
    "            dense_prompt_embeddings=dense_embeddings, # (B, 256, 64, 64)\n",
    "            multimask_output=False,\n",
    "        )\n",
    "    click_sam_seg_prob = torch.sigmoid(click_sam_seg_prob)\n",
    "    # convert soft mask to hard mask\n",
    "    click_sam_seg_prob = click_sam_seg_prob.cpu().numpy().squeeze()\n",
    "    click_sam_seg = (click_sam_seg_prob > 0.5).astype(np.uint8)\n",
    "    label_arr=gt2D.cpu()[0].numpy()[0]\n",
    "    pred_arr = np.array(click_sam_seg)\n",
    "    iou = calculateIoU(label_arr,pred_arr)\n",
    "    click_sam_iou+=iou\n",
    "    num_loops+=1\n",
    "\n",
    "print(\"ClickSAM Mean IoU: \"+str(click_sam_iou/num_loops))\n",
    "    "
   ]
  },
  {
   "cell_type": "code",
   "execution_count": null,
   "metadata": {},
   "outputs": [],
   "source": [
    "# predict the segmentation mask using the fine-tuned model\n",
    "# resize image to 3*1024*1024\n",
    "sam_transform = ResizeLongestSide(sam_model.image_encoder.img_size)\n",
    "resize_img = sam_transform.apply_image(image_data_pre)\n",
    "resize_img_tensor = torch.as_tensor(resize_img.transpose(2, 0, 1)).to(device)\n",
    "input_image = sam_model.preprocess(resize_img_tensor[None,:,:,:]) # (1, 3, 1024, 1024)\n",
    "assert input_image.shape == (1, 3, sam_model.image_encoder.img_size, sam_model.image_encoder.img_size), 'input image should be resized to 1024*1024'\n",
    "\n",
    "with torch.no_grad():\n",
    "    # pre-compute the image embedding\n",
    "    ts_img_embedding = sam_model.image_encoder(input_image)\n",
    "    # convert box to 1024x1024 grid\n",
    "#     bbox = sam_trans.apply_boxes(bbox_raw, (H, W))\n",
    "#     print(f'{bbox_raw=} -> {bbox=}')\n",
    "#     box_torch = torch.as_tensor(bbox, dtype=torch.float, device=device)\n",
    "#     if len(box_torch.shape) == 2:\n",
    "#         box_torch = box_torch[:, None, :] # (B, 4) -> (B, 1, 4)\n",
    "    \n",
    "    sparse_embeddings, dense_embeddings = sam_model.prompt_encoder(\n",
    "        points=(points.to(device),torch.ones((points.shape[0],points.shape[1]), dtype=torch.int).to(device)),\n",
    "        boxes=None,\n",
    "        masks=None,\n",
    "    )\n",
    "    click_sam_seg_prob, _ = sam_model.mask_decoder(\n",
    "        image_embeddings=ts_img_embedding.to(device), # (B, 256, 64, 64)\n",
    "        image_pe=sam_model.prompt_encoder.get_dense_pe(), # (1, 256, 64, 64)\n",
    "        sparse_prompt_embeddings=sparse_embeddings, # (B, 2, 256)\n",
    "        dense_prompt_embeddings=dense_embeddings, # (B, 256, 64, 64)\n",
    "        multimask_output=False,\n",
    "        )\n",
    "    click_sam_seg_prob = torch.sigmoid(click_sam_seg_prob)\n",
    "    # convert soft mask to hard mask\n",
    "    click_sam_seg_prob = click_sam_seg_prob.cpu().numpy().squeeze()\n",
    "    click_sam_seg = (click_sam_seg_prob > 0.5).astype(np.uint8)\n",
    "    print(click_sam_seg.shape)"
   ]
  },
  {
   "cell_type": "code",
   "execution_count": null,
   "metadata": {},
   "outputs": [],
   "source": [
    "ori_sam_dsc = compute_dice_coefficient(gt_data>0, ori_sam_seg>0)\n",
    "click_sam_dsc = compute_dice_coefficient(gt_data>0, click_sam_seg>0)\n",
    "print('Original SAM DSC: {:.4f}'.format(ori_sam_dsc), 'ClickSAM DSC: {:.4f}'.format(click_sam_dsc))"
   ]
  },
  {
   "cell_type": "code",
   "execution_count": null,
   "metadata": {},
   "outputs": [],
   "source": [
    "#%% visualize the segmentation results of the middle slice\n",
    "# visualization functions\n",
    "# source: https://github.com/facebookresearch/segment-anything/blob/main/notebooks/predictor_example.ipynb\n",
    "# change color to avoid red and green\n",
    "def show_mask(mask, ax, random_color=False):\n",
    "    if random_color:\n",
    "        color = np.concatenate([np.random.random(3), np.array([0.6])], axis=0)\n",
    "    else:\n",
    "        color = np.array([251/255, 252/255, 30/255, 0.6])\n",
    "    h, w = mask.shape[-2:]\n",
    "    mask_image = mask.reshape(h, w, 1) * color.reshape(1, 1, -1)\n",
    "    ax.imshow(mask_image)\n",
    "    \n",
    "def show_box(box, ax):\n",
    "    \n",
    "    x0, y0 = box[0], box[1]\n",
    "    w, h = 2,2 #box[2] - box[0], box[3] - box[1]\n",
    "    ax.add_patch(plt.Rectangle((x0, y0), w, h, edgecolor='blue', facecolor=(0,0,0,0), lw=2))    \n",
    "\n",
    "_, axs = plt.subplots(1, 3, figsize=(25, 25))\n",
    "axs[0].imshow(image_data)\n",
    "show_mask(gt_data>0, axs[0])\n",
    "# plt.plot(points_[0])\n",
    "show_box([points_[0][0],points_[0][1]], axs[0])\n",
    "# axs[0].set_title('Mask with Tuned Model', fontsize=20)\n",
    "axs[0].axis('off')\n",
    "\n",
    "axs[1].imshow(image_data)\n",
    "show_mask(ori_sam_seg, axs[1])\n",
    "# plt.plot(points_[0])\n",
    "show_box([points_[0][0],points_[0][1]], axs[1])\n",
    "# add text to image to show dice score\n",
    "axs[1].text(0.5, 0.5, 'SAM DSC: {:.4f}'.format(ori_sam_dsc), fontsize=30, horizontalalignment='left', verticalalignment='top', color='yellow')\n",
    "# axs[1].set_title('Mask with Untuned Model', fontsize=20)\n",
    "axs[1].axis('off')\n",
    "\n",
    "axs[2].imshow(image_data)\n",
    "show_mask(click_sam_seg, axs[2])\n",
    "# plt.plot(points_[0])\n",
    "show_box([points_[0][0],points_[0][1]], axs[2])\n",
    "# add text to image to show dice score\n",
    "axs[2].text(0.5, 0.5, 'ClickSAM DSC: {:.4f}'.format(click_sam_dsc), fontsize=30, horizontalalignment='left', verticalalignment='top', color='yellow')\n",
    "# axs[2].set_title('Ground Truth', fontsize=20)\n",
    "axs[2].axis('off')\n",
    "plt.show()  \n",
    "plt.subplots_adjust(wspace=0.01, hspace=0)\n",
    "# save plot\n",
    "# plt.savefig(join(model_save_path, test_npzs[npz_idx].split('.npz')[0] + str(img_id).zfill(3) + '.png'), bbox_inches='tight', dpi=300)\n",
    "plt.close()"
   ]
  },
  {
   "cell_type": "code",
   "execution_count": null,
   "metadata": {},
   "outputs": [],
   "source": []
  },
  {
   "cell_type": "code",
   "execution_count": null,
   "metadata": {},
   "outputs": [],
   "source": []
  },
  {
   "cell_type": "code",
   "execution_count": null,
   "metadata": {},
   "outputs": [],
   "source": []
  },
  {
   "cell_type": "code",
   "execution_count": null,
   "metadata": {},
   "outputs": [],
   "source": []
  },
  {
   "cell_type": "code",
   "execution_count": null,
   "metadata": {},
   "outputs": [],
   "source": []
  },
  {
   "cell_type": "code",
   "execution_count": null,
   "metadata": {},
   "outputs": [],
   "source": []
  },
  {
   "cell_type": "code",
   "execution_count": null,
   "metadata": {},
   "outputs": [],
   "source": []
  },
  {
   "cell_type": "code",
   "execution_count": null,
   "metadata": {},
   "outputs": [],
   "source": []
  },
  {
   "cell_type": "code",
   "execution_count": null,
   "metadata": {},
   "outputs": [],
   "source": []
  },
  {
   "cell_type": "code",
   "execution_count": null,
   "metadata": {},
   "outputs": [],
   "source": []
  },
  {
   "cell_type": "code",
   "execution_count": null,
   "metadata": {},
   "outputs": [],
   "source": []
  },
  {
   "cell_type": "code",
   "execution_count": null,
   "metadata": {},
   "outputs": [],
   "source": []
  },
  {
   "cell_type": "code",
   "execution_count": null,
   "metadata": {},
   "outputs": [],
   "source": []
  },
  {
   "cell_type": "code",
   "execution_count": null,
   "metadata": {},
   "outputs": [],
   "source": []
  },
  {
   "cell_type": "code",
   "execution_count": null,
   "metadata": {},
   "outputs": [],
   "source": []
  },
  {
   "cell_type": "code",
   "execution_count": null,
   "metadata": {},
   "outputs": [],
   "source": []
  },
  {
   "cell_type": "code",
   "execution_count": null,
   "metadata": {},
   "outputs": [],
   "source": []
  },
  {
   "cell_type": "code",
   "execution_count": null,
   "metadata": {},
   "outputs": [],
   "source": []
  },
  {
   "cell_type": "code",
   "execution_count": null,
   "metadata": {},
   "outputs": [],
   "source": []
  },
  {
   "cell_type": "code",
   "execution_count": null,
   "metadata": {},
   "outputs": [],
   "source": []
  }
 ],
 "metadata": {
  "kernelspec": {
   "display_name": "Python 3 (ipykernel)",
   "language": "python",
   "name": "python3"
  },
  "language_info": {
   "codemirror_mode": {
    "name": "ipython",
    "version": 3
   },
   "file_extension": ".py",
   "mimetype": "text/x-python",
   "name": "python",
   "nbconvert_exporter": "python",
   "pygments_lexer": "ipython3",
   "version": "3.10.11"
  }
 },
 "nbformat": 4,
 "nbformat_minor": 2
}
